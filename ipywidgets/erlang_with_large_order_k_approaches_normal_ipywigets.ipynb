{
 "cells": [
  {
   "cell_type": "markdown",
   "metadata": {},
   "source": [
    "# Erlang distribution\n",
    "$$\\large\n",
    "f(x; k,\\lambda)={\\lambda^k x^{k-1} e^{-\\lambda x} \\over (k-1)!}$$\n",
    "\n",
    "$$Y_k = X_1 + X_2 + \\cdots + X_k \\sim \\text{Erlang}(k, \\lambda)$$\n",
    "\n",
    "where $X_i \\sim \\text{Exponential}(\\lambda) $ are i.i.d.\n",
    "\n",
    "$$\n",
    "Y_k \\sim \\text{Normal}(k/\\lambda, k/\\lambda^2) \\quad k \\rightarrow \\infty \n",
    "$$\n",
    "\n",
    "https://en.wikipedia.org/wiki/Erlang_distribution"
   ]
  },
  {
   "cell_type": "code",
   "execution_count": 1,
   "metadata": {},
   "outputs": [
    {
     "data": {
      "application/vnd.jupyter.widget-view+json": {
       "model_id": "73c419fb5e90427e81ed79a42c871470",
       "version_major": 2,
       "version_minor": 0
      },
      "text/plain": [
       "interactive(children=(IntSlider(value=1, description='k', min=1), Output()), _dom_classes=('widget-interact',)…"
      ]
     },
     "metadata": {},
     "output_type": "display_data"
    },
    {
     "data": {
      "text/plain": [
       "<function __main__.plot_distributions(k)>"
      ]
     },
     "metadata": {},
     "output_type": "display_data"
    }
   ],
   "source": [
    "import numpy as np\n",
    "import matplotlib.pyplot as plt\n",
    "from scipy.stats import gamma, norm\n",
    "import math\n",
    "import ipywidgets as widgets\n",
    "from IPython.display import display\n",
    "\n",
    "%matplotlib inline\n",
    "\n",
    "def plot_distributions(k):\n",
    "    lam = 1   # arrival rate\n",
    "\n",
    "    xmax = 3 * k / lam\n",
    "    x = np.linspace(0, xmax, 200)  # Range of x values\n",
    "    \n",
    "    fig, ax = plt.subplots(figsize=(8, 6))\n",
    "\n",
    "    erlang_pdf = (lam ** k * x ** (k - 1) * np.exp(-lam * x)) / math.factorial(k - 1)\n",
    "\n",
    "    mu_normal = k / lam\n",
    "    sigma_normal = np.sqrt(k) / lam\n",
    "    normal_pdf = norm.pdf(x, loc=mu_normal, scale=sigma_normal)\n",
    "\n",
    "    ymax = max(erlang_pdf.max(), normal_pdf.max())\n",
    "\n",
    "    ax.plot(x, erlang_pdf, label=f'Erlang({k}, {lam})')\n",
    "    ax.plot(x, normal_pdf, label=f'Normal({mu_normal:.2f}, {sigma_normal:.2f})')\n",
    "    ax.set_xlabel('x')\n",
    "    ax.set_ylabel('Probability Density')\n",
    "    ax.set_xlim([0, xmax])\n",
    "    ax.set_ylim([0, ymax + 0.0025])\n",
    "    ax.set_title(f'Erlang and Normal Distributions (k = {k})')\n",
    "    ax.legend()\n",
    "    ax.grid(True)\n",
    "    plt.show()\n",
    "\n",
    "# Create an interactive widget\n",
    "interact_widget = widgets.interact(plot_distributions, k=widgets.IntSlider(min=1, max=100, step=1, value=1))\n",
    "\n",
    "# Display the widget\n",
    "display(interact_widget)\n"
   ]
  },
  {
   "cell_type": "code",
   "execution_count": null,
   "metadata": {},
   "outputs": [],
   "source": []
  }
 ],
 "metadata": {
  "kernelspec": {
   "display_name": "base",
   "language": "python",
   "name": "python3"
  },
  "language_info": {
   "codemirror_mode": {
    "name": "ipython",
    "version": 3
   },
   "file_extension": ".py",
   "mimetype": "text/x-python",
   "name": "python",
   "nbconvert_exporter": "python",
   "pygments_lexer": "ipython3",
   "version": "3.10.12"
  },
  "orig_nbformat": 4
 },
 "nbformat": 4,
 "nbformat_minor": 2
}
