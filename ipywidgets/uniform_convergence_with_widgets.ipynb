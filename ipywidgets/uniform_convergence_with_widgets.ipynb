{
 "cells": [
  {
   "cell_type": "markdown",
   "metadata": {},
   "source": [
    "# uniform convergence example\n",
    "\n",
    "## sequence of functions fn\n",
    "$$f_n(x) = 1 - (1 - 1/n)^{0.5 n x}$$\n",
    "\n",
    "## limit function f(x)\n",
    "$$f(x)=1-e^{-0.5x} $$"
   ]
  },
  {
   "cell_type": "code",
   "execution_count": 2,
   "metadata": {},
   "outputs": [
    {
     "data": {
      "application/vnd.jupyter.widget-view+json": {
       "model_id": "403e0dd402d74cc9b97d96dbae530719",
       "version_major": 2,
       "version_minor": 0
      },
      "text/plain": [
       "interactive(children=(FloatSlider(value=2.0, description='n:', max=20.0, min=2.0), Output()), _dom_classes=('w…"
      ]
     },
     "metadata": {},
     "output_type": "display_data"
    }
   ],
   "source": [
    "import numpy as np\n",
    "import matplotlib.pyplot as plt\n",
    "import ipywidgets as widgets\n",
    "from IPython.display import display\n",
    "\n",
    "def plot_sin(n):\n",
    "    plt.clf()  # Clear the previous plot\n",
    "    \n",
    "    x = np.linspace(-2*np.pi, 2*np.pi, 1000)\n",
    "    y = np.vectorize(lambda t, n: 1 - (1 - 1/n)**(0.5*n*t))(x, n)\n",
    "    \n",
    "    limitfunc = 1 - np.exp(-0.5*x)\n",
    "\n",
    "    plt.plot(x, y, label=r'$f_n(x) = 1 - (1 - 1/n)^{0.5 n x}$')\n",
    "    plt.plot(x, limitfunc, label=r'limit function $f(x)=1-e^{-0.5x} $')\n",
    "    plt.xlabel('x')\n",
    "    plt.ylabel('y')\n",
    "    plt.xlim([-1,5])\n",
    "    plt.ylim([-1, 2])\n",
    "    plt.title(r'uniform convergence of $f_n(x) = 1 - (1 - 1/n)^{0.5nx}$')\n",
    "    plt.grid(True)\n",
    "    plt.legend()\n",
    "\n",
    "# Create a slider widget for controlling the value of n\n",
    "n_slider = widgets.FloatSlider(min=2, max=20, step=0.1, value=1, description='n:')\n",
    "widgets.interactive(plot_sin, n=n_slider)\n",
    "\n"
   ]
  },
  {
   "cell_type": "code",
   "execution_count": null,
   "metadata": {},
   "outputs": [],
   "source": []
  }
 ],
 "metadata": {
  "kernelspec": {
   "display_name": "base",
   "language": "python",
   "name": "python3"
  },
  "language_info": {
   "codemirror_mode": {
    "name": "ipython",
    "version": 3
   },
   "file_extension": ".py",
   "mimetype": "text/x-python",
   "name": "python",
   "nbconvert_exporter": "python",
   "pygments_lexer": "ipython3",
   "version": "3.10.12"
  },
  "orig_nbformat": 4
 },
 "nbformat": 4,
 "nbformat_minor": 2
}
