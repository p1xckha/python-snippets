{
 "cells": [
  {
   "cell_type": "markdown",
   "id": "21b9bc82",
   "metadata": {},
   "source": [
    "# Poisson vs Normal approximations to Binomial\n",
    "\n",
    "$$ Y = X_1 + X_2 + \\cdots + X_n \\sim \\text{Binomial}(n, p)$$\n",
    "$$ X_i \\sim \\text{Bernoulli}(p), i=1,2,3,\\cdots, n\n",
    "$$\n",
    "\n",
    "Binomial distribution can be approximated in two ways. \n",
    "\n",
    "## Poisson approximation\n",
    "* If an event is rare($p$ is small), the binomial distribution can be approximated by a Poisson distribution. \n",
    "\n",
    "$$\n",
    "Y \\sim \\text{Poisson}(\\lambda=np)\n",
    "$$\n",
    "see also \n",
    "https://en.wikipedia.org/wiki/Poisson_limit_theorem\n",
    "\n",
    "## Normal approximation\n",
    "* If the number of trials $n$ is large, the binomial distribution can be approximated by a normal distribution.\n",
    "$$\n",
    "Y \\sim \\text{N}(np, np(1-p))\n",
    "$$\n",
    "\n",
    "see also\n",
    "https://en.wikipedia.org/wiki/Central_limit_theorem"
   ]
  },
  {
   "cell_type": "code",
   "execution_count": 6,
   "id": "337c107a",
   "metadata": {},
   "outputs": [
    {
     "data": {
      "application/vnd.jupyter.widget-view+json": {
       "model_id": "1d8a11886e054cdaa5dd3272303292db",
       "version_major": 2,
       "version_minor": 0
      },
      "text/plain": [
       "interactive(children=(IntSlider(value=10, description='n:', layout=Layout(width='50%'), max=10000, min=1), Flo…"
      ]
     },
     "metadata": {},
     "output_type": "display_data"
    }
   ],
   "source": [
    "import numpy as np\n",
    "import matplotlib.pyplot as plt\n",
    "import scipy.stats as stats\n",
    "from ipywidgets import interactive, FloatSlider, IntSlider, Layout\n",
    "from IPython.display import display\n",
    "\n",
    "# Function to generate and update the plot\n",
    "def plot_binomial_poisson(n, p):\n",
    "    # Parameters for the Poisson distribution\n",
    "    lambda_poisson = p * n \n",
    "\n",
    "    # Parameters for the normal distribution\n",
    "    mean_normal = p * n\n",
    "    var_normal = n * p * (1 - p)\n",
    "    std_normal = np.sqrt(var_normal)\n",
    "\n",
    "    # Generate the binomial, Poisson, and normal distributions using scipy.stats\n",
    "    binomial_dist = stats.binom(n, p)\n",
    "    poisson_dist = stats.poisson(lambda_poisson)\n",
    "    normal_dist = stats.norm(mean_normal, std_normal)\n",
    "\n",
    "    # Calculate the PMF/PDF values for each possible outcome\n",
    "    x_max = int(2 * p * n) + 3\n",
    "    x_binomial = range(0, x_max)  # Number of successes for binomial distribution\n",
    "    pmf_values_binomial = binomial_dist.pmf(x_binomial)\n",
    "\n",
    "    x_poisson = range(0, x_max)  # Number of occurrences for Poisson distribution\n",
    "    pmf_values_poisson = poisson_dist.pmf(x_poisson)\n",
    "\n",
    "    x_normal = np.linspace(0, x_max, 1000)  # Range for normal distribution\n",
    "    pdf_values_normal = normal_dist.pdf(x_normal)\n",
    "\n",
    "    # Create the figure and axis\n",
    "    fig, ax = plt.subplots(figsize=(10, 6))\n",
    "\n",
    "    # Plot the PMFs/PDFs\n",
    "    ax.bar(x_binomial, pmf_values_binomial, label=f'Binomial PMF ($p=${p:.2f}, $n=${n})')\n",
    "    ax.bar(x_poisson, pmf_values_poisson, alpha=0.5, label=f'Poisson PMF ($\\lambda$={lambda_poisson:.2f})')\n",
    "    ax.plot(x_normal, pdf_values_normal, label=f'Normal PDF ($\\mu$={mean_normal:.2f}, $\\sigma^2=${var_normal:.2f}')\n",
    "\n",
    "    ax.grid(True)\n",
    "    ax.legend()\n",
    "    ax.axhline(0, color='black', linewidth=0.5, linestyle='dashed')  # x-axis\n",
    "    ax.axvline(0, color='black', linewidth=0.5, linestyle='dashed')  # y-axis\n",
    "\n",
    "    # Set labels and title\n",
    "    ax.set_xlabel(f'Number of Successes/Occurrences in {n} trials')\n",
    "    ax.set_ylabel('Probability Density')\n",
    "    ax.set_title('Poisson vs Normal Approximation to Binomial')\n",
    "    \n",
    "    # Fix the range of the x-axis and y-axis for consistency\n",
    "    y_max = max(pdf_values_normal) + 0.01\n",
    "    ax.set_xlim(-0.5, x_max)\n",
    "    ax.set_ylim(-0.001, y_max)\n",
    "\n",
    "    plt.show()\n",
    "\n",
    "# Create interactive sliders for n and p\n",
    "n_slider = IntSlider(min=1, max=10000, step=1, value=10, description='n:', layout=Layout(width='50%'))\n",
    "p_slider = FloatSlider(min=0.01, max=0.99, step=0.01, value=0.01, description='p:', layout=Layout(width='50%'))\n",
    "\n",
    "# Create the interactive plot\n",
    "interactive_plot = interactive(plot_binomial_poisson, n=n_slider, p=p_slider)\n",
    "\n",
    "# Display the interactive plot\n",
    "display(interactive_plot)"
   ]
  },
  {
   "cell_type": "code",
   "execution_count": null,
   "id": "ed8b10d2",
   "metadata": {},
   "outputs": [],
   "source": []
  }
 ],
 "metadata": {
  "kernelspec": {
   "display_name": "Python 3 (Spyder)",
   "language": "python3",
   "name": "python3"
  },
  "language_info": {
   "codemirror_mode": {
    "name": "ipython",
    "version": 3
   },
   "file_extension": ".py",
   "mimetype": "text/x-python",
   "name": "python",
   "nbconvert_exporter": "python",
   "pygments_lexer": "ipython3",
   "version": "3.10.12"
  }
 },
 "nbformat": 4,
 "nbformat_minor": 5
}
