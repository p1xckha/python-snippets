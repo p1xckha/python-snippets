{
 "cells": [
  {
   "cell_type": "markdown",
   "id": "bf34461e-dfb4-4ff6-88a2-1cc5f0d8f405",
   "metadata": {},
   "source": [
    "# Star Graph\n",
    "* wikipedia: https://en.wikipedia.org/wiki/Star_(graph_theory)\n",
    "* networkx https://networkx.org/documentation/stable/reference/generated/networkx.generators.classic.star_graph.html"
   ]
  },
  {
   "cell_type": "code",
   "execution_count": 1,
   "id": "7ae0eb2f-8838-4f64-914f-02590edab7a1",
   "metadata": {},
   "outputs": [
    {
     "data": {
      "image/png": "[encoded data removed]",
      "text/plain": [
       "<Figure size 432x288 with 1 Axes>"
      ]
     },
     "metadata": {},
     "output_type": "display_data"
    },
    {
     "data": {
      "text/plain": [
       "<networkx.classes.graph.Graph at 0x234a86ca590>"
      ]
     },
     "execution_count": 1,
     "metadata": {},
     "output_type": "execute_result"
    }
   ],
   "source": [
    "import networkx as nx\n",
    "import matplotlib.pyplot as plt\n",
    "import numpy as np\n",
    "\n",
    "n = 6\n",
    "G = nx.star_graph(n) # Star graph has (n+1) nodes\n",
    "\n",
    "fig, ax = plt.subplots()\n",
    "pos = nx.spring_layout(G)  \n",
    "nx.draw(G, pos, with_labels=True, node_size=500, node_color='skyblue', \n",
    "        font_size=12, font_color='black', ax=ax)\n",
    "ax.set_title(\"Star Graph\")\n",
    "plt.show()\n",
    "\n",
    "G"
   ]
  },
  {
   "cell_type": "code",
   "execution_count": 2,
   "id": "a6fa21b2-010f-403f-8d85-42963893617b",
   "metadata": {},
   "outputs": [
    {
     "data": {
      "text/plain": [
       "matrix([[0., 1., 1., 1., 1., 1., 1.],\n",
       "        [1., 0., 0., 0., 0., 0., 0.],\n",
       "        [1., 0., 0., 0., 0., 0., 0.],\n",
       "        [1., 0., 0., 0., 0., 0., 0.],\n",
       "        [1., 0., 0., 0., 0., 0., 0.],\n",
       "        [1., 0., 0., 0., 0., 0., 0.],\n",
       "        [1., 0., 0., 0., 0., 0., 0.]])"
      ]
     },
     "execution_count": 2,
     "metadata": {},
     "output_type": "execute_result"
    }
   ],
   "source": [
    "A = nx.to_numpy_matrix(G)\n",
    "A"
   ]
  },
  {
   "cell_type": "code",
   "execution_count": 3,
   "id": "2799b9b9-2deb-4ff7-813e-388a8ae86f08",
   "metadata": {},
   "outputs": [
    {
     "data": {
      "text/plain": [
       "7"
      ]
     },
     "execution_count": 3,
     "metadata": {},
     "output_type": "execute_result"
    }
   ],
   "source": [
    "n = G.number_of_nodes()\n",
    "n"
   ]
  },
  {
   "cell_type": "code",
   "execution_count": 4,
   "id": "41af9e44-a40d-4d71-871d-70f9208f29aa",
   "metadata": {},
   "outputs": [
    {
     "data": {
      "text/plain": [
       "6"
      ]
     },
     "execution_count": 4,
     "metadata": {},
     "output_type": "execute_result"
    }
   ],
   "source": [
    "m = G.number_of_edges()\n",
    "m"
   ]
  },
  {
   "cell_type": "code",
   "execution_count": 5,
   "id": "813155f2-e32c-49d9-bb19-2fabfd94c5cb",
   "metadata": {},
   "outputs": [
    {
     "data": {
      "text/plain": [
       "2"
      ]
     },
     "execution_count": 5,
     "metadata": {},
     "output_type": "execute_result"
    }
   ],
   "source": [
    "diameter = nx.diameter(G)\n",
    "diameter"
   ]
  },
  {
   "cell_type": "code",
   "execution_count": 6,
   "id": "d47ce7f5-b9c6-4848-a3c0-4cc3b72f9ad0",
   "metadata": {},
   "outputs": [
    {
     "data": {
      "text/plain": [
       "0"
      ]
     },
     "execution_count": 6,
     "metadata": {},
     "output_type": "execute_result"
    }
   ],
   "source": [
    "transitivity = nx.transitivity(G)\n",
    "transitivity"
   ]
  },
  {
   "cell_type": "markdown",
   "id": "6574499d-0ae7-463a-962b-8c66250fe8a2",
   "metadata": {},
   "source": [
    "# Centrality\n",
    "* https://en.wikipedia.org/wiki/Centrality"
   ]
  },
  {
   "cell_type": "code",
   "execution_count": 7,
   "id": "c5bcbaa4-c8f4-40af-994a-daf2cfadb49a",
   "metadata": {},
   "outputs": [
    {
     "data": {
      "text/plain": [
       "{0: 1.0,\n",
       " 1: 0.16666666666666666,\n",
       " 2: 0.16666666666666666,\n",
       " 3: 0.16666666666666666,\n",
       " 4: 0.16666666666666666,\n",
       " 5: 0.16666666666666666,\n",
       " 6: 0.16666666666666666}"
      ]
     },
     "execution_count": 7,
     "metadata": {},
     "output_type": "execute_result"
    }
   ],
   "source": [
    "degree_centrality = nx.degree_centrality(G)\n",
    "degree_centrality"
   ]
  },
  {
   "cell_type": "code",
   "execution_count": 8,
   "id": "fe9647bb-4a2a-44d3-a872-565d0e17667e",
   "metadata": {},
   "outputs": [
    {
     "data": {
      "text/plain": [
       "{0: 1.0,\n",
       " 1: 0.5454545454545454,\n",
       " 2: 0.5454545454545454,\n",
       " 3: 0.5454545454545454,\n",
       " 4: 0.5454545454545454,\n",
       " 5: 0.5454545454545454,\n",
       " 6: 0.5454545454545454}"
      ]
     },
     "execution_count": 8,
     "metadata": {},
     "output_type": "execute_result"
    }
   ],
   "source": [
    "closeness_centrality = nx.closeness_centrality(G)\n",
    "closeness_centrality"
   ]
  },
  {
   "cell_type": "code",
   "execution_count": 9,
   "id": "f5a2f3e8-c029-4dde-b295-b6527f39a6b8",
   "metadata": {},
   "outputs": [
    {
     "data": {
      "text/plain": [
       "{0: 0.707106500442864,\n",
       " 1: 0.2886752492078963,\n",
       " 2: 0.2886752492078963,\n",
       " 3: 0.2886752492078963,\n",
       " 4: 0.2886752492078963,\n",
       " 5: 0.2886752492078963,\n",
       " 6: 0.2886752492078963}"
      ]
     },
     "execution_count": 9,
     "metadata": {},
     "output_type": "execute_result"
    }
   ],
   "source": [
    "eigenvector_centrality = nx.eigenvector_centrality(G) # left-eigenvector of A\n",
    "eigenvector_centrality"
   ]
  },
  {
   "cell_type": "code",
   "execution_count": 10,
   "id": "c4b5e43b-51dc-4485-9764-cc3f7861ac51",
   "metadata": {},
   "outputs": [
    {
     "data": {
      "text/plain": [
       "{0: 0.5105804386334548,\n",
       " 1: 0.35102412445226344,\n",
       " 2: 0.35102412445226344,\n",
       " 3: 0.35102412445226344,\n",
       " 4: 0.35102412445226344,\n",
       " 5: 0.35102412445226344,\n",
       " 6: 0.35102412445226344}"
      ]
     },
     "execution_count": 10,
     "metadata": {},
     "output_type": "execute_result"
    }
   ],
   "source": [
    "katz = nx.katz_centrality(G, alpha=0.1)  \n",
    "katz"
   ]
  },
  {
   "cell_type": "code",
   "execution_count": 11,
   "id": "8ea79d83-4f7f-4a88-ba05-16c573786afa",
   "metadata": {},
   "outputs": [
    {
     "data": {
      "text/plain": [
       "{0: 0.47104105212375913,\n",
       " 1: 0.0881598246460401,\n",
       " 2: 0.0881598246460401,\n",
       " 3: 0.0881598246460401,\n",
       " 4: 0.0881598246460401,\n",
       " 5: 0.0881598246460401,\n",
       " 6: 0.0881598246460401}"
      ]
     },
     "execution_count": 11,
     "metadata": {},
     "output_type": "execute_result"
    }
   ],
   "source": [
    "pagerank = nx.pagerank(G, alpha=0.85)\n",
    "pagerank"
   ]
  },
  {
   "cell_type": "code",
   "execution_count": 12,
   "id": "4aeeffce-210b-4ccc-ab6d-c23ccbe68a5f",
   "metadata": {},
   "outputs": [
    {
     "data": {
      "text/plain": [
       "{0: 1.0, 1: 0.0, 2: 0.0, 3: 0.0, 4: 0.0, 5: 0.0, 6: 0.0}"
      ]
     },
     "execution_count": 12,
     "metadata": {},
     "output_type": "execute_result"
    }
   ],
   "source": [
    "betweenness = nx.betweenness_centrality(G)\n",
    "betweenness"
   ]
  },
  {
   "cell_type": "code",
   "execution_count": 13,
   "id": "d9f74262-e7a8-4957-9057-c4118055974d",
   "metadata": {},
   "outputs": [
    {
     "name": "stderr",
     "output_type": "stream",
     "text": [
      "C:\\Users\\t\\anaconda3\\Lib\\site-packages\\networkx\\algorithms\\link_analysis\\hits_alg.py:78: FutureWarning: adjacency_matrix will return a scipy.sparse array instead of a matrix in Networkx 3.0.\n",
      "  A = nx.adjacency_matrix(G, nodelist=list(G), dtype=float)\n"
     ]
    },
    {
     "data": {
      "text/plain": [
       "({0: -12.19897836049383,\n",
       "  1: 2.199829726748972,\n",
       "  2: 2.199829726748972,\n",
       "  3: 2.199829726748972,\n",
       "  4: 2.199829726748972,\n",
       "  5: 2.199829726748972,\n",
       "  6: 2.199829726748972},\n",
       " {0: -0.2200017028774875,\n",
       "  1: 0.2033336171462479,\n",
       "  2: 0.2033336171462479,\n",
       "  3: 0.20333361714624795,\n",
       "  4: 0.20333361714624795,\n",
       "  5: 0.2033336171462479,\n",
       "  6: 0.2033336171462479})"
      ]
     },
     "execution_count": 13,
     "metadata": {},
     "output_type": "execute_result"
    }
   ],
   "source": [
    "hubs, authorities = nx.hits(G)\n",
    "hubs, authorities"
   ]
  },
  {
   "cell_type": "code",
   "execution_count": null,
   "id": "b547d22e-5f5d-41ca-aad6-2103fb61ee48",
   "metadata": {},
   "outputs": [],
   "source": []
  }
 ],
 "metadata": {
  "kernelspec": {
   "display_name": "Python 3 (Spyder)",
   "language": "python3",
   "name": "python3"
  },
  "language_info": {
   "codemirror_mode": {
    "name": "ipython",
    "version": 3
   },
   "file_extension": ".py",
   "mimetype": "text/x-python",
   "name": "python",
   "nbconvert_exporter": "python",
   "pygments_lexer": "ipython3",
   "version": "3.11.3"
  }
 },
 "nbformat": 4,
 "nbformat_minor": 5
}
