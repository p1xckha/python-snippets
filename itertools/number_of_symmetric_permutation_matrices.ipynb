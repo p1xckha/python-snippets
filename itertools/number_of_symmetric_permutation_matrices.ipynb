{
 "cells": [
  {
   "cell_type": "markdown",
   "id": "7f0b3b73-90bb-4b3e-9ecd-282a1f741c1d",
   "metadata": {},
   "source": [
    "## Count the number of symmetric permutation matrices using python"
   ]
  },
  {
   "cell_type": "code",
   "execution_count": 1,
   "id": "24800de4-e60b-48ab-9019-2e4216f95d9e",
   "metadata": {},
   "outputs": [
    {
     "name": "stdout",
     "output_type": "stream",
     "text": [
      "Number of symmetric permutation matrices of order 4: 10\n"
     ]
    }
   ],
   "source": [
    "import numpy as np\n",
    "from itertools import permutations\n",
    "\n",
    "def permutation_matrix(perm):\n",
    "    \"\"\"Generate the permutation matrix corresponding to a given permutation.\"\"\"\n",
    "    n = len(perm)\n",
    "    P = np.zeros((n, n), dtype=int)\n",
    "    for i, p in enumerate(perm):\n",
    "        P[i, p] = 1\n",
    "    return P\n",
    "\n",
    "def is_symmetric(P):\n",
    "    \"\"\"Check if the matrix P is symmetric.\"\"\"\n",
    "    return np.array_equal(P, P.T)\n",
    "\n",
    "def count_symmetric_involutions(n):\n",
    "    \"\"\"Generate all permutation matrices of order n and count symmetric involutions.\"\"\"\n",
    "    count = 0\n",
    "    for perm in permutations(range(n)):\n",
    "        P = permutation_matrix(perm)\n",
    "        if is_symmetric(P):\n",
    "            count += 1\n",
    "    return count\n",
    "\n",
    "# Test with a specific value of n\n",
    "n = 4\n",
    "symmetric_involutions_count = count_symmetric_involutions(n)\n",
    "print(f\"Number of symmetric permutation matrices of order {n}: {symmetric_involutions_count}\")\n"
   ]
  },
  {
   "cell_type": "markdown",
   "id": "a1045de7-ba55-474f-ba4e-e6bfb5a7a399",
   "metadata": {},
   "source": [
    "## Verify my formula\n",
    "\n",
    "I guessed that the number of symmetric permutation matrices is :\n",
    "\n",
    "$$\n",
    "S_n = \\sum_{k=0}^{\\lfloor n/2 \\rfloor} \\binom{n}{2k} \\frac{(2k)!}{2^k k!}\n",
    "$$"
   ]
  },
  {
   "cell_type": "code",
   "execution_count": 2,
   "id": "bd79c477-23d8-4a8d-922f-232a9b73ea13",
   "metadata": {},
   "outputs": [
    {
     "name": "stdout",
     "output_type": "stream",
     "text": [
      "Number of symmetric permutation matrices of order 4: 10\n"
     ]
    }
   ],
   "source": [
    "import math\n",
    "\n",
    "def combination(n, k):\n",
    "    \"\"\"Calculate the combination C(n, k) = n! / (k! * (n - k)!)\"\"\"\n",
    "    return math.comb(n, k)\n",
    "\n",
    "def fact(n):\n",
    "    \"\"\"Calculate the factorial of n (n!)\"\"\"\n",
    "    return math.factorial(n)\n",
    "\n",
    "def guess(n):\n",
    "    s = 0\n",
    "    for k in range(int(n/2) + 1):  # Loop until n//2, inclusive\n",
    "        s += combination(n, 2*k) * fact(2*k) // (2**k * fact(k))  # Use integer division (//)\n",
    "    return s\n",
    "\n",
    "# Test the function with a specific value of n\n",
    "n = 4\n",
    "symmetric_involutions_count = guess(n)\n",
    "print(f\"Number of symmetric permutation matrices of order {n}: {symmetric_involutions_count}\") # looks correct\n"
   ]
  },
  {
   "cell_type": "markdown",
   "id": "09eaf782-64b2-4edc-8e92-c30aa890afb4",
   "metadata": {},
   "source": [
    "## Test for n=2,...,9\n"
   ]
  },
  {
   "cell_type": "code",
   "execution_count": 3,
   "id": "e2d7137e-7d45-472d-b6d5-ae5a9dfc2aa4",
   "metadata": {},
   "outputs": [
    {
     "name": "stdout",
     "output_type": "stream",
     "text": [
      "n=2\n",
      "my guess: 2\n",
      "the number of symmetric permutation matrices: 2\n",
      "Congratulation! Your guess is correst.\n",
      "------------------------------\n",
      "n=3\n",
      "my guess: 4\n",
      "the number of symmetric permutation matrices: 4\n",
      "Congratulation! Your guess is correst.\n",
      "------------------------------\n",
      "n=4\n",
      "my guess: 10\n",
      "the number of symmetric permutation matrices: 10\n",
      "Congratulation! Your guess is correst.\n",
      "------------------------------\n",
      "n=5\n",
      "my guess: 26\n",
      "the number of symmetric permutation matrices: 26\n",
      "Congratulation! Your guess is correst.\n",
      "------------------------------\n",
      "n=6\n",
      "my guess: 76\n",
      "the number of symmetric permutation matrices: 76\n",
      "Congratulation! Your guess is correst.\n",
      "------------------------------\n",
      "n=7\n",
      "my guess: 232\n",
      "the number of symmetric permutation matrices: 232\n",
      "Congratulation! Your guess is correst.\n",
      "------------------------------\n",
      "n=8\n",
      "my guess: 764\n",
      "the number of symmetric permutation matrices: 764\n",
      "Congratulation! Your guess is correst.\n",
      "------------------------------\n",
      "n=9\n",
      "my guess: 2620\n",
      "the number of symmetric permutation matrices: 2620\n",
      "Congratulation! Your guess is correst.\n",
      "------------------------------\n"
     ]
    }
   ],
   "source": [
    "# verify\n",
    "for n in range(2, 10):\n",
    "    count = count_symmetric_involutions(n)\n",
    "    g = guess(n)\n",
    "    print(f\"n={n}\")\n",
    "    print(f\"my guess: {g}\")\n",
    "    print(f\"the number of symmetric permutation matrices: {count}\")\n",
    "    if count == g:\n",
    "        print(\"Congratulation! Your guess is correst.\")\n",
    "    print(\"-\"*30)\n"
   ]
  },
  {
   "cell_type": "code",
   "execution_count": null,
   "id": "0f46eceb-9eeb-4d68-8ce4-9d9acdc826b6",
   "metadata": {},
   "outputs": [],
   "source": []
  }
 ],
 "metadata": {
  "kernelspec": {
   "display_name": "Python 3 (Spyder)",
   "language": "python3",
   "name": "python3"
  },
  "language_info": {
   "codemirror_mode": {
    "name": "ipython",
    "version": 3
   },
   "file_extension": ".py",
   "mimetype": "text/x-python",
   "name": "python",
   "nbconvert_exporter": "python",
   "pygments_lexer": "ipython3",
   "version": "3.12.3"
  }
 },
 "nbformat": 4,
 "nbformat_minor": 5
}
