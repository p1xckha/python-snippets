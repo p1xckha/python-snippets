{
 "cells": [
  {
   "cell_type": "markdown",
   "id": "7390bb55",
   "metadata": {},
   "source": [
    "# Multinomial Theorem \n",
    "The multinomial theorem states that for any positive integers n and m, and real numbers $x_1, x_2, ..., x_m$ , the following formula holds:\n",
    "\n",
    "$$\n",
    "\\LARGE\n",
    "\\begin{eqnarray*}\n",
    "(x_1 + x_2 + \\cdots + x_m)^n & = & \\sum_{i_1=1}^m \\sum_{i_2=1}^m \\cdots \\sum_{i_m=1}^m x_{i_1}x_{i_2}\\cdots x_{i_m} \\\\\n",
    "& = &  \\sum_{|\\alpha|=n} \\frac{n!}{\\alpha_1! \\alpha_2! \\cdots \\alpha_m!} x_1^{\\alpha_1} x_2^{\\alpha_2} \\cdots x_m^{\\alpha_m} \\\\\n",
    "\\end{eqnarray*}\n",
    "$$\n",
    "\n",
    "As this formula suggests, the coefficients represent the number of possible sequences.\n",
    "\n",
    "# example\n",
    "\n",
    "$$\n",
    "\\LARGE\n",
    "\\begin{eqnarray*}\n",
    "(x_1 + x_2)^3 & = & \\sum_{i_1=1}^2 \\sum_{i_2=1}^2 \\sum_{i_3=1}^2 x_{i_1} x_{i_2} x_{i_3} \\\\\n",
    "& = & x_1^3 + 3 x_1^2 x_2 + 3 x_1 x_2^2 + x_2^3  \\\\\n",
    "\\end{eqnarray*}\n",
    "$$\n",
    "\n",
    "the coefficients on $x_1 x_2^2$ is $3$, because the possible sequences are,\n",
    "$$ \\large\n",
    "x_1 x_1 x_2,  x_1 x_2 x_1, x_2 x_1 x_1\n",
    "$$\n",
    "\n",
    "You can find more information about the multinomial theorem on [Wikipedia](https://en.wikipedia.org/wiki/Multinomial_theorem)."
   ]
  },
  {
   "cell_type": "markdown",
   "id": "27815567",
   "metadata": {},
   "source": [
    "# Count the numbers of possible sequences using python"
   ]
  },
  {
   "cell_type": "code",
   "execution_count": 1,
   "id": "dc18197a",
   "metadata": {},
   "outputs": [
    {
     "data": {
      "text/plain": [
       "{(1, 1, 1): 1, (1, 1, 2): 3, (1, 2, 2): 3, (2, 2, 2): 1}"
      ]
     },
     "execution_count": 1,
     "metadata": {},
     "output_type": "execute_result"
    }
   ],
   "source": [
    "# previous example\n",
    "import itertools\n",
    "\n",
    "m = 2\n",
    "n = 3\n",
    "arr = list(range(1, m+1))\n",
    "\n",
    "# Generate all possible sequences of length n with repetition using itertools.product\n",
    "all_sequences = list(itertools.product(arr, repeat=n))\n",
    "sorted_sequences = [tuple(sorted(seq)) for seq in all_sequences]\n",
    "uniq_sequences = list(set(sorted_sequences))\n",
    "uniq_sequences.sort()\n",
    "\n",
    "# count the numbers of possible sequences\n",
    "counts = {key:0 for key in uniq_sequences}\n",
    "for sequence in all_sequences:\n",
    "    lst = list(sequence) \n",
    "    lst.sort()\n",
    "    key = tuple(lst)\n",
    "    counts[key] += 1\n",
    "counts"
   ]
  },
  {
   "cell_type": "markdown",
   "id": "a2fefe04",
   "metadata": {},
   "source": [
    "# example 2\n",
    "$$\n",
    "(x_1 + x_2 + x_3 + x_4 + x_5)^4 = ?\n",
    "$$\n",
    "\n"
   ]
  },
  {
   "cell_type": "code",
   "execution_count": 2,
   "id": "33689a83",
   "metadata": {},
   "outputs": [
    {
     "data": {
      "text/plain": [
       "{(1, 1, 1, 1): 1,\n",
       " (1, 1, 1, 2): 4,\n",
       " (1, 1, 1, 3): 4,\n",
       " (1, 1, 1, 4): 4,\n",
       " (1, 1, 1, 5): 4,\n",
       " (1, 1, 2, 2): 6,\n",
       " (1, 1, 2, 3): 12,\n",
       " (1, 1, 2, 4): 12,\n",
       " (1, 1, 2, 5): 12,\n",
       " (1, 1, 3, 3): 6,\n",
       " (1, 1, 3, 4): 12,\n",
       " (1, 1, 3, 5): 12,\n",
       " (1, 1, 4, 4): 6,\n",
       " (1, 1, 4, 5): 12,\n",
       " (1, 1, 5, 5): 6,\n",
       " (1, 2, 2, 2): 4,\n",
       " (1, 2, 2, 3): 12,\n",
       " (1, 2, 2, 4): 12,\n",
       " (1, 2, 2, 5): 12,\n",
       " (1, 2, 3, 3): 12,\n",
       " (1, 2, 3, 4): 24,\n",
       " (1, 2, 3, 5): 24,\n",
       " (1, 2, 4, 4): 12,\n",
       " (1, 2, 4, 5): 24,\n",
       " (1, 2, 5, 5): 12,\n",
       " (1, 3, 3, 3): 4,\n",
       " (1, 3, 3, 4): 12,\n",
       " (1, 3, 3, 5): 12,\n",
       " (1, 3, 4, 4): 12,\n",
       " (1, 3, 4, 5): 24,\n",
       " (1, 3, 5, 5): 12,\n",
       " (1, 4, 4, 4): 4,\n",
       " (1, 4, 4, 5): 12,\n",
       " (1, 4, 5, 5): 12,\n",
       " (1, 5, 5, 5): 4,\n",
       " (2, 2, 2, 2): 1,\n",
       " (2, 2, 2, 3): 4,\n",
       " (2, 2, 2, 4): 4,\n",
       " (2, 2, 2, 5): 4,\n",
       " (2, 2, 3, 3): 6,\n",
       " (2, 2, 3, 4): 12,\n",
       " (2, 2, 3, 5): 12,\n",
       " (2, 2, 4, 4): 6,\n",
       " (2, 2, 4, 5): 12,\n",
       " (2, 2, 5, 5): 6,\n",
       " (2, 3, 3, 3): 4,\n",
       " (2, 3, 3, 4): 12,\n",
       " (2, 3, 3, 5): 12,\n",
       " (2, 3, 4, 4): 12,\n",
       " (2, 3, 4, 5): 24,\n",
       " (2, 3, 5, 5): 12,\n",
       " (2, 4, 4, 4): 4,\n",
       " (2, 4, 4, 5): 12,\n",
       " (2, 4, 5, 5): 12,\n",
       " (2, 5, 5, 5): 4,\n",
       " (3, 3, 3, 3): 1,\n",
       " (3, 3, 3, 4): 4,\n",
       " (3, 3, 3, 5): 4,\n",
       " (3, 3, 4, 4): 6,\n",
       " (3, 3, 4, 5): 12,\n",
       " (3, 3, 5, 5): 6,\n",
       " (3, 4, 4, 4): 4,\n",
       " (3, 4, 4, 5): 12,\n",
       " (3, 4, 5, 5): 12,\n",
       " (3, 5, 5, 5): 4,\n",
       " (4, 4, 4, 4): 1,\n",
       " (4, 4, 4, 5): 4,\n",
       " (4, 4, 5, 5): 6,\n",
       " (4, 5, 5, 5): 4,\n",
       " (5, 5, 5, 5): 1}"
      ]
     },
     "execution_count": 2,
     "metadata": {},
     "output_type": "execute_result"
    }
   ],
   "source": [
    "import itertools\n",
    "\n",
    "m = 5\n",
    "n = 4\n",
    "arr = list(range(1, m+1))\n",
    "\n",
    "# Generate all possible sequences of length n with repetition using itertools.product\n",
    "all_sequences = list(itertools.product(arr, repeat=n))\n",
    "sorted_sequences = [tuple(sorted(seq)) for seq in all_sequences]\n",
    "uniq_sequences = list(set(sorted_sequences))\n",
    "uniq_sequences.sort()\n",
    "\n",
    "# count the numbers of possible sequences\n",
    "counts = {key:0 for key in uniq_sequences}\n",
    "for sequence in all_sequences:\n",
    "    lst = list(sequence) \n",
    "    lst.sort()\n",
    "    key = tuple(lst)\n",
    "    counts[key] += 1\n",
    "counts"
   ]
  },
  {
   "cell_type": "markdown",
   "id": "5571ff6d",
   "metadata": {},
   "source": [
    "# see also\n",
    "\n",
    "you can compute a formula on  \n",
    "* https://www.wolframalpha.com/input?i=%28x_1+%2B+x_2+%2B+x_3+%2B+x_4+%2B+x_5%29%5E4\n"
   ]
  },
  {
   "cell_type": "code",
   "execution_count": null,
   "id": "f7f42651",
   "metadata": {},
   "outputs": [],
   "source": []
  }
 ],
 "metadata": {
  "kernelspec": {
   "display_name": "Python 3 (Spyder)",
   "language": "python3",
   "name": "python3"
  },
  "language_info": {
   "codemirror_mode": {
    "name": "ipython",
    "version": 3
   },
   "file_extension": ".py",
   "mimetype": "text/x-python",
   "name": "python",
   "nbconvert_exporter": "python",
   "pygments_lexer": "ipython3",
   "version": "3.10.12"
  }
 },
 "nbformat": 4,
 "nbformat_minor": 5
}
