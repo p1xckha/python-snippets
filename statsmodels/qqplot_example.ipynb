{
 "cells": [
  {
   "cell_type": "markdown",
   "id": "380f59e6",
   "metadata": {},
   "source": [
    "# quantile-quantile plot example\n",
    "\n",
    "- wiki : https://en.wikipedia.org/wiki/Q%E2%80%93Q_plot\n",
    "- python: # https://www.statsmodels.org/stable/generated/statsmodels.graphics.gofplots.qqplot.html"
   ]
  },
  {
   "cell_type": "code",
   "execution_count": null,
   "id": "28a52137",
   "metadata": {},
   "outputs": [],
   "source": [
    "import numpy as np\n",
    "import statsmodels.api as sm\n",
    "import matplotlib.pyplot as plt\n",
    "import scipy.stats as stats\n",
    "\n",
    "# Number of samples\n",
    "n = 100\n",
    "\n",
    "# Generate random samples from N(0,1)\n",
    "samples = np.random.normal(0, 1, n)\n",
    "samples.sort()\n",
    "x_max = max(samples)\n",
    "x_min = min(samples)\n",
    "\n",
    "# Create a QQ plot on a specific axis\n",
    "fig, ax = plt.subplots(figsize=(10, 6))\n",
    "qqplot = sm.qqplot(samples, line='s', ax=ax)\n",
    "ax.set_title(\"QQ Plot for N(0,1) Samples\")\n",
    "ax.axis('equal')\n",
    "ax.set_xlim([x_min, x_max])\n",
    "ax.set_xlabel('Theoretical Quantiles N(0,1)')\n",
    "ax.grid(True)\n",
    "\n",
    "# Show the plot\n",
    "plt.show()"
   ]
  },
  {
   "cell_type": "markdown",
   "id": "8f4a7ebf",
   "metadata": {},
   "source": [
    "# We plotted (s, t)"
   ]
  },
  {
   "cell_type": "code",
   "execution_count": null,
   "id": "500586ac",
   "metadata": {},
   "outputs": [],
   "source": [
    "import numpy as np\n",
    "import matplotlib.pyplot as plt\n",
    "import scipy.stats as stats\n",
    "\n",
    "# Define the quantile value\n",
    "q = 0.25\n",
    "\n",
    "# Calculate the corresponding z-score\n",
    "s = stats.norm.ppf(q)\n",
    "\n",
    "# Create a range of x values for the plot\n",
    "x = np.linspace(-3, 3, 1000)\n",
    "\n",
    "# Calculate the PDF of the standard normal distribution\n",
    "pdf = stats.norm.pdf(x)\n",
    "\n",
    "# Create a figure and axis\n",
    "fig, ax = plt.subplots(figsize=(10, 6))\n",
    "\n",
    "# Plot the PDF of the standard normal distribution\n",
    "ax.plot(x, pdf, label='N(0,1)')\n",
    "\n",
    "# Shade the area to the left of s\n",
    "ax.fill_between(x, pdf, where=(x <= s), alpha=0.3, color='blue', label=f'P(X <= {s:.2f}) = {q:.2f}')\n",
    "\n",
    "# Add a vertical line at s\n",
    "ax.axvline(s, color='red', linestyle='--', label=f's = {s:.4f}')\n",
    "\n",
    "# Set labels, title, and legend\n",
    "ax.set_xlabel('Value (x)')\n",
    "ax.set_ylabel('Probability Density')\n",
    "ax.set_title('Standard Normal Distribution')\n",
    "ax.legend()\n",
    "\n",
    "# Display the plot\n",
    "plt.show()\n"
   ]
  },
  {
   "cell_type": "code",
   "execution_count": null,
   "id": "5f8b9374",
   "metadata": {},
   "outputs": [],
   "source": [
    "import numpy as np\n",
    "import matplotlib.pyplot as plt\n",
    "\n",
    "q = 0.25\n",
    "t = np.quantile(samples, q)\n",
    "\n",
    "# Create a histogram to approximate the PMF\n",
    "hist, bins = np.histogram(samples, bins=20, density=True)\n",
    "\n",
    "# Calculate bin widths\n",
    "bin_widths = bins[1:] - bins[:-1]\n",
    "\n",
    "# Calculate the approximate PMF\n",
    "pmf = hist * bin_widths\n",
    "\n",
    "# Create a figure and axis\n",
    "fig, ax = plt.subplots(figsize=(10, 6))\n",
    "\n",
    "# Plot the approximate PMF using ax\n",
    "ax.bar(bins[:-1], pmf, width=bin_widths, align='edge')\n",
    "ax.axvline(t, color='red', linestyle='--', label=f't = {t:.4f}, $P(X\\leq t)={q}$')\n",
    "\n",
    "# Set labels and title\n",
    "ax.set_xlabel('Value')\n",
    "ax.set_ylabel('Probability')\n",
    "ax.set_title(f'samples of $X\\sim N(0,1)$')\n",
    "ax.legend()\n",
    "\n",
    "# Display the plot\n",
    "plt.show()"
   ]
  },
  {
   "cell_type": "markdown",
   "id": "bb8f943f",
   "metadata": {},
   "source": [
    "# qqplot example2"
   ]
  },
  {
   "cell_type": "code",
   "execution_count": null,
   "id": "c4730c70",
   "metadata": {},
   "outputs": [],
   "source": [
    "import numpy as np\n",
    "import statsmodels.api as sm\n",
    "import matplotlib.pyplot as plt\n",
    "import scipy.stats as stats\n",
    "\n",
    "# Define the parameters for the Binomial distribution\n",
    "n = 10000  # Number of trials\n",
    "p = 0.01   # Probability of success\n",
    "\n",
    "# Generate random samples from a Binomial distribution\n",
    "sample_size = 30\n",
    "binomial_samples = np.random.binomial(n, p, size=sample_size)\n",
    "binomial_samples.sort()\n",
    "\n",
    "# Create a QQ plot using statsmodels with a theoretical Normal distribution\n",
    "mean = n * p\n",
    "variance = n * p * (1 - p)\n",
    "stddev = np.sqrt(variance)\n",
    "theoretical_distribution = stats.norm(loc=mean, scale=stddev)\n",
    "\n",
    "# Create a figure and axis\n",
    "fig, ax = plt.subplots(figsize=(8, 6))\n",
    "\n",
    "# Plot the QQ plot on the axis\n",
    "sm.qqplot(binomial_samples, dist=theoretical_distribution, line='45', ax=ax)  # '45' indicates a 45-degree reference line\n",
    "\n",
    "# Set title and labels\n",
    "ax.set_title(\"QQ Plot of Binomial({}, {}) Distribution\".format(n, p))\n",
    "ax.set_xlabel(f'Theoretical Quantiles $N({mean}, {variance})$')\n",
    "ax.set_ylabel('Sample Quantiles Binomial({}, {})'.format(n,p))\n",
    "\n",
    "# Display the plot\n",
    "plt.show()\n",
    "\n",
    "print(\"Binomial samples:\",binomial_samples)"
   ]
  },
  {
   "cell_type": "code",
   "execution_count": null,
   "id": "31bde171",
   "metadata": {},
   "outputs": [],
   "source": [
    "# Standardize the samples\n",
    "standardized_samples = (binomial_samples - binomial_samples.mean()) / binomial_samples.std()\n",
    "print(\"Standardized samples:\", standardized_samples)"
   ]
  },
  {
   "cell_type": "code",
   "execution_count": null,
   "id": "03da0387",
   "metadata": {},
   "outputs": [],
   "source": [
    "# Create a QQ plot for the standardized samples using statsmodels\n",
    "theoretical_distribution = stats.norm()\n",
    "fig, ax = plt.subplots(figsize=(8, 6))\n",
    "sm.qqplot(standardized_samples, dist=theoretical_distribution, line='45', ax=ax)  # '45' indicates a 45-degree reference line\n",
    "\n",
    "# Set title and labels\n",
    "ax.set_title(\"QQ Plot of Standardized Binomial({}, {}) Distribution\".format(n, p))\n",
    "ax.set_xlabel('Theoretical Quantiles $N(0,1)$')\n",
    "ax.set_ylabel('Sample Quantiles')\n",
    "\n",
    "# Display the plot\n",
    "plt.show()"
   ]
  },
  {
   "cell_type": "code",
   "execution_count": null,
   "id": "9108c071",
   "metadata": {},
   "outputs": [],
   "source": []
  },
  {
   "cell_type": "code",
   "execution_count": null,
   "id": "803744a0",
   "metadata": {},
   "outputs": [],
   "source": []
  },
  {
   "cell_type": "code",
   "execution_count": null,
   "id": "46f8e010",
   "metadata": {},
   "outputs": [],
   "source": []
  },
  {
   "cell_type": "code",
   "execution_count": null,
   "id": "2aea4014",
   "metadata": {},
   "outputs": [],
   "source": []
  },
  {
   "cell_type": "code",
   "execution_count": null,
   "id": "ad6b8bd5",
   "metadata": {},
   "outputs": [],
   "source": []
  }
 ],
 "metadata": {
  "kernelspec": {
   "display_name": "Python 3 (Spyder)",
   "language": "python3",
   "name": "python3"
  },
  "language_info": {
   "codemirror_mode": {
    "name": "ipython",
    "version": 3
   },
   "file_extension": ".py",
   "mimetype": "text/x-python",
   "name": "python",
   "nbconvert_exporter": "python",
   "pygments_lexer": "ipython3",
   "version": "3.10.12"
  }
 },
 "nbformat": 4,
 "nbformat_minor": 5
}
