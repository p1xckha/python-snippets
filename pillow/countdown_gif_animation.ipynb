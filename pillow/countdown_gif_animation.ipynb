{
 "cells": [
  {
   "cell_type": "code",
   "execution_count": null,
   "id": "5eef3d7f",
   "metadata": {},
   "outputs": [],
   "source": [
    "# countdown gif\n",
    "from io import BytesIO\n",
    "from PIL import Image, ImageDraw, ImageFont\n",
    "\n",
    "filename = \"countdown10.gif\"\n",
    "width = 250\n",
    "height = 250\n",
    "frames = [] # list of im\n",
    "text_size = 250\n",
    "font = ImageFont.truetype(\"arial.ttf\", text_size)\n",
    "\n",
    "for i in range(9, 0, -1):\n",
    "    im = Image.new('RGB', (width, height), color=(255, 255, 255))\n",
    "    draw = ImageDraw.Draw(im)\n",
    "    text = str(i)\n",
    "    #x, y = (width - text_size) // 2, (height - text_size) // 2\n",
    "    x, y = 50, 0\n",
    "    draw.text(xy=(x, y), text=text, font=font, fill='black')\n",
    "    frames.append(im)\n",
    "    \n",
    "frames[0].save(filename, save_all=True, append_images=frames[1:], duration=1000, loop=3)\n"
   ]
  },
  {
   "cell_type": "code",
   "execution_count": null,
   "id": "a6e154bf",
   "metadata": {},
   "outputs": [],
   "source": []
  }
 ],
 "metadata": {
  "kernelspec": {
   "display_name": "Python 3 (Spyder)",
   "language": "python3",
   "name": "python3"
  },
  "language_info": {
   "codemirror_mode": {
    "name": "ipython",
    "version": 3
   },
   "file_extension": ".py",
   "mimetype": "text/x-python",
   "name": "python",
   "nbconvert_exporter": "python",
   "pygments_lexer": "ipython3",
   "version": "3.10.9"
  }
 },
 "nbformat": 4,
 "nbformat_minor": 5
}
