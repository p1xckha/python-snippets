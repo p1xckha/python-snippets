{
 "cells": [
  {
   "cell_type": "code",
   "execution_count": 35,
   "id": "9488dd0f",
   "metadata": {},
   "outputs": [],
   "source": [
    "import numpy as np\n",
    "from scipy.special import logsumexp"
   ]
  },
  {
   "cell_type": "code",
   "execution_count": 36,
   "id": "e3a79c59",
   "metadata": {},
   "outputs": [],
   "source": [
    "####################################\n",
    "# logsumexp's input : 1d array\n",
    "#==================================="
   ]
  },
  {
   "cell_type": "code",
   "execution_count": 37,
   "id": "82c34d24",
   "metadata": {},
   "outputs": [],
   "source": [
    "x = np.array([-1000, -2000, -3000])"
   ]
  },
  {
   "cell_type": "code",
   "execution_count": 38,
   "id": "6822e7c5",
   "metadata": {},
   "outputs": [
    {
     "data": {
      "text/plain": [
       "-1000.0"
      ]
     },
     "execution_count": 38,
     "metadata": {},
     "output_type": "execute_result"
    }
   ],
   "source": [
    "logsumexp(x) # logsumexp prevents underflow"
   ]
  },
  {
   "cell_type": "code",
   "execution_count": 39,
   "id": "a9ae2c9f",
   "metadata": {},
   "outputs": [
    {
     "data": {
      "text/plain": [
       "0.0"
      ]
     },
     "execution_count": 39,
     "metadata": {},
     "output_type": "execute_result"
    }
   ],
   "source": [
    "sumexp = np.exp(x).sum() # underflow\n",
    "sumexp"
   ]
  },
  {
   "cell_type": "code",
   "execution_count": 40,
   "id": "5bff964f",
   "metadata": {},
   "outputs": [
    {
     "name": "stderr",
     "output_type": "stream",
     "text": [
      "C:\\Users\\t0\\AppData\\Local\\Temp\\ipykernel_11408\\4055062826.py:1: RuntimeWarning: divide by zero encountered in log\n",
      "  y = np.log(sumexp) # zero division warning\n"
     ]
    }
   ],
   "source": [
    "y = np.log(sumexp) # zero division warning"
   ]
  },
  {
   "cell_type": "code",
   "execution_count": 41,
   "id": "b182d961",
   "metadata": {},
   "outputs": [
    {
     "data": {
      "text/plain": [
       "array([    0, -1000, -2000])"
      ]
     },
     "execution_count": 41,
     "metadata": {},
     "output_type": "execute_result"
    }
   ],
   "source": [
    "# instead, calculate y = xmax + log(sum(exp(new_x)))\n",
    "xmax=x.max() # -1000\n",
    "new_x = x - xmax\n",
    "new_x"
   ]
  },
  {
   "cell_type": "code",
   "execution_count": 42,
   "id": "5fe2c9f1",
   "metadata": {},
   "outputs": [
    {
     "data": {
      "text/plain": [
       "-1000.0"
      ]
     },
     "execution_count": 42,
     "metadata": {},
     "output_type": "execute_result"
    }
   ],
   "source": [
    "sumexp= np.exp(new_x).sum() \n",
    "y = xmax + np.log(sumexp) \n",
    "y"
   ]
  },
  {
   "cell_type": "code",
   "execution_count": 43,
   "id": "a6b95151",
   "metadata": {},
   "outputs": [
    {
     "data": {
      "text/plain": [
       "0.0"
      ]
     },
     "execution_count": 43,
     "metadata": {},
     "output_type": "execute_result"
    }
   ],
   "source": [
    "error = y - logsumexp(x)\n",
    "error"
   ]
  },
  {
   "cell_type": "code",
   "execution_count": 44,
   "id": "c2afb019",
   "metadata": {},
   "outputs": [],
   "source": [
    "####################################\n",
    "# logsumexp's input: 2d-array\n",
    "#==================================="
   ]
  },
  {
   "cell_type": "code",
   "execution_count": 45,
   "id": "86b41afc",
   "metadata": {},
   "outputs": [],
   "source": [
    "import numpy as np\n",
    "from scipy.special import logsumexp"
   ]
  },
  {
   "cell_type": "code",
   "execution_count": 46,
   "id": "0c3696c4",
   "metadata": {},
   "outputs": [],
   "source": [
    "X = np.array([[-1000, -2000, -3000], [-2000, -2500, -3000], [-50, -40, -1000], [-100, -500, -400]])"
   ]
  },
  {
   "cell_type": "code",
   "execution_count": 47,
   "id": "bd002ea6",
   "metadata": {},
   "outputs": [
    {
     "data": {
      "text/plain": [
       "array([[-1000, -2000, -3000],\n",
       "       [-2000, -2500, -3000],\n",
       "       [  -50,   -40, -1000],\n",
       "       [ -100,  -500,  -400]])"
      ]
     },
     "execution_count": 47,
     "metadata": {},
     "output_type": "execute_result"
    }
   ],
   "source": [
    "X"
   ]
  },
  {
   "cell_type": "code",
   "execution_count": 48,
   "id": "323af154",
   "metadata": {},
   "outputs": [
    {
     "data": {
      "text/plain": [
       "array([-1000.       , -2000.       ,   -39.9999546,  -100.       ])"
      ]
     },
     "execution_count": 48,
     "metadata": {},
     "output_type": "execute_result"
    }
   ],
   "source": [
    "# logsumexp\n",
    "logsumexp(X, axis=1)"
   ]
  },
  {
   "cell_type": "code",
   "execution_count": 49,
   "id": "018fba8f",
   "metadata": {},
   "outputs": [],
   "source": [
    "# do the same thing with 2d numpy array"
   ]
  },
  {
   "cell_type": "code",
   "execution_count": 50,
   "id": "50ec77ca",
   "metadata": {},
   "outputs": [],
   "source": [
    "Xmax = X.max(axis=1)"
   ]
  },
  {
   "cell_type": "code",
   "execution_count": 51,
   "id": "0fc6ba04",
   "metadata": {},
   "outputs": [
    {
     "data": {
      "text/plain": [
       "array([-1000, -2000,   -40,  -100])"
      ]
     },
     "execution_count": 51,
     "metadata": {},
     "output_type": "execute_result"
    }
   ],
   "source": [
    "Xmax"
   ]
  },
  {
   "cell_type": "code",
   "execution_count": 52,
   "id": "5fa73177",
   "metadata": {},
   "outputs": [
    {
     "data": {
      "text/plain": [
       "array([[-1000],\n",
       "       [-2000],\n",
       "       [  -40],\n",
       "       [ -100]])"
      ]
     },
     "execution_count": 52,
     "metadata": {},
     "output_type": "execute_result"
    }
   ],
   "source": [
    "Xmax[..., np.newaxis]"
   ]
  },
  {
   "cell_type": "code",
   "execution_count": 53,
   "id": "6688b0e6",
   "metadata": {},
   "outputs": [
    {
     "data": {
      "text/plain": [
       "array([[    0, -1000, -2000],\n",
       "       [    0,  -500, -1000],\n",
       "       [  -10,     0,  -960],\n",
       "       [    0,  -400,  -300]])"
      ]
     },
     "execution_count": 53,
     "metadata": {},
     "output_type": "execute_result"
    }
   ],
   "source": [
    "new_X = X - Xmax[..., np.newaxis]\n",
    "new_X"
   ]
  },
  {
   "cell_type": "code",
   "execution_count": 54,
   "id": "81c893a9",
   "metadata": {},
   "outputs": [
    {
     "data": {
      "text/plain": [
       "array([[1.00000000e+000, 0.00000000e+000, 0.00000000e+000],\n",
       "       [1.00000000e+000, 7.12457641e-218, 0.00000000e+000],\n",
       "       [4.53999298e-005, 1.00000000e+000, 0.00000000e+000],\n",
       "       [1.00000000e+000, 1.91516960e-174, 5.14820022e-131]])"
      ]
     },
     "execution_count": 54,
     "metadata": {},
     "output_type": "execute_result"
    }
   ],
   "source": [
    "sumexps = np.exp(new_X)\n",
    "sumexps"
   ]
  },
  {
   "cell_type": "code",
   "execution_count": 55,
   "id": "7139bd51",
   "metadata": {},
   "outputs": [
    {
     "data": {
      "text/plain": [
       "array([-1000.       , -2000.       ,   -39.9999546,  -100.       ])"
      ]
     },
     "execution_count": 55,
     "metadata": {},
     "output_type": "execute_result"
    }
   ],
   "source": [
    "Y = Xmax + np.log(sumexps.sum(axis=1))\n",
    "Y"
   ]
  },
  {
   "cell_type": "code",
   "execution_count": 56,
   "id": "5bf7841a",
   "metadata": {},
   "outputs": [
    {
     "data": {
      "text/plain": [
       "array([0., 0., 0., 0.])"
      ]
     },
     "execution_count": 56,
     "metadata": {},
     "output_type": "execute_result"
    }
   ],
   "source": [
    "errors = (Y - logsumexp(X, axis=1))**2\n",
    "errors"
   ]
  },
  {
   "cell_type": "code",
   "execution_count": null,
   "id": "d391d54d",
   "metadata": {},
   "outputs": [],
   "source": []
  }
 ],
 "metadata": {
  "kernelspec": {
   "display_name": "Python 3 (Spyder)",
   "language": "python3",
   "name": "python3"
  },
  "language_info": {
   "codemirror_mode": {
    "name": "ipython",
    "version": 3
   },
   "file_extension": ".py",
   "mimetype": "text/x-python",
   "name": "python",
   "nbconvert_exporter": "python",
   "pygments_lexer": "ipython3",
   "version": "3.10.9"
  }
 },
 "nbformat": 4,
 "nbformat_minor": 5
}
