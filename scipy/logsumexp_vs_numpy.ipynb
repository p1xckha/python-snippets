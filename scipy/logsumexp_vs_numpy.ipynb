{
 "cells": [
  {
   "cell_type": "code",
   "execution_count": 24,
   "id": "58eedee5",
   "metadata": {},
   "outputs": [],
   "source": [
    "import numpy as np\n",
    "from scipy.special import logsumexp"
   ]
  },
  {
   "cell_type": "code",
   "execution_count": 25,
   "id": "ef54c7cd",
   "metadata": {},
   "outputs": [],
   "source": [
    "####################################\n",
    "# logsumexp's input : 1d array\n",
    "#==================================="
   ]
  },
  {
   "cell_type": "code",
   "execution_count": 26,
   "id": "1d83b2ad",
   "metadata": {},
   "outputs": [],
   "source": [
    "x = np.array([-1000, -2000, -3000])"
   ]
  },
  {
   "cell_type": "code",
   "execution_count": 27,
   "id": "d448eeec",
   "metadata": {},
   "outputs": [
    {
     "data": {
      "text/plain": [
       "-1000.0"
      ]
     },
     "execution_count": 27,
     "metadata": {},
     "output_type": "execute_result"
    }
   ],
   "source": [
    "logsumexp(x) # logsumexp prevents underflow"
   ]
  },
  {
   "cell_type": "code",
   "execution_count": 28,
   "id": "ae6f9cc0",
   "metadata": {},
   "outputs": [
    {
     "data": {
      "text/plain": [
       "0.0"
      ]
     },
     "execution_count": 28,
     "metadata": {},
     "output_type": "execute_result"
    }
   ],
   "source": [
    "sumexp = np.exp(x).sum() # underflow\n",
    "sumexp"
   ]
  },
  {
   "cell_type": "code",
   "execution_count": 29,
   "id": "e373747c",
   "metadata": {},
   "outputs": [
    {
     "name": "stderr",
     "output_type": "stream",
     "text": [
      "C:\\Users\\t0\\AppData\\Local\\Temp\\ipykernel_8036\\4055062826.py:1: RuntimeWarning: divide by zero encountered in log\n",
      "  y = np.log(sumexp) # zero division warning\n"
     ]
    }
   ],
   "source": [
    "y = np.log(sumexp) # zero division warning"
   ]
  },
  {
   "cell_type": "code",
   "execution_count": 30,
   "id": "1d0736ac",
   "metadata": {},
   "outputs": [
    {
     "data": {
      "text/plain": [
       "array([    0, -1000, -2000])"
      ]
     },
     "execution_count": 30,
     "metadata": {},
     "output_type": "execute_result"
    }
   ],
   "source": [
    "# instead, calculate y = xmax + log(sum(exp(new_x)))\n",
    "xmax=x.max() # -1000\n",
    "new_x = x - xmax\n",
    "new_x"
   ]
  },
  {
   "cell_type": "code",
   "execution_count": 31,
   "id": "b0df6165",
   "metadata": {},
   "outputs": [
    {
     "data": {
      "text/plain": [
       "-1000.0"
      ]
     },
     "execution_count": 31,
     "metadata": {},
     "output_type": "execute_result"
    }
   ],
   "source": [
    "sumexp= np.exp(new_x).sum() \n",
    "y = xmax + np.log(sumexp) \n",
    "y"
   ]
  },
  {
   "cell_type": "code",
   "execution_count": 32,
   "id": "f468e5f8",
   "metadata": {},
   "outputs": [
    {
     "data": {
      "text/plain": [
       "0.0"
      ]
     },
     "execution_count": 32,
     "metadata": {},
     "output_type": "execute_result"
    }
   ],
   "source": [
    "error = y - logsumexp(x)\n",
    "error"
   ]
  },
  {
   "cell_type": "code",
   "execution_count": 33,
   "id": "ce40575a",
   "metadata": {},
   "outputs": [],
   "source": [
    "####################################\n",
    "# logsumexp's input: 2d-array\n",
    "#==================================="
   ]
  },
  {
   "cell_type": "code",
   "execution_count": 34,
   "id": "35d43872",
   "metadata": {},
   "outputs": [],
   "source": [
    "import numpy as np\n",
    "from scipy.special import logsumexp"
   ]
  },
  {
   "cell_type": "code",
   "execution_count": 35,
   "id": "99dce56f",
   "metadata": {},
   "outputs": [],
   "source": [
    "X = np.array([[-1000, -2000, -3000], [-2000, -2500, -3000], [-50, -40, -1000], [-100, -500, -400]])"
   ]
  },
  {
   "cell_type": "code",
   "execution_count": 36,
   "id": "50eddc51",
   "metadata": {},
   "outputs": [
    {
     "data": {
      "text/plain": [
       "array([[-1000, -2000, -3000],\n",
       "       [-2000, -2500, -3000],\n",
       "       [  -50,   -40, -1000],\n",
       "       [ -100,  -500,  -400]])"
      ]
     },
     "execution_count": 36,
     "metadata": {},
     "output_type": "execute_result"
    }
   ],
   "source": [
    "X"
   ]
  },
  {
   "cell_type": "code",
   "execution_count": 37,
   "id": "95fb8602",
   "metadata": {},
   "outputs": [
    {
     "data": {
      "text/plain": [
       "array([-1000.       , -2000.       ,   -39.9999546,  -100.       ])"
      ]
     },
     "execution_count": 37,
     "metadata": {},
     "output_type": "execute_result"
    }
   ],
   "source": [
    "# logsumexp\n",
    "logsumexp(X, axis=1)"
   ]
  },
  {
   "cell_type": "code",
   "execution_count": 38,
   "id": "998c8556",
   "metadata": {},
   "outputs": [],
   "source": [
    "# do the same thing with 2d numpy array"
   ]
  },
  {
   "cell_type": "code",
   "execution_count": 39,
   "id": "a5d7da71",
   "metadata": {},
   "outputs": [],
   "source": [
    "Xmax = X.max(axis=1)"
   ]
  },
  {
   "cell_type": "code",
   "execution_count": 40,
   "id": "e2962f00",
   "metadata": {},
   "outputs": [
    {
     "data": {
      "text/plain": [
       "array([-1000, -2000,   -40,  -100])"
      ]
     },
     "execution_count": 40,
     "metadata": {},
     "output_type": "execute_result"
    }
   ],
   "source": [
    "Xmax"
   ]
  },
  {
   "cell_type": "code",
   "execution_count": 41,
   "id": "37b609ba",
   "metadata": {},
   "outputs": [
    {
     "data": {
      "text/plain": [
       "array([[-1000],\n",
       "       [-2000],\n",
       "       [  -40],\n",
       "       [ -100]])"
      ]
     },
     "execution_count": 41,
     "metadata": {},
     "output_type": "execute_result"
    }
   ],
   "source": [
    "Xmax[..., np.newaxis]"
   ]
  },
  {
   "cell_type": "code",
   "execution_count": 42,
   "id": "9770628f",
   "metadata": {},
   "outputs": [
    {
     "data": {
      "text/plain": [
       "array([[    0, -1000, -2000],\n",
       "       [    0,  -500, -1000],\n",
       "       [  -10,     0,  -960],\n",
       "       [    0,  -400,  -300]])"
      ]
     },
     "execution_count": 42,
     "metadata": {},
     "output_type": "execute_result"
    }
   ],
   "source": [
    "new_X = X - Xmax[..., np.newaxis]\n",
    "new_X"
   ]
  },
  {
   "cell_type": "code",
   "execution_count": 43,
   "id": "8059fc9e",
   "metadata": {},
   "outputs": [
    {
     "data": {
      "text/plain": [
       "array([1.       , 1.       , 1.0000454, 1.       ])"
      ]
     },
     "execution_count": 43,
     "metadata": {},
     "output_type": "execute_result"
    }
   ],
   "source": [
    "sumexps = np.exp(new_X).sum(axis=1)\n",
    "sumexps"
   ]
  },
  {
   "cell_type": "code",
   "execution_count": 44,
   "id": "b008975e",
   "metadata": {},
   "outputs": [
    {
     "data": {
      "text/plain": [
       "array([-1000.       , -2000.       ,   -39.9999546,  -100.       ])"
      ]
     },
     "execution_count": 44,
     "metadata": {},
     "output_type": "execute_result"
    }
   ],
   "source": [
    "Y = Xmax + np.log(sumexps)\n",
    "Y"
   ]
  },
  {
   "cell_type": "code",
   "execution_count": 45,
   "id": "391495d7",
   "metadata": {},
   "outputs": [
    {
     "data": {
      "text/plain": [
       "array([0., 0., 0., 0.])"
      ]
     },
     "execution_count": 45,
     "metadata": {},
     "output_type": "execute_result"
    }
   ],
   "source": [
    "errors = (Y - logsumexp(X, axis=1))**2\n",
    "errors"
   ]
  },
  {
   "cell_type": "code",
   "execution_count": null,
   "id": "fed4ef85",
   "metadata": {},
   "outputs": [],
   "source": []
  }
 ],
 "metadata": {
  "kernelspec": {
   "display_name": "Python 3 (Spyder)",
   "language": "python3",
   "name": "python3"
  },
  "language_info": {
   "codemirror_mode": {
    "name": "ipython",
    "version": 3
   },
   "file_extension": ".py",
   "mimetype": "text/x-python",
   "name": "python",
   "nbconvert_exporter": "python",
   "pygments_lexer": "ipython3",
   "version": "3.10.9"
  }
 },
 "nbformat": 4,
 "nbformat_minor": 5
}
