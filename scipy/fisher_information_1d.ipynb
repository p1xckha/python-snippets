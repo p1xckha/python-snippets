{
 "cells": [
  {
   "cell_type": "code",
   "execution_count": null,
   "id": "82402dc0-866a-48a4-921d-54f5bf2e561e",
   "metadata": {},
   "outputs": [],
   "source": []
  },
  {
   "cell_type": "markdown",
   "id": "cb93891f-28c1-4474-a52c-7161019fdd09",
   "metadata": {},
   "source": [
    "## Compare asymptotic variance of MLE with Fisher information\n",
    "\n",
    "We can interpret an asymptotic variance $\\text{avar}(\\theta^{\\text{MLE}})$ and Fisher Information $I(\\theta)$ as degrees of uncertainty and certainty respectively.\n",
    "\n",
    "\n"
   ]
  },
  {
   "cell_type": "markdown",
   "id": "e6525dc1-cdd2-4d4d-91c6-3cb8a8b105d7",
   "metadata": {},
   "source": [
    "## Bernoulli Distribution with parameter $p$\n",
    "\n",
    "$$\n",
    "(\\hat{p} - p) \\xrightarrow{d} \\mathcal{N}(0, p(1-p)/n),\n",
    "$$\n",
    "\n",
    "where $I(p) = \\frac{1}{p(1-p)}$ is the Fisher information at $p$.\n",
    "\n",
    "Bernoulli distribution become uncertain when p=1/2 and relatively more certain when p is near 0 or 1. This is becuase if p=0 or 1, all observation $X_1,...,X_n$ are either $0$ or $1$. So we can easily guess the parameter $p$.\n",
    "In other words when p=0 or 1, we can extract a lot of information about the parameter $p$ by observing $X_1,...,X_n$\n",
    "\n",
    "This is why the Fisher information $I(p)$ of the Bernoulli model gets large when p is near 0 or 1.\n",
    "\n",
    "\n",
    "* https://en.wikipedia.org/wiki/Bernoulli_distribution\n"
   ]
  },
  {
   "cell_type": "code",
   "execution_count": 63,
   "id": "b15cd307-9ec0-4aca-ae3f-2615b191037a",
   "metadata": {},
   "outputs": [
    {
     "data": {
      "application/vnd.jupyter.widget-view+json": {
       "model_id": "d01d692bef5e4a82a35de574010b2692",
       "version_major": 2,
       "version_minor": 0
      },
      "text/plain": [
       "interactive(children=(FloatSlider(value=0.5, description='p', max=0.999, min=0.001, step=0.01), IntSlider(valu…"
      ]
     },
     "execution_count": 63,
     "metadata": {},
     "output_type": "execute_result"
    }
   ],
   "source": [
    "import numpy as np\n",
    "import matplotlib.pyplot as plt\n",
    "import ipywidgets as widgets\n",
    "from ipywidgets import interactive\n",
    "import scipy.stats as stats\n",
    "\n",
    "\n",
    "# Define the Fisher information function\n",
    "def fisher_information(p):\n",
    "    return 1 / (p * (1 - p))\n",
    "\n",
    "# Plotting function\n",
    "def plot(p, n):\n",
    "    # Create a 2x1 plot\n",
    "    fig, axs = plt.subplots(2, 1, figsize=(7, 7))\n",
    "\n",
    "    # Plot the normal PDF\n",
    "    x = np.linspace(0.001, 0.999, 1000)\n",
    "    pdf = stats.norm.pdf(x, loc=p, scale=np.sqrt(p*(1-p)/n))\n",
    "    pdf0 = stats.norm.pdf(x, loc=0.5, scale=0.5/np.sqrt(n))\n",
    "    axs[0].plot(x, pdf, label=f'N({p:.2f}, {p*(1-p)/n:.4f})', color='blue')\n",
    "    axs[0].plot(x, pdf0, label=f'N(0.5, 0.5/' + \"$\\\\sqrt{n}$\" + ')', color='orange', alpha=0.5)\n",
    "    axs[0].set_title('Asymptotic normality of MLE: $(\\\\hat{p}-p) \\\\rightarrow N(0, p(1-p)/n)$')\n",
    "    axs[0].set_xlabel('p')\n",
    "    axs[0].set_ylabel('PDF')\n",
    "    axs[0].grid()\n",
    "    axs[0].legend()\n",
    "\n",
    "    # Plot the Fisher information\n",
    "    p_values = np.linspace(0.01, 0.99, 100)  # Avoiding 0 and 1 to prevent division by zero\n",
    "    I_values = fisher_information(p_values)\n",
    "    axs[1].plot(p_values, I_values, label='Fisher Information I(p) ', color='red')\n",
    "    axs[1].set_title('Fisher Information I(p) =1/(p(1-p))')\n",
    "    axs[1].set_xlabel('p')\n",
    "    axs[1].set_ylabel('I(p)')\n",
    "    axs[1].grid()\n",
    "    axs[1].legend()\n",
    "\n",
    "    plt.tight_layout()\n",
    "    plt.show()\n",
    "\n",
    "# Create interactive widgets\n",
    "p_slider = widgets.FloatSlider(value=0.5, min=0.001, max=0.999, step=0.01, description='p')\n",
    "n_slider = widgets.IntSlider(value=30, min=1, max=100, step=1, description='n')\n",
    "\n",
    "# Create interactive plot\n",
    "interactive_plot = interactive(plot, p=p_slider, n=n_slider)\n",
    "output = interactive_plot.children[-1]\n",
    "output.layout.height = '600px'\n",
    "interactive_plot\n"
   ]
  },
  {
   "cell_type": "code",
   "execution_count": null,
   "id": "cb199027-84c3-4d45-b4b4-3811f83021f9",
   "metadata": {},
   "outputs": [],
   "source": []
  },
  {
   "cell_type": "code",
   "execution_count": null,
   "id": "31765008-8001-421c-9a9d-ccbff1ee9adb",
   "metadata": {},
   "outputs": [],
   "source": []
  },
  {
   "cell_type": "code",
   "execution_count": null,
   "id": "e0dcee12-711e-4533-8732-0ae3ca2b4707",
   "metadata": {},
   "outputs": [],
   "source": []
  },
  {
   "cell_type": "code",
   "execution_count": null,
   "id": "501fb67b-fdf9-4a0a-adbc-f17e5028a032",
   "metadata": {},
   "outputs": [],
   "source": []
  },
  {
   "cell_type": "markdown",
   "id": "db2f400d-9088-47b7-9eb2-d9ba9867dc0f",
   "metadata": {},
   "source": [
    "## $Exp(\\lambda)$\n",
    "\n",
    "$$\n",
    "    (\\hat{\\lambda} - \\lambda) \\xrightarrow{d} \\mathcal{N}\\left(0, \\frac{\\lambda^2}{n}\\right)\n",
    "$$\n",
    "\n",
    "* https://en.wikipedia.org/wiki/Exponential_distribution"
   ]
  },
  {
   "cell_type": "code",
   "execution_count": 64,
   "id": "dd8e4904-9b40-407a-af7b-37f5de40f1ec",
   "metadata": {},
   "outputs": [
    {
     "data": {
      "application/vnd.jupyter.widget-view+json": {
       "model_id": "fef6c6c399354814aaee15a0426128ad",
       "version_major": 2,
       "version_minor": 0
      },
      "text/plain": [
       "interactive(children=(FloatSlider(value=5.0, description='lambda', max=10.0, min=0.001, step=0.01), IntSlider(…"
      ]
     },
     "execution_count": 64,
     "metadata": {},
     "output_type": "execute_result"
    }
   ],
   "source": [
    "import numpy as np\n",
    "import matplotlib.pyplot as plt\n",
    "import ipywidgets as widgets\n",
    "from ipywidgets import interactive\n",
    "import scipy.stats as stats\n",
    "\n",
    "\n",
    "# Define the Fisher information function\n",
    "def fisher_information(lam):\n",
    "    return lam ** -2\n",
    "\n",
    "# Plotting function\n",
    "def plot(lam, n):\n",
    "    # Create a 2x1 plot\n",
    "    fig, axs = plt.subplots(2, 1, figsize=(7, 7))\n",
    "\n",
    "    # Plot the normal PDF\n",
    "    x = np.linspace(0.001, 10, 1000)\n",
    "    pdf = stats.norm.pdf(x, loc=lam, scale=lam/np.sqrt(n))\n",
    "    axs[0].plot(x, pdf, label=f'N({lam:.2f}, {lam**2/n:.4f})', color='blue')\n",
    "    axs[0].set_title('Asymptotic normality of MLE: $(\\\\hat{\\\\lambda}-\\\\lambda) \\\\rightarrow N(0, \\\\lambda^2/n)$')\n",
    "    axs[0].set_xlabel('x')\n",
    "    axs[0].set_ylabel('PDF')\n",
    "    axs[0].grid()\n",
    "    axs[0].legend()\n",
    "\n",
    "    # Plot the Fisher information\n",
    "    I_values = fisher_information(x)\n",
    "    axs[1].plot(x, I_values, label='Fisher Information $I(\\\\lambda)$ ', color='red')\n",
    "    axs[1].set_title('Fisher Information $I(\\\\lambda) =1/\\\\lambda^2$')\n",
    "    axs[1].set_xlabel('$\\\\lambda$')\n",
    "    axs[1].set_ylabel('$I(\\\\lambda)$')\n",
    "    axs[1].grid()\n",
    "    axs[1].legend()\n",
    "\n",
    "    plt.tight_layout()\n",
    "    plt.show()\n",
    "\n",
    "# Create interactive widgets\n",
    "lam_slider = widgets.FloatSlider(value=5, min=0.001, max=10, step=0.01, description='lambda')\n",
    "n_slider = widgets.IntSlider(value=30, min=1, max=200, step=1, description='n')\n",
    "\n",
    "# Create interactive plot\n",
    "interactive_plot = interactive(plot, lam=lam_slider, n=n_slider )\n",
    "output = interactive_plot.children[-1]\n",
    "output.layout.height = '600px'\n",
    "interactive_plot"
   ]
  },
  {
   "cell_type": "code",
   "execution_count": null,
   "id": "f96b2004-9d38-4c13-a617-cb30f13012e2",
   "metadata": {},
   "outputs": [],
   "source": []
  },
  {
   "cell_type": "markdown",
   "id": "ba4dfa53-037c-49e1-a4e4-e21f22f3f71f",
   "metadata": {},
   "source": [
    "## Normal distribution\n",
    "\n",
    "$$\n",
    " \\begin{pmatrix} \\hat{\\mu} - \\mu \\\\ \\hat{\\sigma}^2 - \\sigma^2 \\end{pmatrix} \\xrightarrow{d} \\mathcal{N} \\left( \n",
    "\\begin{pmatrix} 0 \\\\ 0 \\end{pmatrix}, \n",
    "\\begin{pmatrix} \\sigma^2/n & 0 \\\\ 0 & 2 \\sigma^4/n \\end{pmatrix} \\right).\n",
    "$$\n",
    "\n",
    "You may wonder why $\\mu$ does not affect the uncertainty, i.e. asymptitoc covariance $\\begin{pmatrix} \\sigma^2/n & 0 \\\\ 0 & 2 \\sigma^4/n \\end{pmatrix}$.\n",
    "This is because even if $\\mu$ changes, the PDF of $N(\\mu, \\sigma^2)$ remains the same and the uncertainty level stays unchanged.\n",
    "\n",
    "Now compare two samples $X=[1,2,1]$ and $Y=[0, 1, 0]$ generated by $N(\\mu_X, \\sigma_X^2)$ and $N(\\mu_Y, \\sigma_Y^2)$. Which one is more uncertain about $\\mu$? They looks uncertain at the same level."
   ]
  },
  {
   "cell_type": "code",
   "execution_count": 58,
   "id": "14d416a2-3adf-4c98-abd3-2f1279058967",
   "metadata": {},
   "outputs": [
    {
     "data": {
      "application/vnd.jupyter.widget-view+json": {
       "model_id": "5440c3e82abb42a1b399cef83dfc894b",
       "version_major": 2,
       "version_minor": 0
      },
      "text/plain": [
       "interactive(children=(FloatSlider(value=0.0, description='$\\\\mu$', max=10.0, min=-10.0), FloatSlider(value=1.0…"
      ]
     },
     "execution_count": 58,
     "metadata": {},
     "output_type": "execute_result"
    }
   ],
   "source": [
    "import numpy as np\n",
    "import matplotlib.pyplot as plt\n",
    "from mpl_toolkits.mplot3d import Axes3D\n",
    "from scipy.stats import multivariate_normal\n",
    "import ipywidgets as widgets\n",
    "from ipywidgets import interactive\n",
    "\n",
    "# Define the function to plot the joint asymptotic distribution\n",
    "def plot_asymptotic_normality_3d(mu, sigma2, n):\n",
    "    # Grid for (mu, sigma2) range\n",
    "    mu_values = np.linspace(mu - 3 * np.sqrt(sigma2 / n), mu + 3 * np.sqrt(sigma2 / n), 100)\n",
    "    sigma2_values = np.linspace(sigma2 - 3 * np.sqrt(2 * sigma2**2 / n), sigma2 + 3 * np.sqrt(2 * sigma2**2 / n), 100)\n",
    "    MU, SIGMA2 = np.meshgrid(mu_values, sigma2_values)\n",
    "    \n",
    "    # Covariance matrix from the asymptotic distribution\n",
    "    cov_matrix = np.array([[sigma2 / n, 0], [0, 2 * sigma2**2 / n]])\n",
    "    mean_vector = np.array([mu, sigma2])\n",
    "    \n",
    "    # Compute the multivariate normal PDF on the grid\n",
    "    pos = np.empty(MU.shape + (2,))\n",
    "    pos[:, :, 0] = MU\n",
    "    pos[:, :, 1] = SIGMA2\n",
    "    rv = multivariate_normal(mean_vector, cov_matrix)\n",
    "    pdf_values = rv.pdf(pos)\n",
    "    \n",
    "    # Create the 3D plot\n",
    "    fig = plt.figure(figsize=(10, 10))\n",
    "    ax = fig.add_subplot(111, projection='3d')\n",
    "    ax.plot_surface(MU, SIGMA2, pdf_values, cmap='viridis', edgecolor='none')\n",
    "    \n",
    "    # Labels and title\n",
    "    asymp_equation = \"$(\\\\hat{\\\\mu}, \\\\hat{\\\\sigma}^2) \\\\rightarrow N(0, I(\\\\mu,\\\\sigma^2)^{-1}) $\"\n",
    "    ax.set_title('Joint Asymptotic Normality of MLEs: ' + asymp_equation)\n",
    "    ax.set_xlabel('$\\\\hat{\\\\mu}$')\n",
    "    ax.set_ylabel('$\\\\hat{\\\\sigma}^2$')\n",
    "    ax.set_zlabel('Density')\n",
    "    plt.show()\n",
    "\n",
    "# Create interactive sliders for mu, sigma2, and n\n",
    "mu_slider = widgets.FloatSlider(value=0.0, min=-10.0, max=10.0, step=0.1, description='$\\\\mu$')\n",
    "sigma2_slider = widgets.FloatSlider(value=1.0, min=0.1, max=10.0, step=0.1, description='$\\\\sigma^2$')\n",
    "n_slider = widgets.IntSlider(value=30, min=10, max=1000, step=10, description='n')\n",
    "\n",
    "# Create an interactive 3D plot\n",
    "interactive_plot = interactive(plot_asymptotic_normality_3d, mu=mu_slider, sigma2=sigma2_slider, n=n_slider)\n",
    "output = interactive_plot.children[-1]\n",
    "output.layout.height = '600px'\n",
    "interactive_plot\n"
   ]
  },
  {
   "cell_type": "code",
   "execution_count": 61,
   "id": "cff73e7d-38b9-433a-8d79-b8a0c366158f",
   "metadata": {},
   "outputs": [
    {
     "name": "stderr",
     "output_type": "stream",
     "text": [
      "<>:27: SyntaxWarning: invalid escape sequence '\\m'\n",
      "<>:27: SyntaxWarning: invalid escape sequence '\\s'\n",
      "<>:27: SyntaxWarning: invalid escape sequence '\\m'\n",
      "<>:27: SyntaxWarning: invalid escape sequence '\\s'\n",
      "C:\\Users\\t1\\AppData\\Local\\Temp\\ipykernel_21168\\1803332583.py:27: SyntaxWarning: invalid escape sequence '\\m'\n",
      "  ax.set_title(f'Fisher Information Matrix for Normal Distribution at ($\\mu$={mu}, $\\sigma^2$={sigma2})')\n",
      "C:\\Users\\t1\\AppData\\Local\\Temp\\ipykernel_21168\\1803332583.py:27: SyntaxWarning: invalid escape sequence '\\s'\n",
      "  ax.set_title(f'Fisher Information Matrix for Normal Distribution at ($\\mu$={mu}, $\\sigma^2$={sigma2})')\n"
     ]
    },
    {
     "data": {
      "application/vnd.jupyter.widget-view+json": {
       "model_id": "098a4811c44947dbb2f4e9eb85108259",
       "version_major": 2,
       "version_minor": 0
      },
      "text/plain": [
       "interactive(children=(FloatSlider(value=0.0, description='$\\\\mu$', max=10.0, min=-10.0), FloatSlider(value=1.0…"
      ]
     },
     "execution_count": 61,
     "metadata": {},
     "output_type": "execute_result"
    }
   ],
   "source": [
    "import numpy as np\n",
    "import matplotlib.pyplot as plt\n",
    "from ipywidgets import widgets, interactive\n",
    "\n",
    "# Define the Fisher Information Matrix for Normal distribution\n",
    "def fisher_information(mu, sigma2):\n",
    "    I_mu = 1 / sigma2  # Fisher information for mu\n",
    "    I_sigma2 = 2 / sigma2**2  # Fisher information for sigma^2\n",
    "    return np.array([[I_mu, 0], [0, I_sigma2]])\n",
    "\n",
    "# Plotting function\n",
    "def plot_fisher_information(mu, sigma2):\n",
    "    # Calculate the Fisher Information Matrix\n",
    "    FIM = fisher_information(mu, sigma2)\n",
    "    \n",
    "    # Plotting the Fisher Information Matrix\n",
    "    fig, ax = plt.subplots(figsize=(6, 6))\n",
    "    \n",
    "    cax = ax.matshow(FIM, cmap='viridis')\n",
    "    fig.colorbar(cax)\n",
    "    \n",
    "    ax.set_xticks([0, 1])\n",
    "    ax.set_yticks([0, 1])\n",
    "    ax.set_xticklabels([r'$mu$', r'$sigma^2$'])\n",
    "    ax.set_yticklabels([r'$mu$', r'$sigma^2$'])\n",
    "    \n",
    "    ax.set_title(f'Fisher Information Matrix for Normal Distribution at ($\\mu$={mu}, $\\sigma^2$={sigma2})')\n",
    "    plt.show()\n",
    "\n",
    "# Create interactive sliders for mu and sigma^2\n",
    "mu_slider = widgets.FloatSlider(value=0.0, min=-10.0, max=10.0, step=0.1, description='$\\\\mu$')\n",
    "sigma2_slider = widgets.FloatSlider(value=1.0, min=0.1, max=10.0, step=0.1, description='$\\\\sigma^2$')\n",
    "\n",
    "# Create interactive plot\n",
    "interactive_plot = interactive(plot_fisher_information, mu=mu_slider, sigma2=sigma2_slider)\n",
    "output = interactive_plot.children[-1]\n",
    "output.layout.height = '400px'\n",
    "interactive_plot\n"
   ]
  },
  {
   "cell_type": "code",
   "execution_count": null,
   "id": "1c3108b4-b704-493c-a583-6c2909459ea5",
   "metadata": {},
   "outputs": [],
   "source": []
  }
 ],
 "metadata": {
  "kernelspec": {
   "display_name": "Python 3 (Spyder)",
   "language": "python3",
   "name": "python3"
  },
  "language_info": {
   "codemirror_mode": {
    "name": "ipython",
    "version": 3
   },
   "file_extension": ".py",
   "mimetype": "text/x-python",
   "name": "python",
   "nbconvert_exporter": "python",
   "pygments_lexer": "ipython3",
   "version": "3.12.3"
  }
 },
 "nbformat": 4,
 "nbformat_minor": 5
}
