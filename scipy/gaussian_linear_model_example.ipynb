{
 "cells": [
  {
   "cell_type": "markdown",
   "id": "c5977097-d0bd-469f-b3fe-56459811fb4d",
   "metadata": {},
   "source": [
    "# Gaussian Linear Model"
   ]
  },
  {
   "cell_type": "code",
   "execution_count": null,
   "id": "a7a6f529-2c0e-46c6-897a-b47a3a0fec09",
   "metadata": {},
   "outputs": [],
   "source": []
  },
  {
   "cell_type": "code",
   "execution_count": null,
   "id": "40a65d64-e43b-456d-bbdc-d89688e49e61",
   "metadata": {},
   "outputs": [],
   "source": []
  },
  {
   "cell_type": "code",
   "execution_count": 1,
   "id": "7cc61a33-d5bb-4835-9c9a-c065085772b4",
   "metadata": {},
   "outputs": [
    {
     "data": {
      "application/vnd.jupyter.widget-view+json": {
       "model_id": "3305ba669748452bbe73dc99d8589edb",
       "version_major": 2,
       "version_minor": 0
      },
      "text/plain": [
       "Button(description='Reset', layout=Layout(width='400px'), style=ButtonStyle())"
      ]
     },
     "metadata": {},
     "output_type": "display_data"
    },
    {
     "data": {
      "application/vnd.jupyter.widget-view+json": {
       "model_id": "7b92850d63624fed983379f3769a524e",
       "version_major": 2,
       "version_minor": 0
      },
      "text/plain": [
       "interactive(children=(FloatSlider(value=4.0, description='Value of x:', layout=Layout(width='500px'), max=10.0…"
      ]
     },
     "metadata": {},
     "output_type": "display_data"
    }
   ],
   "source": [
    "import numpy as np\n",
    "import matplotlib.pyplot as plt\n",
    "from scipy.stats import norm\n",
    "import ipywidgets as widgets\n",
    "from ipywidgets import interact\n",
    "\n",
    "# Interactive plot function\n",
    "def plot_interactive(x=4, a=0.5, b=1, var_noise=1):\n",
    "    # Ensure variance of noise is positive\n",
    "    var_noise = max(var_noise, 1e-6)  # Prevent non-positive values\n",
    "\n",
    "    # Generate data\n",
    "    np.random.seed(42)  # For reproducibility\n",
    "    n = 100  # Number of points\n",
    "    X = np.random.uniform(-10, 10, n)  # X values sampled uniformly\n",
    "    noise = np.random.normal(0, np.sqrt(var_noise), n)  # Gaussian noise\n",
    "    Y = a + b * X + noise  # Y values\n",
    "\n",
    "    mean_mu_x = a + b * x\n",
    "    mu = np.linspace(-3 * np.sqrt(var_noise) + mean_mu_x, \n",
    "                      3 * np.sqrt(var_noise) + mean_mu_x, 500)\n",
    "    pdf_mu = norm.pdf(mu, loc=mean_mu_x, scale=np.sqrt(var_noise))\n",
    "\n",
    "    plt.figure(figsize=(10, 6))\n",
    "    plt.scatter(X, Y, color='blue', alpha=0.5, label='Sampled (Xi, Yi)')\n",
    "    plt.plot(np.sort(X), a + b * np.sort(X), color='red', linewidth=2, \n",
    "             label=r'$\\mu(x) = E[Y|X=x] = $' + f\"{a:.2f}+{b:.2f}\" + '$x$')\n",
    "    plt.plot(x + pdf_mu, mu, color=\"green\", \n",
    "             label=f\"$Y|X=x \\\\sim N({mean_mu_x:.1f}, {var_noise:.1f})$\")\n",
    "    plt.axvline(x=x, color=\"green\", linestyle=\"--\", \n",
    "                label=f\"x={x:.4f}\", linewidth=0.7)\n",
    "    plt.axhline(0, color='black', linewidth=0.7, linestyle='--')\n",
    "    plt.axvline(0, color='black', linewidth=0.7, linestyle='--')\n",
    "    plt.xlabel('X')\n",
    "    plt.ylabel('Y')\n",
    "    plt.title(f'Linear Regression: Y = {a:.4f} + {b:.4f}X + Noise')\n",
    "    plt.legend()\n",
    "    plt.grid(alpha=0.3)\n",
    "    plt.show()\n",
    "\n",
    "\n",
    "def reset_parameters(b):\n",
    "    x_slider.value = 4\n",
    "    a_slider.value = 0.5\n",
    "    b_slider.value = 1.0\n",
    "    var_noise_slider.value = 1.0\n",
    "\n",
    "# Style for sliders\n",
    "slider_style = {'description_width': '150px'}  # Increase text width for descriptions\n",
    "slider_layout = widgets.Layout(width='500px')  # Make sliders wider\n",
    "\n",
    "x_slider = widgets.FloatSlider(value=4, min=-10, max=10, step=0.1, description='Value of x:', style=slider_style, layout=slider_layout)\n",
    "a_slider = widgets.FloatSlider(value=0.5, min=-2, max=2, step=0.1, description='Intercept (a):', style=slider_style, layout=slider_layout)\n",
    "b_slider = widgets.FloatSlider(value=1.0, min=-2, max=2, step=0.1, description='Slope (b):', style=slider_style, layout=slider_layout)\n",
    "var_noise_slider = widgets.FloatSlider(value=1, min=0.1, max=5, step=0.1, description='Variance of Noise:', style=slider_style, layout=slider_layout)\n",
    "\n",
    "# Create a reset button\n",
    "reset_button = widgets.Button(description=\"Reset\", layout=widgets.Layout(width='400px'))\n",
    "reset_button.on_click(reset_parameters)\n",
    "\n",
    "# Display the widgets\n",
    "display(reset_button)\n",
    "\n",
    "# Create interactive widget\n",
    "interact(\n",
    "    plot_interactive, \n",
    "    x=x_slider,\n",
    "    a=a_slider,\n",
    "    b=b_slider,\n",
    "    var_noise=var_noise_slider,\n",
    ");\n"
   ]
  },
  {
   "cell_type": "code",
   "execution_count": null,
   "id": "b957a50a-bad0-4f53-a185-af4393445126",
   "metadata": {},
   "outputs": [],
   "source": []
  },
  {
   "cell_type": "code",
   "execution_count": null,
   "id": "9c18b4e2-1ff7-4bde-bc8b-835de1f875e3",
   "metadata": {},
   "outputs": [],
   "source": []
  },
  {
   "cell_type": "code",
   "execution_count": null,
   "id": "4cce1c2b-91ce-454f-9742-6805fe493f70",
   "metadata": {},
   "outputs": [],
   "source": []
  },
  {
   "cell_type": "code",
   "execution_count": null,
   "id": "24d84876-b7a5-444a-8795-e427ecbe70cd",
   "metadata": {},
   "outputs": [],
   "source": []
  }
 ],
 "metadata": {
  "kernelspec": {
   "display_name": "Python 3 (Spyder)",
   "language": "python3",
   "name": "python3"
  },
  "language_info": {
   "codemirror_mode": {
    "name": "ipython",
    "version": 3
   },
   "file_extension": ".py",
   "mimetype": "text/x-python",
   "name": "python",
   "nbconvert_exporter": "python",
   "pygments_lexer": "ipython3",
   "version": "3.12.3"
  }
 },
 "nbformat": 4,
 "nbformat_minor": 5
}
