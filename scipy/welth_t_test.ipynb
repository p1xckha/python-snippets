{
 "cells": [
  {
   "cell_type": "markdown",
   "id": "185883f1",
   "metadata": {},
   "source": [
    "# Welch's_t-test\n",
    "$$\n",
    "\\begin{align}\n",
    "A_1 &= \\{19.8, 20.4, 19.6, 17.8, 18.5, 18.9, 18.3, 18.9, 19.5, 22.0\\}\n",
    "\\\\\n",
    "A_2 &= \\{28.2, 26.6, 20.1, 23.3, 25.2, 22.1, 17.7, 27.6, 20.6, 13.7, 23.2, 17.5, 20.6, 18.0, 23.9, 21.6, 24.3, 20.4, 24.0, 13.2\\}\n",
    "\\end{align}\n",
    "$$\n",
    "\n",
    "There is a significant difference between A1 and A2? \n",
    "\n",
    "# Hypothesis\n",
    "* $H_0$ : No significant difference\n",
    "* $H_A$ : Significant difference\n",
    "\n",
    "If there is a significant difference, we reject the null hypothesis $H_0$\n",
    "\n",
    "# see also\n",
    "* wikipedia: https://en.wikipedia.org/wiki/Welch's_t-test\n",
    "* python library: https://docs.scipy.org/doc/scipy/reference/generated/scipy.stats.ttest_ind.html"
   ]
  },
  {
   "cell_type": "code",
   "execution_count": 1,
   "id": "13f6dcc8",
   "metadata": {},
   "outputs": [
    {
     "data": {
      "text/plain": [
       "Ttest_indResult(statistic=-2.2192409158236233, pvalue=0.03597227102979685)"
      ]
     },
     "execution_count": 1,
     "metadata": {},
     "output_type": "execute_result"
    }
   ],
   "source": [
    "import scipy.stats as stats\n",
    "\n",
    "a1 = [19.8, 20.4, 19.6, 17.8, 18.5, 18.9, 18.3, 18.9, 19.5, 22.0]\n",
    "a2 = [28.2, 26.6, 20.1, 23.3, 25.2, 22.1, 17.7, 27.6, 20.6, 13.7, 23.2, 17.5, 20.6, 18.0, 23.9, 21.6, 24.3, 20.4, 24.0, 13.2]\n",
    "\n",
    "\n",
    "result = stats.ttest_ind(a1, a2, equal_var=False, alternative='two-sided')\n",
    "result      "
   ]
  },
  {
   "cell_type": "markdown",
   "id": "fb09393b",
   "metadata": {},
   "source": [
    "# compute the same test statistic and pvalue using numpy\n",
    "## Biased Variance\n",
    "$$\\Large\n",
    "\\begin{eqnarray*}\n",
    "V(X_1) = \\frac{1}{N_1} \\sum_{k=1}^{N_1} (X_{1,k} - \\overline{X_1})^2\\\\\n",
    "V(X_2) = \\frac{1}{N_2} \\sum_{k=1}^{N_2} (X_{2,k} - \\overline{X_2})^2\\\\\n",
    "\\end{eqnarray*}\n",
    "$$\n",
    "\n",
    "where $\\overline{X_j}$ is sample mean \n",
    "\n",
    "## Unbiased variance\n",
    "$$\n",
    "\\Large\n",
    "\\begin{eqnarray*}\n",
    "s_1^2 = \\frac{1}{N_1-1} \\sum_{k=1}^{N_1} (X_{1,k} - \\overline{X_1})^2 = \\frac{N_1}{N_1-1} V(X_1)\\\\\n",
    "s_2^2 = \\frac{1}{N_2-1} \\sum_{k=1}^{N_2} (X_{2,k} - \\overline{X_2})^2  = \\frac{N_2}{N_2-1} V(X_2)\\\\\n",
    "\\end{eqnarray*}\n",
    "$$\n",
    "\n",
    "where $\\Large s_i$ are correct sample standard deviations.\n",
    "\n",
    "## test statistic t\n",
    "$$\\Large\n",
    "t = \\frac{\\Delta\\overline{X}}{s_{\\Delta\\bar{X}}} = \\frac{\\overline{X}_1 - \\overline{X}_2}{\\sqrt{ {s_{\\bar{X}_1}^2} + {s_{\\bar{X}_2}^2} }}\n",
    "$$\n",
    "\n",
    "\n",
    "## degree of freedom\n",
    "$$\\Large\n",
    "\\nu \\quad  \\approx \\quad\n",
    " \\frac{\\left( \\; \\frac{s_1^2}{N_1} \\; + \\; \\frac{s_2^2}{N_2} \\; \\right)^2 }\n",
    " { \\quad \\frac{s_1^4}{N_1^2 \\nu_1} \\; + \\; \\frac{s_2^4}{N_2^2 \\nu_2 } \\quad }.\n",
    " $$"
   ]
  },
  {
   "cell_type": "code",
   "execution_count": 2,
   "id": "b4e56d73",
   "metadata": {},
   "outputs": [
    {
     "data": {
      "text/plain": [
       "(19.369999999999997, 21.589999999999996)"
      ]
     },
     "execution_count": 2,
     "metadata": {},
     "output_type": "execute_result"
    }
   ],
   "source": [
    "import numpy as np\n",
    "\n",
    "a1 = np.array(a1)\n",
    "a2 = np.array(a2)\n",
    "\n",
    "mean1 = a1.mean()\n",
    "mean2 = a2.mean()\n",
    "mean1, mean2"
   ]
  },
  {
   "cell_type": "code",
   "execution_count": 3,
   "id": "7baf2477",
   "metadata": {},
   "outputs": [
    {
     "data": {
      "text/plain": [
       "(1.4489999999999996, 17.11568421052632)"
      ]
     },
     "execution_count": 3,
     "metadata": {},
     "output_type": "execute_result"
    }
   ],
   "source": [
    "n1 = len(a1)\n",
    "n2 = len(a2)\n",
    "\n",
    "# unbiased variance\n",
    "corrected_var1 = a1.var()* n1/(n1-1)\n",
    "corrected_var2 = a2.var() * n2/(n2-1)\n",
    "corrected_var1, corrected_var2"
   ]
  },
  {
   "cell_type": "code",
   "execution_count": 4,
   "id": "cec9ccdf",
   "metadata": {},
   "outputs": [],
   "source": [
    "sample_s1 = np.sqrt(corrected_var1/n1)\n",
    "sample_s2 = np.sqrt(corrected_var2/n2)"
   ]
  },
  {
   "cell_type": "code",
   "execution_count": 5,
   "id": "e82d8941",
   "metadata": {},
   "outputs": [
    {
     "data": {
      "text/plain": [
       "-2.2192409158236233"
      ]
     },
     "execution_count": 5,
     "metadata": {},
     "output_type": "execute_result"
    }
   ],
   "source": [
    "test_statistic = (mean1 - mean2)/np.sqrt(sample_s1**2 + sample_s2**2)\n",
    "test_statistic # same"
   ]
  },
  {
   "cell_type": "code",
   "execution_count": 6,
   "id": "753d7714",
   "metadata": {},
   "outputs": [
    {
     "data": {
      "text/plain": [
       "24.49622312420124"
      ]
     },
     "execution_count": 6,
     "metadata": {},
     "output_type": "execute_result"
    }
   ],
   "source": [
    "# compute degrees of freedom\n",
    "nu1 = n1 -1\n",
    "nu2 = n2 -1\n",
    "df = (sample_s1**2 + sample_s2**2)**2/((sample_s1**4)/nu1 + (sample_s2**4)/nu2 )\n",
    "df"
   ]
  },
  {
   "cell_type": "code",
   "execution_count": 7,
   "id": "996b09a9",
   "metadata": {},
   "outputs": [
    {
     "name": "stdout",
     "output_type": "stream",
     "text": [
      "p-value: 0.03597227102979672\n",
      "null hypothesis is rejected (significant difference)\n"
     ]
    }
   ],
   "source": [
    "# Calculate the p-value for a two-tailed test\n",
    "p_value = 2 * (1 - stats.t.cdf(abs(test_statistic), df))\n",
    "alpha = 0.05\n",
    "\n",
    "print(\"p-value:\", p_value)\n",
    "if p_value < alpha:\n",
    "    print(\"null hypothesis is rejected (significant difference)\")\n",
    "else:\n",
    "    print(\"null hypothesis is not rejected (not significant difference)\")"
   ]
  },
  {
   "cell_type": "markdown",
   "id": "4361fc09",
   "metadata": {},
   "source": [
    "# Plot the PDF of t-distribution and test statistic\n"
   ]
  },
  {
   "cell_type": "code",
   "execution_count": 8,
   "id": "9a04c54d",
   "metadata": {},
   "outputs": [
    {
     "data": {
      "image/png": "[encoded data removed]",
      "text/plain": [
       "<Figure size 720x432 with 1 Axes>"
      ]
     },
     "metadata": {},
     "output_type": "display_data"
    },
    {
     "name": "stdout",
     "output_type": "stream",
     "text": [
      "\n"
     ]
    }
   ],
   "source": [
    "import numpy as np\n",
    "import matplotlib.pyplot as plt\n",
    "import scipy.stats as stats\n",
    "\n",
    "# Define the degrees of freedom\n",
    "df = 24.49622312420124\n",
    "\n",
    "# Define the test statistic\n",
    "test_statistic = -2.2192409158236233\n",
    "\n",
    "# Define the significance level (alpha)\n",
    "alpha = 0.05\n",
    "\n",
    "# Generate values for the x-axis (t-values)\n",
    "x = np.linspace(-5, 5, 400)\n",
    "y = stats.t.pdf(x, df)\n",
    "\n",
    "# Create the t-distribution plot\n",
    "fig, ax = plt.subplots(figsize=(10, 6))\n",
    "ax.plot(x, y, label='t-distribution PDF', color='blue')\n",
    "\n",
    "# Plot the test statistic\n",
    "ax.axvline(x=-test_statistic, color='red', linestyle='--', label=f'-Test Statistic={test_statistic:.2f}')\n",
    "ax.axvline(x=test_statistic, color='green', linestyle='--', label=f'+Test Statistic={test_statistic:.2f}')\n",
    "\n",
    "# Highlight the rejection region\n",
    "a = abs(stats.t.ppf(alpha / 2, df))\n",
    "ax.fill_between(x, 0, y, where=(x <=-a) , color='gray', alpha=0.5, label='Rejection Region')\n",
    "ax.fill_between(x, 0, y, where=(x >=a), color='gray', alpha=0.5)\n",
    "\n",
    "# Add labels and legend\n",
    "ax.set_xlabel('t-values')\n",
    "ax.set_ylabel('Probability Density')\n",
    "ax.set_title('t-Distribution with Test Statistics and Rejection Region')\n",
    "ax.legend()\n",
    "\n",
    "# Show the plot\n",
    "ax.grid(True)\n",
    "plt.show()\n",
    "\n",
    "# result\n",
    "print()"
   ]
  },
  {
   "cell_type": "code",
   "execution_count": null,
   "id": "583fe2ca",
   "metadata": {},
   "outputs": [],
   "source": []
  }
 ],
 "metadata": {
  "kernelspec": {
   "display_name": "Python 3 (Spyder)",
   "language": "python3",
   "name": "python3"
  },
  "language_info": {
   "codemirror_mode": {
    "name": "ipython",
    "version": 3
   },
   "file_extension": ".py",
   "mimetype": "text/x-python",
   "name": "python",
   "nbconvert_exporter": "python",
   "pygments_lexer": "ipython3",
   "version": "3.10.12"
  }
 },
 "nbformat": 4,
 "nbformat_minor": 5
}
