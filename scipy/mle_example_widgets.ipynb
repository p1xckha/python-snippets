{
 "cells": [
  {
   "cell_type": "markdown",
   "id": "b8483717-74df-43ce-ac72-9c37c1a8841b",
   "metadata": {},
   "source": []
  },
  {
   "cell_type": "markdown",
   "id": "85b95c22-e2dc-40bb-ae87-d83828b595d3",
   "metadata": {},
   "source": [
    "# Maximum Likelihood Estimation\n",
    "\n",
    "[Maximum likelihood estimation - Wikipedia](https://en.wikipedia.org/wiki/Maximum_likelihood_estimation)\n"
   ]
  },
  {
   "cell_type": "markdown",
   "id": "238ad5d7-ae89-499a-aa07-316ecde299f3",
   "metadata": {},
   "source": [
    "## MLE Example: 1D Normal\n",
    "\n",
    "$$\n",
    "\\begin{aligned}\n",
    "\\hat{\\mu} & = \\frac{1}{n}\\sum_{i=1}^n X_i \\\\\n",
    "\\hat{\\sigma^2} & = \\frac{1}{n}\\sum_{i=1}^n (X_i - \\hat{\\mu})^2 \\\\\n",
    "\\end{aligned}\n",
    "$$"
   ]
  },
  {
   "cell_type": "code",
   "execution_count": 21,
   "id": "adffa728-77ae-4d2f-a400-08765ef61a5b",
   "metadata": {},
   "outputs": [
    {
     "data": {
      "application/vnd.jupyter.widget-view+json": {
       "model_id": "8219e65419964d5cb8fda01f0870dfb0",
       "version_major": 2,
       "version_minor": 0
      },
      "text/plain": [
       "Button(description='Reset to N(0,1)', layout=Layout(width='400px'), style=ButtonStyle())"
      ]
     },
     "metadata": {},
     "output_type": "display_data"
    },
    {
     "data": {
      "application/vnd.jupyter.widget-view+json": {
       "model_id": "37985a5de9ef4e3fbbd5fb1dd3910a4b",
       "version_major": 2,
       "version_minor": 0
      },
      "text/plain": [
       "interactive(children=(FloatSlider(value=0.0, description='True μ', layout=Layout(width='600px'), max=10.0, min…"
      ]
     },
     "execution_count": 21,
     "metadata": {},
     "output_type": "execute_result"
    }
   ],
   "source": [
    "import numpy as np\n",
    "import scipy.stats as stats\n",
    "import matplotlib.pyplot as plt\n",
    "import ipywidgets as widgets\n",
    "from IPython.display import display\n",
    "\n",
    "def update_plot(true_mu, true_sigma, n):\n",
    "    # Generate random normal variables\n",
    "    random_data = np.random.normal(loc=true_mu, scale=true_sigma, size=n)\n",
    "\n",
    "    # MLE\n",
    "    mu = np.mean(random_data)\n",
    "    var = np.mean((random_data - mu) ** 2)\n",
    "    sigma = np.sqrt(var)\n",
    "\n",
    "    # Create figure\n",
    "    fig, ax = plt.subplots(figsize=(8, 6))\n",
    "    \n",
    "    # Plot PDF based on MLE for (mu, sigma)\n",
    "    x_min = mu - sigma * 3\n",
    "    x_max = mu + sigma * 3\n",
    "    x = np.linspace(x_min, x_max, 1000)\n",
    "    pdf = stats.norm.pdf(x, loc=mu, scale=sigma)\n",
    "    ax.plot(x, pdf, label=f\"MLE=N({mu:.2f},{sigma**2:.2f})\", color=\"red\")\n",
    "\n",
    "    # Plot samples of normal\n",
    "    ax.hist(random_data, bins=30, alpha=0.7, color='blue', density=True)\n",
    "    ax.set_title(f\"Histogram of Samples of N({true_mu:.2f},{true_sigma**2:.2f})\")\n",
    "    ax.set_xlabel(\"Value\")\n",
    "    ax.set_ylabel(\"Density\")\n",
    "    ax.grid(True)\n",
    "    ax.legend()\n",
    "    plt.show()\n",
    "\n",
    "def reset_parameters(button):\n",
    "    # Reset sliders to N(0,1)\n",
    "    mu_slider.value = 0.0\n",
    "    sigma_slider.value = 1.0\n",
    "    n_slider.value = 500\n",
    "    update_plot(mu_slider.value, sigma_slider.value, n_slider.value)  # Update plot after resetting\n",
    "\n",
    "# Create sliders for true_mu, true_sigma, and num_samples\n",
    "mu_slider = widgets.FloatSlider(value=0.0, min=-10.0, max=10.0, step=0.1, description='True μ', layout=widgets.Layout(width='600px'))\n",
    "sigma_slider = widgets.FloatSlider(value=1.0, min=0.1, max=5.0, step=0.1, description='True σ', layout=widgets.Layout(width='600px'))\n",
    "n_slider = widgets.IntSlider(value=500, min=10, max=1000, step=10, description='n', layout=widgets.Layout(width='600px'))\n",
    "\n",
    "# Create a reset button\n",
    "reset_button = widgets.Button(description=\"Reset to N(0,1)\", layout=widgets.Layout(width='400px'))\n",
    "reset_button.on_click(reset_parameters)\n",
    "\n",
    "# Display the widgets\n",
    "display(reset_button)\n",
    "widgets.interactive(update_plot, n=n_slider, true_mu=mu_slider, true_sigma=sigma_slider)\n"
   ]
  },
  {
   "cell_type": "code",
   "execution_count": null,
   "id": "1367ee39-c89e-42fd-bb74-0b2b397e6654",
   "metadata": {},
   "outputs": [],
   "source": []
  },
  {
   "cell_type": "code",
   "execution_count": null,
   "id": "a7f4271f-908a-4068-830d-7683ed7999bd",
   "metadata": {},
   "outputs": [],
   "source": []
  },
  {
   "cell_type": "markdown",
   "id": "327ad30e-2528-4481-8554-60ff7763a8e3",
   "metadata": {},
   "source": [
    "### MLE example: Exponential Random Variables\n",
    "\n",
    "$$\n",
    "\\hat{\\lambda} = \\frac{1}{\\bar{X_n}}\n",
    "$$"
   ]
  },
  {
   "cell_type": "code",
   "execution_count": 45,
   "id": "6ab378d1-0a26-4ef7-a67c-2dbdff4a1f50",
   "metadata": {},
   "outputs": [
    {
     "data": {
      "application/vnd.jupyter.widget-view+json": {
       "model_id": "9dfd943b2f734776b660c9fe6add327b",
       "version_major": 2,
       "version_minor": 0
      },
      "text/plain": [
       "Button(description='Reset to Exp(lambda=1)', layout=Layout(width='500px'), style=ButtonStyle())"
      ]
     },
     "metadata": {},
     "output_type": "display_data"
    },
    {
     "data": {
      "application/vnd.jupyter.widget-view+json": {
       "model_id": "2bec6bc9b79443c18a62658f0520fccb",
       "version_major": 2,
       "version_minor": 0
      },
      "text/plain": [
       "interactive(children=(FloatSlider(value=1.0, description='Lambda:', layout=Layout(width='600px'), max=10.0, mi…"
      ]
     },
     "execution_count": 45,
     "metadata": {},
     "output_type": "execute_result"
    }
   ],
   "source": [
    "import numpy as np\n",
    "import scipy.stats as stats\n",
    "import matplotlib.pyplot as plt\n",
    "import ipywidgets as widgets\n",
    "from IPython.display import display\n",
    "\n",
    "def update_plot(true_lambda, n):\n",
    "    # Generate random exponential variables\n",
    "    true_scale = 1.0 / true_lambda\n",
    "    random_data = np.random.exponential(scale=true_scale, size=n) # np's exp has no location param\n",
    "\n",
    "    # MLE\n",
    "    scale = np.mean(random_data)\n",
    "    lam = 1 / scale\n",
    "\n",
    "    # Create figure\n",
    "    fig, ax = plt.subplots()\n",
    "        \n",
    "    # Plot PDF based on MLE for lambda\n",
    "    xmax = max(random_data)\n",
    "    x = np.linspace(0, xmax + 5, 1000)\n",
    "    pdf = stats.expon.pdf(x, scale=scale)  \n",
    "    ax.plot(x, pdf, label=f\"Exp({lam:.2f})\", color=\"red\")\n",
    "\n",
    "    # Plot samples of exponential\n",
    "    ax.hist(random_data, bins=30, alpha=0.7, color='blue', density=True)\n",
    "    ax.set_title(f\"Histogram of Samples of Exp({true_lambda:.2f})\")\n",
    "    ax.set_xlabel(\"Value\")\n",
    "    ax.set_ylabel(\"Frequency\")\n",
    "    ax.grid(True)\n",
    "    ax.legend()\n",
    "    plt.show()\n",
    "\n",
    "# function for resetbutton\n",
    "def reset_parameters(button):\n",
    "    # Reset sliders to Exponential(1)\n",
    "    lambda_slider.value = 1.000\n",
    "    n_slider.value = 100\n",
    "    update_plot(lambda_slider.value, n_slider.value)  # Update plot after resetting\n",
    "    \n",
    "# Create a reset button\n",
    "reset_button = widgets.Button(description=\"Reset to Exp(lambda=1)\", layout=widgets.Layout(width=\"500px\"))\n",
    "reset_button.on_click(reset_parameters)\n",
    "\n",
    "# Create sliders\n",
    "lambda_slider = widgets.FloatSlider(value=1.000, min=0.01, max=10.0, step=0.1, description='Lambda:', layout=widgets.Layout(width=\"600px\"))\n",
    "n_slider = widgets.IntSlider(value=100, min=1, max=1000.0, step=1, description='Samples: ', layout=widgets.Layout(width=\"600px\"))\n",
    "\n",
    "# Display\n",
    "display(reset_button)\n",
    "widgets.interactive(update_plot, true_lambda=lambda_slider, n=n_slider)"
   ]
  },
  {
   "cell_type": "code",
   "execution_count": null,
   "id": "dc247af2-4b7a-4a23-b557-738ffaa62e1c",
   "metadata": {},
   "outputs": [],
   "source": []
  },
  {
   "cell_type": "code",
   "execution_count": null,
   "id": "9141ca84-3b01-4a8b-a11f-de13d866e337",
   "metadata": {},
   "outputs": [],
   "source": []
  },
  {
   "cell_type": "code",
   "execution_count": null,
   "id": "f4ef988b-e395-4f68-97b3-7e52a5c32893",
   "metadata": {},
   "outputs": [],
   "source": []
  },
  {
   "cell_type": "markdown",
   "id": "c04ad230-219b-40d5-9acc-7fc9d85a687b",
   "metadata": {},
   "source": [
    "## X ~ Unif(0,theta)\n",
    "\n",
    "$$\n",
    "\\hat{\\theta}^\\text{MLE}_n = \\max_{i=1,\\cdots,n} X_i\n",
    "$$"
   ]
  },
  {
   "cell_type": "code",
   "execution_count": 55,
   "id": "699b8a73-8232-4b88-8a45-e45aadabf46a",
   "metadata": {},
   "outputs": [
    {
     "data": {
      "application/vnd.jupyter.widget-view+json": {
       "model_id": "8acd3720680c42e79c7b8398c4eea1c1",
       "version_major": 2,
       "version_minor": 0
      },
      "text/plain": [
       "Button(description='Reset to Unif(0,5)', layout=Layout(width='500px'), style=ButtonStyle())"
      ]
     },
     "metadata": {},
     "output_type": "display_data"
    },
    {
     "data": {
      "application/vnd.jupyter.widget-view+json": {
       "model_id": "7986f05888924862aa6913aec8d42e4a",
       "version_major": 2,
       "version_minor": 0
      },
      "text/plain": [
       "interactive(children=(IntSlider(value=5, description='Samples:', layout=Layout(width='600px'), min=1), FloatSl…"
      ]
     },
     "execution_count": 55,
     "metadata": {},
     "output_type": "execute_result"
    }
   ],
   "source": [
    "import numpy as np\n",
    "import matplotlib.pyplot as plt\n",
    "import ipywidgets as widgets\n",
    "from IPython.display import display\n",
    "\n",
    "# Define the PDF of X ~ Uniform[0, theta]\n",
    "def uniform_pdf(x, theta):\n",
    "    return 1 / theta if 0 <= x <= theta else 0\n",
    "\n",
    "# Define likelihood\n",
    "def likelihood(n, theta, X_samples):\n",
    "    return (1/theta)**n if (theta > np.max(X_samples) and theta > 0) else 0\n",
    "\n",
    "# Function to update the plot based on n and theta\n",
    "def update_plot(n, theta):\n",
    "    # Generate samples of X ~ Unif(0, theta)\n",
    "    X_samples = np.random.uniform(0, theta, n)\n",
    "\n",
    "    # Create pdf values\n",
    "    x_values = np.linspace(-0.05*theta, theta*1.05, 1000)\n",
    "    pdf_values = [uniform_pdf(x, theta) for x in x_values]\n",
    "\n",
    "    # Create likelihood values\n",
    "    t = np.linspace(np.max(X_samples), 2*theta, 1000)\n",
    "    likelihood_values = [likelihood(len(X_samples), v, X_samples) for v in t]\n",
    "\n",
    "    # Create a figure and axis\n",
    "    fig, ax1 = plt.subplots(figsize=(8, 6))\n",
    "\n",
    "    # Plot on the left (linear y-axis)\n",
    "    ax1.plot(x_values, pdf_values, color=\"blue\", label=\"Unif$(0,\\\\theta)$\", linewidth=2)\n",
    "    ax1.scatter(X_samples, [0 for _ in X_samples], color='red', zorder=5, label='Samples of X')\n",
    "    ax1.set_xlabel(\"x\")\n",
    "    ax1.set_ylabel(\"f(x) (Linear scale)\", color=\"blue\")\n",
    "    ax1.grid(True)\n",
    "    ax1.tick_params(axis='y', labelcolor=\"blue\")\n",
    "    ax1.legend(loc=\"upper left\")\n",
    "\n",
    "    # Create a second y-axis with a log scale\n",
    "    ax2 = ax1.twinx()  \n",
    "    ax2.plot(t, likelihood_values, label=f\"Likelihood $L(\\\\theta)$\", color=\"green\", linewidth=2)\n",
    "    ax2.set_ylabel(\"$L(\\\\theta)$ (Log scale)\", color=\"green\")\n",
    "    ax2.set_yscale(\"log\")\n",
    "    ax2.tick_params(axis='y', labelcolor=\"green\")\n",
    "    ax2.legend(loc=\"upper right\")\n",
    "\n",
    "    # Title\n",
    "    plt.title(f\"PDF of X ~ Uniform[0, {theta:.2f}] with n={n}\")\n",
    "    fig.tight_layout()\n",
    "    plt.show()\n",
    "\n",
    "def reset_parameters(button):\n",
    "    n_slider.value = 5\n",
    "    theta_slider.value = 5.0\n",
    "    update_plot(n_slider.value, theta_slider.value)\n",
    "    pass\n",
    "\n",
    "# Create interactive sliders for n and theta\n",
    "n_slider = widgets.IntSlider(value=5, min=1, max=100, step=1, description='Samples:', layout=widgets.Layout(width=\"600px\"))\n",
    "theta_slider = widgets.FloatSlider(value=5.0, min=1.0, max=10.0, step=0.1, description='Theta (θ):', layout=widgets.Layout(width=\"600px\"))\n",
    "\n",
    "# Create reset button\n",
    "reset_button = widgets.Button(description=\"Reset to Unif(0,5)\", layout=widgets.Layout(width=\"500px\"))\n",
    "reset_button.on_click(reset_parameters)\n",
    "display(reset_button)\n",
    "\n",
    "# Use interact to link sliders to the update_plot function\n",
    "widgets.interactive(update_plot, n=n_slider, theta=theta_slider)\n"
   ]
  },
  {
   "cell_type": "code",
   "execution_count": null,
   "id": "377665e3-ad1e-4617-9e05-82cd59e7f007",
   "metadata": {},
   "outputs": [],
   "source": []
  },
  {
   "cell_type": "code",
   "execution_count": null,
   "id": "10e00c8d-991b-4b62-92ec-8723b6106f02",
   "metadata": {},
   "outputs": [],
   "source": []
  }
 ],
 "metadata": {
  "kernelspec": {
   "display_name": "Python 3 (Spyder)",
   "language": "python3",
   "name": "python3"
  },
  "language_info": {
   "codemirror_mode": {
    "name": "ipython",
    "version": 3
   },
   "file_extension": ".py",
   "mimetype": "text/x-python",
   "name": "python",
   "nbconvert_exporter": "python",
   "pygments_lexer": "ipython3",
   "version": "3.12.3"
  }
 },
 "nbformat": 4,
 "nbformat_minor": 5
}
