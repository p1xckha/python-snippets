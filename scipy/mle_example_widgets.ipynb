{
 "cells": [
  {
   "cell_type": "markdown",
   "id": "b8483717-74df-43ce-ac72-9c37c1a8841b",
   "metadata": {},
   "source": []
  },
  {
   "cell_type": "markdown",
   "id": "85b95c22-e2dc-40bb-ae87-d83828b595d3",
   "metadata": {},
   "source": [
    "# Maximum Likelihood Estimation\n",
    "\n",
    "[Maximum likelihood estimation - Wikipedia](https://en.wikipedia.org/wiki/Maximum_likelihood_estimation)\n"
   ]
  },
  {
   "cell_type": "markdown",
   "id": "238ad5d7-ae89-499a-aa07-316ecde299f3",
   "metadata": {},
   "source": [
    "## MLE Example: 1D Normal\n",
    "\n",
    "$$\n",
    "\\begin{aligned}\n",
    "\\hat{\\mu} & = \\frac{1}{n}\\sum_{i=1}^n X_i \\\\\n",
    "\\hat{\\sigma^2} & = \\frac{1}{n}\\sum_{i=1}^n (X_i - \\hat{\\mu})^2 \\\\\n",
    "\\end{aligned}\n",
    "$$"
   ]
  },
  {
   "cell_type": "code",
   "execution_count": 4,
   "id": "7c4455f7-cd62-4b1d-80c0-985e50ff9cae",
   "metadata": {},
   "outputs": [
    {
     "data": {
      "application/vnd.jupyter.widget-view+json": {
       "model_id": "6bfb45142953439ba5032e247e8a0c8f",
       "version_major": 2,
       "version_minor": 0
      },
      "text/plain": [
       "Button(description='Click Here to Generate Random Normals', layout=Layout(width='400px'), style=ButtonStyle())"
      ]
     },
     "metadata": {},
     "output_type": "display_data"
    },
    {
     "data": {
      "application/vnd.jupyter.widget-view+json": {
       "model_id": "a1c4b47ba7e7496f95ff7a55cf272e38",
       "version_major": 2,
       "version_minor": 0
      },
      "text/plain": [
       "Output()"
      ]
     },
     "metadata": {},
     "output_type": "display_data"
    }
   ],
   "source": [
    "import numpy as np\n",
    "import scipy.stats as stats\n",
    "from scipy.stats import norm\n",
    "import matplotlib.pyplot as plt\n",
    "import ipywidgets as widgets\n",
    "from IPython.display import display\n",
    "\n",
    "\n",
    "def generate_random_normals(b):\n",
    "    # Generate random normal variables\n",
    "    true_mu= 0\n",
    "    true_sigma = 1\n",
    "    random_data = np.random.normal(loc=true_mu, scale=true_sigma, size=500)\n",
    "\n",
    "    # MLE\n",
    "    mu = np.mean(random_data)\n",
    "    var = np.mean( (random_data - mu) ** 2 )\n",
    "    sigma = np.sqrt( var )\n",
    "\n",
    "    # Plot the histogram of the random normal variables\n",
    "    with output:\n",
    "        output.clear_output()\n",
    "\n",
    "        # create figure\n",
    "        plt.figure(figsize=(6, 4))\n",
    "        \n",
    "        # Plot PDf based on MLE for (mu, sigma)\n",
    "        x_min = mu - sigma * 3\n",
    "        x_max = mu + sigma * 3\n",
    "        x = np.linspace(x_min, x_max, 1000)\n",
    "        pdf = stats.norm.pdf(x, loc=mu, scale=sigma)\n",
    "        plt.plot(x, pdf, label=f\"MLE=N({mu:.2f},{sigma**2:.2f})\", color=\"red\")\n",
    "\n",
    "        # plot samples of normal\n",
    "        plt.hist(random_data, bins=30, alpha=0.7, color='blue', density=True)\n",
    "        plt.title(f\"Histogram of Samples of N({true_mu:.2f},{true_sigma:.2f})\")\n",
    "        plt.xlabel(\"Value\")\n",
    "        plt.ylabel(\"Frequency\")\n",
    "        plt.grid(True)\n",
    "        plt.legend()\n",
    "        plt.show()\n",
    "        \n",
    "button = widgets.Button(description=\"Click Here to Generate Random Normals\", layout=widgets.Layout(width='400px'))\n",
    "output = widgets.Output()\n",
    "\n",
    "button.on_click(generate_random_normals)\n",
    "display(button, output)\n"
   ]
  },
  {
   "cell_type": "code",
   "execution_count": null,
   "id": "8c375151-a54b-4edd-8cab-c8b899573854",
   "metadata": {},
   "outputs": [],
   "source": []
  },
  {
   "cell_type": "markdown",
   "id": "327ad30e-2528-4481-8554-60ff7763a8e3",
   "metadata": {},
   "source": [
    "### MLE example: Exponential Random Variables\n",
    "\n",
    "$$\n",
    "\\hat{\\lambda} = \\frac{1}{\\bar{X_n}}\n",
    "$$"
   ]
  },
  {
   "cell_type": "code",
   "execution_count": 7,
   "id": "6ab378d1-0a26-4ef7-a67c-2dbdff4a1f50",
   "metadata": {},
   "outputs": [
    {
     "data": {
      "application/vnd.jupyter.widget-view+json": {
       "model_id": "4b77f89c2192490788591fcacf9d77f4",
       "version_major": 2,
       "version_minor": 0
      },
      "text/plain": [
       "Button(description='Click Here to Generate Random Exponential', layout=Layout(width='500px'), style=ButtonStyl…"
      ]
     },
     "metadata": {},
     "output_type": "display_data"
    },
    {
     "data": {
      "application/vnd.jupyter.widget-view+json": {
       "model_id": "ed65dc2440244140a81fbbb3acd14913",
       "version_major": 2,
       "version_minor": 0
      },
      "text/plain": [
       "Output()"
      ]
     },
     "metadata": {},
     "output_type": "display_data"
    }
   ],
   "source": [
    "import numpy as np\n",
    "import scipy.stats as stats\n",
    "import matplotlib.pyplot as plt\n",
    "import ipywidgets as widgets\n",
    "from IPython.display import display\n",
    "\n",
    "def generate_random_exponentials(b):\n",
    "    # Generate random exponential variables\n",
    "    true_lambda = 2\n",
    "    true_scale = 1 / true_lambda\n",
    "    random_data = np.random.exponential(scale=true_scale, size=500) # np's exp has no location param\n",
    "\n",
    "    # MLE\n",
    "    scale = np.mean(random_data)\n",
    "    lam = 1 / scale\n",
    "\n",
    "    # Plot the histogram and pdf basedon MLE\n",
    "    with output:\n",
    "        output.clear_output()\n",
    "\n",
    "        # Create figure\n",
    "        plt.figure(figsize=(6, 4))\n",
    "        \n",
    "        # Plot PDF based on MLE for lambda\n",
    "        xmax = max(random_data)\n",
    "        x = np.linspace(0, xmax + 5, 1000)\n",
    "        pdf = stats.expon.pdf(x, scale=scale)  \n",
    "        plt.plot(x, pdf, label=f\"Exp({lam:.2f})\", color=\"red\")\n",
    "\n",
    "        # Plot samples of exponential\n",
    "        plt.hist(random_data, bins=30, alpha=0.7, color='blue', density=True)\n",
    "        plt.title(f\"Histogram of Samples of Exp({true_lambda:.2f})\")\n",
    "        plt.xlabel(\"Value\")\n",
    "        plt.ylabel(\"Frequency\")\n",
    "        plt.grid(True)\n",
    "        plt.legend()\n",
    "        plt.show()\n",
    "\n",
    "button = widgets.Button(description=\"Click Here to Generate Random Exponential\", layout=widgets.Layout(width=\"500px\"))\n",
    "output = widgets.Output()\n",
    "\n",
    "button.on_click(generate_random_exponentials)\n",
    "display(button, output)\n"
   ]
  },
  {
   "cell_type": "code",
   "execution_count": null,
   "id": "dc247af2-4b7a-4a23-b557-738ffaa62e1c",
   "metadata": {},
   "outputs": [],
   "source": []
  },
  {
   "cell_type": "code",
   "execution_count": null,
   "id": "9141ca84-3b01-4a8b-a11f-de13d866e337",
   "metadata": {},
   "outputs": [],
   "source": []
  },
  {
   "cell_type": "code",
   "execution_count": null,
   "id": "699b8a73-8232-4b88-8a45-e45aadabf46a",
   "metadata": {},
   "outputs": [],
   "source": []
  },
  {
   "cell_type": "code",
   "execution_count": null,
   "id": "377665e3-ad1e-4617-9e05-82cd59e7f007",
   "metadata": {},
   "outputs": [],
   "source": []
  },
  {
   "cell_type": "code",
   "execution_count": null,
   "id": "10e00c8d-991b-4b62-92ec-8723b6106f02",
   "metadata": {},
   "outputs": [],
   "source": []
  }
 ],
 "metadata": {
  "kernelspec": {
   "display_name": "Python 3 (Spyder)",
   "language": "python3",
   "name": "python3"
  },
  "language_info": {
   "codemirror_mode": {
    "name": "ipython",
    "version": 3
   },
   "file_extension": ".py",
   "mimetype": "text/x-python",
   "name": "python",
   "nbconvert_exporter": "python",
   "pygments_lexer": "ipython3",
   "version": "3.12.3"
  }
 },
 "nbformat": 4,
 "nbformat_minor": 5
}
