{
 "cells": [
  {
   "cell_type": "code",
   "execution_count": 1,
   "id": "6b10b3da",
   "metadata": {},
   "outputs": [],
   "source": [
    "##########################################################\n",
    "# gym.Wrapper example\n",
    "##########################################################\n",
    "\n",
    "# https://www.gymlibrary.dev/api/wrappers/"
   ]
  },
  {
   "cell_type": "code",
   "execution_count": 2,
   "id": "e494905a",
   "metadata": {},
   "outputs": [
    {
     "data": {
      "text/plain": [
       "<Mother<Encouragement<TimeLimit<OrderEnforcing<PassiveEnvChecker<FrozenLakeEnv<FrozenLake-v1>>>>>>>"
      ]
     },
     "execution_count": 2,
     "metadata": {},
     "output_type": "execute_result"
    }
   ],
   "source": [
    "import gym\n",
    "\n",
    "class Encouragement(gym.Wrapper):\n",
    "    def __init__(self, env):\n",
    "        super(Encouragement, self).__init__(env)\n",
    "\n",
    "    def step(self, action):\n",
    "        observation, reward, terminated, truncated, info = self.env.step(action)\n",
    "        info['msg'] = 'Take it easy' # dict\n",
    "        return observation, reward, terminated, truncated, info \n",
    "    \n",
    "    def reset(self):\n",
    "        observation, info = self.env.reset()\n",
    "        info['msg'] = 'Good luck!' # dict\n",
    "        return observation, info \n",
    "\n",
    "    \n",
    "class Mother(gym.Wrapper):\n",
    "    def __init__(self, env):\n",
    "        super(Mother, self).__init__(env)\n",
    "\n",
    "    def step(self, action):\n",
    "        observation, reward, terminated, truncated, info = self.env.step(action) # received from Encouragement class step()\n",
    "        info['msg'] = 'Have you finished your homework yet?' # dict\n",
    "        return observation, reward, terminated, truncated, info \n",
    "    \n",
    "    def reset(self):\n",
    "        observation, info = self.env.reset() # received from Encouragement class reset()\n",
    "        return observation, info\n",
    "\n",
    "# combine two Wrappers\n",
    "ENV_NAME = 'FrozenLake-v1'\n",
    "env = gym.make(ENV_NAME)\n",
    "env = Encouragement(env)\n",
    "env = Mother(env)\n",
    "env"
   ]
  },
  {
   "cell_type": "code",
   "execution_count": 3,
   "id": "c5581b35",
   "metadata": {},
   "outputs": [
    {
     "data": {
      "text/plain": [
       "(0, {'prob': 1, 'msg': 'good luck!'})"
      ]
     },
     "execution_count": 3,
     "metadata": {},
     "output_type": "execute_result"
    }
   ],
   "source": [
    "obs, info = env.reset()\n",
    "obs, info"
   ]
  },
  {
   "cell_type": "code",
   "execution_count": 4,
   "id": "cee09959",
   "metadata": {},
   "outputs": [
    {
     "data": {
      "text/plain": [
       "(4,\n",
       " 0.0,\n",
       " False,\n",
       " False,\n",
       " {'prob': 0.3333333333333333, 'msg': 'have you finished homeworks yet?'})"
      ]
     },
     "execution_count": 4,
     "metadata": {},
     "output_type": "execute_result"
    }
   ],
   "source": [
    "action = env.action_space.sample()\n",
    "observation, reward, terminated, truncated, info = env.step(action)\n",
    "observation, reward, terminated, truncated, info"
   ]
  },
  {
   "cell_type": "code",
   "execution_count": null,
   "id": "889b97cf",
   "metadata": {},
   "outputs": [],
   "source": []
  }
 ],
 "metadata": {
  "kernelspec": {
   "display_name": "Python 3 (Spyder)",
   "language": "python3",
   "name": "python3"
  },
  "language_info": {
   "codemirror_mode": {
    "name": "ipython",
    "version": 3
   },
   "file_extension": ".py",
   "mimetype": "text/x-python",
   "name": "python",
   "nbconvert_exporter": "python",
   "pygments_lexer": "ipython3",
   "version": "3.10.9"
  }
 },
 "nbformat": 4,
 "nbformat_minor": 5
}
