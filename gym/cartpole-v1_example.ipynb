{
 "cells": [
  {
   "cell_type": "code",
   "execution_count": 1,
   "id": "bfdeb331",
   "metadata": {},
   "outputs": [],
   "source": [
    "import gym\n",
    "import numpy as np\n",
    "import matplotlib.pyplot as plt\n",
    "from matplotlib.animation import FuncAnimation\n",
    "from IPython.display import HTML"
   ]
  },
  {
   "cell_type": "code",
   "execution_count": 2,
   "id": "5e0d1cc3",
   "metadata": {},
   "outputs": [
    {
     "data": {
      "text/plain": [
       "<TimeLimit<OrderEnforcing<PassiveEnvChecker<CartPoleEnv<CartPole-v1>>>>>"
      ]
     },
     "execution_count": 2,
     "metadata": {},
     "output_type": "execute_result"
    }
   ],
   "source": [
    "######################################################################\n",
    "# CartPole ( https://www.gymlibrary.dev/environments/classic_control/cart_pole/ )\n",
    "#=====================================================================\n",
    "env = gym.make(\"CartPole-v1\", render_mode=\"rgb_array\")\n",
    "env.reset()\n",
    "env"
   ]
  },
  {
   "cell_type": "code",
   "execution_count": 3,
   "id": "4c481224",
   "metadata": {},
   "outputs": [
    {
     "data": {
      "text/plain": [
       "Box([-4.8000002e+00 -3.4028235e+38 -4.1887903e-01 -3.4028235e+38], [4.8000002e+00 3.4028235e+38 4.1887903e-01 3.4028235e+38], (4,), float32)"
      ]
     },
     "execution_count": 3,
     "metadata": {},
     "output_type": "execute_result"
    }
   ],
   "source": [
    "# minimum and maximum of [CartPosition, CartVelocity, PoleAngle, PoleAngularVelocity]\n",
    "env.observation_space "
   ]
  },
  {
   "cell_type": "code",
   "execution_count": 4,
   "id": "aee404a4",
   "metadata": {},
   "outputs": [
    {
     "data": {
      "text/plain": [
       "Discrete(2)"
      ]
     },
     "execution_count": 4,
     "metadata": {},
     "output_type": "execute_result"
    }
   ],
   "source": [
    "env.action_space # 0 or 1"
   ]
  },
  {
   "cell_type": "code",
   "execution_count": 5,
   "id": "2151698e",
   "metadata": {},
   "outputs": [
    {
     "data": {
      "text/plain": [
       "0"
      ]
     },
     "execution_count": 5,
     "metadata": {},
     "output_type": "execute_result"
    }
   ],
   "source": [
    "env.action_space.sample() # random action"
   ]
  },
  {
   "cell_type": "code",
   "execution_count": 6,
   "id": "49ccb1cc",
   "metadata": {},
   "outputs": [
    {
     "data": {
      "text/plain": [
       "(array([-0.01698034, -0.17824923,  0.0443409 ,  0.3210704 ], dtype=float32),\n",
       " 1.0,\n",
       " False,\n",
       " False,\n",
       " {})"
      ]
     },
     "execution_count": 6,
     "metadata": {},
     "output_type": "execute_result"
    }
   ],
   "source": [
    "# take a random action\n",
    "observation, reward, terminated, truncated, info = env.step(env.action_space.sample())\n",
    "observation, reward, terminated, truncated, info"
   ]
  },
  {
   "cell_type": "code",
   "execution_count": 7,
   "id": "8833005e",
   "metadata": {},
   "outputs": [
    {
     "data": {
      "text/plain": [
       "(400, 600, 3)"
      ]
     },
     "execution_count": 7,
     "metadata": {},
     "output_type": "execute_result"
    }
   ],
   "source": [
    "env_screen = env.render() # numpy.ndarray\n",
    "env_screen.shape"
   ]
  },
  {
   "cell_type": "code",
   "execution_count": null,
   "id": "1d821ecd",
   "metadata": {},
   "outputs": [],
   "source": [
    "env_screen"
   ]
  },
  {
   "cell_type": "code",
   "execution_count": null,
   "id": "588dc0a0",
   "metadata": {},
   "outputs": [],
   "source": [
    "import gym\n",
    "import numpy as np\n",
    "\n",
    "\n",
    "# iteration\n",
    "env = gym.make(\"CartPole-v1\", render_mode=\"rgb_array\")\n",
    "env.reset()\n",
    "\n",
    "total_reward = 0\n",
    "terminated = False\n",
    "MAX_ITERATION = 100\n",
    "env_screens = []\n",
    "i = 0\n",
    "while not terminated and i < MAX_ITERATION:\n",
    "    observation, reward, terminated, truncated, info = env.step(env.action_space.sample())\n",
    "    env_screen = env.render() # numpy.ndarray\n",
    "    env_screens.append(env_screen)\n",
    "    total_reward += reward\n",
    "    i += 1\n",
    "\n",
    "env.close()\n",
    "total_reward"
   ]
  },
  {
   "cell_type": "code",
   "execution_count": null,
   "id": "ffed8884",
   "metadata": {},
   "outputs": [],
   "source": [
    "import matplotlib.pyplot as plt\n",
    "from matplotlib.animation import FuncAnimation\n",
    "from IPython.display import HTML\n",
    "\n",
    "####################################################\n",
    "# create an animation\n",
    "#===================================================\n",
    "\n",
    "fig, ax = plt.subplots()\n",
    "im = ax.imshow(env_screens[0])\n",
    "\n",
    "def update(i):\n",
    "    im.set_data(env_screens[i])\n",
    "    return (im)\n",
    "\n",
    "animation = FuncAnimation(fig=fig, func=update, frames=len(env_screens), interval=100)\n",
    "#plt.show()\n",
    "\n",
    "# display the animation in the notebook\n",
    "HTML(animation.to_jshtml())"
   ]
  },
  {
   "cell_type": "code",
   "execution_count": null,
   "id": "2cb43cf7",
   "metadata": {},
   "outputs": [],
   "source": []
  }
 ],
 "metadata": {
  "kernelspec": {
   "display_name": "Python 3 (Spyder)",
   "language": "python3",
   "name": "python3"
  },
  "language_info": {
   "codemirror_mode": {
    "name": "ipython",
    "version": 3
   },
   "file_extension": ".py",
   "mimetype": "text/x-python",
   "name": "python",
   "nbconvert_exporter": "python",
   "pygments_lexer": "ipython3",
   "version": "3.10.9"
  }
 },
 "nbformat": 4,
 "nbformat_minor": 5
}
