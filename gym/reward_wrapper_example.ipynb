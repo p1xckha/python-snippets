{
 "cells": [
  {
   "cell_type": "code",
   "execution_count": 1,
   "id": "0f27f569",
   "metadata": {},
   "outputs": [],
   "source": [
    "#####################################################\n",
    "# gym.RewardWrapper example\n",
    "#####################################################\n",
    "\n",
    "# https://www.gymlibrary.dev/api/wrappers/"
   ]
  },
  {
   "cell_type": "code",
   "execution_count": 2,
   "id": "95762a63",
   "metadata": {},
   "outputs": [
    {
     "data": {
      "text/plain": [
       "<TimeLimit<OrderEnforcing<PassiveEnvChecker<CartPoleEnv<CartPole-v1>>>>>"
      ]
     },
     "execution_count": 2,
     "metadata": {},
     "output_type": "execute_result"
    }
   ],
   "source": [
    "####################################################\n",
    "# Play CartPole-v1 with a reward of 10,000 \n",
    "#=================================================\n",
    "\n",
    "import gym\n",
    "import numpy as np\n",
    "import matplotlib.pyplot as plt\n",
    "\n",
    "ENV_NAME = \"CartPole-v1\"\n",
    "\n",
    "class RewardIncreased(gym.RewardWrapper):\n",
    "    def __init__(self, env):\n",
    "        super().__init__(env)\n",
    "    \n",
    "    def reward(self, reward):\n",
    "        return 10000 * reward\n",
    "\n",
    "env = gym.make(ENV_NAME)\n",
    "env"
   ]
  },
  {
   "cell_type": "code",
   "execution_count": 3,
   "id": "1f22598c",
   "metadata": {},
   "outputs": [
    {
     "data": {
      "text/plain": [
       "<RewardIncreased<TimeLimit<OrderEnforcing<PassiveEnvChecker<CartPoleEnv<CartPole-v1>>>>>>"
      ]
     },
     "execution_count": 3,
     "metadata": {},
     "output_type": "execute_result"
    }
   ],
   "source": [
    "env = RewardIncreased(env)\n",
    "env"
   ]
  },
  {
   "cell_type": "code",
   "execution_count": 4,
   "id": "352f3888",
   "metadata": {},
   "outputs": [
    {
     "data": {
      "text/plain": [
       "10000.0"
      ]
     },
     "execution_count": 4,
     "metadata": {},
     "output_type": "execute_result"
    }
   ],
   "source": [
    "env.reset()\n",
    "next_state, reward, terminated, truncated, info = env.step(0)\n",
    "reward # 10000 times its usual reward"
   ]
  },
  {
   "cell_type": "code",
   "execution_count": 5,
   "id": "0a779e6a",
   "metadata": {},
   "outputs": [
    {
     "data": {
      "text/plain": [
       "192000.0"
      ]
     },
     "execution_count": 5,
     "metadata": {},
     "output_type": "execute_result"
    },
    {
     "data": {
      "image/png": "[encoded data removed]",
      "text/plain": [
       "<Figure size 432x288 with 1 Axes>"
      ]
     },
     "metadata": {},
     "output_type": "display_data"
    }
   ],
   "source": [
    "# Play 20 episodes with random actions\n",
    "\n",
    "num_episodes = 20\n",
    "rewards = np.zeros(num_episodes)\n",
    "\n",
    "for i in range(num_episodes):\n",
    "    env.reset()\n",
    "    total_reward = 0.0\n",
    "    terminated = False\n",
    "    while not terminated:\n",
    "        action = env.action_space.sample()\n",
    "        next_state, reward, terminated, truncated, info = env.step(action)\n",
    "        total_reward += reward \n",
    "\n",
    "    rewards[i] = total_reward\n",
    "\n",
    "fig, ax = plt.subplots()\n",
    "ax.plot(rewards)\n",
    "ax.set_title(\"CartPole-v1 reward (cheating)\")\n",
    "ax.set_xlabel('i th episode')\n",
    "ax.set_ylabel('reward')\n",
    "\n",
    "rewards.mean()"
   ]
  },
  {
   "cell_type": "code",
   "execution_count": 6,
   "id": "07a739fa",
   "metadata": {},
   "outputs": [
    {
     "data": {
      "text/plain": [
       "<MinusRewardImposed<TimeLimit<OrderEnforcing<PassiveEnvChecker<FrozenLakeEnv<FrozenLake-v1>>>>>>"
      ]
     },
     "execution_count": 6,
     "metadata": {},
     "output_type": "execute_result"
    }
   ],
   "source": [
    "#########################################################\n",
    "# play frozen lake with negative reward -0.1 for each step\n",
    "#========================================================\n",
    "\n",
    "import gym\n",
    "import numpy as np\n",
    "import matplotlib.pyplot as plt\n",
    "\n",
    "class MinusRewardImposed(gym.RewardWrapper):\n",
    "    def __init__(self, env):\n",
    "        super().__init__(env)\n",
    "    \n",
    "    def reward(self, reward):\n",
    "        return reward - 0.1 # impose negative reward for each step\n",
    "\n",
    "ENV_NAME = 'FrozenLake-v1'\n",
    "env = gym.make(ENV_NAME)\n",
    "env = MinusRewardImposed(env)\n",
    "env"
   ]
  },
  {
   "cell_type": "code",
   "execution_count": 7,
   "id": "e9641bdf",
   "metadata": {},
   "outputs": [
    {
     "data": {
      "text/plain": [
       "-0.1"
      ]
     },
     "execution_count": 7,
     "metadata": {},
     "output_type": "execute_result"
    }
   ],
   "source": [
    "env.reset()\n",
    "next_state, reward, terminated, truncated, info = env.step(0)\n",
    "reward # nagative reward -0.1 imposed "
   ]
  },
  {
   "cell_type": "code",
   "execution_count": 8,
   "id": "815f8bff",
   "metadata": {},
   "outputs": [
    {
     "data": {
      "text/plain": [
       "-0.3829999999999999"
      ]
     },
     "execution_count": 8,
     "metadata": {},
     "output_type": "execute_result"
    },
    {
     "data": {
      "image/png": "[encoded data removed]",
      "text/plain": [
       "<Figure size 432x288 with 1 Axes>"
      ]
     },
     "metadata": {},
     "output_type": "display_data"
    }
   ],
   "source": [
    "# Play 100 episodes with a policy\n",
    "\n",
    "num_episodes = 100\n",
    "rewards = np.zeros(num_episodes)\n",
    "\n",
    "policy = [2, 2, 1, 2,\n",
    "          1, 0, 1, 0,\n",
    "          1, 2, 2, 0,\n",
    "          0, 1, 1, 0]\n",
    "\n",
    "for i in range(num_episodes):\n",
    "    current_state, _ = env.reset()\n",
    "    total_reward = 0.0\n",
    "    terminated = False\n",
    "    action = policy[0]\n",
    "    while not terminated:\n",
    "        action = policy[current_state]\n",
    "        next_state, reward, terminated, truncated, info = env.step(action)\n",
    "        total_reward += reward \n",
    "        current_state = next_state\n",
    "    rewards[i] = total_reward\n",
    "\n",
    "fig, ax = plt.subplots()\n",
    "ax.plot(rewards)\n",
    "ax.set_title(\"FrozenLake-v1 reward (-0.1 for each step)\")\n",
    "ax.set_xlabel('i th episode')\n",
    "ax.set_ylabel('reward')\n",
    "\n",
    "rewards.mean()"
   ]
  },
  {
   "cell_type": "code",
   "execution_count": 9,
   "id": "36480daf",
   "metadata": {},
   "outputs": [],
   "source": [
    "#######################################\n",
    "# combine two RewardWrappers\n",
    "#######################################"
   ]
  },
  {
   "cell_type": "code",
   "execution_count": 10,
   "id": "97f7add3",
   "metadata": {},
   "outputs": [
    {
     "data": {
      "text/plain": [
       "<MinusRewardImposed<RewardIncreased<TimeLimit<OrderEnforcing<PassiveEnvChecker<CartPoleEnv<CartPole-v1>>>>>>>"
      ]
     },
     "execution_count": 10,
     "metadata": {},
     "output_type": "execute_result"
    }
   ],
   "source": [
    "import gym\n",
    "\n",
    "ENV_NAME = \"CartPole-v1\"\n",
    "env = gym.make(ENV_NAME)\n",
    "env = RewardIncreased(env)\n",
    "env = MinusRewardImposed(env)\n",
    "env"
   ]
  },
  {
   "cell_type": "code",
   "execution_count": 11,
   "id": "477aed71",
   "metadata": {},
   "outputs": [
    {
     "data": {
      "text/plain": [
       "(array([ 0.04531653,  0.04286681,  0.04091894, -0.03260313], dtype=float32),\n",
       " {})"
      ]
     },
     "execution_count": 11,
     "metadata": {},
     "output_type": "execute_result"
    }
   ],
   "source": [
    "env.reset()"
   ]
  },
  {
   "cell_type": "code",
   "execution_count": 12,
   "id": "b21ed039",
   "metadata": {},
   "outputs": [
    {
     "data": {
      "text/plain": [
       "9999.9"
      ]
     },
     "execution_count": 12,
     "metadata": {},
     "output_type": "execute_result"
    }
   ],
   "source": [
    "# MinusRewardImposed (+9999.9) <- RewardIncrease(+10000) <- CartPole-v1 (+1) \n",
    "next_state, reward, terminated, truncated, info = env.step(0) \n",
    "reward"
   ]
  },
  {
   "cell_type": "code",
   "execution_count": null,
   "id": "fbb1180c",
   "metadata": {},
   "outputs": [],
   "source": []
  }
 ],
 "metadata": {
  "kernelspec": {
   "display_name": "Python 3 (Spyder)",
   "language": "python3",
   "name": "python3"
  },
  "language_info": {
   "codemirror_mode": {
    "name": "ipython",
    "version": 3
   },
   "file_extension": ".py",
   "mimetype": "text/x-python",
   "name": "python",
   "nbconvert_exporter": "python",
   "pygments_lexer": "ipython3",
   "version": "3.10.9"
  }
 },
 "nbformat": 4,
 "nbformat_minor": 5
}
