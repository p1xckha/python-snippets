{
 "cells": [
  {
   "cell_type": "code",
   "execution_count": 1,
   "id": "78e9f7bb",
   "metadata": {},
   "outputs": [],
   "source": [
    "##################################################################################### \n",
    "# torch.gather example\n",
    "######################################################################################\n",
    "\n",
    "# https://pytorch.org/docs/stable/generated/torch.gather.html#torch.gather\n",
    "\n",
    "# torch.gather is simillar to np.choose"
   ]
  },
  {
   "cell_type": "code",
   "execution_count": 2,
   "id": "9f986098",
   "metadata": {},
   "outputs": [
    {
     "data": {
      "text/plain": [
       "tensor([ 0, 10, 20, 30, 20, 10,  0])"
      ]
     },
     "execution_count": 2,
     "metadata": {},
     "output_type": "execute_result"
    }
   ],
   "source": [
    "######################################################################################\n",
    "# 1D tensor gather example\n",
    "######################################################################################\n",
    "\n",
    "import torch\n",
    "\n",
    "t = torch.tensor([0, 10, 20, 30])\n",
    "index = torch.tensor([0, 1, 2, 3, 2, 1, 0])\n",
    "dim = 0 \n",
    "torch.gather(t, dim, index)"
   ]
  },
  {
   "cell_type": "code",
   "execution_count": 3,
   "id": "bf93efab",
   "metadata": {},
   "outputs": [
    {
     "data": {
      "text/plain": [
       "tensor([[ 0,  1, 12],\n",
       "        [10,  1, 12],\n",
       "        [20, 21, 22]])"
      ]
     },
     "execution_count": 3,
     "metadata": {},
     "output_type": "execute_result"
    }
   ],
   "source": [
    "######################################################################################\n",
    "# 2D tensor gather example\n",
    "######################################################################################\n",
    "\n",
    "import torch\n",
    "\n",
    "# (3, 3) tensor\n",
    "t = torch.tensor([[ 0,  1,  2],\n",
    "                  [10, 11, 12],\n",
    "                  [20, 21, 22]]) \n",
    "\n",
    "# index[i][j][k] < t.shape[dim]=3\n",
    "index =  torch.tensor([[0, 0, 1],\n",
    "                       [1, 0, 1], \n",
    "                       [2, 2, 2]]) \n",
    "\n",
    "dim = 0\n",
    "torch.gather(t, dim, index)"
   ]
  },
  {
   "cell_type": "code",
   "execution_count": 4,
   "id": "4262816e",
   "metadata": {},
   "outputs": [
    {
     "data": {
      "text/plain": [
       "tensor([[ 0,  0],\n",
       "        [11, 10],\n",
       "        [22, 22]])"
      ]
     },
     "execution_count": 4,
     "metadata": {},
     "output_type": "execute_result"
    }
   ],
   "source": [
    "dim = 1\n",
    "index =  torch.tensor([[0, 0],\n",
    "                       [1, 0], \n",
    "                       [2, 2]]) \n",
    "torch.gather(t, dim, index)"
   ]
  },
  {
   "cell_type": "code",
   "execution_count": 5,
   "id": "4dc6cb5e",
   "metadata": {},
   "outputs": [],
   "source": [
    "######################################################################################\n",
    "# 3D tensor gather example\n",
    "######################################################################################"
   ]
  },
  {
   "cell_type": "code",
   "execution_count": 6,
   "id": "ab08ef49",
   "metadata": {},
   "outputs": [],
   "source": [
    "# Gathers values along an axis=0"
   ]
  },
  {
   "cell_type": "code",
   "execution_count": 7,
   "id": "63f4021a",
   "metadata": {},
   "outputs": [
    {
     "data": {
      "text/plain": [
       "tensor([[[5, 5, 5, 5],\n",
       "         [7, 7, 3, 8],\n",
       "         [7, 8, 9, 8]],\n",
       "\n",
       "        [[5, 5, 5, 5],\n",
       "         [1, 4, 8, 8],\n",
       "         [1, 5, 1, 0]]])"
      ]
     },
     "execution_count": 7,
     "metadata": {},
     "output_type": "execute_result"
    }
   ],
   "source": [
    "import torch\n",
    "\n",
    "low = 0\n",
    "high = 10\n",
    "size = (2,3,4)\n",
    "t = torch.randint(low, high, size)\n",
    "\n",
    "# for simplicity\n",
    "t[:,0,:] = 5\n",
    "t "
   ]
  },
  {
   "cell_type": "code",
   "execution_count": 8,
   "id": "2a773987",
   "metadata": {},
   "outputs": [
    {
     "data": {
      "text/plain": [
       "tensor([[[1, 1, 1, 0],\n",
       "         [0, 1, 0, 0],\n",
       "         [0, 0, 1, 1]],\n",
       "\n",
       "        [[1, 0, 1, 1],\n",
       "         [0, 0, 1, 0],\n",
       "         [1, 1, 0, 1]]])"
      ]
     },
     "execution_count": 8,
     "metadata": {},
     "output_type": "execute_result"
    }
   ],
   "source": [
    "dim = 0\n",
    "low = 0\n",
    "high = t.shape[dim]\n",
    "size = (2,3,4)\n",
    "index0 = torch.randint(low, high, size)\n",
    "index0"
   ]
  },
  {
   "cell_type": "code",
   "execution_count": 9,
   "id": "13dc710b",
   "metadata": {},
   "outputs": [
    {
     "data": {
      "text/plain": [
       "tensor([[[5, 5, 5, 5],\n",
       "         [7, 4, 3, 8],\n",
       "         [7, 8, 1, 0]],\n",
       "\n",
       "        [[5, 5, 5, 5],\n",
       "         [7, 7, 8, 8],\n",
       "         [1, 5, 9, 0]]])"
      ]
     },
     "execution_count": 9,
     "metadata": {},
     "output_type": "execute_result"
    }
   ],
   "source": [
    "torch.gather(t, dim, index0) "
   ]
  },
  {
   "cell_type": "code",
   "execution_count": 10,
   "id": "8991c532",
   "metadata": {},
   "outputs": [],
   "source": [
    "# Gathers values along an axis=1"
   ]
  },
  {
   "cell_type": "code",
   "execution_count": 11,
   "id": "54744ef9",
   "metadata": {},
   "outputs": [
    {
     "data": {
      "text/plain": [
       "tensor([[[1, 2, 0, 8],\n",
       "         [1, 2, 6, 9],\n",
       "         [1, 2, 9, 9]],\n",
       "\n",
       "        [[5, 9, 7, 9],\n",
       "         [2, 2, 2, 6],\n",
       "         [3, 2, 9, 2]]])"
      ]
     },
     "execution_count": 11,
     "metadata": {},
     "output_type": "execute_result"
    }
   ],
   "source": [
    "import torch\n",
    "\n",
    "low = 0\n",
    "high = 10\n",
    "size = (2,3,4)\n",
    "t = torch.randint(low, high, size)\n",
    "\n",
    "# for simplicity\n",
    "t[0,:,0] = 1\n",
    "t[0,:,1] = 2\n",
    "t"
   ]
  },
  {
   "cell_type": "code",
   "execution_count": 12,
   "id": "e29f5650",
   "metadata": {},
   "outputs": [
    {
     "data": {
      "text/plain": [
       "tensor([[[1, 1, 0, 0],\n",
       "         [2, 0, 0, 1],\n",
       "         [0, 2, 2, 2]],\n",
       "\n",
       "        [[0, 2, 0, 2],\n",
       "         [2, 1, 2, 1],\n",
       "         [2, 1, 0, 2]]])"
      ]
     },
     "execution_count": 12,
     "metadata": {},
     "output_type": "execute_result"
    }
   ],
   "source": [
    "dim = 1\n",
    "low = 0\n",
    "high = t.shape[dim]\n",
    "size = (2,3,4)\n",
    "index1 = torch.randint(low, high, size)\n",
    "index1 # (2,3,4) tensor"
   ]
  },
  {
   "cell_type": "code",
   "execution_count": 13,
   "id": "3f84622a",
   "metadata": {},
   "outputs": [
    {
     "data": {
      "text/plain": [
       "tensor([[[1, 2, 0, 8],\n",
       "         [1, 2, 0, 9],\n",
       "         [1, 2, 9, 9]],\n",
       "\n",
       "        [[5, 2, 7, 2],\n",
       "         [3, 2, 9, 6],\n",
       "         [3, 2, 7, 2]]])"
      ]
     },
     "execution_count": 13,
     "metadata": {},
     "output_type": "execute_result"
    }
   ],
   "source": [
    "torch.gather(t, dim, index1)"
   ]
  },
  {
   "cell_type": "code",
   "execution_count": 14,
   "id": "5c1b2a9e",
   "metadata": {},
   "outputs": [],
   "source": [
    "# Gathers values along an axis=2"
   ]
  },
  {
   "cell_type": "code",
   "execution_count": 15,
   "id": "e4ae1766",
   "metadata": {},
   "outputs": [
    {
     "data": {
      "text/plain": [
       "tensor([[[0, 0, 0, 0],\n",
       "         [5, 4, 9, 7],\n",
       "         [6, 0, 7, 8]],\n",
       "\n",
       "        [[1, 3, 2, 5],\n",
       "         [1, 7, 9, 5],\n",
       "         [2, 4, 2, 5]]])"
      ]
     },
     "execution_count": 15,
     "metadata": {},
     "output_type": "execute_result"
    }
   ],
   "source": [
    "import torch\n",
    "\n",
    "low = 0\n",
    "high = 10\n",
    "size = (2,3,4)\n",
    "t = torch.randint(low, high, size)\n",
    "\n",
    "# for simplicity\n",
    "t[0,0,:] = 0\n",
    "t"
   ]
  },
  {
   "cell_type": "code",
   "execution_count": 16,
   "id": "aebe271e",
   "metadata": {},
   "outputs": [
    {
     "data": {
      "text/plain": [
       "tensor([[[0, 1, 0, 1],\n",
       "         [3, 1, 0, 1],\n",
       "         [1, 0, 3, 2]],\n",
       "\n",
       "        [[3, 1, 0, 0],\n",
       "         [3, 2, 2, 3],\n",
       "         [0, 3, 2, 3]]])"
      ]
     },
     "execution_count": 16,
     "metadata": {},
     "output_type": "execute_result"
    }
   ],
   "source": [
    "dim = 2\n",
    "low = 0\n",
    "high = t.shape[dim]\n",
    "size = (2,3,4)\n",
    "index2 = torch.randint(low, high, size)\n",
    "index2 # (2,3,4) tensor"
   ]
  },
  {
   "cell_type": "code",
   "execution_count": 17,
   "id": "b501cd65",
   "metadata": {},
   "outputs": [
    {
     "data": {
      "text/plain": [
       "tensor([[[0, 0, 0, 0],\n",
       "         [7, 4, 5, 4],\n",
       "         [0, 6, 8, 7]],\n",
       "\n",
       "        [[5, 3, 1, 1],\n",
       "         [5, 9, 9, 5],\n",
       "         [2, 5, 2, 5]]])"
      ]
     },
     "execution_count": 17,
     "metadata": {},
     "output_type": "execute_result"
    }
   ],
   "source": [
    "torch.gather(t, dim, index2)"
   ]
  },
  {
   "cell_type": "code",
   "execution_count": null,
   "id": "593b2578",
   "metadata": {},
   "outputs": [],
   "source": []
  }
 ],
 "metadata": {
  "kernelspec": {
   "display_name": "Python 3 (Spyder)",
   "language": "python3",
   "name": "python3"
  },
  "language_info": {
   "codemirror_mode": {
    "name": "ipython",
    "version": 3
   },
   "file_extension": ".py",
   "mimetype": "text/x-python",
   "name": "python",
   "nbconvert_exporter": "python",
   "pygments_lexer": "ipython3",
   "version": "3.10.9"
  }
 },
 "nbformat": 4,
 "nbformat_minor": 5
}
