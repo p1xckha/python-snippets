{
 "cells": [
  {
   "cell_type": "code",
   "execution_count": 1,
   "id": "ba729063",
   "metadata": {},
   "outputs": [],
   "source": [
    "##################################################################################### \n",
    "# torch.gather example\n",
    "######################################################################################\n",
    "\n",
    "# https://pytorch.org/docs/stable/generated/torch.gather.html#torch.gather\n",
    "\n",
    "# torch.gather is simillar to np.choose"
   ]
  },
  {
   "cell_type": "code",
   "execution_count": 2,
   "id": "75534a92",
   "metadata": {},
   "outputs": [
    {
     "data": {
      "text/plain": [
       "tensor([ 0, 10, 20, 30, 20, 10,  0])"
      ]
     },
     "execution_count": 2,
     "metadata": {},
     "output_type": "execute_result"
    }
   ],
   "source": [
    "######################################################################################\n",
    "# 1D tensor gather example\n",
    "######################################################################################\n",
    "\n",
    "import torch\n",
    "\n",
    "t = torch.tensor([0, 10, 20, 30])\n",
    "index = torch.tensor([0, 1, 2, 3, 2, 1, 0])\n",
    "dim = 0 \n",
    "torch.gather(t, dim, index)"
   ]
  },
  {
   "cell_type": "code",
   "execution_count": 3,
   "id": "48a23d09",
   "metadata": {},
   "outputs": [
    {
     "data": {
      "text/plain": [
       "tensor([[ 0,  1, 12],\n",
       "        [10,  1, 12],\n",
       "        [20, 21, 22]])"
      ]
     },
     "execution_count": 3,
     "metadata": {},
     "output_type": "execute_result"
    }
   ],
   "source": [
    "######################################################################################\n",
    "# 2D tensor gather example\n",
    "######################################################################################\n",
    "\n",
    "import torch\n",
    "\n",
    "# (3, 3) tensor\n",
    "t = torch.tensor([[ 0,  1,  2],\n",
    "                  [10, 11, 12],\n",
    "                  [20, 21, 22]]) \n",
    "\n",
    "# index[i][j][k] < t.shape[dim]=3\n",
    "index =  torch.tensor([[0, 0, 1],\n",
    "                       [1, 0, 1], \n",
    "                       [2, 2, 2]]) \n",
    "\n",
    "dim = 0\n",
    "torch.gather(t, dim, index)"
   ]
  },
  {
   "cell_type": "code",
   "execution_count": 4,
   "id": "13ba9e58",
   "metadata": {},
   "outputs": [
    {
     "data": {
      "text/plain": [
       "tensor([[ 0,  0],\n",
       "        [11, 10],\n",
       "        [22, 22]])"
      ]
     },
     "execution_count": 4,
     "metadata": {},
     "output_type": "execute_result"
    }
   ],
   "source": [
    "dim = 1\n",
    "index =  torch.tensor([[0, 0],\n",
    "                       [1, 0], \n",
    "                       [2, 2]]) \n",
    "torch.gather(t, dim, index)"
   ]
  },
  {
   "cell_type": "code",
   "execution_count": 5,
   "id": "d86c689e",
   "metadata": {},
   "outputs": [],
   "source": [
    "######################################################################################\n",
    "# 3D tensor gather example\n",
    "######################################################################################"
   ]
  },
  {
   "cell_type": "code",
   "execution_count": 6,
   "id": "d89be4aa",
   "metadata": {},
   "outputs": [],
   "source": [
    "# Gathers values along an axis=0"
   ]
  },
  {
   "cell_type": "code",
   "execution_count": 7,
   "id": "4646d219",
   "metadata": {},
   "outputs": [
    {
     "data": {
      "text/plain": [
       "tensor([[[5, 5, 5, 5],\n",
       "         [7, 4, 3, 8],\n",
       "         [7, 8, 1, 0]],\n",
       "\n",
       "        [[5, 5, 5, 5],\n",
       "         [7, 7, 8, 8],\n",
       "         [1, 5, 9, 0]]])"
      ]
     },
     "execution_count": 7,
     "metadata": {},
     "output_type": "execute_result"
    }
   ],
   "source": [
    "import torch\n",
    "\n",
    "dim = 0\n",
    "\n",
    "# (2,3,4) tensor\n",
    "t = torch.tensor([[[5, 5, 5, 5],\n",
    "                   [7, 7, 3, 8],\n",
    "                   [7, 8, 9, 8]],\n",
    "\n",
    "                  [[5, 5, 5, 5],\n",
    "                   [1, 4, 8, 8],\n",
    "                   [1, 5, 1, 0]]])\n",
    "\n",
    "# index0[i][j][k] < t.shape[dim]=2\n",
    "index0 = torch.tensor([[[1, 1, 1, 0],\n",
    "                        [0, 1, 0, 0],\n",
    "                        [0, 0, 1, 1]],\n",
    "\n",
    "                       [[1, 0, 1, 1],\n",
    "                        [0, 0, 1, 0],\n",
    "                        [1, 1, 0, 1]]])\n",
    "\n",
    "torch.gather(t, dim, index0) "
   ]
  },
  {
   "cell_type": "code",
   "execution_count": 8,
   "id": "9134cf7d",
   "metadata": {},
   "outputs": [],
   "source": [
    "# Gathers values along an axis=1"
   ]
  },
  {
   "cell_type": "code",
   "execution_count": 9,
   "id": "db5d50de",
   "metadata": {},
   "outputs": [
    {
     "data": {
      "text/plain": [
       "tensor([[[1, 2, 0, 8],\n",
       "         [1, 2, 0, 9],\n",
       "         [1, 2, 9, 9]],\n",
       "\n",
       "        [[5, 2, 7, 2],\n",
       "         [3, 2, 9, 6],\n",
       "         [3, 2, 7, 2]]])"
      ]
     },
     "execution_count": 9,
     "metadata": {},
     "output_type": "execute_result"
    }
   ],
   "source": [
    "import torch\n",
    "\n",
    "dim = 1\n",
    "\n",
    "# (2,3,4) tensor\n",
    "t = torch.tensor([[[1, 2, 0, 8],\n",
    "                   [1, 2, 6, 9],\n",
    "                   [1, 2, 9, 9]],\n",
    "\n",
    "                  [[5, 9, 7, 9],\n",
    "                   [2, 2, 2, 6],\n",
    "                   [3, 2, 9, 2]]])\n",
    "\n",
    "# index0[i][j][k] < t.shape[dim]=3\n",
    "index1 = torch.tensor( [[[1, 1, 0, 0],\n",
    "                         [2, 0, 0, 1],\n",
    "                         [0, 2, 2, 2]],\n",
    "\n",
    "                        [[0, 2, 0, 2],\n",
    "                         [2, 1, 2, 1],\n",
    "                         [2, 1, 0, 2]]])\n",
    "\n",
    "torch.gather(t, dim, index1) "
   ]
  },
  {
   "cell_type": "code",
   "execution_count": 10,
   "id": "b4a083e3",
   "metadata": {},
   "outputs": [],
   "source": [
    "# Gathers values along an axis=2"
   ]
  },
  {
   "cell_type": "code",
   "execution_count": 11,
   "id": "5725aa93",
   "metadata": {},
   "outputs": [
    {
     "data": {
      "text/plain": [
       "tensor([[[0, 0, 0, 0],\n",
       "         [1, 5, 2, 2],\n",
       "         [9, 4, 0, 1]],\n",
       "\n",
       "        [[1, 1, 1, 1],\n",
       "         [0, 3, 5, 8],\n",
       "         [7, 3, 3, 4]]])"
      ]
     },
     "execution_count": 11,
     "metadata": {},
     "output_type": "execute_result"
    }
   ],
   "source": [
    "import torch\n",
    "\n",
    "dim = 2\n",
    "\n",
    "low = 0\n",
    "high = 10\n",
    "size = (2,3,4)\n",
    "t = torch.randint(low, high, size)\n",
    "\n",
    "# for simplicity\n",
    "t[0,0,:] = 0\n",
    "t[1,0,:] = 1\n",
    "t"
   ]
  },
  {
   "cell_type": "code",
   "execution_count": 12,
   "id": "fde61503",
   "metadata": {},
   "outputs": [
    {
     "data": {
      "text/plain": [
       "tensor([[[3, 2, 3, 1],\n",
       "         [3, 3, 1, 3],\n",
       "         [3, 3, 3, 2]],\n",
       "\n",
       "        [[1, 1, 0, 1],\n",
       "         [2, 3, 1, 0],\n",
       "         [3, 1, 3, 0]]])"
      ]
     },
     "execution_count": 12,
     "metadata": {},
     "output_type": "execute_result"
    }
   ],
   "source": [
    "low = 0\n",
    "high = t.shape[dim]\n",
    "size = (2,3,4)\n",
    "index2 = torch.randint(low, high, size)\n",
    "index2 # (2,3,4) tensor"
   ]
  },
  {
   "cell_type": "code",
   "execution_count": 13,
   "id": "078869e0",
   "metadata": {},
   "outputs": [
    {
     "data": {
      "text/plain": [
       "tensor([[[0, 0, 0, 0],\n",
       "         [2, 2, 5, 2],\n",
       "         [1, 1, 1, 0]],\n",
       "\n",
       "        [[1, 1, 1, 1],\n",
       "         [5, 8, 3, 0],\n",
       "         [4, 3, 4, 7]]])"
      ]
     },
     "execution_count": 13,
     "metadata": {},
     "output_type": "execute_result"
    }
   ],
   "source": [
    "torch.gather(t, dim, index2)"
   ]
  },
  {
   "cell_type": "code",
   "execution_count": null,
   "id": "9ac3ecfe",
   "metadata": {},
   "outputs": [],
   "source": []
  }
 ],
 "metadata": {
  "kernelspec": {
   "display_name": "Python 3 (Spyder)",
   "language": "python3",
   "name": "python3"
  },
  "language_info": {
   "codemirror_mode": {
    "name": "ipython",
    "version": 3
   },
   "file_extension": ".py",
   "mimetype": "text/x-python",
   "name": "python",
   "nbconvert_exporter": "python",
   "pygments_lexer": "ipython3",
   "version": "3.10.9"
  }
 },
 "nbformat": 4,
 "nbformat_minor": 5
}
