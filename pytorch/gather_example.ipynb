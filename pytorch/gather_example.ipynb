{
 "cells": [
  {
   "cell_type": "code",
   "execution_count": 1,
   "id": "1b8509a9",
   "metadata": {},
   "outputs": [],
   "source": [
    "##################################################################################### \n",
    "# torch.gather example\n",
    "######################################################################################\n",
    "\n",
    "# https://pytorch.org/docs/stable/generated/torch.gather.html#torch.gather\n",
    "\n",
    "# torch.gather is simillar to np.choose"
   ]
  },
  {
   "cell_type": "code",
   "execution_count": 2,
   "id": "43206fc0",
   "metadata": {},
   "outputs": [
    {
     "data": {
      "text/plain": [
       "tensor([ 0, 10, 20, 30, 20, 10,  0])"
      ]
     },
     "execution_count": 2,
     "metadata": {},
     "output_type": "execute_result"
    }
   ],
   "source": [
    "######################################################################################\n",
    "# 1D tensor gather example\n",
    "######################################################################################\n",
    "\n",
    "import torch\n",
    "\n",
    "t = torch.tensor([0, 10, 20, 30])\n",
    "index = torch.tensor([0, 1, 2, 3, 2, 1, 0])\n",
    "dim = 0 \n",
    "torch.gather(t, dim, index)"
   ]
  },
  {
   "cell_type": "code",
   "execution_count": 3,
   "id": "f14efc0a",
   "metadata": {},
   "outputs": [
    {
     "data": {
      "text/plain": [
       "tensor([ 0, 10, 20, 30, 20, 10,  0])"
      ]
     },
     "execution_count": 3,
     "metadata": {},
     "output_type": "execute_result"
    }
   ],
   "source": [
    "t.gather(dim, index)"
   ]
  },
  {
   "cell_type": "code",
   "execution_count": 4,
   "id": "c2e2eea9",
   "metadata": {},
   "outputs": [
    {
     "data": {
      "text/plain": [
       "tensor([[ 0,  1, 12],\n",
       "        [10,  1, 12],\n",
       "        [20, 21, 22]])"
      ]
     },
     "execution_count": 4,
     "metadata": {},
     "output_type": "execute_result"
    }
   ],
   "source": [
    "######################################################################################\n",
    "# 2D tensor gather example\n",
    "######################################################################################\n",
    "\n",
    "import torch\n",
    "\n",
    "# (3, 3) tensor\n",
    "t = torch.tensor([[ 0,  1,  2],\n",
    "                  [10, 11, 12],\n",
    "                  [20, 21, 22]]) \n",
    "\n",
    "# index[i][j][k] < t.shape[dim]=3\n",
    "index =  torch.tensor([[0, 0, 1],\n",
    "                       [1, 0, 1], \n",
    "                       [2, 2, 2]]) \n",
    "\n",
    "dim = 0\n",
    "t.gather(dim, index)"
   ]
  },
  {
   "cell_type": "code",
   "execution_count": 5,
   "id": "699f7a57",
   "metadata": {},
   "outputs": [
    {
     "data": {
      "text/plain": [
       "tensor([[ 0,  0],\n",
       "        [11, 10],\n",
       "        [22, 22]])"
      ]
     },
     "execution_count": 5,
     "metadata": {},
     "output_type": "execute_result"
    }
   ],
   "source": [
    "dim = 1\n",
    "index =  torch.tensor([[0, 0],\n",
    "                       [1, 0], \n",
    "                       [2, 2]]) \n",
    "t.gather(dim, index)"
   ]
  },
  {
   "cell_type": "code",
   "execution_count": 6,
   "id": "bb2bfc1c",
   "metadata": {},
   "outputs": [],
   "source": [
    "# choose q_values"
   ]
  },
  {
   "cell_type": "code",
   "execution_count": 7,
   "id": "5ac944b6",
   "metadata": {},
   "outputs": [
    {
     "data": {
      "text/plain": [
       "tensor([[0],\n",
       "        [2],\n",
       "        [1],\n",
       "        [0]])"
      ]
     },
     "execution_count": 7,
     "metadata": {},
     "output_type": "execute_result"
    }
   ],
   "source": [
    "num_states = 4\n",
    "action_dim = 3\n",
    "q_values = torch.tensor([[ 0,  1,  2],\n",
    "                        [10, 11, 12],\n",
    "                        [20, 21, 22],\n",
    "                        [30, 31, 32]]) \n",
    "\n",
    "actions = torch.tensor([0, 2, 1, 0])\n",
    "actions.unsqueeze(-1)"
   ]
  },
  {
   "cell_type": "code",
   "execution_count": 8,
   "id": "34d6b98c",
   "metadata": {},
   "outputs": [
    {
     "data": {
      "text/plain": [
       "tensor([ 0, 12, 21, 30])"
      ]
     },
     "execution_count": 8,
     "metadata": {},
     "output_type": "execute_result"
    }
   ],
   "source": [
    "dim = 1\n",
    "state_action_values = q_values.gather(dim, actions.unsqueeze(-1)).squeeze(-1) # 1d tensor\n",
    "state_action_values "
   ]
  },
  {
   "cell_type": "code",
   "execution_count": 9,
   "id": "625e8e4c",
   "metadata": {},
   "outputs": [],
   "source": [
    "######################################################################################\n",
    "# 3D tensor gather example\n",
    "######################################################################################"
   ]
  },
  {
   "cell_type": "code",
   "execution_count": 10,
   "id": "835435d6",
   "metadata": {},
   "outputs": [],
   "source": [
    "# Gathers values along an axis=0"
   ]
  },
  {
   "cell_type": "code",
   "execution_count": 11,
   "id": "2e05413e",
   "metadata": {},
   "outputs": [
    {
     "data": {
      "text/plain": [
       "tensor([[[5, 5, 5, 5],\n",
       "         [7, 4, 3, 8],\n",
       "         [7, 8, 1, 0]],\n",
       "\n",
       "        [[5, 5, 5, 5],\n",
       "         [7, 7, 8, 8],\n",
       "         [1, 5, 9, 0]]])"
      ]
     },
     "execution_count": 11,
     "metadata": {},
     "output_type": "execute_result"
    }
   ],
   "source": [
    "import torch\n",
    "\n",
    "dim = 0\n",
    "\n",
    "# (2,3,4) tensor\n",
    "t = torch.tensor([[[5, 5, 5, 5],\n",
    "                   [7, 7, 3, 8],\n",
    "                   [7, 8, 9, 8]],\n",
    "\n",
    "                  [[5, 5, 5, 5],\n",
    "                   [1, 4, 8, 8],\n",
    "                   [1, 5, 1, 0]]])\n",
    "\n",
    "# index0[i][j][k] < t.shape[dim]=2\n",
    "index0 = torch.tensor([[[1, 1, 1, 0],\n",
    "                        [0, 1, 0, 0],\n",
    "                        [0, 0, 1, 1]],\n",
    "\n",
    "                       [[1, 0, 1, 1],\n",
    "                        [0, 0, 1, 0],\n",
    "                        [1, 1, 0, 1]]])\n",
    "\n",
    "t.gather(dim, index0) "
   ]
  },
  {
   "cell_type": "code",
   "execution_count": 12,
   "id": "97c93137",
   "metadata": {},
   "outputs": [],
   "source": [
    "# Gathers values along an axis=1"
   ]
  },
  {
   "cell_type": "code",
   "execution_count": 13,
   "id": "011e1e6a",
   "metadata": {},
   "outputs": [
    {
     "data": {
      "text/plain": [
       "tensor([[[1, 2, 0, 8],\n",
       "         [1, 2, 0, 9],\n",
       "         [1, 2, 9, 9]],\n",
       "\n",
       "        [[5, 2, 7, 2],\n",
       "         [3, 2, 9, 6],\n",
       "         [3, 2, 7, 2]]])"
      ]
     },
     "execution_count": 13,
     "metadata": {},
     "output_type": "execute_result"
    }
   ],
   "source": [
    "import torch\n",
    "\n",
    "dim = 1\n",
    "\n",
    "# (2,3,4) tensor\n",
    "t = torch.tensor([[[1, 2, 0, 8],\n",
    "                   [1, 2, 6, 9],\n",
    "                   [1, 2, 9, 9]],\n",
    "\n",
    "                  [[5, 9, 7, 9],\n",
    "                   [2, 2, 2, 6],\n",
    "                   [3, 2, 9, 2]]])\n",
    "\n",
    "# index1[i][j][k] < t.shape[dim]=3\n",
    "index1 = torch.tensor( [[[1, 1, 0, 0],\n",
    "                         [2, 0, 0, 1],\n",
    "                         [0, 2, 2, 2]],\n",
    "\n",
    "                        [[0, 2, 0, 2],\n",
    "                         [2, 1, 2, 1],\n",
    "                         [2, 1, 0, 2]]])\n",
    "\n",
    "t.gather(dim, index1) "
   ]
  },
  {
   "cell_type": "code",
   "execution_count": 14,
   "id": "842bd9d6",
   "metadata": {},
   "outputs": [],
   "source": [
    "# Gathers values along an axis=2"
   ]
  },
  {
   "cell_type": "code",
   "execution_count": 15,
   "id": "2dfe96d3",
   "metadata": {},
   "outputs": [
    {
     "data": {
      "text/plain": [
       "tensor([[[0, 0, 0, 0],\n",
       "         [0, 0, 3, 2],\n",
       "         [1, 1, 9, 5]],\n",
       "\n",
       "        [[1, 1, 1, 1],\n",
       "         [0, 9, 9, 9],\n",
       "         [3, 4, 4, 4]]])"
      ]
     },
     "execution_count": 15,
     "metadata": {},
     "output_type": "execute_result"
    }
   ],
   "source": [
    "import torch\n",
    "\n",
    "dim = 2\n",
    "\n",
    "low = 0\n",
    "high = 10\n",
    "size = (2,3,4)\n",
    "t = torch.randint(low, high, size)\n",
    "\n",
    "# for simplicity\n",
    "t[0,0,:] = 0\n",
    "t[1,0,:] = 1\n",
    "t"
   ]
  },
  {
   "cell_type": "code",
   "execution_count": 16,
   "id": "81d53165",
   "metadata": {},
   "outputs": [
    {
     "data": {
      "text/plain": [
       "tensor([[[0, 2, 0, 2],\n",
       "         [1, 2, 1, 0],\n",
       "         [2, 3, 0, 1]],\n",
       "\n",
       "        [[2, 2, 0, 3],\n",
       "         [1, 3, 0, 2],\n",
       "         [1, 3, 2, 0]]])"
      ]
     },
     "execution_count": 16,
     "metadata": {},
     "output_type": "execute_result"
    }
   ],
   "source": [
    "low = 0\n",
    "high = t.shape[dim]\n",
    "size = (2,3,4)\n",
    "index2 = torch.randint(low, high, size)\n",
    "index2 # (2,3,4) tensor"
   ]
  },
  {
   "cell_type": "code",
   "execution_count": 17,
   "id": "2986658b",
   "metadata": {},
   "outputs": [
    {
     "data": {
      "text/plain": [
       "tensor([[[0, 0, 0, 0],\n",
       "         [0, 3, 0, 0],\n",
       "         [9, 5, 1, 1]],\n",
       "\n",
       "        [[1, 1, 1, 1],\n",
       "         [9, 9, 0, 9],\n",
       "         [4, 4, 4, 3]]])"
      ]
     },
     "execution_count": 17,
     "metadata": {},
     "output_type": "execute_result"
    }
   ],
   "source": [
    "t.gather(dim, index2)"
   ]
  },
  {
   "cell_type": "code",
   "execution_count": null,
   "id": "33ae661f",
   "metadata": {},
   "outputs": [],
   "source": []
  }
 ],
 "metadata": {
  "kernelspec": {
   "display_name": "Python 3 (Spyder)",
   "language": "python3",
   "name": "python3"
  },
  "language_info": {
   "codemirror_mode": {
    "name": "ipython",
    "version": 3
   },
   "file_extension": ".py",
   "mimetype": "text/x-python",
   "name": "python",
   "nbconvert_exporter": "python",
   "pygments_lexer": "ipython3",
   "version": "3.10.9"
  }
 },
 "nbformat": 4,
 "nbformat_minor": 5
}
