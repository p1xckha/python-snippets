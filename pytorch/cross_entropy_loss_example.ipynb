{
 "cells": [
  {
   "cell_type": "code",
   "execution_count": 1,
   "id": "c217f89d",
   "metadata": {},
   "outputs": [
    {
     "data": {
      "image/png": "[encoded data removed]",
      "text/plain": [
       "<Figure size 432x288 with 1 Axes>"
      ]
     },
     "metadata": {},
     "output_type": "display_data"
    },
    {
     "data": {
      "text/plain": [
       "tensor(0.2815)"
      ]
     },
     "execution_count": 1,
     "metadata": {},
     "output_type": "execute_result"
    }
   ],
   "source": [
    "############################################\n",
    "# cross entropy loss (1 sample)\n",
    "############################################\n",
    "\n",
    "# https://pytorch.org/docs/stable/generated/torch.nn.CrossEntropyLoss.html\n",
    "\n",
    "import torch\n",
    "import torch.nn as nn\n",
    "import torch.nn.functional as F\n",
    "import matplotlib.pyplot as plt\n",
    "import numpy as np\n",
    "\n",
    "# 1 sample\n",
    "criterion = torch.nn.CrossEntropyLoss()\n",
    "x = torch.tensor([[2, 3, 6, 3, 2, 4, 3, -2, -1, 0]], dtype=torch.float32)\n",
    "y = torch.tensor([2]) # label\n",
    "x_softmax = F.softmax(x, dim=1)\n",
    "prediction = x.argmax(dim=1) # 2\n",
    "\n",
    "# plot x_softmax\n",
    "n = x.shape[1]\n",
    "fig, ax = plt.subplots()\n",
    "ax.bar(np.arange(n), x_softmax.numpy()[0])\n",
    "ax.set_xlabel('Class')\n",
    "ax.set_ylabel('Probability')\n",
    "plt.show()\n",
    "\n",
    "cross_entropy_loss1 = criterion(x, y)\n",
    "cross_entropy_loss1"
   ]
  },
  {
   "cell_type": "code",
   "execution_count": 2,
   "id": "6d551177",
   "metadata": {},
   "outputs": [
    {
     "data": {
      "text/plain": [
       "tensor([0.2815])"
      ]
     },
     "execution_count": 2,
     "metadata": {},
     "output_type": "execute_result"
    }
   ],
   "source": [
    "-torch.log(torch.exp(x[0, y]) / torch.exp(x).sum())"
   ]
  },
  {
   "cell_type": "code",
   "execution_count": 3,
   "id": "e0688563",
   "metadata": {},
   "outputs": [
    {
     "data": {
      "text/plain": [
       "tensor(1.0696)"
      ]
     },
     "execution_count": 3,
     "metadata": {},
     "output_type": "execute_result"
    }
   ],
   "source": [
    "# another example\n",
    "x = torch.tensor([[1, 1, 2, 1, 2, 2, 2, -1, -1, 3]],dtype=torch.float32)\n",
    "y = torch.tensor([9])\n",
    "cross_entropy_loss2 = criterion(x, y)\n",
    "cross_entropy_loss2"
   ]
  },
  {
   "cell_type": "code",
   "execution_count": 4,
   "id": "3cbe859d",
   "metadata": {},
   "outputs": [
    {
     "data": {
      "text/plain": [
       "tensor(0.6755)"
      ]
     },
     "execution_count": 4,
     "metadata": {},
     "output_type": "execute_result"
    }
   ],
   "source": [
    "############################################\n",
    "# cross entropy loss (2 samples)\n",
    "############################################\n",
    "\n",
    "import torch\n",
    "import torch.nn as nn\n",
    "import torch.nn.functional as F\n",
    "import matplotlib.pyplot as plt\n",
    "import numpy as np\n",
    "\n",
    "criterion = torch.nn.CrossEntropyLoss()\n",
    "X = [[2, 3, 6, 3, 2, 4, 3, -2, -1, 0],\n",
    "     [1, 1, 2, 1, 2, 2, 2, -1, -1, 3]] # previous 2 samples\n",
    "labels = [2, 9]\n",
    "\n",
    "X = torch.tensor(X, dtype=torch.float32)\n",
    "labels = torch.tensor(labels, dtype=torch.int64)\n",
    "loss = criterion(X, labels)\n",
    "prediction = x.argmax(dim=1)\n",
    "\n",
    "loss"
   ]
  },
  {
   "cell_type": "code",
   "execution_count": 5,
   "id": "069b511e",
   "metadata": {},
   "outputs": [
    {
     "data": {
      "text/plain": [
       "tensor(0.6755)"
      ]
     },
     "execution_count": 5,
     "metadata": {},
     "output_type": "execute_result"
    }
   ],
   "source": [
    "(cross_entropy_loss1 + cross_entropy_loss2)/2.0"
   ]
  },
  {
   "cell_type": "code",
   "execution_count": null,
   "id": "0976862a",
   "metadata": {},
   "outputs": [],
   "source": []
  },
  {
   "cell_type": "code",
   "execution_count": null,
   "id": "99f61966",
   "metadata": {},
   "outputs": [],
   "source": []
  },
  {
   "cell_type": "code",
   "execution_count": null,
   "id": "318586d0",
   "metadata": {},
   "outputs": [],
   "source": []
  }
 ],
 "metadata": {
  "kernelspec": {
   "display_name": "Python 3 (Spyder)",
   "language": "python3",
   "name": "python3"
  },
  "language_info": {
   "codemirror_mode": {
    "name": "ipython",
    "version": 3
   },
   "file_extension": ".py",
   "mimetype": "text/x-python",
   "name": "python",
   "nbconvert_exporter": "python",
   "pygments_lexer": "ipython3",
   "version": "3.10.9"
  }
 },
 "nbformat": 4,
 "nbformat_minor": 5
}
