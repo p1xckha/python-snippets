{
 "cells": [
  {
   "cell_type": "code",
   "execution_count": 1,
   "id": "2026b4db",
   "metadata": {},
   "outputs": [],
   "source": [
    "#############################################################\n",
    "# backward example\n",
    "#############################################################\n",
    "\n"
   ]
  },
  {
   "cell_type": "code",
   "execution_count": 2,
   "id": "e23bdc0f",
   "metadata": {},
   "outputs": [
    {
     "data": {
      "text/plain": [
       "tensor(9., grad_fn=<PowBackward0>)"
      ]
     },
     "execution_count": 2,
     "metadata": {},
     "output_type": "execute_result"
    }
   ],
   "source": [
    "import torch\n",
    "import matplotlib.pyplot as plt\n",
    "import numpy as np\n",
    "\n",
    "x = torch.tensor(3.0,  requires_grad=True)\n",
    "y = x ** 2\n",
    "y"
   ]
  },
  {
   "cell_type": "code",
   "execution_count": 3,
   "id": "baa949f8",
   "metadata": {},
   "outputs": [
    {
     "data": {
      "text/plain": [
       "0"
      ]
     },
     "execution_count": 3,
     "metadata": {},
     "output_type": "execute_result"
    }
   ],
   "source": [
    "y.dim() # y is a scalar tensor"
   ]
  },
  {
   "cell_type": "code",
   "execution_count": 4,
   "id": "a1301484",
   "metadata": {},
   "outputs": [
    {
     "data": {
      "text/plain": [
       "tensor(6.)"
      ]
     },
     "execution_count": 4,
     "metadata": {},
     "output_type": "execute_result"
    }
   ],
   "source": [
    "y.backward() # scalar tensors can execute backward()\n",
    "x.grad # df(x)/dx at x=3"
   ]
  },
  {
   "cell_type": "code",
   "execution_count": 5,
   "id": "6a3a6b01",
   "metadata": {},
   "outputs": [
    {
     "data": {
      "text/plain": [
       "tensor([[ 9.],\n",
       "        [16.]], grad_fn=<PowBackward0>)"
      ]
     },
     "execution_count": 5,
     "metadata": {},
     "output_type": "execute_result"
    }
   ],
   "source": [
    "X = torch.tensor([[3.0], [4.0]],  requires_grad=True)\n",
    "Y = X ** 2\n",
    "Y # (2, 1) tensor, not a scalar tensor"
   ]
  },
  {
   "cell_type": "code",
   "execution_count": 6,
   "id": "373ec1cf",
   "metadata": {},
   "outputs": [
    {
     "data": {
      "text/plain": [
       "2"
      ]
     },
     "execution_count": 6,
     "metadata": {},
     "output_type": "execute_result"
    }
   ],
   "source": [
    "Y.dim()"
   ]
  },
  {
   "cell_type": "code",
   "execution_count": 7,
   "id": "ce4bf634",
   "metadata": {},
   "outputs": [
    {
     "name": "stdout",
     "output_type": "stream",
     "text": [
      "grad can be implicitly created only for scalar outputs\n"
     ]
    }
   ],
   "source": [
    "# 2D tensor can not execute backward()\n",
    "try:\n",
    "    Y.backward() # Y can not execute backward()\n",
    "except Exception as e:\n",
    "    print(e)"
   ]
  },
  {
   "cell_type": "code",
   "execution_count": null,
   "id": "f8a37193",
   "metadata": {},
   "outputs": [],
   "source": []
  },
  {
   "cell_type": "code",
   "execution_count": 8,
   "id": "536ae424",
   "metadata": {},
   "outputs": [
    {
     "data": {
      "image/png": "[encoded data removed]",
      "text/plain": [
       "<Figure size 432x288 with 1 Axes>"
      ]
     },
     "metadata": {},
     "output_type": "display_data"
    }
   ],
   "source": [
    "################################################\n",
    "# Calculate the derivatives of f(X)=x**x\n",
    "################################################\n",
    "\n",
    "import torch\n",
    "import matplotlib.pyplot as plt\n",
    "import numpy as np\n",
    "\n",
    "# avoid kernel crash\n",
    "import os\n",
    "os.environ['KMP_DUPLICATE_LIB_OK'] = 'TRUE'\n",
    "\n",
    "X = torch.arange(0, 10, 0.01, requires_grad=True)\n",
    "Y = X ** 2\n",
    "total = Y.sum() # X[0]**2 + X[1]**2 + ... \n",
    "total.backward() # scalar tensor\n",
    "derivatives = X.grad.detach().numpy() # d(total)/dX = (2X[0], 2X[1], ...)\n",
    "\n",
    "# plot the derivatives\n",
    "fig, ax = plt.subplots()\n",
    "ax.plot(X.detach().numpy(), Y.detach().numpy(), label='f(x)=x*x')\n",
    "ax.plot(X.detach().numpy(), derivatives, label=\"df(x)/dx\")\n",
    "ax.legend()\n",
    "\n",
    "plt.show()"
   ]
  },
  {
   "cell_type": "code",
   "execution_count": null,
   "id": "0d8bcf53",
   "metadata": {},
   "outputs": [],
   "source": []
  },
  {
   "cell_type": "code",
   "execution_count": 9,
   "id": "9b002942",
   "metadata": {},
   "outputs": [
    {
     "data": {
      "text/plain": [
       "tensor([[ 0.0702],\n",
       "        [-0.0118],\n",
       "        [ 0.1278],\n",
       "        [ 0.0256],\n",
       "        [-0.1224],\n",
       "        [-0.1304],\n",
       "        [-0.0500],\n",
       "        [ 0.1578],\n",
       "        [-0.1024]])"
      ]
     },
     "execution_count": 9,
     "metadata": {},
     "output_type": "execute_result"
    }
   ],
   "source": [
    "import torch\n",
    "from torch.nn import Linear\n",
    "from torch import nn, optim\n",
    "import matplotlib.pyplot as plt\n",
    "\n",
    "# avoid kernel crash\n",
    "import os\n",
    "os.environ['KMP_DUPLICATE_LIB_OK'] = 'TRUE'\n",
    "\n",
    "class Network(nn.Module):\n",
    "    def __init__(self, input_size, output_size):\n",
    "        super(Network, self).__init__()\n",
    "        self.seq = nn.Sequential(\n",
    "            nn.Linear(input_size, 256),\n",
    "            nn.ReLU(),\n",
    "            nn.Linear(256, output_size)\n",
    "            )\n",
    "    def forward(self, x):\n",
    "        y = self.seq(x)\n",
    "        return y\n",
    "\n",
    "X = torch.tensor([[1.0], [1.5], [2.0], [2.5], [3.0], [3.5], [4.0], [4.5], [5.0]]) # (5,1) tensor\n",
    "\n",
    "# Generate (5,1) noise tensor\n",
    "mean = 0.0\n",
    "variance = 0.1\n",
    "noise = torch.normal(mean, variance, size=X.size())\n",
    "\n",
    "# label\n",
    "Y = X ** 2 + noise # (5,1) tensor\n",
    "noise"
   ]
  },
  {
   "cell_type": "code",
   "execution_count": 10,
   "id": "c37ee76c",
   "metadata": {},
   "outputs": [
    {
     "data": {
      "text/plain": [
       "<matplotlib.legend.Legend at 0x29623c7c460>"
      ]
     },
     "execution_count": 10,
     "metadata": {},
     "output_type": "execute_result"
    },
    {
     "data": {
      "image/png": "[encoded data removed]",
      "text/plain": [
       "<Figure size 432x288 with 1 Axes>"
      ]
     },
     "metadata": {},
     "output_type": "display_data"
    },
    {
     "data": {
      "image/png": "[encoded data removed]",
      "text/plain": [
       "<Figure size 432x288 with 1 Axes>"
      ]
     },
     "metadata": {},
     "output_type": "display_data"
    }
   ],
   "source": [
    "# training\n",
    "net = Network(1,1)\n",
    "criterion = nn.MSELoss()\n",
    "optimizer = optim.Adam(net.parameters(), lr=0.001)\n",
    "losses = []\n",
    "for i in range(3000):\n",
    "    yhat = net(X)\n",
    "    loss = criterion(yhat, Y)\n",
    "    losses.append(loss.item())\n",
    "    optimizer.zero_grad()\n",
    "    loss.backward()\n",
    "    optimizer.step()\n",
    "\n",
    "# predict\n",
    "with torch.no_grad():\n",
    "    t = torch.tensor(np.arange(0, 5, 0.1), dtype=torch.float32).unsqueeze(1) # (50, 1) tensor\n",
    "    result = net(t)\n",
    "\n",
    "# plot prediction\n",
    "fig, ax = plt.subplots()\n",
    "ax.plot(X.detach().numpy(), Y.detach().numpy(), label='observed')\n",
    "ax.plot(t.detach().numpy(), result, label=\"prediction\")\n",
    "ax.legend()\n",
    "\n",
    "# plot losses\n",
    "fig, ax = plt.subplots()\n",
    "ax.plot(losses, label='loss')\n",
    "ax.legend()"
   ]
  },
  {
   "cell_type": "code",
   "execution_count": 11,
   "id": "7f52182a",
   "metadata": {},
   "outputs": [
    {
     "name": "stdout",
     "output_type": "stream",
     "text": [
      "Trying to backward through the graph a second time (or directly access saved tensors after they have already been freed). Saved intermediate values of the graph are freed when you call .backward() or autograd.grad(). Specify retain_graph=True if you need to backward through the graph a second time or if you need to access saved tensors after calling backward.\n"
     ]
    }
   ],
   "source": [
    "#####################################################################################\n",
    "# executing backward() twice on the same computation graph can cause a RuntimeError\n",
    "#===================================================================================\n",
    "import torch\n",
    "try:\n",
    "    x = torch.tensor(2.0, requires_grad=True)\n",
    "    y = x ** 2\n",
    "    y.backward()\n",
    "    y.backward()  \n",
    "except RuntimeError as e:\n",
    "    print(e)"
   ]
  },
  {
   "cell_type": "code",
   "execution_count": 12,
   "id": "663362f6",
   "metadata": {},
   "outputs": [
    {
     "data": {
      "text/plain": [
       "tensor(4.)"
      ]
     },
     "execution_count": 12,
     "metadata": {},
     "output_type": "execute_result"
    }
   ],
   "source": [
    "import torch\n",
    "\n",
    "x = torch.tensor(2.0, requires_grad=True)\n",
    "y = x ** 2\n",
    "\n",
    "y.backward(retain_graph=True)  \n",
    "x.grad"
   ]
  },
  {
   "cell_type": "code",
   "execution_count": 13,
   "id": "0caa03fc",
   "metadata": {},
   "outputs": [
    {
     "data": {
      "text/plain": [
       "tensor(8.)"
      ]
     },
     "execution_count": 13,
     "metadata": {},
     "output_type": "execute_result"
    }
   ],
   "source": [
    "y.backward(retain_graph=True) \n",
    "x.grad # unexpected?"
   ]
  },
  {
   "cell_type": "code",
   "execution_count": 14,
   "id": "449fcd2a",
   "metadata": {},
   "outputs": [
    {
     "data": {
      "text/plain": [
       "tensor(12.)"
      ]
     },
     "execution_count": 14,
     "metadata": {},
     "output_type": "execute_result"
    }
   ],
   "source": [
    "y.backward(retain_graph=True) \n",
    "x.grad # unexpected?"
   ]
  },
  {
   "cell_type": "code",
   "execution_count": 15,
   "id": "08ab4135",
   "metadata": {},
   "outputs": [
    {
     "data": {
      "text/plain": [
       "tensor(28.)"
      ]
     },
     "execution_count": 15,
     "metadata": {},
     "output_type": "execute_result"
    }
   ],
   "source": [
    "y.backward(retain_graph=True)  \n",
    "y.backward(retain_graph=True)  \n",
    "y.backward(retain_graph=True)  \n",
    "y.backward(retain_graph=True)  \n",
    "\n",
    "x.grad"
   ]
  },
  {
   "cell_type": "code",
   "execution_count": 16,
   "id": "d3580dfc",
   "metadata": {},
   "outputs": [
    {
     "data": {
      "text/plain": [
       "tensor(0.)"
      ]
     },
     "execution_count": 16,
     "metadata": {},
     "output_type": "execute_result"
    }
   ],
   "source": [
    "x.grad.data.zero_()\n",
    "x.grad"
   ]
  },
  {
   "cell_type": "code",
   "execution_count": 17,
   "id": "a577ba3e",
   "metadata": {},
   "outputs": [
    {
     "data": {
      "text/plain": [
       "tensor(4.)"
      ]
     },
     "execution_count": 17,
     "metadata": {},
     "output_type": "execute_result"
    }
   ],
   "source": [
    "y.backward(retain_graph=True) \n",
    "x.grad"
   ]
  },
  {
   "cell_type": "code",
   "execution_count": null,
   "id": "692d9b86",
   "metadata": {},
   "outputs": [],
   "source": []
  }
 ],
 "metadata": {
  "kernelspec": {
   "display_name": "Python 3 (Spyder)",
   "language": "python3",
   "name": "python3"
  },
  "language_info": {
   "codemirror_mode": {
    "name": "ipython",
    "version": 3
   },
   "file_extension": ".py",
   "mimetype": "text/x-python",
   "name": "python",
   "nbconvert_exporter": "python",
   "pygments_lexer": "ipython3",
   "version": "3.10.9"
  }
 },
 "nbformat": 4,
 "nbformat_minor": 5
}
