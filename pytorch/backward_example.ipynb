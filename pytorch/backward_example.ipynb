{
 "cells": [
  {
   "cell_type": "code",
   "execution_count": 1,
   "id": "75f28a08",
   "metadata": {},
   "outputs": [],
   "source": [
    "#############################################################\n",
    "# backward example\n",
    "#############################################################\n",
    "\n"
   ]
  },
  {
   "cell_type": "code",
   "execution_count": 2,
   "id": "da2ab25b",
   "metadata": {},
   "outputs": [
    {
     "data": {
      "text/plain": [
       "tensor(9., grad_fn=<PowBackward0>)"
      ]
     },
     "execution_count": 2,
     "metadata": {},
     "output_type": "execute_result"
    }
   ],
   "source": [
    "import torch\n",
    "import matplotlib.pyplot as plt\n",
    "import numpy as np\n",
    "\n",
    "x = torch.tensor(3.0,  requires_grad=True)\n",
    "y = x ** 2\n",
    "y"
   ]
  },
  {
   "cell_type": "code",
   "execution_count": 3,
   "id": "3af33919",
   "metadata": {},
   "outputs": [
    {
     "data": {
      "text/plain": [
       "0"
      ]
     },
     "execution_count": 3,
     "metadata": {},
     "output_type": "execute_result"
    }
   ],
   "source": [
    "y.dim() # y is a scalar tensor"
   ]
  },
  {
   "cell_type": "code",
   "execution_count": 4,
   "id": "f5082f99",
   "metadata": {},
   "outputs": [
    {
     "data": {
      "text/plain": [
       "tensor(6.)"
      ]
     },
     "execution_count": 4,
     "metadata": {},
     "output_type": "execute_result"
    }
   ],
   "source": [
    "y.backward() # scalar tensors can execute backward()\n",
    "x.grad # df(x)/dx at x=3"
   ]
  },
  {
   "cell_type": "code",
   "execution_count": 5,
   "id": "7d5b250f",
   "metadata": {},
   "outputs": [
    {
     "data": {
      "text/plain": [
       "tensor([[ 9.],\n",
       "        [16.]], grad_fn=<PowBackward0>)"
      ]
     },
     "execution_count": 5,
     "metadata": {},
     "output_type": "execute_result"
    }
   ],
   "source": [
    "X = torch.tensor([[3.0], [4.0]],  requires_grad=True)\n",
    "Y = X ** 2\n",
    "Y # (2, 1) tensor, not a scalar tensor"
   ]
  },
  {
   "cell_type": "code",
   "execution_count": 6,
   "id": "5a72c035",
   "metadata": {},
   "outputs": [
    {
     "data": {
      "text/plain": [
       "2"
      ]
     },
     "execution_count": 6,
     "metadata": {},
     "output_type": "execute_result"
    }
   ],
   "source": [
    "Y.dim()"
   ]
  },
  {
   "cell_type": "code",
   "execution_count": 7,
   "id": "312812bd",
   "metadata": {},
   "outputs": [
    {
     "name": "stdout",
     "output_type": "stream",
     "text": [
      "grad can be implicitly created only for scalar outputs\n"
     ]
    }
   ],
   "source": [
    "# 2D tensor can not execute backward()\n",
    "try:\n",
    "    Y.backward() # Y can not execute backward()\n",
    "except Exception as e:\n",
    "    print(e)"
   ]
  },
  {
   "cell_type": "code",
   "execution_count": null,
   "id": "4054d72b",
   "metadata": {},
   "outputs": [],
   "source": []
  },
  {
   "cell_type": "code",
   "execution_count": 8,
   "id": "bf0f4f74",
   "metadata": {},
   "outputs": [
    {
     "data": {
      "image/png": "[encoded data removed]",
      "text/plain": [
       "<Figure size 432x288 with 1 Axes>"
      ]
     },
     "metadata": {},
     "output_type": "display_data"
    }
   ],
   "source": [
    "################################################\n",
    "# Calculate the derivatives of f(X)=x**x\n",
    "################################################\n",
    "\n",
    "import torch\n",
    "import matplotlib.pyplot as plt\n",
    "import numpy as np\n",
    "\n",
    "# avoid kernel crash\n",
    "import os\n",
    "os.environ['KMP_DUPLICATE_LIB_OK'] = 'TRUE'\n",
    "\n",
    "X = torch.arange(0, 10, 0.01, requires_grad=True)\n",
    "Y = X ** 2\n",
    "total = Y.sum() # X[0]**2 + X[1]**2 + ... \n",
    "total.backward() # scalar tensor\n",
    "derivatives = X.grad.detach().numpy() # d(total)/dX = (2X[0], 2X[1], ...)\n",
    "\n",
    "# plot the derivatives\n",
    "fig, ax = plt.subplots()\n",
    "ax.plot(X.detach().numpy(), Y.detach().numpy(), label='f(x)=x*x')\n",
    "ax.plot(X.detach().numpy(), derivatives, label=\"df(x)/dx\")\n",
    "ax.legend()\n",
    "\n",
    "plt.show()"
   ]
  },
  {
   "cell_type": "code",
   "execution_count": null,
   "id": "e626ec4b",
   "metadata": {},
   "outputs": [],
   "source": []
  },
  {
   "cell_type": "code",
   "execution_count": 9,
   "id": "74d797e1",
   "metadata": {},
   "outputs": [
    {
     "data": {
      "text/plain": [
       "tensor([[-0.1057],\n",
       "        [ 0.0251],\n",
       "        [-0.0953],\n",
       "        [-0.0312],\n",
       "        [-0.0455],\n",
       "        [ 0.1112],\n",
       "        [-0.0386],\n",
       "        [ 0.0878],\n",
       "        [-0.0029]])"
      ]
     },
     "execution_count": 9,
     "metadata": {},
     "output_type": "execute_result"
    }
   ],
   "source": [
    "import torch\n",
    "from torch.nn import Linear\n",
    "from torch import nn, optim\n",
    "import matplotlib.pyplot as plt\n",
    "\n",
    "# avoid kernel crash\n",
    "import os\n",
    "os.environ['KMP_DUPLICATE_LIB_OK'] = 'TRUE'\n",
    "\n",
    "class Network(nn.Module):\n",
    "    def __init__(self, input_size, output_size):\n",
    "        super(Network, self).__init__()\n",
    "        self.seq = nn.Sequential(\n",
    "            nn.Linear(input_size, 256),\n",
    "            nn.ReLU(),\n",
    "            nn.Linear(256, output_size)\n",
    "            )\n",
    "    def forward(self, x):\n",
    "        y = self.seq(x)\n",
    "        return y\n",
    "\n",
    "X = torch.tensor([[1.0], [1.5], [2.0], [2.5], [3.0], [3.5], [4.0], [4.5], [5.0]]) # (5,1) tensor\n",
    "\n",
    "# Generate (5,1) noise tensor\n",
    "mean = 0.0\n",
    "variance = 0.1\n",
    "noise = torch.normal(mean, variance, size=X.size())\n",
    "\n",
    "# label\n",
    "Y = X ** 2 + noise # (5,1) tensor\n",
    "noise"
   ]
  },
  {
   "cell_type": "code",
   "execution_count": 16,
   "id": "0d8e9850",
   "metadata": {},
   "outputs": [
    {
     "data": {
      "text/plain": [
       "<matplotlib.legend.Legend at 0x1cb26a1e0b0>"
      ]
     },
     "execution_count": 16,
     "metadata": {},
     "output_type": "execute_result"
    },
    {
     "data": {
      "image/png": "[encoded data removed]",
      "text/plain": [
       "<Figure size 432x288 with 1 Axes>"
      ]
     },
     "metadata": {},
     "output_type": "display_data"
    },
    {
     "data": {
      "image/png": "[encoded data removed]",
      "text/plain": [
       "<Figure size 432x288 with 1 Axes>"
      ]
     },
     "metadata": {},
     "output_type": "display_data"
    }
   ],
   "source": [
    "# training\n",
    "net = Network(1,1)\n",
    "criterion = nn.MSELoss()\n",
    "optimizer = optim.Adam(net.parameters(), lr=0.001)\n",
    "losses = []\n",
    "for i in range(3000):\n",
    "    yhat = net(X)\n",
    "    loss = criterion(yhat, Y)\n",
    "    losses.append(loss.item())\n",
    "    optimizer.zero_grad()\n",
    "    loss.backward()\n",
    "    optimizer.step()\n",
    "\n",
    "# predict\n",
    "with torch.no_grad():\n",
    "    t = torch.tensor(np.arange(0, 5, 0.1), dtype=torch.float32).unsqueeze(1) # (50, 1) tensor\n",
    "    result = net(t)\n",
    "\n",
    "# plot prediction\n",
    "fig, ax = plt.subplots()\n",
    "ax.plot(X.detach().numpy(), Y.detach().numpy(), label='observed')\n",
    "ax.plot(t.detach().numpy(), result, label=\"prediction\")\n",
    "ax.legend()\n",
    "\n",
    "# plot losses\n",
    "fig, ax = plt.subplots()\n",
    "ax.plot(losses, label='loss')\n",
    "ax.legend()"
   ]
  },
  {
   "cell_type": "code",
   "execution_count": null,
   "id": "6d0db687",
   "metadata": {},
   "outputs": [],
   "source": []
  },
  {
   "cell_type": "code",
   "execution_count": null,
   "id": "b89695f4",
   "metadata": {},
   "outputs": [],
   "source": []
  },
  {
   "cell_type": "code",
   "execution_count": null,
   "id": "e34ee5bb",
   "metadata": {},
   "outputs": [],
   "source": []
  },
  {
   "cell_type": "code",
   "execution_count": null,
   "id": "eb1e491b",
   "metadata": {},
   "outputs": [],
   "source": []
  }
 ],
 "metadata": {
  "kernelspec": {
   "display_name": "Python 3 (Spyder)",
   "language": "python3",
   "name": "python3"
  },
  "language_info": {
   "codemirror_mode": {
    "name": "ipython",
    "version": 3
   },
   "file_extension": ".py",
   "mimetype": "text/x-python",
   "name": "python",
   "nbconvert_exporter": "python",
   "pygments_lexer": "ipython3",
   "version": "3.10.9"
  }
 },
 "nbformat": 4,
 "nbformat_minor": 5
}
