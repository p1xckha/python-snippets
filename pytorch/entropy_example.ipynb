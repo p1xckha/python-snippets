{
 "cells": [
  {
   "cell_type": "markdown",
   "id": "bd6fa7f0",
   "metadata": {},
   "source": [
    "# entropy"
   ]
  },
  {
   "cell_type": "markdown",
   "id": "9c8edd04",
   "metadata": {},
   "source": [
    "entropy of distribution p:\n",
    "\n",
    "$$entropy := -\\sum_{x \\in \\mathcal{X}} p(x) \\log p(x) = \\mathbb{E}[-\\log p(X)] $$\n",
    "\n",
    "[Entropy (information theory) - Wikipedia](https://en.wikipedia.org/wiki/Entropy_(information_theory))"
   ]
  },
  {
   "cell_type": "markdown",
   "id": "db37c226",
   "metadata": {},
   "source": [
    "# compute entropy"
   ]
  },
  {
   "cell_type": "code",
   "execution_count": 1,
   "id": "88fce7d4",
   "metadata": {},
   "outputs": [
    {
     "data": {
      "text/plain": [
       "tensor(1.2799)"
      ]
     },
     "execution_count": 1,
     "metadata": {},
     "output_type": "execute_result"
    }
   ],
   "source": [
    "# entropy example\n",
    "\n",
    "# https://pytorch.org/docs/stable/distributions.html\n",
    "\n",
    "import torch\n",
    "import torch.nn.functional as F\n",
    "from torch.distributions import Categorical\n",
    "\n",
    "# Define a probability distribution\n",
    "probabilities = torch.tensor([0.4, 0.3, 0.2, 0.1])\n",
    "\n",
    "distribution = Categorical(probabilities)\n",
    "entropy = distribution.entropy()\n",
    "entropy"
   ]
  },
  {
   "cell_type": "code",
   "execution_count": 2,
   "id": "72c5d589",
   "metadata": {},
   "outputs": [
    {
     "name": "stdout",
     "output_type": "stream",
     "text": [
      "Entropy: 1.27985417842865\n"
     ]
    }
   ],
   "source": [
    "# Calculate the log probabilities\n",
    "log_probs = torch.log(probabilities)\n",
    "\n",
    "# Calculate the entropy\n",
    "entropy = -torch.sum(probabilities * log_probs)\n",
    "\n",
    "# Print the entropy\n",
    "print(\"Entropy:\", entropy.item())"
   ]
  },
  {
   "cell_type": "markdown",
   "id": "9cfadc5e",
   "metadata": {},
   "source": [
    "# compute entropys"
   ]
  },
  {
   "cell_type": "code",
   "execution_count": 3,
   "id": "d061a313",
   "metadata": {},
   "outputs": [
    {
     "data": {
      "text/plain": [
       "tensor([1.2799, 1.1683])"
      ]
     },
     "execution_count": 3,
     "metadata": {},
     "output_type": "execute_result"
    }
   ],
   "source": [
    "import torch\n",
    "from torch.distributions import Categorical\n",
    "\n",
    "probabilities = torch.tensor([[0.4, 0.3, 0.2, 0.1], [0.5, 0.1, 0.1, 0.3]])\n",
    "distribution = Categorical(probabilities)\n",
    "entropys = distribution.entropy()\n",
    "entropys"
   ]
  },
  {
   "cell_type": "code",
   "execution_count": 4,
   "id": "3fdf4496",
   "metadata": {},
   "outputs": [
    {
     "data": {
      "text/plain": [
       "tensor(1.2241)"
      ]
     },
     "execution_count": 4,
     "metadata": {},
     "output_type": "execute_result"
    }
   ],
   "source": [
    "entropys.mean()"
   ]
  },
  {
   "cell_type": "code",
   "execution_count": null,
   "id": "531c5fef",
   "metadata": {},
   "outputs": [],
   "source": []
  }
 ],
 "metadata": {
  "kernelspec": {
   "display_name": "Python 3 (Spyder)",
   "language": "python3",
   "name": "python3"
  },
  "language_info": {
   "codemirror_mode": {
    "name": "ipython",
    "version": 3
   },
   "file_extension": ".py",
   "mimetype": "text/x-python",
   "name": "python",
   "nbconvert_exporter": "python",
   "pygments_lexer": "ipython3",
   "version": "3.10.9"
  }
 },
 "nbformat": 4,
 "nbformat_minor": 5
}
