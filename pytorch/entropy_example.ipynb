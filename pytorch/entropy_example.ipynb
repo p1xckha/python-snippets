{
 "cells": [
  {
   "cell_type": "markdown",
   "id": "9a0b53ee",
   "metadata": {},
   "source": [
    "# entropy"
   ]
  },
  {
   "cell_type": "markdown",
   "id": "720d2426",
   "metadata": {},
   "source": [
    "entropy of distribution p:\n",
    "\n",
    "$$entropy := -\\sum_{x \\in \\mathcal{X}} p(x) \\log p(x) = \\mathbb{E}[-\\log p(X)] $$\n",
    "\n",
    "entropy is a measure of uncertainty.\n",
    "\n",
    "[Entropy (information theory) - Wikipedia](https://en.wikipedia.org/wiki/Entropy_(information_theory))"
   ]
  },
  {
   "cell_type": "markdown",
   "id": "6fb59d1c",
   "metadata": {},
   "source": [
    "# y = -x log(x)"
   ]
  },
  {
   "cell_type": "code",
   "execution_count": 1,
   "id": "7b91d15b",
   "metadata": {},
   "outputs": [
    {
     "data": {
      "image/png": "[encoded data removed]",
      "text/plain": [
       "<Figure size 432x288 with 1 Axes>"
      ]
     },
     "metadata": {},
     "output_type": "display_data"
    }
   ],
   "source": [
    "import numpy as np\n",
    "import matplotlib.pyplot as plt\n",
    "\n",
    "x = np.linspace(0.00001, 1, 100)  # Generate an array of x values\n",
    "y = -x * np.log(x)  # Compute the corresponding y values\n",
    "\n",
    "plt.plot(x, y)  # Plot x*log(x)\n",
    "plt.xlabel('x')  # Set the x-axis label\n",
    "plt.ylabel('y')  # Set the y-axis label\n",
    "plt.title('Plot of -x*log(x)')  # Set the plot title\n",
    "plt.grid(True)  # Show grid lines\n",
    "plt.show()  # Show the plot"
   ]
  },
  {
   "cell_type": "markdown",
   "id": "1109bc43",
   "metadata": {},
   "source": [
    "# compute entropy"
   ]
  },
  {
   "cell_type": "code",
   "execution_count": 2,
   "id": "da5721cf",
   "metadata": {},
   "outputs": [
    {
     "data": {
      "text/plain": [
       "tensor(1.2799)"
      ]
     },
     "execution_count": 2,
     "metadata": {},
     "output_type": "execute_result"
    }
   ],
   "source": [
    "# entropy example\n",
    "\n",
    "# https://pytorch.org/docs/stable/distributions.html\n",
    "\n",
    "import torch\n",
    "import torch.nn.functional as F\n",
    "from torch.distributions import Categorical\n",
    "\n",
    "# Define a probability distribution\n",
    "probabilities = torch.tensor([0.4, 0.3, 0.2, 0.1])\n",
    "\n",
    "distribution = Categorical(probabilities)\n",
    "entropy = distribution.entropy()\n",
    "entropy"
   ]
  },
  {
   "cell_type": "code",
   "execution_count": 3,
   "id": "e6f7bf51",
   "metadata": {},
   "outputs": [
    {
     "name": "stdout",
     "output_type": "stream",
     "text": [
      "Entropy: 1.27985417842865\n"
     ]
    }
   ],
   "source": [
    "# Calculate the log probabilities\n",
    "log_probs = torch.log(probabilities)\n",
    "\n",
    "# Calculate the entropy\n",
    "entropy = -torch.sum(probabilities * log_probs)\n",
    "\n",
    "# Print the entropy\n",
    "print(\"Entropy:\", entropy.item())"
   ]
  },
  {
   "cell_type": "markdown",
   "id": "2c6ee300",
   "metadata": {},
   "source": [
    "# compute entropys"
   ]
  },
  {
   "cell_type": "code",
   "execution_count": 4,
   "id": "bf211497",
   "metadata": {},
   "outputs": [
    {
     "data": {
      "text/plain": [
       "tensor([1.3863, 1.2799, 0.0663])"
      ]
     },
     "execution_count": 4,
     "metadata": {},
     "output_type": "execute_result"
    }
   ],
   "source": [
    "import torch\n",
    "from torch.distributions import Categorical\n",
    "\n",
    "probabilities = torch.tensor([[0.25, 0.25, 0.25, 0.25], [0.4, 0.3, 0.2, 0.1],[0.99, 0.002, 0.003, 0.005]])\n",
    "distribution = Categorical(probabilities)\n",
    "entropys = distribution.entropy()\n",
    "entropys"
   ]
  },
  {
   "cell_type": "code",
   "execution_count": 5,
   "id": "f8370e32",
   "metadata": {},
   "outputs": [
    {
     "data": {
      "text/plain": [
       "tensor(0.9108)"
      ]
     },
     "execution_count": 5,
     "metadata": {},
     "output_type": "execute_result"
    }
   ],
   "source": [
    "entropys.mean()"
   ]
  },
  {
   "cell_type": "markdown",
   "id": "dee31b7d",
   "metadata": {},
   "source": [
    "# entropy of P is the highest when P is uniform"
   ]
  },
  {
   "cell_type": "code",
   "execution_count": 6,
   "id": "03ac18a2",
   "metadata": {},
   "outputs": [
    {
     "data": {
      "image/png": "[encoded data removed]",
      "text/plain": [
       "<Figure size 432x288 with 1 Axes>"
      ]
     },
     "metadata": {},
     "output_type": "display_data"
    }
   ],
   "source": [
    "import matplotlib.pyplot as plt\n",
    "\n",
    "fig, ax = plt.subplots()\n",
    "ax.bar(range(4), [0.25, 0.25, 0.25, 0.25]) # it is uncertain what occurs\n",
    "ax.set_xlabel('Class')\n",
    "ax.set_ylabel('Probability')\n",
    "plt.show()"
   ]
  },
  {
   "cell_type": "markdown",
   "id": "9ed8676e",
   "metadata": {},
   "source": [
    "# we can prove this by Lagrange multiplier\n",
    "\n",
    "$$L(p, \\lambda) = - \\sum_{j=1}^n p_j \\log p_j + \\lambda (\\sum_{j=1}^n p_j - 1) $$\n",
    "taking derivative with respect to p:\n",
    "$$L(p, \\lambda)/\\partial p  = \\lambda - 1 - \\log p = \\mathbf{0}$$\n",
    "$$ \\lambda = 1 + \\log p_1 = 1 + \\log p_2 = \\cdots = 1 + \\log p_n  $$\n",
    "$$ p_1 = p_2 = \\cdots = p_n  $$"
   ]
  },
  {
   "cell_type": "code",
   "execution_count": null,
   "id": "babb2114",
   "metadata": {},
   "outputs": [],
   "source": []
  }
 ],
 "metadata": {
  "kernelspec": {
   "display_name": "Python 3 (Spyder)",
   "language": "python3",
   "name": "python3"
  },
  "language_info": {
   "codemirror_mode": {
    "name": "ipython",
    "version": 3
   },
   "file_extension": ".py",
   "mimetype": "text/x-python",
   "name": "python",
   "nbconvert_exporter": "python",
   "pygments_lexer": "ipython3",
   "version": "3.10.9"
  }
 },
 "nbformat": 4,
 "nbformat_minor": 5
}
