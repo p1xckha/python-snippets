{
 "cells": [
  {
   "cell_type": "markdown",
   "id": "08f56211",
   "metadata": {},
   "source": [
    "# entropy"
   ]
  },
  {
   "cell_type": "markdown",
   "id": "a68344d1",
   "metadata": {},
   "source": [
    "entropy of distribution p:\n",
    "\n",
    "$$entropy := -\\sum_{x \\in \\mathcal{X}} p(x) \\log p(x) = \\mathbb{E}[-\\log p(X)] $$\n",
    "\n",
    "https://en.wikipedia.org/wiki/Entropy_(information_theory)"
   ]
  },
  {
   "cell_type": "markdown",
   "id": "fdc21457",
   "metadata": {},
   "source": [
    "# compute entropy"
   ]
  },
  {
   "cell_type": "code",
   "execution_count": 2,
   "id": "b96e50ed",
   "metadata": {},
   "outputs": [
    {
     "data": {
      "text/plain": [
       "tensor(1.2799)"
      ]
     },
     "execution_count": 2,
     "metadata": {},
     "output_type": "execute_result"
    }
   ],
   "source": [
    "# entropy example\n",
    "\n",
    "# https://pytorch.org/docs/stable/distributions.html\n",
    "\n",
    "import torch\n",
    "import torch.nn.functional as F\n",
    "from torch.distributions import Categorical\n",
    "\n",
    "# Define a probability distribution\n",
    "probabilities = torch.tensor([0.4, 0.3, 0.2, 0.1])\n",
    "\n",
    "distribution = Categorical(probabilities)\n",
    "entropy = distribution.entropy()\n",
    "entropy"
   ]
  },
  {
   "cell_type": "code",
   "execution_count": 3,
   "id": "ec89302d",
   "metadata": {},
   "outputs": [
    {
     "name": "stdout",
     "output_type": "stream",
     "text": [
      "Entropy: 1.27985417842865\n"
     ]
    }
   ],
   "source": [
    "# Calculate the log probabilities\n",
    "log_probs = torch.log(probabilities)\n",
    "\n",
    "# Calculate the entropy\n",
    "entropy = -torch.sum(probabilities * log_probs)\n",
    "\n",
    "# Print the entropy\n",
    "print(\"Entropy:\", entropy.item())"
   ]
  },
  {
   "cell_type": "markdown",
   "id": "aa776be1",
   "metadata": {},
   "source": [
    "# compute entropys"
   ]
  },
  {
   "cell_type": "code",
   "execution_count": 5,
   "id": "d936669c",
   "metadata": {},
   "outputs": [
    {
     "data": {
      "text/plain": [
       "tensor([1.2799, 1.1683])"
      ]
     },
     "execution_count": 5,
     "metadata": {},
     "output_type": "execute_result"
    }
   ],
   "source": [
    "probabilities = torch.tensor([[0.4, 0.3, 0.2, 0.1], [0.5, 0.1, 0.1, 0.3]])\n",
    "distribution = Categorical(probabilities)\n",
    "entropys = distribution.entropy()\n",
    "entropys"
   ]
  },
  {
   "cell_type": "code",
   "execution_count": 6,
   "id": "d60e0672",
   "metadata": {},
   "outputs": [
    {
     "data": {
      "text/plain": [
       "tensor(1.2241)"
      ]
     },
     "execution_count": 6,
     "metadata": {},
     "output_type": "execute_result"
    }
   ],
   "source": [
    "entropys.mean()"
   ]
  },
  {
   "cell_type": "code",
   "execution_count": null,
   "id": "0ccde759",
   "metadata": {},
   "outputs": [],
   "source": []
  }
 ],
 "metadata": {
  "kernelspec": {
   "display_name": "Python 3 (Spyder)",
   "language": "python3",
   "name": "python3"
  },
  "language_info": {
   "codemirror_mode": {
    "name": "ipython",
    "version": 3
   },
   "file_extension": ".py",
   "mimetype": "text/x-python",
   "name": "python",
   "nbconvert_exporter": "python",
   "pygments_lexer": "ipython3",
   "version": "3.10.9"
  }
 },
 "nbformat": 4,
 "nbformat_minor": 5
}
