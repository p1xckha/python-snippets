{
 "cells": [
  {
   "cell_type": "markdown",
   "id": "4ef909b5",
   "metadata": {},
   "source": [
    "# short corridor enviroment\n",
    "\n",
    "http://www.incompleteideas.net/book/the-book.html \n",
    "Page 323"
   ]
  },
  {
   "cell_type": "markdown",
   "id": "a4ffaa6d",
   "metadata": {},
   "source": [
    "## enviroment"
   ]
  },
  {
   "cell_type": "code",
   "execution_count": 1,
   "id": "98194dca",
   "metadata": {},
   "outputs": [],
   "source": [
    "import numpy as np\n",
    "import torch\n",
    "import torch.nn.functional as F\n",
    "from torch.distributions import Categorical\n",
    "\n",
    "class GridWrold():\n",
    "    def __init__(self):\n",
    "        # enviroment setting\n",
    "        self.num_grid = 4 \n",
    "        self.action_dim = 2 # action= 0 or 1\n",
    "        self.max_steps = 200\n",
    "        \n",
    "        # observation\n",
    "        self.state = 0 # min_state=0, max_state=3\n",
    "        self.terminated = False\n",
    "        self.truncated = False\n",
    "        self.episode_steps = 0\n",
    "        \n",
    "    def step(self, action:int):\n",
    "        # action=0: left, action=1: right\n",
    "        assert isinstance(action, int) \n",
    "        assert action >= 0 and action < self.action_dim\n",
    "        \n",
    "        # in state=1 in this enviroment, an agent moves to the other direction \n",
    "        if self.state == 1:\n",
    "            direction = - (action*2-1) # map: action:[0, 1] -> direction [1, -1]\n",
    "            self.move(direction)\n",
    "        else:\n",
    "            direction = action*2 - 1 # map: action:[0, 1] -> direction [-1, 1]\n",
    "            self.move(direction)\n",
    "                \n",
    "        next_state = self.state\n",
    "        reward = -1\n",
    "        terminated = self.terminated = True if self.state >= self.num_grid - 1 else False\n",
    "        truncated = self.truncated = self.episode_steps >= self.max_steps\n",
    "        info = {}\n",
    "        \n",
    "        return next_state, reward, terminated, truncated, info\n",
    "        \n",
    "    def move(self, direction:int):\n",
    "        # direction: -1 or 1\n",
    "        if not self.terminated and not self.truncated:\n",
    "            # move to next state\n",
    "            self.state += direction\n",
    "            \n",
    "            # state should be between min_state and max_state\n",
    "            if self.state < 0:\n",
    "                self.state = 0\n",
    "            if self.state >= self.num_grid:\n",
    "                self.state = self.num_grid - 1\n",
    "                \n",
    "            # increase steps in the episode\n",
    "            self.episode_steps += 1\n",
    "\n",
    "    def reset(self):\n",
    "        self.state = 0\n",
    "        self.terminated = False\n",
    "        self.truncated = False\n",
    "        self.episode_steps = 0\n",
    "        info = {}\n",
    "        \n",
    "        return self.state, info\n"
   ]
  },
  {
   "cell_type": "markdown",
   "id": "62c114af",
   "metadata": {},
   "source": [
    "## take random actions"
   ]
  },
  {
   "cell_type": "code",
   "execution_count": 2,
   "id": "3df610ae",
   "metadata": {},
   "outputs": [
    {
     "data": {
      "text/plain": [
       "-11.976"
      ]
     },
     "execution_count": 2,
     "metadata": {},
     "output_type": "execute_result"
    }
   ],
   "source": [
    "#########################\n",
    "# take random actions\n",
    "#########################\n",
    "\n",
    "env = GridWrold()\n",
    "state, _ = env.reset()\n",
    "\n",
    "NUM_TEST=500\n",
    "total_rewards = np.zeros(NUM_TEST)\n",
    "for j in range(NUM_TEST):\n",
    "    total_reward = 0.0\n",
    "    state, _ = env.reset()\n",
    "    for i in range(1, 200):\n",
    "        action = np.random.randint(2)\n",
    "        next_state, reward, terminated, truncated, info = env.step(action)\n",
    "        total_reward += reward\n",
    "        \n",
    "        if terminated:\n",
    "            break\n",
    "        state = next_state\n",
    "    total_rewards[j] = total_reward \n",
    "    \n",
    "total_rewards.mean() # almost optimal"
   ]
  },
  {
   "cell_type": "markdown",
   "id": "59bf343c",
   "metadata": {},
   "source": [
    "## take actions following the optimal stochastic policy"
   ]
  },
  {
   "cell_type": "code",
   "execution_count": 3,
   "id": "2066ed1e",
   "metadata": {},
   "outputs": [
    {
     "name": "stdout",
     "output_type": "stream",
     "text": [
      "-11.324\n"
     ]
    }
   ],
   "source": [
    "############################################\n",
    "# take actions following the optimal stochastic policy\n",
    "############################################\n",
    "\n",
    "probs = torch.tensor([np.sqrt(2) - 1, 2-np.sqrt(2)])\n",
    "distribution = Categorical(probs)\n",
    "\n",
    "env = GridWrold()\n",
    "state, _ = env.reset()\n",
    "\n",
    "NUM_TEST=500\n",
    "total_rewards = np.zeros(NUM_TEST)\n",
    "for j in range(NUM_TEST):\n",
    "    total_reward = 0.0\n",
    "    state, _ = env.reset()\n",
    "    for i in range(1, 200):\n",
    "        action = distribution.sample().item()\n",
    "        next_state, reward, terminated, truncated, info = env.step(action)\n",
    "        total_reward += reward\n",
    "        \n",
    "        if terminated:\n",
    "            break\n",
    "        state = next_state\n",
    "    total_rewards[j] = total_reward \n",
    "    \n",
    "print(total_rewards.mean()) # about -11.6\n"
   ]
  },
  {
   "cell_type": "markdown",
   "id": "bb4d2d5f",
   "metadata": {},
   "source": [
    "# plot objective function J(theta)\n",
    "\n",
    "$$J(\\theta) = -2 \\frac{2-\\theta}{\\theta (1-\\theta)} $$\n",
    "\n",
    "where theta is the probability of slecting the right action(->)"
   ]
  },
  {
   "cell_type": "code",
   "execution_count": 4,
   "id": "4c684052",
   "metadata": {},
   "outputs": [
    {
     "data": {
      "image/png": "[encoded data removed]",
      "text/plain": [
       "<Figure size 432x288 with 1 Axes>"
      ]
     },
     "metadata": {},
     "output_type": "display_data"
    }
   ],
   "source": [
    "import numpy as np\n",
    "import matplotlib.pyplot as plt\n",
    "\n",
    "# objective function\n",
    "def J(t):\n",
    "    return -2 * (2 - t) / (t * (1 - t))\n",
    "\n",
    "# Generate x values in the desired range\n",
    "t = np.linspace(0.01, 0.99, 200)  # Avoiding 0 and 1 to prevent division by zero\n",
    "\n",
    "# Compute the corresponding y values using the function J(x)\n",
    "y = J(t)\n",
    "\n",
    "# Plot the function\n",
    "plt.plot(t, y)\n",
    "plt.scatter(2-np.sqrt(2), J(2-np.sqrt(2))) # optimal policy\n",
    "plt.xlabel('t')\n",
    "plt.ylabel('J(t)')\n",
    "plt.title('Plot of J(t) = -2(2-t)/(t(1-t))')\n",
    "plt.grid(True)\n",
    "plt.show()\n"
   ]
  },
  {
   "cell_type": "code",
   "execution_count": null,
   "id": "0a54847d",
   "metadata": {},
   "outputs": [],
   "source": []
  }
 ],
 "metadata": {
  "kernelspec": {
   "display_name": "Python 3 (Spyder)",
   "language": "python3",
   "name": "python3"
  },
  "language_info": {
   "codemirror_mode": {
    "name": "ipython",
    "version": 3
   },
   "file_extension": ".py",
   "mimetype": "text/x-python",
   "name": "python",
   "nbconvert_exporter": "python",
   "pygments_lexer": "ipython3",
   "version": "3.10.9"
  }
 },
 "nbformat": 4,
 "nbformat_minor": 5
}
