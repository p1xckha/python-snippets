{
 "cells": [
  {
   "cell_type": "code",
   "execution_count": 1,
   "id": "17f6823d",
   "metadata": {},
   "outputs": [],
   "source": [
    "############################################################################\n",
    "# nn.Linear example \n",
    "############################################################################"
   ]
  },
  {
   "cell_type": "code",
   "execution_count": 2,
   "id": "cb1feb53",
   "metadata": {},
   "outputs": [],
   "source": [
    "# https://pytorch.org/docs/stable/generated/torch.nn.Linear.html"
   ]
  },
  {
   "cell_type": "code",
   "execution_count": 3,
   "id": "5065560e",
   "metadata": {},
   "outputs": [],
   "source": [
    "#######################################\n",
    "# (1, ) tensor -> (1, ) tensor\n",
    "#######################################"
   ]
  },
  {
   "cell_type": "code",
   "execution_count": 4,
   "id": "d0bc0a1a",
   "metadata": {},
   "outputs": [
    {
     "data": {
      "text/plain": [
       "Linear(in_features=1, out_features=1, bias=True)"
      ]
     },
     "execution_count": 4,
     "metadata": {},
     "output_type": "execute_result"
    }
   ],
   "source": [
    "import torch\n",
    "import torch.nn as nn\n",
    "\n",
    "in_features = 1\n",
    "out_features = 1\n",
    "linear = nn.Linear(in_features, out_features) \n",
    "linear"
   ]
  },
  {
   "cell_type": "code",
   "execution_count": 5,
   "id": "89ffdb28",
   "metadata": {},
   "outputs": [
    {
     "data": {
      "text/plain": [
       "OrderedDict([('weight', tensor([[-0.8025]])), ('bias', tensor([0.9904]))])"
      ]
     },
     "execution_count": 5,
     "metadata": {},
     "output_type": "execute_result"
    }
   ],
   "source": [
    "linear.state_dict() # weight is initialized at random"
   ]
  },
  {
   "cell_type": "code",
   "execution_count": 6,
   "id": "9d922067",
   "metadata": {},
   "outputs": [
    {
     "data": {
      "text/plain": [
       "tensor([[-0.8025]])"
      ]
     },
     "execution_count": 6,
     "metadata": {},
     "output_type": "execute_result"
    }
   ],
   "source": [
    "linear.state_dict()['weight']"
   ]
  },
  {
   "cell_type": "code",
   "execution_count": 7,
   "id": "362af19a",
   "metadata": {},
   "outputs": [
    {
     "data": {
      "text/plain": [
       "tensor([0.9904])"
      ]
     },
     "execution_count": 7,
     "metadata": {},
     "output_type": "execute_result"
    }
   ],
   "source": [
    "linear.state_dict()['bias'] "
   ]
  },
  {
   "cell_type": "code",
   "execution_count": 8,
   "id": "888df8b4",
   "metadata": {},
   "outputs": [
    {
     "data": {
      "text/plain": [
       "OrderedDict([('weight', tensor([[2.]])), ('bias', tensor([0.]))])"
      ]
     },
     "execution_count": 8,
     "metadata": {},
     "output_type": "execute_result"
    }
   ],
   "source": [
    "# edit the parameters of linear for simplicity\n",
    "\n",
    "new_weight = torch.tensor([[2.0]])\n",
    "new_bias = torch.tensor([0.0])\n",
    "\n",
    "linear.weight.data = new_weight\n",
    "linear.bias.data = new_bias\n",
    "\n",
    "linear.state_dict()"
   ]
  },
  {
   "cell_type": "code",
   "execution_count": 9,
   "id": "fa4100ac",
   "metadata": {},
   "outputs": [
    {
     "data": {
      "text/plain": [
       "tensor([[4.]], grad_fn=<AddmmBackward0>)"
      ]
     },
     "execution_count": 9,
     "metadata": {},
     "output_type": "execute_result"
    }
   ],
   "source": [
    "# 1 sample\n",
    "\n",
    "x = torch.tensor([[2.0]]) # TensorFloat32\n",
    "output = linear(x) # linear supports TensorFloat32.\n",
    "output "
   ]
  },
  {
   "cell_type": "code",
   "execution_count": 10,
   "id": "c2f8d1c4",
   "metadata": {},
   "outputs": [
    {
     "data": {
      "text/plain": [
       "torch.float32"
      ]
     },
     "execution_count": 10,
     "metadata": {},
     "output_type": "execute_result"
    }
   ],
   "source": [
    "output.dtype"
   ]
  },
  {
   "cell_type": "code",
   "execution_count": 11,
   "id": "a631775b",
   "metadata": {},
   "outputs": [
    {
     "data": {
      "text/plain": [
       "tensor([[4.]])"
      ]
     },
     "execution_count": 11,
     "metadata": {},
     "output_type": "execute_result"
    }
   ],
   "source": [
    "# linear(x) = x @ weight.T + bias\n",
    "\n",
    "weight = linear.state_dict()['weight']\n",
    "bias = linear.state_dict()['bias']\n",
    "x @ weight.T + bias # equal to linear(x) "
   ]
  },
  {
   "cell_type": "code",
   "execution_count": 12,
   "id": "a17a0ffc",
   "metadata": {},
   "outputs": [
    {
     "name": "stdout",
     "output_type": "stream",
     "text": [
      "expected scalar type Long but found Float\n"
     ]
    }
   ],
   "source": [
    "# linear does not support int\n",
    "\n",
    "x = torch.tensor([1]) # torch.int64\n",
    "try:\n",
    "    output = linear(x)\n",
    "except RuntimeError as e:\n",
    "    print(e)"
   ]
  },
  {
   "cell_type": "code",
   "execution_count": 13,
   "id": "a6d1e541",
   "metadata": {},
   "outputs": [
    {
     "data": {
      "text/plain": [
       "tensor([[0.1612],\n",
       "        [0.2901],\n",
       "        [0.4052],\n",
       "        [0.2523],\n",
       "        [0.4594],\n",
       "        [0.0514],\n",
       "        [0.0932],\n",
       "        [0.7344],\n",
       "        [0.2791],\n",
       "        [0.2425]])"
      ]
     },
     "execution_count": 13,
     "metadata": {},
     "output_type": "execute_result"
    }
   ],
   "source": [
    "# 10 sample\n",
    "\n",
    "X = torch.rand(10, 1)\n",
    "X"
   ]
  },
  {
   "cell_type": "code",
   "execution_count": 14,
   "id": "3e5dff86",
   "metadata": {},
   "outputs": [
    {
     "data": {
      "text/plain": [
       "tensor([[0.3224],\n",
       "        [0.5802],\n",
       "        [0.8105],\n",
       "        [0.5046],\n",
       "        [0.9187],\n",
       "        [0.1028],\n",
       "        [0.1864],\n",
       "        [1.4688],\n",
       "        [0.5582],\n",
       "        [0.4850]], grad_fn=<AddmmBackward0>)"
      ]
     },
     "execution_count": 14,
     "metadata": {},
     "output_type": "execute_result"
    }
   ],
   "source": [
    "linear(X)"
   ]
  },
  {
   "cell_type": "code",
   "execution_count": 15,
   "id": "c47d1f22",
   "metadata": {},
   "outputs": [],
   "source": [
    "#######################################\n",
    "# (3, ) tensor -> (2, ) tensor\n",
    "#######################################"
   ]
  },
  {
   "cell_type": "code",
   "execution_count": 16,
   "id": "54577ab1",
   "metadata": {},
   "outputs": [
    {
     "data": {
      "text/plain": [
       "Linear(in_features=3, out_features=2, bias=True)"
      ]
     },
     "execution_count": 16,
     "metadata": {},
     "output_type": "execute_result"
    }
   ],
   "source": [
    "import torch\n",
    "import torch.nn as nn\n",
    "\n",
    "in_features = 3\n",
    "out_features = 2\n",
    "linear = nn.Linear(in_features, out_features) \n",
    "linear"
   ]
  },
  {
   "cell_type": "code",
   "execution_count": 17,
   "id": "c9a2cd0f",
   "metadata": {},
   "outputs": [
    {
     "data": {
      "text/plain": [
       "OrderedDict([('weight',\n",
       "              tensor([[-0.3109, -0.4281, -0.3381],\n",
       "                      [ 0.2274, -0.0970, -0.2259]])),\n",
       "             ('bias', tensor([-0.5284, -0.3925]))])"
      ]
     },
     "execution_count": 17,
     "metadata": {},
     "output_type": "execute_result"
    }
   ],
   "source": [
    "linear.state_dict()"
   ]
  },
  {
   "cell_type": "code",
   "execution_count": 18,
   "id": "8b70f81a",
   "metadata": {},
   "outputs": [
    {
     "data": {
      "text/plain": [
       "tensor([[-2.7097, -1.0368]], grad_fn=<AddmmBackward0>)"
      ]
     },
     "execution_count": 18,
     "metadata": {},
     "output_type": "execute_result"
    }
   ],
   "source": [
    "# 1 sample\n",
    "\n",
    "x = torch.tensor([[1.0, 2.0, 3.0]])\n",
    "linear(x)"
   ]
  },
  {
   "cell_type": "code",
   "execution_count": 19,
   "id": "160d07f5",
   "metadata": {},
   "outputs": [
    {
     "data": {
      "text/plain": [
       "tensor([[-2.7097, -1.0368]])"
      ]
     },
     "execution_count": 19,
     "metadata": {},
     "output_type": "execute_result"
    }
   ],
   "source": [
    "# linear(x) = x @ weight.T + bias\n",
    "\n",
    "weight = linear.state_dict()['weight']\n",
    "bias = linear.state_dict()['bias']\n",
    "\n",
    "x @ weight.T + bias"
   ]
  },
  {
   "cell_type": "code",
   "execution_count": 20,
   "id": "98fc4180",
   "metadata": {},
   "outputs": [
    {
     "data": {
      "text/plain": [
       "tensor([[0.8988, 0.2372, 0.1311],\n",
       "        [0.5611, 0.0958, 0.7268],\n",
       "        [0.0871, 0.9591, 0.0419],\n",
       "        [0.3710, 0.2652, 0.9253],\n",
       "        [0.4308, 0.3679, 0.3419],\n",
       "        [0.7479, 0.4343, 0.7789],\n",
       "        [0.0140, 0.0134, 0.3432],\n",
       "        [0.6218, 0.0946, 0.4505],\n",
       "        [0.6328, 0.3102, 0.8661],\n",
       "        [0.3189, 0.1571, 0.5591]])"
      ]
     },
     "execution_count": 20,
     "metadata": {},
     "output_type": "execute_result"
    }
   ],
   "source": [
    "# 10 sample\n",
    "\n",
    "X = torch.rand(10, 3)\n",
    "X"
   ]
  },
  {
   "cell_type": "code",
   "execution_count": 21,
   "id": "0b6dda77",
   "metadata": {},
   "outputs": [
    {
     "data": {
      "text/plain": [
       "tensor([[-0.9537, -0.2407],\n",
       "        [-0.9896, -0.4383],\n",
       "        [-0.9803, -0.4752],\n",
       "        [-1.0702, -0.5428],\n",
       "        [-0.9355, -0.4074],\n",
       "        [-1.2102, -0.4404],\n",
       "        [-0.6546, -0.4681],\n",
       "        [-0.9146, -0.3620],\n",
       "        [-1.1508, -0.4743],\n",
       "        [-0.8838, -0.4615]], grad_fn=<AddmmBackward0>)"
      ]
     },
     "execution_count": 21,
     "metadata": {},
     "output_type": "execute_result"
    }
   ],
   "source": [
    "linear(X)"
   ]
  },
  {
   "cell_type": "code",
   "execution_count": 22,
   "id": "14b44fc0",
   "metadata": {},
   "outputs": [
    {
     "data": {
      "text/plain": [
       "tensor([[-0.9537, -0.2407],\n",
       "        [-0.9896, -0.4383],\n",
       "        [-0.9803, -0.4752],\n",
       "        [-1.0702, -0.5428],\n",
       "        [-0.9355, -0.4074],\n",
       "        [-1.2102, -0.4404],\n",
       "        [-0.6546, -0.4681],\n",
       "        [-0.9146, -0.3620],\n",
       "        [-1.1508, -0.4743],\n",
       "        [-0.8838, -0.4615]])"
      ]
     },
     "execution_count": 22,
     "metadata": {},
     "output_type": "execute_result"
    }
   ],
   "source": [
    "# linear(X) = X @ weight.T + bias\n",
    "\n",
    "X @ weight.T + bias"
   ]
  },
  {
   "cell_type": "code",
   "execution_count": null,
   "id": "47ad6380",
   "metadata": {},
   "outputs": [],
   "source": []
  }
 ],
 "metadata": {
  "kernelspec": {
   "display_name": "Python 3 (Spyder)",
   "language": "python3",
   "name": "python3"
  },
  "language_info": {
   "codemirror_mode": {
    "name": "ipython",
    "version": 3
   },
   "file_extension": ".py",
   "mimetype": "text/x-python",
   "name": "python",
   "nbconvert_exporter": "python",
   "pygments_lexer": "ipython3",
   "version": "3.10.9"
  }
 },
 "nbformat": 4,
 "nbformat_minor": 5
}
