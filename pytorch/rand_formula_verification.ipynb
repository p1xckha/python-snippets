{
 "cells": [
  {
   "cell_type": "code",
   "execution_count": 63,
   "id": "f446cc83",
   "metadata": {},
   "outputs": [],
   "source": [
    "###################################################################\n",
    "# I verified the correctness of my formula using rand method.\n",
    "#=================================================================="
   ]
  },
  {
   "attachments": {},
   "cell_type": "markdown",
   "id": "c7c9c74e",
   "metadata": {},
   "source": [
    "$$\\frac{{\\partial(\\theta^T A \\theta)}}{{\\partial\\theta}} = (A + A^T) \\theta$$\n",
    "where $$ \\theta \\in \\mathbb{R}^d, A \\in \\mathbb{R}^{d\\times d} $$\n"
   ]
  },
  {
   "cell_type": "code",
   "execution_count": 64,
   "id": "97b5764b",
   "metadata": {},
   "outputs": [
    {
     "data": {
      "text/plain": [
       "tensor(0.3761, dtype=torch.float64, grad_fn=<DotBackward0>)"
      ]
     },
     "execution_count": 64,
     "metadata": {},
     "output_type": "execute_result"
    }
   ],
   "source": [
    "########################################################\n",
    "# d(theta.T @ A @ theta)/d(theta) = (A + A.T ) @ theta\n",
    "#========================================================\n",
    "\n",
    "import torch\n",
    "\n",
    "# create a 2D array\n",
    "A = torch.rand([4,4], dtype=torch.float64)\n",
    "\n",
    "# make a function of theta differentiable\n",
    "theta = torch.rand(4, dtype=torch.float64, requires_grad=True)\n",
    "\n",
    "t = (theta.t() @ A) @ theta # scalar tensor (0-D tensor)\n",
    "t"
   ]
  },
  {
   "cell_type": "code",
   "execution_count": 65,
   "id": "e85441d3",
   "metadata": {},
   "outputs": [
    {
     "data": {
      "text/plain": [
       "tensor([0.6083, 0.8120, 0.9820, 1.1403], dtype=torch.float64)"
      ]
     },
     "execution_count": 65,
     "metadata": {},
     "output_type": "execute_result"
    }
   ],
   "source": [
    "t.backward()\n",
    "left_side = theta.grad # d(v)/d(theta)\n",
    "left_side"
   ]
  },
  {
   "cell_type": "code",
   "execution_count": 66,
   "id": "7d896450",
   "metadata": {},
   "outputs": [
    {
     "data": {
      "text/plain": [
       "tensor([0.6083, 0.8120, 0.9820, 1.1403], dtype=torch.float64,\n",
       "       grad_fn=<MvBackward0>)"
      ]
     },
     "execution_count": 66,
     "metadata": {},
     "output_type": "execute_result"
    }
   ],
   "source": [
    "right_side = (A + A.t()) @ theta\n",
    "right_side"
   ]
  },
  {
   "cell_type": "code",
   "execution_count": 67,
   "id": "becc2d79",
   "metadata": {},
   "outputs": [
    {
     "data": {
      "text/plain": [
       "True"
      ]
     },
     "execution_count": 67,
     "metadata": {},
     "output_type": "execute_result"
    }
   ],
   "source": [
    "torch.allclose(left_side, right_side, rtol=1e-16, atol=1e-16)"
   ]
  },
  {
   "cell_type": "code",
   "execution_count": 68,
   "id": "1782e908",
   "metadata": {},
   "outputs": [
    {
     "name": "stdout",
     "output_type": "stream",
     "text": [
      "correct: loss = 7.888609052210118e-31\n",
      "correct: loss = 3.944304526105059e-31\n",
      "correct: loss = 4.930380657631324e-32\n",
      "correct: loss = 4.930380657631324e-32\n",
      "correct: loss = 0.0\n",
      "correct: loss = 9.860761315262648e-32\n",
      "correct: loss = 2.465190328815662e-31\n",
      "correct: loss = 3.944304526105059e-31\n",
      "correct: loss = 1.4791141972893971e-31\n",
      "correct: loss = 2.465190328815662e-31\n"
     ]
    }
   ],
   "source": [
    "# test\n",
    "def compute_loss(A, theta):\n",
    "    right_side = (A + A.t()) @ theta \n",
    "    t = (theta.t() @ A) @ theta # scalar tensor\n",
    "    t.backward()\n",
    "    left_side = theta.grad\n",
    "    with torch.no_grad():\n",
    "        loss = ((left_side - right_side) ** 2).sum()\n",
    "    return loss.item()\n",
    "\n",
    "epsilon = 1e-16\n",
    "for _ in range(10):\n",
    "    A = torch.rand([4,4], dtype=torch.float64)\n",
    "    theta = torch.rand(4, dtype=torch.float64, requires_grad=True)\n",
    "    loss = compute_loss(A, theta)\n",
    "    if loss < epsilon:\n",
    "        print(f\"correct: loss = {loss}\")\n",
    "    else:\n",
    "        print(f\"incorrect: loss = {loss}\")\n"
   ]
  },
  {
   "cell_type": "code",
   "execution_count": 69,
   "id": "0b90ccf6",
   "metadata": {},
   "outputs": [],
   "source": [
    "#####################################################\n",
    "# what if A is symmentric ?\n",
    "######################################################"
   ]
  },
  {
   "attachments": {},
   "cell_type": "markdown",
   "id": "533fc3a2",
   "metadata": {},
   "source": [
    "Let matrix A be symmentric.\n",
    "\n",
    "$$\\frac{{\\partial(\\theta^T A \\theta)}}{{\\partial\\theta}} = 2 A \\theta$$\n",
    "where $$ \\theta \\in \\mathbb{R}^d, A \\in \\mathbb{R}^{d\\times d} $$"
   ]
  },
  {
   "cell_type": "code",
   "execution_count": 70,
   "id": "26491874",
   "metadata": {},
   "outputs": [
    {
     "data": {
      "text/plain": [
       "tensor(3.1774, dtype=torch.float64, grad_fn=<DotBackward0>)"
      ]
     },
     "execution_count": 70,
     "metadata": {},
     "output_type": "execute_result"
    }
   ],
   "source": [
    "import torch\n",
    "\n",
    "# create a 2D array\n",
    "A = torch.rand([4,4], dtype=torch.float64)\n",
    "A = (A + A.t())/2.0 # make 2D array A symmentric\n",
    "\n",
    "# make a function of theta differentiable\n",
    "theta = torch.rand(4, dtype=torch.float64, requires_grad=True)\n",
    "\n",
    "quadratic_form = (theta.t() @ A) @ theta # scalar tensor\n",
    "quadratic_form"
   ]
  },
  {
   "cell_type": "code",
   "execution_count": 71,
   "id": "5897c361",
   "metadata": {},
   "outputs": [
    {
     "data": {
      "text/plain": [
       "tensor([2.7197, 2.7564, 2.3141, 2.6914], dtype=torch.float64)"
      ]
     },
     "execution_count": 71,
     "metadata": {},
     "output_type": "execute_result"
    }
   ],
   "source": [
    "quadratic_form.backward()\n",
    "right_side = theta.grad # d(quadratic_form)/d(theta)\n",
    "right_side"
   ]
  },
  {
   "cell_type": "code",
   "execution_count": 72,
   "id": "1cd03a74",
   "metadata": {},
   "outputs": [
    {
     "data": {
      "text/plain": [
       "tensor([2.7197, 2.7564, 2.3141, 2.6914], dtype=torch.float64,\n",
       "       grad_fn=<MvBackward0>)"
      ]
     },
     "execution_count": 72,
     "metadata": {},
     "output_type": "execute_result"
    }
   ],
   "source": [
    "left_side = (A + A.t()) @ theta\n",
    "left_side"
   ]
  },
  {
   "cell_type": "code",
   "execution_count": 73,
   "id": "ba2e1f30",
   "metadata": {},
   "outputs": [
    {
     "data": {
      "text/plain": [
       "True"
      ]
     },
     "execution_count": 73,
     "metadata": {},
     "output_type": "execute_result"
    }
   ],
   "source": [
    "torch.allclose(left_side, right_side, rtol=1e-16, atol=1e-16)"
   ]
  },
  {
   "cell_type": "code",
   "execution_count": null,
   "id": "7376d2ee",
   "metadata": {},
   "outputs": [],
   "source": []
  }
 ],
 "metadata": {
  "kernelspec": {
   "display_name": "Python 3 (Spyder)",
   "language": "python3",
   "name": "python3"
  },
  "language_info": {
   "codemirror_mode": {
    "name": "ipython",
    "version": 3
   },
   "file_extension": ".py",
   "mimetype": "text/x-python",
   "name": "python",
   "nbconvert_exporter": "python",
   "pygments_lexer": "ipython3",
   "version": "3.10.9"
  }
 },
 "nbformat": 4,
 "nbformat_minor": 5
}
