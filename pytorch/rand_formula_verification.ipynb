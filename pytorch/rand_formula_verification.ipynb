{
 "cells": [
  {
   "cell_type": "code",
   "execution_count": 1,
   "id": "7472068f",
   "metadata": {},
   "outputs": [],
   "source": [
    "###################################################################\n",
    "# I verified the correctness of my formula using rand method.\n",
    "#=================================================================="
   ]
  },
  {
   "cell_type": "code",
   "execution_count": 2,
   "id": "99f92642",
   "metadata": {},
   "outputs": [
    {
     "data": {
      "text/plain": [
       "tensor(1.9742, dtype=torch.float64, grad_fn=<DotBackward0>)"
      ]
     },
     "execution_count": 2,
     "metadata": {},
     "output_type": "execute_result"
    }
   ],
   "source": [
    "########################################################\n",
    "# d(theta.T @ A @ theta)/d(theta) = (A + A.T ) @ theta\n",
    "#========================================================\n",
    "\n",
    "import torch\n",
    "\n",
    "# create a 2D array\n",
    "A = torch.rand([4,4], dtype=torch.float64)\n",
    "\n",
    "# make a function of theta differentiable\n",
    "theta = torch.rand(4, dtype=torch.float64, requires_grad=True)\n",
    "\n",
    "quadratic_form = (theta.t() @ A) @ theta # scalar tensor\n",
    "quadratic_form"
   ]
  },
  {
   "cell_type": "code",
   "execution_count": 3,
   "id": "ed775bad",
   "metadata": {},
   "outputs": [
    {
     "data": {
      "text/plain": [
       "tensor([1.3262, 1.8766, 1.8069, 1.8203], dtype=torch.float64)"
      ]
     },
     "execution_count": 3,
     "metadata": {},
     "output_type": "execute_result"
    }
   ],
   "source": [
    "quadratic_form.backward()\n",
    "theta.grad # d(quadratic_form)/d(theta)"
   ]
  },
  {
   "cell_type": "code",
   "execution_count": 4,
   "id": "50e0be82",
   "metadata": {},
   "outputs": [
    {
     "data": {
      "text/plain": [
       "tensor([1.3262, 1.8766, 1.8069, 1.8203], dtype=torch.float64,\n",
       "       grad_fn=<MvBackward0>)"
      ]
     },
     "execution_count": 4,
     "metadata": {},
     "output_type": "execute_result"
    }
   ],
   "source": [
    "prediction = (A + A.t()) @ theta\n",
    "prediction"
   ]
  },
  {
   "cell_type": "code",
   "execution_count": 5,
   "id": "16667929",
   "metadata": {},
   "outputs": [
    {
     "data": {
      "text/plain": [
       "True"
      ]
     },
     "execution_count": 5,
     "metadata": {},
     "output_type": "execute_result"
    }
   ],
   "source": [
    "torch.allclose(theta.grad, prediction, rtol=1e-16, atol=1e-16)"
   ]
  },
  {
   "cell_type": "code",
   "execution_count": 6,
   "id": "e83e6031",
   "metadata": {},
   "outputs": [
    {
     "name": "stdout",
     "output_type": "stream",
     "text": [
      "correct: loss = 0.0\n",
      "correct: loss = 7.888609052210118e-31\n",
      "correct: loss = 2.465190328815662e-31\n",
      "correct: loss = 3.944304526105059e-31\n",
      "correct: loss = 0.0\n",
      "correct: loss = 4.930380657631324e-32\n",
      "correct: loss = 0.0\n",
      "correct: loss = 9.860761315262648e-31\n",
      "correct: loss = 9.860761315262648e-32\n",
      "correct: loss = 0.0\n"
     ]
    }
   ],
   "source": [
    "# test\n",
    "def compute_loss(A, theta):\n",
    "    prediction = (A + A.t()) @ theta \n",
    "    quadratic_form = (theta.t() @ A) @ theta # scalar tensor\n",
    "    quadratic_form.backward()\n",
    "    with torch.no_grad():\n",
    "        loss = ((theta.grad - prediction) ** 2).sum()\n",
    "    return loss.item()\n",
    "\n",
    "epsilon = 1e-16\n",
    "for _ in range(10):\n",
    "    A = torch.rand([4,4], dtype=torch.float64)\n",
    "    theta = torch.rand(4, dtype=torch.float64, requires_grad=True)\n",
    "    loss = compute_loss(A, theta)\n",
    "    if loss < epsilon:\n",
    "        print(f\"correct: loss = {loss}\")\n",
    "    else:\n",
    "        print(f\"incorrect: loss = {loss}\")\n"
   ]
  },
  {
   "cell_type": "code",
   "execution_count": null,
   "id": "fb2ddc8c",
   "metadata": {},
   "outputs": [],
   "source": []
  }
 ],
 "metadata": {
  "kernelspec": {
   "display_name": "Python 3 (Spyder)",
   "language": "python3",
   "name": "python3"
  },
  "language_info": {
   "codemirror_mode": {
    "name": "ipython",
    "version": 3
   },
   "file_extension": ".py",
   "mimetype": "text/x-python",
   "name": "python",
   "nbconvert_exporter": "python",
   "pygments_lexer": "ipython3",
   "version": "3.10.9"
  }
 },
 "nbformat": 4,
 "nbformat_minor": 5
}
