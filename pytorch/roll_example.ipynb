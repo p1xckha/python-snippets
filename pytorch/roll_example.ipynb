{
 "cells": [
  {
   "cell_type": "markdown",
   "id": "780284fd",
   "metadata": {},
   "source": [
    "torch.roll — PyTorch 2.0 documentation\n",
    "https://pytorch.org/docs/stable/generated/torch.roll.html"
   ]
  },
  {
   "cell_type": "code",
   "execution_count": 1,
   "id": "5c163b53",
   "metadata": {},
   "outputs": [
    {
     "data": {
      "text/plain": [
       "tensor([0, 1, 2, 3, 4, 5, 6, 7, 8, 9])"
      ]
     },
     "execution_count": 1,
     "metadata": {},
     "output_type": "execute_result"
    }
   ],
   "source": [
    "################################\n",
    "# roll 1D tensor\n",
    "################################\n",
    "\n",
    "import torch\n",
    "\n",
    "x = torch.arange(10)\n",
    "x"
   ]
  },
  {
   "cell_type": "code",
   "execution_count": 2,
   "id": "1ca61682",
   "metadata": {},
   "outputs": [
    {
     "data": {
      "text/plain": [
       "tensor([9, 0, 1, 2, 3, 4, 5, 6, 7, 8])"
      ]
     },
     "execution_count": 2,
     "metadata": {},
     "output_type": "execute_result"
    }
   ],
   "source": [
    "shift = 1\n",
    "torch.roll(x, shift, dims=0)"
   ]
  },
  {
   "cell_type": "code",
   "execution_count": 3,
   "id": "618e55c8",
   "metadata": {},
   "outputs": [
    {
     "data": {
      "text/plain": [
       "tensor([9, 0, 1, 2, 3, 4, 5, 6, 7, 8])"
      ]
     },
     "execution_count": 3,
     "metadata": {},
     "output_type": "execute_result"
    }
   ],
   "source": [
    "x.roll(shift)"
   ]
  },
  {
   "cell_type": "code",
   "execution_count": 4,
   "id": "33c76722",
   "metadata": {},
   "outputs": [
    {
     "data": {
      "text/plain": [
       "tensor([0, 1, 2, 3, 4, 5, 6, 7, 8, 9])"
      ]
     },
     "execution_count": 4,
     "metadata": {},
     "output_type": "execute_result"
    }
   ],
   "source": [
    "x"
   ]
  },
  {
   "cell_type": "code",
   "execution_count": 5,
   "id": "9fc70348",
   "metadata": {},
   "outputs": [
    {
     "data": {
      "text/plain": [
       "tensor([1, 2, 3, 4, 5, 6, 7, 8, 9, 0])"
      ]
     },
     "execution_count": 5,
     "metadata": {},
     "output_type": "execute_result"
    }
   ],
   "source": [
    "shift = -1\n",
    "x.roll(shift)"
   ]
  },
  {
   "cell_type": "code",
   "execution_count": 6,
   "id": "6c4a1d7a",
   "metadata": {},
   "outputs": [
    {
     "data": {
      "text/plain": [
       "tensor([[1, 2, 3],\n",
       "        [4, 5, 6],\n",
       "        [7, 8, 9]])"
      ]
     },
     "execution_count": 6,
     "metadata": {},
     "output_type": "execute_result"
    }
   ],
   "source": [
    "################################\n",
    "# roll 2D tensor\n",
    "################################\n",
    "import torch\n",
    "\n",
    "x = torch.tensor([[1,2,3],[4,5,6],[7,8,9]])\n",
    "x"
   ]
  },
  {
   "cell_type": "code",
   "execution_count": 7,
   "id": "04eeba41",
   "metadata": {},
   "outputs": [
    {
     "data": {
      "text/plain": [
       "tensor([[9, 1, 2],\n",
       "        [3, 4, 5],\n",
       "        [6, 7, 8]])"
      ]
     },
     "execution_count": 7,
     "metadata": {},
     "output_type": "execute_result"
    }
   ],
   "source": [
    "shift = 1\n",
    "torch.roll(x, shift) "
   ]
  },
  {
   "cell_type": "code",
   "execution_count": 8,
   "id": "c1ca9000",
   "metadata": {},
   "outputs": [
    {
     "data": {
      "text/plain": [
       "tensor([[9, 1, 2],\n",
       "        [3, 4, 5],\n",
       "        [6, 7, 8]])"
      ]
     },
     "execution_count": 8,
     "metadata": {},
     "output_type": "execute_result"
    }
   ],
   "source": [
    "# same\n",
    "x.roll(shift) "
   ]
  },
  {
   "cell_type": "code",
   "execution_count": 9,
   "id": "a1a56a5b",
   "metadata": {},
   "outputs": [
    {
     "data": {
      "text/plain": [
       "tensor([[9, 1, 2],\n",
       "        [3, 4, 5],\n",
       "        [6, 7, 8]])"
      ]
     },
     "execution_count": 9,
     "metadata": {},
     "output_type": "execute_result"
    }
   ],
   "source": [
    "# same \n",
    "x.flatten().roll(shift).reshape(x.shape)"
   ]
  },
  {
   "cell_type": "code",
   "execution_count": 10,
   "id": "37977011",
   "metadata": {},
   "outputs": [
    {
     "data": {
      "text/plain": [
       "tensor([[1, 2, 3],\n",
       "        [4, 5, 6],\n",
       "        [7, 8, 9]])"
      ]
     },
     "execution_count": 10,
     "metadata": {},
     "output_type": "execute_result"
    }
   ],
   "source": [
    "x"
   ]
  },
  {
   "cell_type": "code",
   "execution_count": 11,
   "id": "0a52a891",
   "metadata": {},
   "outputs": [
    {
     "data": {
      "text/plain": [
       "tensor([[7, 8, 9],\n",
       "        [1, 2, 3],\n",
       "        [4, 5, 6]])"
      ]
     },
     "execution_count": 11,
     "metadata": {},
     "output_type": "execute_result"
    }
   ],
   "source": [
    "shift = 1\n",
    "x.roll(shift, dims=0)"
   ]
  },
  {
   "cell_type": "code",
   "execution_count": 12,
   "id": "e99d560b",
   "metadata": {},
   "outputs": [
    {
     "data": {
      "text/plain": [
       "tensor([[3, 1, 2],\n",
       "        [6, 4, 5],\n",
       "        [9, 7, 8]])"
      ]
     },
     "execution_count": 12,
     "metadata": {},
     "output_type": "execute_result"
    }
   ],
   "source": [
    "x.roll(shift, dims=1)"
   ]
  },
  {
   "cell_type": "code",
   "execution_count": 13,
   "id": "87e7b25f",
   "metadata": {},
   "outputs": [],
   "source": [
    "###########################################\n",
    "# compute q_values\n",
    "###########################################"
   ]
  },
  {
   "cell_type": "markdown",
   "id": "9640b17d",
   "metadata": {},
   "source": [
    "# Q value\n",
    "\n",
    "$$ Q(s, a) = R(s, a, s^{'}) + \\gamma V(s^{'}) $$"
   ]
  },
  {
   "cell_type": "code",
   "execution_count": 14,
   "id": "3a1ec289",
   "metadata": {},
   "outputs": [
    {
     "data": {
      "text/plain": [
       "tensor([0.5118, 0.4311, 0.3736, 0.4242, 0.3700, 0.3558, 0.3414, 0.3267, 0.3353,\n",
       "        0.3422, 0.3247], grad_fn=<SqueezeBackward0>)"
      ]
     },
     "execution_count": 14,
     "metadata": {},
     "output_type": "execute_result"
    }
   ],
   "source": [
    "import gym\n",
    "import torch.nn as nn\n",
    "import torch\n",
    "import numpy as np\n",
    "\n",
    "class ValueNet(nn.Module):\n",
    "    def __init__(self, state_dim, hidden_size=128):\n",
    "        super(ValueNet, self).__init__()\n",
    "        self.seq = nn.Sequential(\n",
    "            nn.Linear(state_dim, hidden_size),\n",
    "            nn.ReLU(),\n",
    "            nn.Linear(hidden_size, 1),\n",
    "            )\n",
    "    \n",
    "    def forward(self, x):\n",
    "        yhat = self.seq(x)\n",
    "        return yhat\n",
    "    \n",
    "# env \n",
    "env = gym.make(\"CartPole-v1\", render_mode=\"rgb_array\")\n",
    "\n",
    "# valuenet\n",
    "state_dim = env.observation_space.shape[0]\n",
    "action_dim = env.action_space.n\n",
    "valuenet = ValueNet(state_dim, action_dim)\n",
    "\n",
    "# parameter\n",
    "GAMMA = 0.95\n",
    "max_steps = 1000\n",
    "\n",
    "# record transitions to lists\n",
    "rewards = []\n",
    "states = []\n",
    "terminateds = []\n",
    "\n",
    "# run 1 episode\n",
    "state, info = env.reset()\n",
    "for i in range(1, max_steps):\n",
    "    next_state, reward, terminated, truncated, info = env.step(env.action_space.sample())\n",
    "    \n",
    "    # add a taransition to lists \n",
    "    rewards.append(reward)\n",
    "    states.append(state)\n",
    "    terminateds.append(terminated)\n",
    "    \n",
    "    if terminated:\n",
    "        break\n",
    "    \n",
    "    # prepare next step\n",
    "    state = next_state\n",
    "\n",
    "env.close()\n",
    "\n",
    "##########################\n",
    "# compute q_values\n",
    "##########################\n",
    "\n",
    "# list to tensor\n",
    "states = torch.tensor(np.array(states)) # states was a list of numpy arrays\n",
    "rewards = torch.tensor(rewards)\n",
    "terminateds = torch.tensor(terminateds)\n",
    "\n",
    "# (n, 1) tensor -> (n, ) tensor\n",
    "values = valuenet(states).squeeze() \n",
    "values"
   ]
  },
  {
   "cell_type": "code",
   "execution_count": 15,
   "id": "4259fd69",
   "metadata": {},
   "outputs": [
    {
     "data": {
      "text/plain": [
       "tensor([0.4311, 0.3736, 0.4242, 0.3700, 0.3558, 0.3414, 0.3267, 0.3353, 0.3422,\n",
       "        0.3247, 0.5118], grad_fn=<RollBackward0>)"
      ]
     },
     "execution_count": 15,
     "metadata": {},
     "output_type": "execute_result"
    }
   ],
   "source": [
    "next_values = values.roll(-1)\n",
    "next_values"
   ]
  },
  {
   "cell_type": "code",
   "execution_count": 16,
   "id": "2084c3dc",
   "metadata": {},
   "outputs": [
    {
     "data": {
      "text/plain": [
       "tensor([1.4096, 1.3549, 1.4030, 1.3515, 1.3380, 1.3243, 1.3104, 1.3185, 1.3251,\n",
       "        1.3084, 1.0000], grad_fn=<AddBackward0>)"
      ]
     },
     "execution_count": 16,
     "metadata": {},
     "output_type": "execute_result"
    }
   ],
   "source": [
    "q_values = rewards + (1.0 - terminateds.float()) * GAMMA * next_values\n",
    "q_values"
   ]
  },
  {
   "cell_type": "code",
   "execution_count": null,
   "id": "8e4b4515",
   "metadata": {},
   "outputs": [],
   "source": []
  }
 ],
 "metadata": {
  "kernelspec": {
   "display_name": "Python 3 (Spyder)",
   "language": "python3",
   "name": "python3"
  },
  "language_info": {
   "codemirror_mode": {
    "name": "ipython",
    "version": 3
   },
   "file_extension": ".py",
   "mimetype": "text/x-python",
   "name": "python",
   "nbconvert_exporter": "python",
   "pygments_lexer": "ipython3",
   "version": "3.10.9"
  }
 },
 "nbformat": 4,
 "nbformat_minor": 5
}
