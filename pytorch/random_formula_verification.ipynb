{
 "cells": [
  {
   "cell_type": "code",
   "execution_count": 1,
   "id": "24be4a87",
   "metadata": {},
   "outputs": [],
   "source": [
    "###################################################################\n",
    "# I verified the correctness of my formula using a random method.\n",
    "#=================================================================="
   ]
  },
  {
   "cell_type": "code",
   "execution_count": 2,
   "id": "18719cc2",
   "metadata": {},
   "outputs": [
    {
     "data": {
      "text/plain": [
       "(array([0.24583714, 1.74250629, 1.57265487, 1.02410235, 0.59601792,\n",
       "        3.58239405, 2.95536781, 2.0422207 , 0.51720152, 2.98875682,\n",
       "        2.42672546, 1.67909167, 0.40372286, 2.59125342, 2.27852267,\n",
       "        1.50320504]),\n",
       " array([0.24583714, 1.74250629, 1.57265487, 1.02410235, 0.59601792,\n",
       "        3.58239405, 2.95536781, 2.0422207 , 0.51720152, 2.98875682,\n",
       "        2.42672546, 1.67909167, 0.40372286, 2.59125342, 2.27852267,\n",
       "        1.50320504]),\n",
       " 1.0877652325899108e-30,\n",
       " True)"
      ]
     },
     "execution_count": 2,
     "metadata": {},
     "output_type": "execute_result"
    }
   ],
   "source": [
    "###############################################\n",
    "# Kronecker(A, B) vec(C) = vec(B C A.T) \n",
    "#===============================================\n",
    "\n",
    "import numpy as np\n",
    "\n",
    "A = np.random.random([4,4]).astype(np.float64)\n",
    "B = np.random.random([4,4]).astype(np.float64)\n",
    "C = np.random.random([4,4]).astype(np.float64)\n",
    "\n",
    "vec1 = np.kron(A, B) @ C.flatten('F')\n",
    "vec2 = (B @ C @ A.T).flatten('F')\n",
    "loss = ((vec1 - vec2)**2).sum()\n",
    "\n",
    "vec1, vec2, loss, np.allclose(vec1, vec2)"
   ]
  },
  {
   "cell_type": "code",
   "execution_count": 3,
   "id": "e6aabd7a",
   "metadata": {},
   "outputs": [
    {
     "name": "stdout",
     "output_type": "stream",
     "text": [
      "correct: loss = 1.0168910106364605e-31\n",
      "correct: loss = 1.4791141972893971e-31\n",
      "correct: loss = 6.162975822039155e-31\n",
      "correct: loss = 7.888609052210118e-31\n",
      "correct: loss = 7.395570986446986e-31\n",
      "correct: loss = 1.232595164407831e-30\n",
      "correct: loss = 1.3805065841367707e-30\n",
      "correct: loss = 8.874685183736383e-31\n",
      "correct: loss = 9.860761315262648e-31\n",
      "correct: loss = 5.546678239835239e-31\n"
     ]
    }
   ],
   "source": [
    "# test\n",
    "def compute_loss(A, B, C):\n",
    "    vec1 = np.kron(A, B) @ C.flatten('F')\n",
    "    vec2 = (B @ C @ A.T).flatten('F')\n",
    "    loss = ((vec1 - vec2) ** 2).sum()\n",
    "    return loss\n",
    "\n",
    "epsilon = 1e-16\n",
    "for _ in range(10):\n",
    "    A = np.random.random([4,4]).astype(np.float64)\n",
    "    B = np.random.random([4,4]).astype(np.float64)\n",
    "    C = np.random.random([4,4]).astype(np.float64)\n",
    "    loss = compute_loss(A, B, C)\n",
    "    if loss < epsilon:\n",
    "        print(f\"correct: loss = {loss}\")\n",
    "    else:\n",
    "        print(f\"incorrect: loss = {loss}\")\n",
    "    "
   ]
  },
  {
   "cell_type": "code",
   "execution_count": 4,
   "id": "80b8efcb",
   "metadata": {},
   "outputs": [
    {
     "data": {
      "text/plain": [
       "tensor(0.2510, dtype=torch.float64, grad_fn=<DotBackward0>)"
      ]
     },
     "execution_count": 4,
     "metadata": {},
     "output_type": "execute_result"
    }
   ],
   "source": [
    "########################################################\n",
    "# d(theta.T @ A @ theta)/d(theta) = (A + A.T ) @ theta\n",
    "#========================================================\n",
    "\n",
    "import torch\n",
    "\n",
    "# create a symmentric 2D array\n",
    "A = torch.rand([4,4], dtype=torch.float64)\n",
    "\n",
    "# make theta differentiable\n",
    "theta = torch.rand(4, dtype=torch.float64, requires_grad=True)\n",
    "\n",
    "quadratic_form = (theta.t() @ A) @ theta # scalar tensor\n",
    "quadratic_form"
   ]
  },
  {
   "cell_type": "code",
   "execution_count": 5,
   "id": "f56debb6",
   "metadata": {},
   "outputs": [
    {
     "data": {
      "text/plain": [
       "tensor([0.7090, 0.3917, 0.7746, 0.7281], dtype=torch.float64)"
      ]
     },
     "execution_count": 5,
     "metadata": {},
     "output_type": "execute_result"
    }
   ],
   "source": [
    "quadratic_form.backward()\n",
    "theta.grad # d(quadratic_form)/d(theta)"
   ]
  },
  {
   "cell_type": "code",
   "execution_count": 6,
   "id": "bebbdae3",
   "metadata": {},
   "outputs": [
    {
     "data": {
      "text/plain": [
       "tensor([0.7090, 0.3917, 0.7746, 0.7281], dtype=torch.float64,\n",
       "       grad_fn=<MvBackward0>)"
      ]
     },
     "execution_count": 6,
     "metadata": {},
     "output_type": "execute_result"
    }
   ],
   "source": [
    "prediction = (A + A.t()) @ theta\n",
    "prediction"
   ]
  },
  {
   "cell_type": "code",
   "execution_count": 7,
   "id": "045b8074",
   "metadata": {},
   "outputs": [
    {
     "data": {
      "text/plain": [
       "True"
      ]
     },
     "execution_count": 7,
     "metadata": {},
     "output_type": "execute_result"
    }
   ],
   "source": [
    "torch.allclose(theta.grad, prediction, rtol=1e-16, atol=1e-16)"
   ]
  },
  {
   "cell_type": "code",
   "execution_count": 8,
   "id": "37ccac10",
   "metadata": {},
   "outputs": [
    {
     "name": "stdout",
     "output_type": "stream",
     "text": [
      "correct: loss = 0.0\n",
      "correct: loss = 1.9721522630525295e-31\n",
      "correct: loss = 0.0\n",
      "correct: loss = 0.0\n",
      "correct: loss = 9.860761315262648e-32\n",
      "correct: loss = 1.9721522630525295e-31\n",
      "correct: loss = 4.930380657631324e-32\n",
      "correct: loss = 4.930380657631324e-32\n",
      "correct: loss = 2.9582283945787943e-31\n",
      "correct: loss = 4.930380657631324e-32\n"
     ]
    }
   ],
   "source": [
    "# test\n",
    "def compute_loss(A, theta):\n",
    "    prediction = (A + A.t()) @ theta \n",
    "    quadratic_form = (theta.t() @ A) @ theta # scalar tensor\n",
    "    quadratic_form.backward()\n",
    "    with torch.no_grad():\n",
    "        loss = ((theta.grad - prediction) ** 2).sum()\n",
    "    return loss.item()\n",
    "\n",
    "epsilon = 1e-16\n",
    "for _ in range(10):\n",
    "    A = torch.rand([4,4], dtype=torch.float64)\n",
    "    theta = torch.rand(4, dtype=torch.float64, requires_grad=True)\n",
    "    loss = compute_loss(A, theta)\n",
    "    if loss < epsilon:\n",
    "        print(f\"correct: loss = {loss}\")\n",
    "    else:\n",
    "        print(f\"incorrect: loss = {loss}\")"
   ]
  },
  {
   "cell_type": "code",
   "execution_count": null,
   "id": "63805fb3",
   "metadata": {},
   "outputs": [],
   "source": []
  },
  {
   "cell_type": "code",
   "execution_count": null,
   "id": "502e63a9",
   "metadata": {},
   "outputs": [],
   "source": []
  }
 ],
 "metadata": {
  "kernelspec": {
   "display_name": "Python 3 (Spyder)",
   "language": "python3",
   "name": "python3"
  },
  "language_info": {
   "codemirror_mode": {
    "name": "ipython",
    "version": 3
   },
   "file_extension": ".py",
   "mimetype": "text/x-python",
   "name": "python",
   "nbconvert_exporter": "python",
   "pygments_lexer": "ipython3",
   "version": "3.10.9"
  }
 },
 "nbformat": 4,
 "nbformat_minor": 5
}
