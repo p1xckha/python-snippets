{
 "cells": [
  {
   "cell_type": "code",
   "execution_count": 1,
   "id": "5ad52e46",
   "metadata": {},
   "outputs": [
    {
     "data": {
      "text/plain": [
       "deque([0, 1, 2, 3, 4], maxlen=5)"
      ]
     },
     "execution_count": 1,
     "metadata": {},
     "output_type": "execute_result"
    }
   ],
   "source": [
    "##################################################\n",
    "# deque example\n",
    "#################################################\n",
    "\n",
    "# https://docs.python.org/3/library/collections.html#collections.deque\n",
    "\n",
    "from collections import deque\n",
    "import random\n",
    "\n",
    "iterable_object = [0, 1, 2, 3, 4]\n",
    "deq = deque(iterable_object, maxlen=5)\n",
    "\n",
    "deq"
   ]
  },
  {
   "cell_type": "code",
   "execution_count": 2,
   "id": "a56f388f",
   "metadata": {},
   "outputs": [
    {
     "data": {
      "text/plain": [
       "deque([1, 2, 3, 4, 5], maxlen=5)"
      ]
     },
     "execution_count": 2,
     "metadata": {},
     "output_type": "execute_result"
    }
   ],
   "source": [
    "# add 5 to the right side of the deque\n",
    "deq.append(5)\n",
    "deq # 0 is removed"
   ]
  },
  {
   "cell_type": "code",
   "execution_count": 3,
   "id": "c7fdbfb7",
   "metadata": {},
   "outputs": [
    {
     "data": {
      "text/plain": [
       "deque([5, 6, 7, 8, 9], maxlen=5)"
      ]
     },
     "execution_count": 3,
     "metadata": {},
     "output_type": "execute_result"
    }
   ],
   "source": [
    "for i in range(6, 10):\n",
    "    deq.append(i)\n",
    "deq"
   ]
  },
  {
   "cell_type": "code",
   "execution_count": 4,
   "id": "10829a18",
   "metadata": {},
   "outputs": [
    {
     "data": {
      "text/plain": [
       "deque([9, 10, 11, 11, 12], maxlen=5)"
      ]
     },
     "execution_count": 4,
     "metadata": {},
     "output_type": "execute_result"
    }
   ],
   "source": [
    "# add elements to the deque using extend method\n",
    "deq.extend([10, 11, 11, 12])\n",
    "deq"
   ]
  },
  {
   "cell_type": "code",
   "execution_count": 5,
   "id": "29dac3ff",
   "metadata": {},
   "outputs": [
    {
     "data": {
      "text/plain": [
       "deque([0, 9, 10, 11, 11], maxlen=5)"
      ]
     },
     "execution_count": 5,
     "metadata": {},
     "output_type": "execute_result"
    }
   ],
   "source": [
    "deq.appendleft(0)\n",
    "deq"
   ]
  },
  {
   "cell_type": "code",
   "execution_count": 6,
   "id": "1f0c569f",
   "metadata": {},
   "outputs": [
    {
     "data": {
      "text/plain": [
       "deque([3, 2, 1, 0, 0], maxlen=5)"
      ]
     },
     "execution_count": 6,
     "metadata": {},
     "output_type": "execute_result"
    }
   ],
   "source": [
    "deq.extendleft([0, 1, 2, 3])\n",
    "deq"
   ]
  },
  {
   "cell_type": "code",
   "execution_count": 7,
   "id": "610823c9",
   "metadata": {},
   "outputs": [
    {
     "data": {
      "text/plain": [
       "deque([0, 0, 1, 2, 3], maxlen=5)"
      ]
     },
     "execution_count": 7,
     "metadata": {},
     "output_type": "execute_result"
    }
   ],
   "source": [
    "deq.reverse()\n",
    "deq"
   ]
  },
  {
   "cell_type": "code",
   "execution_count": 8,
   "id": "920e0d43",
   "metadata": {},
   "outputs": [
    {
     "data": {
      "text/plain": [
       "2"
      ]
     },
     "execution_count": 8,
     "metadata": {},
     "output_type": "execute_result"
    }
   ],
   "source": [
    "deq.count(0)"
   ]
  },
  {
   "cell_type": "code",
   "execution_count": 9,
   "id": "8d82426f",
   "metadata": {},
   "outputs": [
    {
     "data": {
      "text/plain": [
       "deque([0, 0, 1, 2], maxlen=5)"
      ]
     },
     "execution_count": 9,
     "metadata": {},
     "output_type": "execute_result"
    }
   ],
   "source": [
    "deq.pop() # \n",
    "deq"
   ]
  },
  {
   "cell_type": "code",
   "execution_count": 10,
   "id": "7d2cbc60",
   "metadata": {},
   "outputs": [
    {
     "data": {
      "text/plain": [
       "deque([0, 1, 2], maxlen=5)"
      ]
     },
     "execution_count": 10,
     "metadata": {},
     "output_type": "execute_result"
    }
   ],
   "source": [
    "deq. popleft()\n",
    "deq"
   ]
  },
  {
   "cell_type": "code",
   "execution_count": 11,
   "id": "50fda529",
   "metadata": {},
   "outputs": [
    {
     "data": {
      "text/plain": [
       "deque([0, 2], maxlen=5)"
      ]
     },
     "execution_count": 11,
     "metadata": {},
     "output_type": "execute_result"
    }
   ],
   "source": [
    "deq.remove(1) # the first 1 is removed\n",
    "deq"
   ]
  },
  {
   "cell_type": "code",
   "execution_count": 12,
   "id": "23ecc1ab",
   "metadata": {},
   "outputs": [
    {
     "data": {
      "text/plain": [
       "deque([0, 1, 2, 3, 4], maxlen=5)"
      ]
     },
     "execution_count": 12,
     "metadata": {},
     "output_type": "execute_result"
    }
   ],
   "source": [
    "deq.extend([0, 1, 2, 3, 4])\n",
    "deq"
   ]
  },
  {
   "cell_type": "code",
   "execution_count": 13,
   "id": "53539ac3",
   "metadata": {},
   "outputs": [
    {
     "data": {
      "text/plain": [
       "deque([4, 0, 1, 2, 3], maxlen=5)"
      ]
     },
     "execution_count": 13,
     "metadata": {},
     "output_type": "execute_result"
    }
   ],
   "source": [
    "deq.rotate()\n",
    "deq"
   ]
  },
  {
   "cell_type": "code",
   "execution_count": 14,
   "id": "cd4746dd",
   "metadata": {},
   "outputs": [
    {
     "data": {
      "text/plain": [
       "deque([2, 3, 4, 0, 1], maxlen=5)"
      ]
     },
     "execution_count": 14,
     "metadata": {},
     "output_type": "execute_result"
    }
   ],
   "source": [
    "deq.rotate(2)\n",
    "deq"
   ]
  },
  {
   "cell_type": "code",
   "execution_count": 15,
   "id": "db3c5941",
   "metadata": {},
   "outputs": [
    {
     "data": {
      "text/plain": [
       "deque([0, 1, 2, 3, 4], maxlen=5)"
      ]
     },
     "execution_count": 15,
     "metadata": {},
     "output_type": "execute_result"
    }
   ],
   "source": [
    "deq.rotate(2)\n",
    "deq"
   ]
  },
  {
   "cell_type": "code",
   "execution_count": 16,
   "id": "39758fb9",
   "metadata": {},
   "outputs": [
    {
     "data": {
      "text/plain": [
       "deque([1, 2, 3, 4, 0], maxlen=5)"
      ]
     },
     "execution_count": 16,
     "metadata": {},
     "output_type": "execute_result"
    }
   ],
   "source": [
    "deq.rotate(-1)\n",
    "deq"
   ]
  },
  {
   "cell_type": "code",
   "execution_count": 17,
   "id": "78071a4d",
   "metadata": {},
   "outputs": [
    {
     "data": {
      "text/plain": [
       "'deque([1, 2, 3, 4, 0], maxlen=5)'"
      ]
     },
     "execution_count": 17,
     "metadata": {},
     "output_type": "execute_result"
    }
   ],
   "source": [
    "repr(deq)"
   ]
  },
  {
   "cell_type": "code",
   "execution_count": 18,
   "id": "899a88da",
   "metadata": {},
   "outputs": [
    {
     "data": {
      "text/plain": [
       "deque([], maxlen=5)"
      ]
     },
     "execution_count": 18,
     "metadata": {},
     "output_type": "execute_result"
    }
   ],
   "source": [
    "deq.clear()\n",
    "deq"
   ]
  },
  {
   "cell_type": "code",
   "execution_count": null,
   "id": "127bda94",
   "metadata": {},
   "outputs": [],
   "source": [
    "\n"
   ]
  },
  {
   "cell_type": "code",
   "execution_count": 19,
   "id": "5dddcb45",
   "metadata": {},
   "outputs": [
    {
     "data": {
      "text/plain": [
       "deque([0, 1, 2, 3, 4, 5, 6, 7, 8, 9], maxlen=10)"
      ]
     },
     "execution_count": 19,
     "metadata": {},
     "output_type": "execute_result"
    }
   ],
   "source": [
    "############################################\n",
    "# buffer example\n",
    "#============================================\n",
    "\n",
    "from collections import deque\n",
    "import random\n",
    "\n",
    "class ReplayBuffer:\n",
    "    def __init__(self, max_size):\n",
    "        self.buffer = deque(maxlen=max_size)\n",
    "\n",
    "    def add(self, experience):\n",
    "        self.buffer.append(experience)\n",
    "    \n",
    "    def extend(self, experiences):\n",
    "        self.buffer.extend(experiences)\n",
    "\n",
    "    def sample(self, batch_size):\n",
    "        batch = random.sample(self.buffer, batch_size)\n",
    "        return batch\n",
    "\n",
    "    def __len__(self):\n",
    "        return len(self.buffer)\n",
    "    \n",
    "    def __repr__(self):\n",
    "        return repr(self.buffer)\n",
    "\n",
    "buffer = ReplayBuffer(max_size=10)\n",
    "for i in range(10):\n",
    "    buffer.add(i)\n",
    "    \n",
    "buffer"
   ]
  },
  {
   "cell_type": "code",
   "execution_count": 20,
   "id": "db3a9772",
   "metadata": {},
   "outputs": [
    {
     "data": {
      "text/plain": [
       "[7]"
      ]
     },
     "execution_count": 20,
     "metadata": {},
     "output_type": "execute_result"
    }
   ],
   "source": [
    "buffer.sample(1)"
   ]
  },
  {
   "cell_type": "code",
   "execution_count": 21,
   "id": "39cfae30",
   "metadata": {},
   "outputs": [
    {
     "data": {
      "text/plain": [
       "[4, 0, 9, 8, 7]"
      ]
     },
     "execution_count": 21,
     "metadata": {},
     "output_type": "execute_result"
    }
   ],
   "source": [
    "buffer.sample(5)"
   ]
  },
  {
   "cell_type": "code",
   "execution_count": 22,
   "id": "3145031f",
   "metadata": {},
   "outputs": [
    {
     "data": {
      "text/plain": [
       "deque([3, 4, 5, 6, 7, 8, 9, 10, 11, 12], maxlen=10)"
      ]
     },
     "execution_count": 22,
     "metadata": {},
     "output_type": "execute_result"
    }
   ],
   "source": [
    "buffer.extend([10, 11, 12])\n",
    "buffer"
   ]
  },
  {
   "cell_type": "code",
   "execution_count": 23,
   "id": "5c54a0da",
   "metadata": {},
   "outputs": [
    {
     "data": {
      "text/plain": [
       "deque([Episode(states=array([[-0.00703318, -0.02508628,  0.02987902, -0.02511803],\n",
       "       [-0.00753491, -0.2206237 ,  0.02937666,  0.2768403 ],\n",
       "       [-0.01194738, -0.41615218,  0.03491347,  0.57864195],\n",
       "       [-0.02027043, -0.22153647,  0.04648631,  0.29715878],\n",
       "       [-0.02470116, -0.4172892 ,  0.05242948,  0.6041328 ],\n",
       "       [-0.03304694, -0.6131037 ,  0.06451213,  0.91285807],\n",
       "       [-0.04530901, -0.418911  ,  0.0827693 ,  0.6411284 ],\n",
       "       [-0.05368723, -0.22503449,  0.09559187,  0.3756156 ],\n",
       "       [-0.05818792, -0.421375  ,  0.10310417,  0.696843  ],\n",
       "       [-0.06661543, -0.6177642 ,  0.11704104,  1.0201213 ],\n",
       "       [-0.07897071, -0.8142348 ,  0.13744347,  1.3471426 ],\n",
       "       [-0.0952554 , -0.621082  ,  0.16438632,  1.100427  ],\n",
       "       [-0.10767704, -0.8179402 ,  0.18639486,  1.4398457 ]],\n",
       "      dtype=float32), actions=array([0, 0, 1, 0, 0, 1, 1, 0, 0, 0, 1, 0, 0]), rewards=array([1., 1., 1., 1., 1., 1., 1., 1., 1., 1., 1., 1., 1.]), next_states=array([[-0.00753491, -0.2206237 ,  0.02937666,  0.2768403 ],\n",
       "       [-0.01194738, -0.41615218,  0.03491347,  0.57864195],\n",
       "       [-0.02027043, -0.22153647,  0.04648631,  0.29715878],\n",
       "       [-0.02470116, -0.4172892 ,  0.05242948,  0.6041328 ],\n",
       "       [-0.03304694, -0.6131037 ,  0.06451213,  0.91285807],\n",
       "       [-0.04530901, -0.418911  ,  0.0827693 ,  0.6411284 ],\n",
       "       [-0.05368723, -0.22503449,  0.09559187,  0.3756156 ],\n",
       "       [-0.05818792, -0.421375  ,  0.10310417,  0.696843  ],\n",
       "       [-0.06661543, -0.6177642 ,  0.11704104,  1.0201213 ],\n",
       "       [-0.07897071, -0.8142348 ,  0.13744347,  1.3471426 ],\n",
       "       [-0.0952554 , -0.621082  ,  0.16438632,  1.100427  ],\n",
       "       [-0.10767704, -0.8179402 ,  0.18639486,  1.4398457 ],\n",
       "       [-0.12403585, -1.0148042 ,  0.21519177,  1.7845103 ]],\n",
       "      dtype=float32), terminateds=array([False, False, False, False, False, False, False, False, False,\n",
       "       False, False, False,  True])), Episode(states=array([[ 1.8071380e-02, -3.4746591e-02,  4.8898086e-02, -2.6284257e-02],\n",
       "       [ 1.7376447e-02, -2.3053443e-01,  4.8372403e-02,  2.8141680e-01],\n",
       "       [ 1.2765759e-02, -4.2631182e-01,  5.4000739e-02,  5.8895528e-01],\n",
       "       [ 4.2395224e-03, -2.3198596e-01,  6.5779842e-02,  3.1375992e-01],\n",
       "       [-4.0019685e-04, -4.2798030e-01,  7.2055042e-02,  6.2644094e-01],\n",
       "       [-8.9598028e-03, -6.2403011e-01,  8.4583864e-02,  9.4091845e-01],\n",
       "       [-2.1440405e-02, -8.2018393e-01,  1.0340223e-01,  1.2589353e+00],\n",
       "       [-3.7844084e-02, -6.2652576e-01,  1.2858094e-01,  1.0003457e+00],\n",
       "       [-5.0374601e-02, -4.3333483e-01,  1.4858785e-01,  7.5065023e-01],\n",
       "       [-5.9041295e-02, -2.4054040e-01,  1.6360085e-01,  5.0816941e-01],\n",
       "       [-6.3852102e-02, -4.8055671e-02,  1.7376424e-01,  2.7118200e-01],\n",
       "       [-6.4813219e-02, -2.4517626e-01,  1.7918788e-01,  6.1324018e-01],\n",
       "       [-6.9716744e-02, -5.2950870e-02,  1.9145268e-01,  3.8191855e-01],\n",
       "       [-7.0775762e-02, -2.5020224e-01,  1.9909106e-01,  7.2833347e-01]],\n",
       "      dtype=float32), actions=array([0, 0, 1, 0, 0, 0, 1, 1, 1, 1, 0, 1, 0, 1]), rewards=array([1., 1., 1., 1., 1., 1., 1., 1., 1., 1., 1., 1., 1., 1.]), next_states=array([[ 1.7376447e-02, -2.3053443e-01,  4.8372403e-02,  2.8141680e-01],\n",
       "       [ 1.2765759e-02, -4.2631182e-01,  5.4000739e-02,  5.8895528e-01],\n",
       "       [ 4.2395224e-03, -2.3198596e-01,  6.5779842e-02,  3.1375992e-01],\n",
       "       [-4.0019685e-04, -4.2798030e-01,  7.2055042e-02,  6.2644094e-01],\n",
       "       [-8.9598028e-03, -6.2403011e-01,  8.4583864e-02,  9.4091845e-01],\n",
       "       [-2.1440405e-02, -8.2018393e-01,  1.0340223e-01,  1.2589353e+00],\n",
       "       [-3.7844084e-02, -6.2652576e-01,  1.2858094e-01,  1.0003457e+00],\n",
       "       [-5.0374601e-02, -4.3333483e-01,  1.4858785e-01,  7.5065023e-01],\n",
       "       [-5.9041295e-02, -2.4054040e-01,  1.6360085e-01,  5.0816941e-01],\n",
       "       [-6.3852102e-02, -4.8055671e-02,  1.7376424e-01,  2.7118200e-01],\n",
       "       [-6.4813219e-02, -2.4517626e-01,  1.7918788e-01,  6.1324018e-01],\n",
       "       [-6.9716744e-02, -5.2950870e-02,  1.9145268e-01,  3.8191855e-01],\n",
       "       [-7.0775762e-02, -2.5020224e-01,  1.9909106e-01,  7.2833347e-01],\n",
       "       [-7.5779803e-02, -5.8307584e-02,  2.1365772e-01,  5.0432414e-01]],\n",
       "      dtype=float32), terminateds=array([False, False, False, False, False, False, False, False, False,\n",
       "       False, False, False, False,  True]))], maxlen=50)"
      ]
     },
     "execution_count": 23,
     "metadata": {},
     "output_type": "execute_result"
    }
   ],
   "source": [
    "import gym\n",
    "from collections import namedtuple\n",
    "import numpy as np\n",
    "\n",
    "buffer = ReplayBuffer(max_size=50)\n",
    "Episode = namedtuple('Episode', field_names=['states', 'actions', 'rewards', 'next_states', 'terminateds'])\n",
    "\n",
    "num_episodes = 2\n",
    "env = gym.make('CartPole-v1')\n",
    "\n",
    "for i in range(num_episodes):\n",
    "    state, info = env.reset()\n",
    "    terminated = False\n",
    "    total_reward = 0.0\n",
    "\n",
    "    states = []\n",
    "    rewards = []\n",
    "    actions = []\n",
    "    next_states = []\n",
    "    terminateds = []\n",
    "\n",
    "    while not terminated:\n",
    "        action = env.action_space.sample()\n",
    "        next_state, reward, terminated, truncated, info = env.step(action)\n",
    "        \n",
    "        # record (s, a, r, s', terminated)\n",
    "        states.append(state)\n",
    "        actions.append(action)\n",
    "        rewards.append(reward)\n",
    "        next_states.append(next_state)\n",
    "        terminateds.append(terminated)\n",
    "\n",
    "        # prepare next step\n",
    "        state = next_state\n",
    "        total_reward += reward\n",
    "\n",
    "    states = np.array(states)\n",
    "    actions = np.array(actions)\n",
    "    rewards = np.array(rewards)\n",
    "    next_states = np.array(next_states)\n",
    "    terminateds = np.array(terminateds)\n",
    "\n",
    "    episode = Episode(states, actions, rewards, next_states, terminateds)\n",
    "    buffer.add(episode)\n",
    "\n",
    "buffer"
   ]
  },
  {
   "cell_type": "code",
   "execution_count": 24,
   "id": "682212a6",
   "metadata": {},
   "outputs": [
    {
     "data": {
      "text/plain": [
       "[array([9.73315833, 9.19279825, 8.62399815, 8.02526122, 7.39501181,\n",
       "        6.73159137, 6.03325408, 5.29816219, 4.52438125, 3.709875  ,\n",
       "        2.8525    , 1.95      , 1.        ]),\n",
       " array([10.24650042,  9.73315833,  9.19279825,  8.62399815,  8.02526122,\n",
       "         7.39501181,  6.73159137,  6.03325408,  5.29816219,  4.52438125,\n",
       "         3.709875  ,  2.8525    ,  1.95      ,  1.        ])]"
      ]
     },
     "execution_count": 24,
     "metadata": {},
     "output_type": "execute_result"
    }
   ],
   "source": [
    "reward_to_goes_episodes = []\n",
    "gamma = 0.95\n",
    "episodes = buffer.sample(2)\n",
    "for episode in episodes:\n",
    "    reward_to_goes = []\n",
    "    reward_to_go = 0.0\n",
    "    T = len(episode.states)\n",
    "    for i in range(T-1, -1, -1): \n",
    "        reward = episode.rewards[i]\n",
    "        reward_to_go = reward + reward_to_go * gamma\n",
    "        reward_to_goes.append(reward_to_go)\n",
    "    reward_to_goes_episodes.append(np.array(reward_to_goes[::-1]))\n",
    "reward_to_goes_episodes"
   ]
  },
  {
   "cell_type": "code",
   "execution_count": null,
   "id": "306de0b3",
   "metadata": {},
   "outputs": [],
   "source": []
  },
  {
   "cell_type": "code",
   "execution_count": null,
   "id": "4969ec3a",
   "metadata": {},
   "outputs": [],
   "source": []
  }
 ],
 "metadata": {
  "kernelspec": {
   "display_name": "Python 3 (Spyder)",
   "language": "python3",
   "name": "python3"
  },
  "language_info": {
   "codemirror_mode": {
    "name": "ipython",
    "version": 3
   },
   "file_extension": ".py",
   "mimetype": "text/x-python",
   "name": "python",
   "nbconvert_exporter": "python",
   "pygments_lexer": "ipython3",
   "version": "3.10.9"
  }
 },
 "nbformat": 4,
 "nbformat_minor": 5
}
