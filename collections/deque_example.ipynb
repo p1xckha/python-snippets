{
 "cells": [
  {
   "cell_type": "code",
   "execution_count": 1,
   "id": "49a2202d",
   "metadata": {},
   "outputs": [
    {
     "data": {
      "text/plain": [
       "deque([0, 1, 2, 3, 4], maxlen=5)"
      ]
     },
     "execution_count": 1,
     "metadata": {},
     "output_type": "execute_result"
    }
   ],
   "source": [
    "##################################################\n",
    "# deque example\n",
    "#################################################\n",
    "\n",
    "# https://docs.python.org/3/library/collections.html#collections.deque\n",
    "\n",
    "from collections import deque\n",
    "import random\n",
    "\n",
    "iterable_object = [0, 1, 2, 3, 4]\n",
    "deq = deque(iterable_object, maxlen=5)\n",
    "\n",
    "deq"
   ]
  },
  {
   "cell_type": "code",
   "execution_count": 2,
   "id": "78cdbba5",
   "metadata": {},
   "outputs": [
    {
     "data": {
      "text/plain": [
       "deque([1, 2, 3, 4, 5], maxlen=5)"
      ]
     },
     "execution_count": 2,
     "metadata": {},
     "output_type": "execute_result"
    }
   ],
   "source": [
    "# add 5 to the right side of the deque\n",
    "deq.append(5)\n",
    "deq # 0 is removed"
   ]
  },
  {
   "cell_type": "code",
   "execution_count": 3,
   "id": "0c9bc3c4",
   "metadata": {},
   "outputs": [
    {
     "data": {
      "text/plain": [
       "deque([5, 6, 7, 8, 9], maxlen=5)"
      ]
     },
     "execution_count": 3,
     "metadata": {},
     "output_type": "execute_result"
    }
   ],
   "source": [
    "for i in range(6, 10):\n",
    "    deq.append(i)\n",
    "deq"
   ]
  },
  {
   "cell_type": "code",
   "execution_count": 4,
   "id": "03f21ca1",
   "metadata": {},
   "outputs": [
    {
     "data": {
      "text/plain": [
       "deque([9, 10, 11, 11, 12], maxlen=5)"
      ]
     },
     "execution_count": 4,
     "metadata": {},
     "output_type": "execute_result"
    }
   ],
   "source": [
    "# add elements to the deque using extend method\n",
    "deq.extend([10, 11, 11, 12])\n",
    "deq"
   ]
  },
  {
   "cell_type": "code",
   "execution_count": 5,
   "id": "5bc5f42d",
   "metadata": {},
   "outputs": [
    {
     "data": {
      "text/plain": [
       "deque([0, 9, 10, 11, 11], maxlen=5)"
      ]
     },
     "execution_count": 5,
     "metadata": {},
     "output_type": "execute_result"
    }
   ],
   "source": [
    "deq.appendleft(0)\n",
    "deq"
   ]
  },
  {
   "cell_type": "code",
   "execution_count": 6,
   "id": "ab5deebe",
   "metadata": {},
   "outputs": [
    {
     "data": {
      "text/plain": [
       "deque([3, 2, 1, 0, 0], maxlen=5)"
      ]
     },
     "execution_count": 6,
     "metadata": {},
     "output_type": "execute_result"
    }
   ],
   "source": [
    "deq.extendleft([0, 1, 2, 3])\n",
    "deq"
   ]
  },
  {
   "cell_type": "code",
   "execution_count": 7,
   "id": "b072a981",
   "metadata": {},
   "outputs": [
    {
     "data": {
      "text/plain": [
       "deque([0, 0, 1, 2, 3], maxlen=5)"
      ]
     },
     "execution_count": 7,
     "metadata": {},
     "output_type": "execute_result"
    }
   ],
   "source": [
    "deq.reverse()\n",
    "deq"
   ]
  },
  {
   "cell_type": "code",
   "execution_count": 8,
   "id": "225366d3",
   "metadata": {},
   "outputs": [
    {
     "data": {
      "text/plain": [
       "2"
      ]
     },
     "execution_count": 8,
     "metadata": {},
     "output_type": "execute_result"
    }
   ],
   "source": [
    "deq.count(0)"
   ]
  },
  {
   "cell_type": "code",
   "execution_count": 9,
   "id": "07ac1be9",
   "metadata": {},
   "outputs": [
    {
     "data": {
      "text/plain": [
       "deque([0, 0, 1, 2], maxlen=5)"
      ]
     },
     "execution_count": 9,
     "metadata": {},
     "output_type": "execute_result"
    }
   ],
   "source": [
    "deq.pop() # \n",
    "deq"
   ]
  },
  {
   "cell_type": "code",
   "execution_count": 10,
   "id": "82cd6a4f",
   "metadata": {},
   "outputs": [
    {
     "data": {
      "text/plain": [
       "deque([0, 1, 2], maxlen=5)"
      ]
     },
     "execution_count": 10,
     "metadata": {},
     "output_type": "execute_result"
    }
   ],
   "source": [
    "deq. popleft()\n",
    "deq"
   ]
  },
  {
   "cell_type": "code",
   "execution_count": 11,
   "id": "d8eeb7c9",
   "metadata": {},
   "outputs": [
    {
     "data": {
      "text/plain": [
       "deque([0, 2], maxlen=5)"
      ]
     },
     "execution_count": 11,
     "metadata": {},
     "output_type": "execute_result"
    }
   ],
   "source": [
    "deq.remove(1) # the first 1 is removed\n",
    "deq"
   ]
  },
  {
   "cell_type": "code",
   "execution_count": 12,
   "id": "14ec60b7",
   "metadata": {},
   "outputs": [
    {
     "data": {
      "text/plain": [
       "deque([0, 1, 2, 3, 4], maxlen=5)"
      ]
     },
     "execution_count": 12,
     "metadata": {},
     "output_type": "execute_result"
    }
   ],
   "source": [
    "deq.extend([0, 1, 2, 3, 4])\n",
    "deq"
   ]
  },
  {
   "cell_type": "code",
   "execution_count": 13,
   "id": "fa93dab9",
   "metadata": {},
   "outputs": [
    {
     "data": {
      "text/plain": [
       "deque([4, 0, 1, 2, 3], maxlen=5)"
      ]
     },
     "execution_count": 13,
     "metadata": {},
     "output_type": "execute_result"
    }
   ],
   "source": [
    "deq.rotate()\n",
    "deq"
   ]
  },
  {
   "cell_type": "code",
   "execution_count": 14,
   "id": "84684c00",
   "metadata": {},
   "outputs": [
    {
     "data": {
      "text/plain": [
       "deque([2, 3, 4, 0, 1], maxlen=5)"
      ]
     },
     "execution_count": 14,
     "metadata": {},
     "output_type": "execute_result"
    }
   ],
   "source": [
    "deq.rotate(2)\n",
    "deq"
   ]
  },
  {
   "cell_type": "code",
   "execution_count": 15,
   "id": "3a7dd893",
   "metadata": {},
   "outputs": [
    {
     "data": {
      "text/plain": [
       "deque([0, 1, 2, 3, 4], maxlen=5)"
      ]
     },
     "execution_count": 15,
     "metadata": {},
     "output_type": "execute_result"
    }
   ],
   "source": [
    "deq.rotate(2)\n",
    "deq"
   ]
  },
  {
   "cell_type": "code",
   "execution_count": 16,
   "id": "e72b63b3",
   "metadata": {},
   "outputs": [
    {
     "data": {
      "text/plain": [
       "deque([1, 2, 3, 4, 0], maxlen=5)"
      ]
     },
     "execution_count": 16,
     "metadata": {},
     "output_type": "execute_result"
    }
   ],
   "source": [
    "deq.rotate(-1)\n",
    "deq"
   ]
  },
  {
   "cell_type": "code",
   "execution_count": 17,
   "id": "3584527a",
   "metadata": {},
   "outputs": [
    {
     "data": {
      "text/plain": [
       "'deque([1, 2, 3, 4, 0], maxlen=5)'"
      ]
     },
     "execution_count": 17,
     "metadata": {},
     "output_type": "execute_result"
    }
   ],
   "source": [
    "repr(deq)"
   ]
  },
  {
   "cell_type": "code",
   "execution_count": 18,
   "id": "72e34a4d",
   "metadata": {},
   "outputs": [
    {
     "data": {
      "text/plain": [
       "deque([], maxlen=5)"
      ]
     },
     "execution_count": 18,
     "metadata": {},
     "output_type": "execute_result"
    }
   ],
   "source": [
    "deq.clear()\n",
    "deq"
   ]
  },
  {
   "cell_type": "code",
   "execution_count": null,
   "id": "b3e18547",
   "metadata": {},
   "outputs": [],
   "source": [
    "\n"
   ]
  },
  {
   "cell_type": "code",
   "execution_count": 19,
   "id": "a7047664",
   "metadata": {},
   "outputs": [
    {
     "data": {
      "text/plain": [
       "deque([0, 1, 2, 3, 4, 5, 6, 7, 8, 9], maxlen=10)"
      ]
     },
     "execution_count": 19,
     "metadata": {},
     "output_type": "execute_result"
    }
   ],
   "source": [
    "############################################\n",
    "# buffer example\n",
    "#============================================\n",
    "\n",
    "from collections import deque\n",
    "import random\n",
    "\n",
    "class ReplayBuffer:\n",
    "    def __init__(self, max_size):\n",
    "        self.buffer = deque(maxlen=max_size)\n",
    "\n",
    "    def add(self, experience):\n",
    "        self.buffer.append(experience)\n",
    "    \n",
    "    def extend(self, experiences):\n",
    "        self.buffer.extend(experiences)\n",
    "\n",
    "    def sample(self, batch_size):\n",
    "        batch = random.sample(self.buffer, batch_size)\n",
    "        return batch\n",
    "\n",
    "    def __len__(self):\n",
    "        return len(self.buffer)\n",
    "    \n",
    "    def __repr__(self):\n",
    "        return repr(self.buffer)\n",
    "\n",
    "buffer = ReplayBuffer(max_size=10)\n",
    "for i in range(10):\n",
    "    buffer.add(i)\n",
    "    \n",
    "buffer"
   ]
  },
  {
   "cell_type": "code",
   "execution_count": 20,
   "id": "a251bca3",
   "metadata": {},
   "outputs": [
    {
     "data": {
      "text/plain": [
       "[3]"
      ]
     },
     "execution_count": 20,
     "metadata": {},
     "output_type": "execute_result"
    }
   ],
   "source": [
    "buffer.sample(1)"
   ]
  },
  {
   "cell_type": "code",
   "execution_count": 21,
   "id": "615f3adc",
   "metadata": {},
   "outputs": [
    {
     "data": {
      "text/plain": [
       "[0, 5, 1, 8, 7]"
      ]
     },
     "execution_count": 21,
     "metadata": {},
     "output_type": "execute_result"
    }
   ],
   "source": [
    "buffer.sample(5)"
   ]
  },
  {
   "cell_type": "code",
   "execution_count": 22,
   "id": "d58ae512",
   "metadata": {},
   "outputs": [
    {
     "data": {
      "text/plain": [
       "deque([3, 4, 5, 6, 7, 8, 9, 10, 11, 12], maxlen=10)"
      ]
     },
     "execution_count": 22,
     "metadata": {},
     "output_type": "execute_result"
    }
   ],
   "source": [
    "buffer.extend([10, 11, 12])\n",
    "buffer"
   ]
  },
  {
   "cell_type": "code",
   "execution_count": null,
   "id": "2f860f41",
   "metadata": {},
   "outputs": [],
   "source": []
  }
 ],
 "metadata": {
  "kernelspec": {
   "display_name": "Python 3 (Spyder)",
   "language": "python3",
   "name": "python3"
  },
  "language_info": {
   "codemirror_mode": {
    "name": "ipython",
    "version": 3
   },
   "file_extension": ".py",
   "mimetype": "text/x-python",
   "name": "python",
   "nbconvert_exporter": "python",
   "pygments_lexer": "ipython3",
   "version": "3.10.9"
  }
 },
 "nbformat": 4,
 "nbformat_minor": 5
}
