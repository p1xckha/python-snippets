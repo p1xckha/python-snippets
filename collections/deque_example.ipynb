{
 "cells": [
  {
   "cell_type": "code",
   "execution_count": 1,
   "id": "be6dfbfc",
   "metadata": {},
   "outputs": [
    {
     "data": {
      "text/plain": [
       "deque([0, 1, 2, 3, 4], maxlen=5)"
      ]
     },
     "execution_count": 1,
     "metadata": {},
     "output_type": "execute_result"
    }
   ],
   "source": [
    "##################################################\n",
    "# deque example\n",
    "#################################################\n",
    "\n",
    "# https://docs.python.org/3/library/collections.html#collections.deque\n",
    "\n",
    "from collections import deque\n",
    "import random\n",
    "\n",
    "iterable_object = [0, 1, 2, 3, 4]\n",
    "deq = deque(iterable_object, maxlen=5)\n",
    "\n",
    "deq"
   ]
  },
  {
   "cell_type": "code",
   "execution_count": 2,
   "id": "7097414f",
   "metadata": {},
   "outputs": [
    {
     "data": {
      "text/plain": [
       "deque([1, 2, 3, 4, 5], maxlen=5)"
      ]
     },
     "execution_count": 2,
     "metadata": {},
     "output_type": "execute_result"
    }
   ],
   "source": [
    "# add 5 to the right side of the deque\n",
    "deq.append(5)\n",
    "deq # 0 is removed"
   ]
  },
  {
   "cell_type": "code",
   "execution_count": 3,
   "id": "f74fd4be",
   "metadata": {},
   "outputs": [
    {
     "data": {
      "text/plain": [
       "deque([5, 6, 7, 8, 9], maxlen=5)"
      ]
     },
     "execution_count": 3,
     "metadata": {},
     "output_type": "execute_result"
    }
   ],
   "source": [
    "for i in range(6, 10):\n",
    "    deq.append(i)\n",
    "deq"
   ]
  },
  {
   "cell_type": "code",
   "execution_count": 4,
   "id": "97ace3f7",
   "metadata": {},
   "outputs": [
    {
     "data": {
      "text/plain": [
       "deque([9, 10, 11, 11, 12], maxlen=5)"
      ]
     },
     "execution_count": 4,
     "metadata": {},
     "output_type": "execute_result"
    }
   ],
   "source": [
    "# add elements to the deque using extend method\n",
    "deq.extend([10, 11, 11, 12])\n",
    "deq"
   ]
  },
  {
   "cell_type": "code",
   "execution_count": 5,
   "id": "a062fb4c",
   "metadata": {},
   "outputs": [
    {
     "data": {
      "text/plain": [
       "deque([0, 9, 10, 11, 11], maxlen=5)"
      ]
     },
     "execution_count": 5,
     "metadata": {},
     "output_type": "execute_result"
    }
   ],
   "source": [
    "deq.appendleft(0)\n",
    "deq"
   ]
  },
  {
   "cell_type": "code",
   "execution_count": 6,
   "id": "a5f60d55",
   "metadata": {},
   "outputs": [
    {
     "data": {
      "text/plain": [
       "deque([3, 2, 1, 0, 0], maxlen=5)"
      ]
     },
     "execution_count": 6,
     "metadata": {},
     "output_type": "execute_result"
    }
   ],
   "source": [
    "deq.extendleft([0, 1, 2, 3])\n",
    "deq"
   ]
  },
  {
   "cell_type": "code",
   "execution_count": 7,
   "id": "1fa0f82e",
   "metadata": {},
   "outputs": [
    {
     "data": {
      "text/plain": [
       "deque([0, 0, 1, 2, 3], maxlen=5)"
      ]
     },
     "execution_count": 7,
     "metadata": {},
     "output_type": "execute_result"
    }
   ],
   "source": [
    "deq.reverse()\n",
    "deq"
   ]
  },
  {
   "cell_type": "code",
   "execution_count": 8,
   "id": "69f676eb",
   "metadata": {},
   "outputs": [
    {
     "data": {
      "text/plain": [
       "2"
      ]
     },
     "execution_count": 8,
     "metadata": {},
     "output_type": "execute_result"
    }
   ],
   "source": [
    "deq.count(0)"
   ]
  },
  {
   "cell_type": "code",
   "execution_count": 9,
   "id": "9a2caab3",
   "metadata": {},
   "outputs": [
    {
     "data": {
      "text/plain": [
       "deque([0, 0, 1, 2], maxlen=5)"
      ]
     },
     "execution_count": 9,
     "metadata": {},
     "output_type": "execute_result"
    }
   ],
   "source": [
    "deq.pop() # \n",
    "deq"
   ]
  },
  {
   "cell_type": "code",
   "execution_count": 10,
   "id": "dfc523b9",
   "metadata": {},
   "outputs": [
    {
     "data": {
      "text/plain": [
       "deque([0, 1, 2], maxlen=5)"
      ]
     },
     "execution_count": 10,
     "metadata": {},
     "output_type": "execute_result"
    }
   ],
   "source": [
    "deq. popleft()\n",
    "deq"
   ]
  },
  {
   "cell_type": "code",
   "execution_count": 11,
   "id": "6ce9dcdc",
   "metadata": {},
   "outputs": [
    {
     "data": {
      "text/plain": [
       "deque([0, 2], maxlen=5)"
      ]
     },
     "execution_count": 11,
     "metadata": {},
     "output_type": "execute_result"
    }
   ],
   "source": [
    "deq.remove(1) # the first 1 is removed\n",
    "deq"
   ]
  },
  {
   "cell_type": "code",
   "execution_count": 12,
   "id": "839f9d28",
   "metadata": {},
   "outputs": [
    {
     "data": {
      "text/plain": [
       "deque([0, 1, 2, 3, 4], maxlen=5)"
      ]
     },
     "execution_count": 12,
     "metadata": {},
     "output_type": "execute_result"
    }
   ],
   "source": [
    "deq.extend([0, 1, 2, 3, 4])\n",
    "deq"
   ]
  },
  {
   "cell_type": "code",
   "execution_count": 13,
   "id": "b4feaa48",
   "metadata": {},
   "outputs": [
    {
     "data": {
      "text/plain": [
       "deque([4, 0, 1, 2, 3], maxlen=5)"
      ]
     },
     "execution_count": 13,
     "metadata": {},
     "output_type": "execute_result"
    }
   ],
   "source": [
    "deq.rotate()\n",
    "deq"
   ]
  },
  {
   "cell_type": "code",
   "execution_count": 14,
   "id": "d5f3dda5",
   "metadata": {},
   "outputs": [
    {
     "data": {
      "text/plain": [
       "deque([2, 3, 4, 0, 1], maxlen=5)"
      ]
     },
     "execution_count": 14,
     "metadata": {},
     "output_type": "execute_result"
    }
   ],
   "source": [
    "deq.rotate(2)\n",
    "deq"
   ]
  },
  {
   "cell_type": "code",
   "execution_count": 15,
   "id": "969d2f62",
   "metadata": {},
   "outputs": [
    {
     "data": {
      "text/plain": [
       "deque([0, 1, 2, 3, 4], maxlen=5)"
      ]
     },
     "execution_count": 15,
     "metadata": {},
     "output_type": "execute_result"
    }
   ],
   "source": [
    "deq.rotate(2)\n",
    "deq"
   ]
  },
  {
   "cell_type": "code",
   "execution_count": 16,
   "id": "3ca8a50e",
   "metadata": {},
   "outputs": [
    {
     "data": {
      "text/plain": [
       "deque([1, 2, 3, 4, 0], maxlen=5)"
      ]
     },
     "execution_count": 16,
     "metadata": {},
     "output_type": "execute_result"
    }
   ],
   "source": [
    "deq.rotate(-1)\n",
    "deq"
   ]
  },
  {
   "cell_type": "code",
   "execution_count": 17,
   "id": "76a0f196",
   "metadata": {},
   "outputs": [
    {
     "data": {
      "text/plain": [
       "'deque([1, 2, 3, 4, 0], maxlen=5)'"
      ]
     },
     "execution_count": 17,
     "metadata": {},
     "output_type": "execute_result"
    }
   ],
   "source": [
    "repr(deq)"
   ]
  },
  {
   "cell_type": "code",
   "execution_count": 18,
   "id": "f7642d14",
   "metadata": {},
   "outputs": [
    {
     "data": {
      "text/plain": [
       "deque([], maxlen=5)"
      ]
     },
     "execution_count": 18,
     "metadata": {},
     "output_type": "execute_result"
    }
   ],
   "source": [
    "deq.clear()\n",
    "deq"
   ]
  },
  {
   "cell_type": "code",
   "execution_count": null,
   "id": "828a1d4f",
   "metadata": {},
   "outputs": [],
   "source": [
    "\n"
   ]
  },
  {
   "cell_type": "code",
   "execution_count": 19,
   "id": "4c3c3870",
   "metadata": {},
   "outputs": [
    {
     "data": {
      "text/plain": [
       "deque([0, 1, 2, 3, 4, 5, 6, 7, 8, 9], maxlen=10)"
      ]
     },
     "execution_count": 19,
     "metadata": {},
     "output_type": "execute_result"
    }
   ],
   "source": [
    "############################################\n",
    "# buffer example\n",
    "#============================================\n",
    "\n",
    "from collections import deque\n",
    "import random\n",
    "\n",
    "class ReplayBuffer:\n",
    "    def __init__(self, max_size):\n",
    "        self.buffer = deque(maxlen=max_size)\n",
    "\n",
    "    def add(self, experience):\n",
    "        self.buffer.append(experience)\n",
    "    \n",
    "    def extend(self, experiences):\n",
    "        self.buffer.extend(experiences)\n",
    "\n",
    "    def sample(self, batch_size):\n",
    "        batch = random.sample(self.buffer, batch_size)\n",
    "        return batch\n",
    "\n",
    "    def __len__(self):\n",
    "        return len(self.buffer)\n",
    "    \n",
    "    def __repr__(self):\n",
    "        return repr(self.buffer)\n",
    "\n",
    "buffer = ReplayBuffer(max_size=10)\n",
    "for i in range(10):\n",
    "    buffer.add(i)\n",
    "    \n",
    "buffer"
   ]
  },
  {
   "cell_type": "code",
   "execution_count": 20,
   "id": "7b81483f",
   "metadata": {},
   "outputs": [
    {
     "data": {
      "text/plain": [
       "[1]"
      ]
     },
     "execution_count": 20,
     "metadata": {},
     "output_type": "execute_result"
    }
   ],
   "source": [
    "buffer.sample(1)"
   ]
  },
  {
   "cell_type": "code",
   "execution_count": 21,
   "id": "05ca8732",
   "metadata": {},
   "outputs": [
    {
     "data": {
      "text/plain": [
       "[6, 5, 9, 3, 7]"
      ]
     },
     "execution_count": 21,
     "metadata": {},
     "output_type": "execute_result"
    }
   ],
   "source": [
    "buffer.sample(5)"
   ]
  },
  {
   "cell_type": "code",
   "execution_count": 22,
   "id": "8645b228",
   "metadata": {},
   "outputs": [
    {
     "data": {
      "text/plain": [
       "deque([3, 4, 5, 6, 7, 8, 9, 10, 11, 12], maxlen=10)"
      ]
     },
     "execution_count": 22,
     "metadata": {},
     "output_type": "execute_result"
    }
   ],
   "source": [
    "buffer.extend([10, 11, 12])\n",
    "buffer"
   ]
  },
  {
   "cell_type": "code",
   "execution_count": 23,
   "id": "4440074c",
   "metadata": {},
   "outputs": [
    {
     "data": {
      "text/plain": [
       "deque([Episode(states=array([[-0.03078078,  0.01060495, -0.03049067,  0.03484377],\n",
       "       [-0.03056869,  0.20615058, -0.0297938 , -0.2673012 ],\n",
       "       [-0.02644567,  0.01146623, -0.03513982,  0.01583765],\n",
       "       [-0.02621635,  0.20707405, -0.03482307, -0.28772193],\n",
       "       [-0.02207487,  0.01246555, -0.0405775 , -0.00622208],\n",
       "       [-0.02182556, -0.18205167, -0.04070195,  0.27338707],\n",
       "       [-0.02546659, -0.37656996, -0.03523421,  0.55295974],\n",
       "       [-0.03299799, -0.57117987, -0.02417501,  0.8343367 ],\n",
       "       [-0.04442159, -0.3757361 , -0.00748828,  0.53415   ],\n",
       "       [-0.05193631, -0.57075197,  0.00319472,  0.824464  ],\n",
       "       [-0.06335135, -0.37567383,  0.019684  ,  0.5327876 ],\n",
       "       [-0.07086483, -0.18083419,  0.03033976,  0.24637146],\n",
       "       [-0.07448151, -0.37637603,  0.03526719,  0.54846776],\n",
       "       [-0.08200902, -0.1817668 ,  0.04623654,  0.26710182],\n",
       "       [-0.08564436, -0.37751707,  0.05157858,  0.57400215],\n",
       "       [-0.09319471, -0.5733228 ,  0.06305862,  0.8824775 ],\n",
       "       [-0.10466116, -0.37911135,  0.08070817,  0.61026627],\n",
       "       [-0.11224338, -0.18520476,  0.09291349,  0.34405568],\n",
       "       [-0.11594748, -0.3815172 ,  0.09979461,  0.66453147],\n",
       "       [-0.12357783, -0.5778753 ,  0.11308524,  0.9868942 ],\n",
       "       [-0.13513534, -0.38443443,  0.13282312,  0.7317624 ],\n",
       "       [-0.14282402, -0.58111733,  0.14745837,  1.0631235 ],\n",
       "       [-0.15444636, -0.7778508 ,  0.16872084,  1.398217  ],\n",
       "       [-0.17000338, -0.9746205 ,  0.19668518,  1.7385494 ]],\n",
       "      dtype=float32), actions=array([1, 0, 1, 0, 0, 0, 0, 1, 0, 1, 1, 0, 1, 0, 0, 1, 1, 0, 0, 1, 0, 0,\n",
       "       0, 1]), rewards=array([1., 1., 1., 1., 1., 1., 1., 1., 1., 1., 1., 1., 1., 1., 1., 1., 1.,\n",
       "       1., 1., 1., 1., 1., 1., 1.]), next_states=array([[-0.03056869,  0.20615058, -0.0297938 , -0.2673012 ],\n",
       "       [-0.02644567,  0.01146623, -0.03513982,  0.01583765],\n",
       "       [-0.02621635,  0.20707405, -0.03482307, -0.28772193],\n",
       "       [-0.02207487,  0.01246555, -0.0405775 , -0.00622208],\n",
       "       [-0.02182556, -0.18205167, -0.04070195,  0.27338707],\n",
       "       [-0.02546659, -0.37656996, -0.03523421,  0.55295974],\n",
       "       [-0.03299799, -0.57117987, -0.02417501,  0.8343367 ],\n",
       "       [-0.04442159, -0.3757361 , -0.00748828,  0.53415   ],\n",
       "       [-0.05193631, -0.57075197,  0.00319472,  0.824464  ],\n",
       "       [-0.06335135, -0.37567383,  0.019684  ,  0.5327876 ],\n",
       "       [-0.07086483, -0.18083419,  0.03033976,  0.24637146],\n",
       "       [-0.07448151, -0.37637603,  0.03526719,  0.54846776],\n",
       "       [-0.08200902, -0.1817668 ,  0.04623654,  0.26710182],\n",
       "       [-0.08564436, -0.37751707,  0.05157858,  0.57400215],\n",
       "       [-0.09319471, -0.5733228 ,  0.06305862,  0.8824775 ],\n",
       "       [-0.10466116, -0.37911135,  0.08070817,  0.61026627],\n",
       "       [-0.11224338, -0.18520476,  0.09291349,  0.34405568],\n",
       "       [-0.11594748, -0.3815172 ,  0.09979461,  0.66453147],\n",
       "       [-0.12357783, -0.5778753 ,  0.11308524,  0.9868942 ],\n",
       "       [-0.13513534, -0.38443443,  0.13282312,  0.7317624 ],\n",
       "       [-0.14282402, -0.58111733,  0.14745837,  1.0631235 ],\n",
       "       [-0.15444636, -0.7778508 ,  0.16872084,  1.398217  ],\n",
       "       [-0.17000338, -0.9746205 ,  0.19668518,  1.7385494 ],\n",
       "       [-0.1894958 , -0.7822085 ,  0.23145616,  1.5129493 ]],\n",
       "      dtype=float32), terminateds=array([False, False, False, False, False, False, False, False, False,\n",
       "       False, False, False, False, False, False, False, False, False,\n",
       "       False, False, False, False, False,  True])), Episode(states=array([[ 0.02126458, -0.0465733 , -0.04018584,  0.02749788],\n",
       "       [ 0.02033311,  0.14910123, -0.03963588, -0.2775884 ],\n",
       "       [ 0.02331514, -0.04543352, -0.04518765,  0.00233464],\n",
       "       [ 0.02240646, -0.23987927, -0.04514096,  0.2804249 ],\n",
       "       [ 0.01760888, -0.43432918, -0.03953246,  0.5585357 ],\n",
       "       [ 0.0089223 , -0.23867527, -0.02836174,  0.2536646 ],\n",
       "       [ 0.00414879, -0.04316007, -0.02328845, -0.04782747],\n",
       "       [ 0.00328559,  0.15228795, -0.024245  , -0.34776616],\n",
       "       [ 0.00633135,  0.3477462 , -0.03120032, -0.64799476],\n",
       "       [ 0.01328627,  0.15307249, -0.04416022, -0.3652977 ],\n",
       "       [ 0.01634772, -0.04139497, -0.05146617, -0.08685976],\n",
       "       [ 0.01551982,  0.15442549, -0.05320337, -0.3953259 ],\n",
       "       [ 0.01860833,  0.35026038, -0.06110989, -0.704297  ],\n",
       "       [ 0.02561354,  0.15603611, -0.07519583, -0.43145952],\n",
       "       [ 0.02873426,  0.35213777, -0.08382501, -0.74686754],\n",
       "       [ 0.03577702,  0.5483101 , -0.09876237, -1.0647085 ],\n",
       "       [ 0.04674322,  0.7445906 , -0.12005654, -1.3866835 ],\n",
       "       [ 0.06163503,  0.5511522 , -0.14779021, -1.1338265 ],\n",
       "       [ 0.07265808,  0.3582405 , -0.17046674, -0.89090556],\n",
       "       [ 0.07982288,  0.16579008, -0.18828484, -0.656289  ],\n",
       "       [ 0.08313869,  0.36296484, -0.20141062, -1.0018532 ]],\n",
       "      dtype=float32), actions=array([1, 0, 0, 0, 1, 1, 1, 1, 0, 0, 1, 1, 0, 1, 1, 1, 0, 0, 0, 1, 1]), rewards=array([1., 1., 1., 1., 1., 1., 1., 1., 1., 1., 1., 1., 1., 1., 1., 1., 1.,\n",
       "       1., 1., 1., 1.]), next_states=array([[ 0.02033311,  0.14910123, -0.03963588, -0.2775884 ],\n",
       "       [ 0.02331514, -0.04543352, -0.04518765,  0.00233464],\n",
       "       [ 0.02240646, -0.23987927, -0.04514096,  0.2804249 ],\n",
       "       [ 0.01760888, -0.43432918, -0.03953246,  0.5585357 ],\n",
       "       [ 0.0089223 , -0.23867527, -0.02836174,  0.2536646 ],\n",
       "       [ 0.00414879, -0.04316007, -0.02328845, -0.04782747],\n",
       "       [ 0.00328559,  0.15228795, -0.024245  , -0.34776616],\n",
       "       [ 0.00633135,  0.3477462 , -0.03120032, -0.64799476],\n",
       "       [ 0.01328627,  0.15307249, -0.04416022, -0.3652977 ],\n",
       "       [ 0.01634772, -0.04139497, -0.05146617, -0.08685976],\n",
       "       [ 0.01551982,  0.15442549, -0.05320337, -0.3953259 ],\n",
       "       [ 0.01860833,  0.35026038, -0.06110989, -0.704297  ],\n",
       "       [ 0.02561354,  0.15603611, -0.07519583, -0.43145952],\n",
       "       [ 0.02873426,  0.35213777, -0.08382501, -0.74686754],\n",
       "       [ 0.03577702,  0.5483101 , -0.09876237, -1.0647085 ],\n",
       "       [ 0.04674322,  0.7445906 , -0.12005654, -1.3866835 ],\n",
       "       [ 0.06163503,  0.5511522 , -0.14779021, -1.1338265 ],\n",
       "       [ 0.07265808,  0.3582405 , -0.17046674, -0.89090556],\n",
       "       [ 0.07982288,  0.16579008, -0.18828484, -0.656289  ],\n",
       "       [ 0.08313869,  0.36296484, -0.20141062, -1.0018532 ],\n",
       "       [ 0.09039798,  0.5601246 , -0.22144769, -1.3504298 ]],\n",
       "      dtype=float32), terminateds=array([False, False, False, False, False, False, False, False, False,\n",
       "       False, False, False, False, False, False, False, False, False,\n",
       "       False, False,  True]))], maxlen=50)"
      ]
     },
     "execution_count": 23,
     "metadata": {},
     "output_type": "execute_result"
    }
   ],
   "source": [
    "import gym\n",
    "from collections import namedtuple\n",
    "import numpy as np\n",
    "\n",
    "buffer = ReplayBuffer(max_size=50)\n",
    "Episode = namedtuple('Episode', field_names=['states', 'actions', 'rewards', 'next_states', 'terminateds'])\n",
    "\n",
    "num_episodes = 2\n",
    "env = gym.make('CartPole-v1')\n",
    "\n",
    "for i in range(num_episodes):\n",
    "    state, info = env.reset()\n",
    "    terminated = False\n",
    "    total_reward = 0.0\n",
    "\n",
    "    states = []\n",
    "    rewards = []\n",
    "    actions = []\n",
    "    next_states = []\n",
    "    terminateds = []\n",
    "\n",
    "    while not terminated:\n",
    "        action = env.action_space.sample()\n",
    "        next_state, reward, terminated, truncated, info = env.step(action)\n",
    "        \n",
    "        # record (s, a, r, s', terminated)\n",
    "        states.append(state)\n",
    "        actions.append(action)\n",
    "        rewards.append(reward)\n",
    "        next_states.append(next_state)\n",
    "        terminateds.append(terminated)\n",
    "\n",
    "        # prepare next step\n",
    "        state = next_state\n",
    "        total_reward += reward\n",
    "\n",
    "    states = np.array(states)\n",
    "    actions = np.array(actions)\n",
    "    rewards = np.array(rewards)\n",
    "    next_states = np.array(next_states)\n",
    "    terminateds = np.array(terminateds)\n",
    "\n",
    "    episode = Episode(states, actions, rewards, next_states, terminateds)\n",
    "    buffer.add(episode)\n",
    "\n",
    "buffer"
   ]
  },
  {
   "cell_type": "code",
   "execution_count": 24,
   "id": "fb609354",
   "metadata": {},
   "outputs": [
    {
     "name": "stdout",
     "output_type": "stream",
     "text": [
      "[13.18876747 12.83028155 12.45292795 12.05571363 11.6375933  11.19746663\n",
      " 10.7341754  10.24650042  9.73315833  9.19279825  8.62399815  8.02526122\n",
      "  7.39501181  6.73159137  6.03325408  5.29816219  4.52438125  3.709875\n",
      "  2.8525      1.95        1.        ]\n",
      "[14.16021951 13.85286265 13.5293291  13.18876747 12.83028155 12.45292795\n",
      " 12.05571363 11.6375933  11.19746663 10.7341754  10.24650042  9.73315833\n",
      "  9.19279825  8.62399815  8.02526122  7.39501181  6.73159137  6.03325408\n",
      "  5.29816219  4.52438125  3.709875    2.8525      1.95        1.        ]\n"
     ]
    }
   ],
   "source": [
    "# compute reward_to_go R_t := r_t + r_(t+1) * gamma + ... \n",
    "gamma = 0.95\n",
    "episodes = buffer.sample(2)\n",
    "for episode in episodes:\n",
    "    reward_to_goes = []\n",
    "    reward_to_go = 0.0\n",
    "    T = len(episode.states)\n",
    "    for i in range(T-1, -1, -1): \n",
    "        reward = episode.rewards[i]\n",
    "        reward_to_go = reward + reward_to_go * gamma\n",
    "        reward_to_goes.append(reward_to_go)\n",
    "    reward_to_goes = np.array(reward_to_goes[::-1])\n",
    "    print(reward_to_goes)"
   ]
  },
  {
   "cell_type": "code",
   "execution_count": 25,
   "id": "7ae1649d",
   "metadata": {},
   "outputs": [
    {
     "name": "stdout",
     "output_type": "stream",
     "text": [
      "[13.18876747 12.83028155 12.45292795 12.05571363 11.6375933  11.19746663\n",
      " 10.7341754  10.24650042  9.73315833  9.19279825  8.62399815  8.02526122\n",
      "  7.39501181  6.73159137  6.03325408  5.29816219  4.52438125  3.709875\n",
      "  2.8525      1.95        1.        ]\n",
      "[14.16021951 13.85286265 13.5293291  13.18876747 12.83028155 12.45292795\n",
      " 12.05571363 11.6375933  11.19746663 10.7341754  10.24650042  9.73315833\n",
      "  9.19279825  8.62399815  8.02526122  7.39501181  6.73159137  6.03325408\n",
      "  5.29816219  4.52438125  3.709875    2.8525      1.95        1.        ]\n"
     ]
    }
   ],
   "source": [
    "# the same result as https://github.com/openai/spinningup/blob/master/spinup/algos/pytorch/ppo/core.py in discount_cumsum()\n",
    "import scipy\n",
    "\n",
    "for episode in episodes:\n",
    "    reward_to_goes = scipy.signal.lfilter([1], [1, float(-gamma)], episode.rewards[::-1], axis=0)[::-1]\n",
    "    print(reward_to_goes)"
   ]
  },
  {
   "cell_type": "code",
   "execution_count": null,
   "id": "d2ec3c79",
   "metadata": {},
   "outputs": [],
   "source": []
  }
 ],
 "metadata": {
  "kernelspec": {
   "display_name": "Python 3 (Spyder)",
   "language": "python3",
   "name": "python3"
  },
  "language_info": {
   "codemirror_mode": {
    "name": "ipython",
    "version": 3
   },
   "file_extension": ".py",
   "mimetype": "text/x-python",
   "name": "python",
   "nbconvert_exporter": "python",
   "pygments_lexer": "ipython3",
   "version": "3.10.9"
  }
 },
 "nbformat": 4,
 "nbformat_minor": 5
}
