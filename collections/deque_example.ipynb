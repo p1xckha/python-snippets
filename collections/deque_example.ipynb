{
 "cells": [
  {
   "cell_type": "code",
   "execution_count": 1,
   "id": "fea49523",
   "metadata": {},
   "outputs": [
    {
     "data": {
      "text/plain": [
       "deque([0, 1, 2, 3, 4], maxlen=5)"
      ]
     },
     "execution_count": 1,
     "metadata": {},
     "output_type": "execute_result"
    }
   ],
   "source": [
    "##################################################\n",
    "# deque example\n",
    "#################################################\n",
    "\n",
    "# https://docs.python.org/3/library/collections.html#collections.deque\n",
    "\n",
    "from collections import deque\n",
    "import random\n",
    "\n",
    "iterable_object = [0, 1, 2, 3, 4]\n",
    "deq = deque(iterable_object, maxlen=5)\n",
    "\n",
    "deq"
   ]
  },
  {
   "cell_type": "code",
   "execution_count": 2,
   "id": "9d23312b",
   "metadata": {},
   "outputs": [
    {
     "data": {
      "text/plain": [
       "deque([1, 2, 3, 4, 5], maxlen=5)"
      ]
     },
     "execution_count": 2,
     "metadata": {},
     "output_type": "execute_result"
    }
   ],
   "source": [
    "# add 5 to the right side of the deque\n",
    "deq.append(5)\n",
    "deq # 0 is removed"
   ]
  },
  {
   "cell_type": "code",
   "execution_count": 3,
   "id": "f9867813",
   "metadata": {},
   "outputs": [
    {
     "data": {
      "text/plain": [
       "deque([5, 6, 7, 8, 9], maxlen=5)"
      ]
     },
     "execution_count": 3,
     "metadata": {},
     "output_type": "execute_result"
    }
   ],
   "source": [
    "for i in range(6, 10):\n",
    "    deq.append(i)\n",
    "deq"
   ]
  },
  {
   "cell_type": "code",
   "execution_count": 4,
   "id": "2a2d8f96",
   "metadata": {},
   "outputs": [
    {
     "data": {
      "text/plain": [
       "deque([9, 10, 11, 11, 12], maxlen=5)"
      ]
     },
     "execution_count": 4,
     "metadata": {},
     "output_type": "execute_result"
    }
   ],
   "source": [
    "# add elements to the deque using extend method\n",
    "deq.extend([10, 11, 11, 12])\n",
    "deq"
   ]
  },
  {
   "cell_type": "code",
   "execution_count": 5,
   "id": "33320f1f",
   "metadata": {},
   "outputs": [
    {
     "data": {
      "text/plain": [
       "deque([0, 9, 10, 11, 11], maxlen=5)"
      ]
     },
     "execution_count": 5,
     "metadata": {},
     "output_type": "execute_result"
    }
   ],
   "source": [
    "deq.appendleft(0)\n",
    "deq"
   ]
  },
  {
   "cell_type": "code",
   "execution_count": 6,
   "id": "69d0082d",
   "metadata": {},
   "outputs": [
    {
     "data": {
      "text/plain": [
       "deque([3, 2, 1, 0, 0], maxlen=5)"
      ]
     },
     "execution_count": 6,
     "metadata": {},
     "output_type": "execute_result"
    }
   ],
   "source": [
    "deq.extendleft([0, 1, 2, 3])\n",
    "deq"
   ]
  },
  {
   "cell_type": "code",
   "execution_count": 7,
   "id": "b8a54194",
   "metadata": {},
   "outputs": [
    {
     "data": {
      "text/plain": [
       "deque([0, 0, 1, 2, 3], maxlen=5)"
      ]
     },
     "execution_count": 7,
     "metadata": {},
     "output_type": "execute_result"
    }
   ],
   "source": [
    "deq.reverse()\n",
    "deq"
   ]
  },
  {
   "cell_type": "code",
   "execution_count": 8,
   "id": "2b9bb90d",
   "metadata": {},
   "outputs": [
    {
     "data": {
      "text/plain": [
       "2"
      ]
     },
     "execution_count": 8,
     "metadata": {},
     "output_type": "execute_result"
    }
   ],
   "source": [
    "deq.count(0)"
   ]
  },
  {
   "cell_type": "code",
   "execution_count": 9,
   "id": "16daa3da",
   "metadata": {},
   "outputs": [
    {
     "data": {
      "text/plain": [
       "deque([0, 0, 1, 2], maxlen=5)"
      ]
     },
     "execution_count": 9,
     "metadata": {},
     "output_type": "execute_result"
    }
   ],
   "source": [
    "deq.pop() # \n",
    "deq"
   ]
  },
  {
   "cell_type": "code",
   "execution_count": 10,
   "id": "531eed88",
   "metadata": {},
   "outputs": [
    {
     "data": {
      "text/plain": [
       "deque([0, 1, 2], maxlen=5)"
      ]
     },
     "execution_count": 10,
     "metadata": {},
     "output_type": "execute_result"
    }
   ],
   "source": [
    "deq. popleft()\n",
    "deq"
   ]
  },
  {
   "cell_type": "code",
   "execution_count": 11,
   "id": "459abd62",
   "metadata": {},
   "outputs": [
    {
     "data": {
      "text/plain": [
       "deque([0, 2], maxlen=5)"
      ]
     },
     "execution_count": 11,
     "metadata": {},
     "output_type": "execute_result"
    }
   ],
   "source": [
    "deq.remove(1) # the first 1 is removed\n",
    "deq"
   ]
  },
  {
   "cell_type": "code",
   "execution_count": 12,
   "id": "f102cb64",
   "metadata": {},
   "outputs": [
    {
     "data": {
      "text/plain": [
       "deque([0, 1, 2, 3, 4], maxlen=5)"
      ]
     },
     "execution_count": 12,
     "metadata": {},
     "output_type": "execute_result"
    }
   ],
   "source": [
    "deq.extend([0, 1, 2, 3, 4])\n",
    "deq"
   ]
  },
  {
   "cell_type": "code",
   "execution_count": 13,
   "id": "399b3646",
   "metadata": {},
   "outputs": [
    {
     "data": {
      "text/plain": [
       "deque([4, 0, 1, 2, 3], maxlen=5)"
      ]
     },
     "execution_count": 13,
     "metadata": {},
     "output_type": "execute_result"
    }
   ],
   "source": [
    "deq.rotate()\n",
    "deq"
   ]
  },
  {
   "cell_type": "code",
   "execution_count": 14,
   "id": "4946cadd",
   "metadata": {},
   "outputs": [
    {
     "data": {
      "text/plain": [
       "deque([2, 3, 4, 0, 1], maxlen=5)"
      ]
     },
     "execution_count": 14,
     "metadata": {},
     "output_type": "execute_result"
    }
   ],
   "source": [
    "deq.rotate(2)\n",
    "deq"
   ]
  },
  {
   "cell_type": "code",
   "execution_count": 15,
   "id": "2b60101a",
   "metadata": {},
   "outputs": [
    {
     "data": {
      "text/plain": [
       "deque([0, 1, 2, 3, 4], maxlen=5)"
      ]
     },
     "execution_count": 15,
     "metadata": {},
     "output_type": "execute_result"
    }
   ],
   "source": [
    "deq.rotate(2)\n",
    "deq"
   ]
  },
  {
   "cell_type": "code",
   "execution_count": 16,
   "id": "e56281b0",
   "metadata": {},
   "outputs": [
    {
     "data": {
      "text/plain": [
       "deque([1, 2, 3, 4, 0], maxlen=5)"
      ]
     },
     "execution_count": 16,
     "metadata": {},
     "output_type": "execute_result"
    }
   ],
   "source": [
    "deq.rotate(-1)\n",
    "deq"
   ]
  },
  {
   "cell_type": "code",
   "execution_count": 17,
   "id": "c334539b",
   "metadata": {},
   "outputs": [
    {
     "data": {
      "text/plain": [
       "'deque([1, 2, 3, 4, 0], maxlen=5)'"
      ]
     },
     "execution_count": 17,
     "metadata": {},
     "output_type": "execute_result"
    }
   ],
   "source": [
    "repr(deq)"
   ]
  },
  {
   "cell_type": "code",
   "execution_count": 18,
   "id": "f0679c24",
   "metadata": {},
   "outputs": [
    {
     "data": {
      "text/plain": [
       "deque([], maxlen=5)"
      ]
     },
     "execution_count": 18,
     "metadata": {},
     "output_type": "execute_result"
    }
   ],
   "source": [
    "deq.clear()\n",
    "deq"
   ]
  },
  {
   "cell_type": "code",
   "execution_count": null,
   "id": "e1c7b321",
   "metadata": {},
   "outputs": [],
   "source": [
    "\n"
   ]
  },
  {
   "cell_type": "code",
   "execution_count": 19,
   "id": "71a508cb",
   "metadata": {},
   "outputs": [
    {
     "data": {
      "text/plain": [
       "deque([0, 1, 2, 3, 4, 5, 6, 7, 8, 9], maxlen=10)"
      ]
     },
     "execution_count": 19,
     "metadata": {},
     "output_type": "execute_result"
    }
   ],
   "source": [
    "############################################\n",
    "# buffer example\n",
    "#============================================\n",
    "\n",
    "from collections import deque\n",
    "import random\n",
    "\n",
    "class ReplayBuffer:\n",
    "    def __init__(self, max_size):\n",
    "        self.buffer = deque(maxlen=max_size)\n",
    "\n",
    "    def add(self, experience):\n",
    "        self.buffer.append(experience)\n",
    "    \n",
    "    def extend(self, experiences):\n",
    "        self.buffer.extend(experiences)\n",
    "\n",
    "    def sample(self, batch_size):\n",
    "        batch = random.sample(self.buffer, batch_size)\n",
    "        return batch\n",
    "\n",
    "    def __len__(self):\n",
    "        return len(self.buffer)\n",
    "    \n",
    "    def __repr__(self):\n",
    "        return repr(self.buffer)\n",
    "\n",
    "buffer = ReplayBuffer(max_size=10)\n",
    "for i in range(10):\n",
    "    buffer.add(i)\n",
    "    \n",
    "buffer"
   ]
  },
  {
   "cell_type": "code",
   "execution_count": 20,
   "id": "6b9d152f",
   "metadata": {},
   "outputs": [
    {
     "data": {
      "text/plain": [
       "[1]"
      ]
     },
     "execution_count": 20,
     "metadata": {},
     "output_type": "execute_result"
    }
   ],
   "source": [
    "buffer.sample(1)"
   ]
  },
  {
   "cell_type": "code",
   "execution_count": 21,
   "id": "339f4554",
   "metadata": {},
   "outputs": [
    {
     "data": {
      "text/plain": [
       "[6, 4, 9, 8, 1]"
      ]
     },
     "execution_count": 21,
     "metadata": {},
     "output_type": "execute_result"
    }
   ],
   "source": [
    "buffer.sample(5)"
   ]
  },
  {
   "cell_type": "code",
   "execution_count": 22,
   "id": "e88a6779",
   "metadata": {},
   "outputs": [
    {
     "data": {
      "text/plain": [
       "deque([3, 4, 5, 6, 7, 8, 9, 10, 11, 12], maxlen=10)"
      ]
     },
     "execution_count": 22,
     "metadata": {},
     "output_type": "execute_result"
    }
   ],
   "source": [
    "buffer.extend([10, 11, 12])\n",
    "buffer"
   ]
  },
  {
   "cell_type": "code",
   "execution_count": 23,
   "id": "8610c832",
   "metadata": {},
   "outputs": [
    {
     "data": {
      "text/plain": [
       "deque([Episode(states=array([[ 9.8505523e-03,  1.5033756e-02,  4.1495539e-02,  4.8688967e-02],\n",
       "       [ 1.0151227e-02, -1.8065788e-01,  4.2469319e-02,  3.5416993e-01],\n",
       "       [ 6.5380693e-03, -3.7635717e-01,  4.9552720e-02,  6.5993637e-01],\n",
       "       [-9.8907389e-04, -1.8195856e-01,  6.2751450e-02,  3.8325897e-01],\n",
       "       [-4.6282453e-03,  1.2218914e-02,  7.0416629e-02,  1.1100284e-01],\n",
       "       [-4.3838667e-03,  2.0626488e-01,  7.2636686e-02, -1.5865938e-01],\n",
       "       [-2.5856926e-04,  4.0027580e-01,  6.9463499e-02, -4.2757198e-01],\n",
       "       [ 7.7469465e-03,  2.0424232e-01,  6.0912054e-02, -1.1382504e-01],\n",
       "       [ 1.1831793e-02,  8.3028525e-03,  5.8635555e-02,  1.9743615e-01],\n",
       "       [ 1.1997850e-02, -1.8760663e-01,  6.2584281e-02,  5.0802433e-01],\n",
       "       [ 8.2457168e-03,  6.5802755e-03,  7.2744764e-02,  2.3570199e-01],\n",
       "       [ 8.3773229e-03,  2.0059158e-01,  7.7458806e-02, -3.3177208e-02],\n",
       "       [ 1.2389154e-02,  4.4492208e-03,  7.6795258e-02,  2.8290427e-01],\n",
       "       [ 1.2478139e-02,  1.9839661e-01,  8.2453348e-02,  1.5396264e-02],\n",
       "       [ 1.6446071e-02,  2.1949015e-03,  8.2761273e-02,  3.3291280e-01],\n",
       "       [ 1.6489970e-02,  1.9604735e-01,  8.9419529e-02,  6.7433424e-02],\n",
       "       [ 2.0410916e-02,  3.8978109e-01,  9.0768196e-02, -1.9575180e-01],\n",
       "       [ 2.8206537e-02,  1.9348592e-01,  8.6853161e-02,  1.2412805e-01],\n",
       "       [ 3.2076254e-02, -2.7660311e-03,  8.9335717e-02,  4.4289908e-01],\n",
       "       [ 3.2020934e-02, -1.9903100e-01,  9.8193705e-02,  7.6235235e-01],\n",
       "       [ 2.8040316e-02, -3.9535850e-01,  1.1344075e-01,  1.0842476e+00],\n",
       "       [ 2.0133145e-02, -5.9177947e-01,  1.3512570e-01,  1.4102653e+00],\n",
       "       [ 8.2975561e-03, -7.8829348e-01,  1.6333100e-01,  1.7419555e+00],\n",
       "       [-7.4683130e-03, -5.9536433e-01,  1.9817011e-01,  1.5042194e+00]],\n",
       "      dtype=float32), actions=array([0, 0, 1, 1, 1, 1, 0, 0, 0, 1, 1, 0, 1, 0, 1, 1, 0, 0, 0, 0, 0, 0,\n",
       "       1, 1]), rewards=array([1., 1., 1., 1., 1., 1., 1., 1., 1., 1., 1., 1., 1., 1., 1., 1., 1.,\n",
       "       1., 1., 1., 1., 1., 1., 1.]), next_states=array([[ 1.0151227e-02, -1.8065788e-01,  4.2469319e-02,  3.5416993e-01],\n",
       "       [ 6.5380693e-03, -3.7635717e-01,  4.9552720e-02,  6.5993637e-01],\n",
       "       [-9.8907389e-04, -1.8195856e-01,  6.2751450e-02,  3.8325897e-01],\n",
       "       [-4.6282453e-03,  1.2218914e-02,  7.0416629e-02,  1.1100284e-01],\n",
       "       [-4.3838667e-03,  2.0626488e-01,  7.2636686e-02, -1.5865938e-01],\n",
       "       [-2.5856926e-04,  4.0027580e-01,  6.9463499e-02, -4.2757198e-01],\n",
       "       [ 7.7469465e-03,  2.0424232e-01,  6.0912054e-02, -1.1382504e-01],\n",
       "       [ 1.1831793e-02,  8.3028525e-03,  5.8635555e-02,  1.9743615e-01],\n",
       "       [ 1.1997850e-02, -1.8760663e-01,  6.2584281e-02,  5.0802433e-01],\n",
       "       [ 8.2457168e-03,  6.5802755e-03,  7.2744764e-02,  2.3570199e-01],\n",
       "       [ 8.3773229e-03,  2.0059158e-01,  7.7458806e-02, -3.3177208e-02],\n",
       "       [ 1.2389154e-02,  4.4492208e-03,  7.6795258e-02,  2.8290427e-01],\n",
       "       [ 1.2478139e-02,  1.9839661e-01,  8.2453348e-02,  1.5396264e-02],\n",
       "       [ 1.6446071e-02,  2.1949015e-03,  8.2761273e-02,  3.3291280e-01],\n",
       "       [ 1.6489970e-02,  1.9604735e-01,  8.9419529e-02,  6.7433424e-02],\n",
       "       [ 2.0410916e-02,  3.8978109e-01,  9.0768196e-02, -1.9575180e-01],\n",
       "       [ 2.8206537e-02,  1.9348592e-01,  8.6853161e-02,  1.2412805e-01],\n",
       "       [ 3.2076254e-02, -2.7660311e-03,  8.9335717e-02,  4.4289908e-01],\n",
       "       [ 3.2020934e-02, -1.9903100e-01,  9.8193705e-02,  7.6235235e-01],\n",
       "       [ 2.8040316e-02, -3.9535850e-01,  1.1344075e-01,  1.0842476e+00],\n",
       "       [ 2.0133145e-02, -5.9177947e-01,  1.3512570e-01,  1.4102653e+00],\n",
       "       [ 8.2975561e-03, -7.8829348e-01,  1.6333100e-01,  1.7419555e+00],\n",
       "       [-7.4683130e-03, -5.9536433e-01,  1.9817011e-01,  1.5042194e+00],\n",
       "       [-1.9375600e-02, -4.0312123e-01,  2.2825451e-01,  1.2793800e+00]],\n",
       "      dtype=float32), terminateds=array([False, False, False, False, False, False, False, False, False,\n",
       "       False, False, False, False, False, False, False, False, False,\n",
       "       False, False, False, False, False,  True])), Episode(states=array([[-8.01698118e-03,  3.02637403e-04,  1.82599258e-02,\n",
       "         3.50709558e-02],\n",
       "       [-8.01092852e-03, -1.95076346e-01,  1.89613458e-02,\n",
       "         3.33458692e-01],\n",
       "       [-1.19124558e-02, -2.29327110e-04,  2.56305188e-02,\n",
       "         4.68150042e-02],\n",
       "       [-1.19170425e-02, -1.95709243e-01,  2.65668202e-02,\n",
       "         3.47473115e-01],\n",
       "       [-1.58312265e-02, -3.91198814e-01,  3.35162804e-02,\n",
       "         6.48413718e-01],\n",
       "       [-2.36552041e-02, -1.96559414e-01,  4.64845560e-02,\n",
       "         3.66470546e-01],\n",
       "       [-2.75863912e-02, -2.12778896e-03,  5.38139679e-02,\n",
       "         8.87996778e-02],\n",
       "       [-2.76289470e-02,  1.92183167e-01,  5.55899590e-02,\n",
       "        -1.86431140e-01],\n",
       "       [-2.37852838e-02, -3.68826347e-03,  5.18613383e-02,\n",
       "         1.23257175e-01],\n",
       "       [-2.38590501e-02, -1.99513376e-01,  5.43264821e-02,\n",
       "         4.31840330e-01],\n",
       "       [-2.78493166e-02, -3.95360798e-01,  6.29632846e-02,\n",
       "         7.41142154e-01],\n",
       "       [-3.57565321e-02, -2.01161981e-01,  7.77861327e-02,\n",
       "         4.68920141e-01],\n",
       "       [-3.97797711e-02, -7.22011691e-03,  8.71645361e-02,\n",
       "         2.01733083e-01],\n",
       "       [-3.99241745e-02,  1.86554089e-01,  9.11991969e-02,\n",
       "        -6.22308254e-02],\n",
       "       [-3.61930914e-02,  3.80258143e-01,  8.99545774e-02,\n",
       "        -3.24804008e-01],\n",
       "       [-2.85879299e-02,  5.73991835e-01,  8.34584981e-02,\n",
       "        -5.87818563e-01],\n",
       "       [-1.71080939e-02,  3.77806336e-01,  7.17021301e-02,\n",
       "        -2.70056307e-01],\n",
       "       [-9.55196656e-03,  1.81738332e-01,  6.63010031e-02,\n",
       "         4.43523750e-02],\n",
       "       [-5.91719989e-03, -1.42686078e-02,  6.71880469e-02,\n",
       "         3.57195020e-01],\n",
       "       [-6.20257203e-03, -2.10278228e-01,  7.43319467e-02,\n",
       "         6.70284510e-01],\n",
       "       [-1.04081370e-02, -4.06350613e-01,  8.77376422e-02,\n",
       "         9.85414445e-01],\n",
       "       [-1.85351484e-02, -2.12506399e-01,  1.07445925e-01,\n",
       "         7.21528292e-01],\n",
       "       [-2.27852762e-02, -1.90218911e-02,  1.21876493e-01,\n",
       "         4.64503586e-01],\n",
       "       [-2.31657140e-02, -2.15636238e-01,  1.31166562e-01,\n",
       "         7.92980492e-01],\n",
       "       [-2.74784397e-02, -4.12291437e-01,  1.47026181e-01,\n",
       "         1.12388182e+00],\n",
       "       [-3.57242674e-02, -2.19370216e-01,  1.69503808e-01,\n",
       "         8.80692303e-01],\n",
       "       [-4.01116721e-02, -2.69060079e-02,  1.87117666e-01,\n",
       "         6.45729244e-01],\n",
       "       [-4.06497940e-02,  1.65183872e-01,  2.00032249e-01,\n",
       "         4.17316079e-01],\n",
       "       [-3.73461135e-02,  3.56992632e-01,  2.08378568e-01,\n",
       "         1.93757966e-01]], dtype=float32), actions=array([0, 1, 0, 0, 1, 1, 1, 0, 0, 0, 1, 1, 1, 1, 1, 0, 0, 0, 0, 0, 1, 1,\n",
       "       0, 0, 1, 1, 1, 1, 1]), rewards=array([1., 1., 1., 1., 1., 1., 1., 1., 1., 1., 1., 1., 1., 1., 1., 1., 1.,\n",
       "       1., 1., 1., 1., 1., 1., 1., 1., 1., 1., 1., 1.]), next_states=array([[-8.01092852e-03, -1.95076346e-01,  1.89613458e-02,\n",
       "         3.33458692e-01],\n",
       "       [-1.19124558e-02, -2.29327110e-04,  2.56305188e-02,\n",
       "         4.68150042e-02],\n",
       "       [-1.19170425e-02, -1.95709243e-01,  2.65668202e-02,\n",
       "         3.47473115e-01],\n",
       "       [-1.58312265e-02, -3.91198814e-01,  3.35162804e-02,\n",
       "         6.48413718e-01],\n",
       "       [-2.36552041e-02, -1.96559414e-01,  4.64845560e-02,\n",
       "         3.66470546e-01],\n",
       "       [-2.75863912e-02, -2.12778896e-03,  5.38139679e-02,\n",
       "         8.87996778e-02],\n",
       "       [-2.76289470e-02,  1.92183167e-01,  5.55899590e-02,\n",
       "        -1.86431140e-01],\n",
       "       [-2.37852838e-02, -3.68826347e-03,  5.18613383e-02,\n",
       "         1.23257175e-01],\n",
       "       [-2.38590501e-02, -1.99513376e-01,  5.43264821e-02,\n",
       "         4.31840330e-01],\n",
       "       [-2.78493166e-02, -3.95360798e-01,  6.29632846e-02,\n",
       "         7.41142154e-01],\n",
       "       [-3.57565321e-02, -2.01161981e-01,  7.77861327e-02,\n",
       "         4.68920141e-01],\n",
       "       [-3.97797711e-02, -7.22011691e-03,  8.71645361e-02,\n",
       "         2.01733083e-01],\n",
       "       [-3.99241745e-02,  1.86554089e-01,  9.11991969e-02,\n",
       "        -6.22308254e-02],\n",
       "       [-3.61930914e-02,  3.80258143e-01,  8.99545774e-02,\n",
       "        -3.24804008e-01],\n",
       "       [-2.85879299e-02,  5.73991835e-01,  8.34584981e-02,\n",
       "        -5.87818563e-01],\n",
       "       [-1.71080939e-02,  3.77806336e-01,  7.17021301e-02,\n",
       "        -2.70056307e-01],\n",
       "       [-9.55196656e-03,  1.81738332e-01,  6.63010031e-02,\n",
       "         4.43523750e-02],\n",
       "       [-5.91719989e-03, -1.42686078e-02,  6.71880469e-02,\n",
       "         3.57195020e-01],\n",
       "       [-6.20257203e-03, -2.10278228e-01,  7.43319467e-02,\n",
       "         6.70284510e-01],\n",
       "       [-1.04081370e-02, -4.06350613e-01,  8.77376422e-02,\n",
       "         9.85414445e-01],\n",
       "       [-1.85351484e-02, -2.12506399e-01,  1.07445925e-01,\n",
       "         7.21528292e-01],\n",
       "       [-2.27852762e-02, -1.90218911e-02,  1.21876493e-01,\n",
       "         4.64503586e-01],\n",
       "       [-2.31657140e-02, -2.15636238e-01,  1.31166562e-01,\n",
       "         7.92980492e-01],\n",
       "       [-2.74784397e-02, -4.12291437e-01,  1.47026181e-01,\n",
       "         1.12388182e+00],\n",
       "       [-3.57242674e-02, -2.19370216e-01,  1.69503808e-01,\n",
       "         8.80692303e-01],\n",
       "       [-4.01116721e-02, -2.69060079e-02,  1.87117666e-01,\n",
       "         6.45729244e-01],\n",
       "       [-4.06497940e-02,  1.65183872e-01,  2.00032249e-01,\n",
       "         4.17316079e-01],\n",
       "       [-3.73461135e-02,  3.56992632e-01,  2.08378568e-01,\n",
       "         1.93757966e-01],\n",
       "       [-3.02062631e-02,  5.48619390e-01,  2.12253720e-01,\n",
       "        -2.66432650e-02]], dtype=float32), terminateds=array([False, False, False, False, False, False, False, False, False,\n",
       "       False, False, False, False, False, False, False, False, False,\n",
       "       False, False, False, False, False, False, False, False, False,\n",
       "       False,  True]))], maxlen=50)"
      ]
     },
     "execution_count": 23,
     "metadata": {},
     "output_type": "execute_result"
    }
   ],
   "source": [
    "import gym\n",
    "from collections import namedtuple\n",
    "import numpy as np\n",
    "\n",
    "buffer = ReplayBuffer(max_size=50)\n",
    "Episode = namedtuple('Episode', field_names=['states', 'actions', 'rewards', 'next_states', 'terminateds'])\n",
    "\n",
    "num_episodes = 2\n",
    "env = gym.make('CartPole-v1')\n",
    "\n",
    "for i in range(num_episodes):\n",
    "    state, info = env.reset()\n",
    "    terminated = False\n",
    "    total_reward = 0.0\n",
    "\n",
    "    states = []\n",
    "    rewards = []\n",
    "    actions = []\n",
    "    next_states = []\n",
    "    terminateds = []\n",
    "\n",
    "    while not terminated:\n",
    "        action = env.action_space.sample()\n",
    "        next_state, reward, terminated, truncated, info = env.step(action)\n",
    "        \n",
    "        # record (s, a, r, s', terminated)\n",
    "        states.append(state)\n",
    "        actions.append(action)\n",
    "        rewards.append(reward)\n",
    "        next_states.append(next_state)\n",
    "        terminateds.append(terminated)\n",
    "\n",
    "        # prepare next step\n",
    "        state = next_state\n",
    "        total_reward += reward\n",
    "\n",
    "    states = np.array(states)\n",
    "    actions = np.array(actions)\n",
    "    rewards = np.array(rewards)\n",
    "    next_states = np.array(next_states)\n",
    "    terminateds = np.array(terminateds)\n",
    "\n",
    "    episode = Episode(states, actions, rewards, next_states, terminateds)\n",
    "    buffer.add(episode)\n",
    "\n",
    "buffer"
   ]
  },
  {
   "cell_type": "code",
   "execution_count": 24,
   "id": "e363aaa1",
   "metadata": {},
   "outputs": [
    {
     "data": {
      "text/plain": [
       "[array([13.85286265, 13.5293291 , 13.18876747, 12.83028155, 12.45292795,\n",
       "        12.05571363, 11.6375933 , 11.19746663, 10.7341754 , 10.24650042,\n",
       "         9.73315833,  9.19279825,  8.62399815,  8.02526122,  7.39501181,\n",
       "         6.73159137,  6.03325408,  5.29816219,  4.52438125,  3.709875  ,\n",
       "         2.8525    ,  1.95      ,  1.        ]),\n",
       " array([15.24346229, 14.99311821, 14.72959811, 14.45220854, 14.16021951,\n",
       "        13.85286265, 13.5293291 , 13.18876747, 12.83028155, 12.45292795,\n",
       "        12.05571363, 11.6375933 , 11.19746663, 10.7341754 , 10.24650042,\n",
       "         9.73315833,  9.19279825,  8.62399815,  8.02526122,  7.39501181,\n",
       "         6.73159137,  6.03325408,  5.29816219,  4.52438125,  3.709875  ,\n",
       "         2.8525    ,  1.95      ,  1.        ])]"
      ]
     },
     "execution_count": 24,
     "metadata": {},
     "output_type": "execute_result"
    }
   ],
   "source": [
    "reward_to_goes_episodes = []\n",
    "gamma = 0.95\n",
    "episodes = buffer.sample(2)\n",
    "for episode in episodes:\n",
    "    reward_to_goes = []\n",
    "    reward_to_go = 0.0\n",
    "    T = len(episode.states)\n",
    "    for i in range(T-1, 0, -1):\n",
    "        reward = episode.rewards[i]\n",
    "        reward_to_go = reward + reward_to_go * gamma\n",
    "        reward_to_goes.append(reward_to_go)\n",
    "    reward_to_goes_episodes.append(np.array(reward_to_goes[::-1]))\n",
    "reward_to_goes_episodes"
   ]
  },
  {
   "cell_type": "code",
   "execution_count": null,
   "id": "61f10c4d",
   "metadata": {},
   "outputs": [],
   "source": []
  },
  {
   "cell_type": "code",
   "execution_count": null,
   "id": "4387b075",
   "metadata": {},
   "outputs": [],
   "source": []
  }
 ],
 "metadata": {
  "kernelspec": {
   "display_name": "Python 3 (Spyder)",
   "language": "python3",
   "name": "python3"
  },
  "language_info": {
   "codemirror_mode": {
    "name": "ipython",
    "version": 3
   },
   "file_extension": ".py",
   "mimetype": "text/x-python",
   "name": "python",
   "nbconvert_exporter": "python",
   "pygments_lexer": "ipython3",
   "version": "3.10.9"
  }
 },
 "nbformat": 4,
 "nbformat_minor": 5
}
