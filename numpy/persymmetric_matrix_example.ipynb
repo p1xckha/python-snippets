{
 "cells": [
  {
   "cell_type": "markdown",
   "id": "06f53644-0cff-4b79-9775-da2dcf058b23",
   "metadata": {},
   "source": [
    "## Persymmetric matrix\n",
    "Let $(A)_{i,j} = a_{ij}$\n",
    "\n",
    "A persymmetric matrix is a matrix that is symmetric with respect to anti-diagonal.\n",
    "\n",
    "$$\n",
    "A \\text{ is a persymmetric matrix} \\iff\n",
    "a_{ij} = a_{n-j+1,\\,n-i+1} \\quad \\forall i,j=1,\\cdots,n\n",
    "$$\n",
    "\n",
    "https://en.wikipedia.org/wiki/Persymmetric_matrix"
   ]
  },
  {
   "cell_type": "code",
   "execution_count": 1,
   "id": "cbf25327-873f-4e10-b936-aea83f1c96f1",
   "metadata": {},
   "outputs": [
    {
     "name": "stdout",
     "output_type": "stream",
     "text": [
      "A is a persymmetric matrix (i.e., symmetric about the antidiagonal).\n",
      "\n",
      "Matrix A:\n",
      "[[1 2 3]\n",
      " [4 5 2]\n",
      " [6 4 1]]\n"
     ]
    }
   ],
   "source": [
    "import numpy as np\n",
    "\n",
    "A = np.array([\n",
    "    [1, 2, 3],\n",
    "    [4, 5, 2],\n",
    "    [6, 4, 1]\n",
    "])\n",
    "\n",
    "def is_persymmetric_matrix(A):\n",
    "    \"\"\"\n",
    "    Check if a given matrix A is persymmetric (symmetric about the antidiagonal).\n",
    "    \"\"\"\n",
    "    n = A.shape[0]\n",
    "    if A.shape[0] != A.shape[1]:\n",
    "        # Not a square matrix, so it can't be persymmetric\n",
    "        return False\n",
    "    \n",
    "    # Check if A_{i,j} == A_{n-j-1, n-i-1} for all i, j\n",
    "    for i in range(n):\n",
    "        for j in range(n):\n",
    "            if A[i, j] != A[n-j-1, n-i-1]:\n",
    "                return False\n",
    "    return True\n",
    "\n",
    "if is_persymmetric_matrix(A):\n",
    "    print(\"A is a persymmetric matrix (i.e., symmetric about the antidiagonal).\")\n",
    "else:\n",
    "    print(\"A is not a persymmetric matrix.\")\n",
    "\n",
    "print(\"\\nMatrix A:\")\n",
    "print(A)\n"
   ]
  },
  {
   "cell_type": "markdown",
   "id": "93776e75-b93d-46f8-b67b-30bc007779fd",
   "metadata": {},
   "source": [
    "## transposing the matrix M about antidiagonal"
   ]
  },
  {
   "cell_type": "code",
   "execution_count": 2,
   "id": "3ba3f6d9-09f9-4d3e-9438-1ef1fc2db63d",
   "metadata": {},
   "outputs": [
    {
     "name": "stdout",
     "output_type": "stream",
     "text": [
      "\n",
      "A:\n",
      "[[11 12 13 14 15]\n",
      " [21 22 23 24 25]\n",
      " [31 32 33 34 35]\n",
      " [41 42 43 44 45]\n",
      " [51 52 53 54 55]]\n",
      "\n",
      "E:\n",
      "[[0. 0. 0. 0. 1.]\n",
      " [0. 0. 0. 1. 0.]\n",
      " [0. 0. 1. 0. 0.]\n",
      " [0. 1. 0. 0. 0.]\n",
      " [1. 0. 0. 0. 0.]]\n",
      "\n",
      "Antidiagonal transpose E@A^T@E:\n",
      "[[55. 45. 35. 25. 15.]\n",
      " [54. 44. 34. 24. 14.]\n",
      " [53. 43. 33. 23. 13.]\n",
      " [52. 42. 32. 22. 12.]\n",
      " [51. 41. 31. 21. 11.]]\n"
     ]
    }
   ],
   "source": [
    "import numpy as np\n",
    "\n",
    "n = 5\n",
    "A = np.array([[i*10+j for j in range(1,n+1)] for i in range(1, n+1)])\n",
    "\n",
    "# exchange permutation E\n",
    "E = np.fliplr(np.eye(n))\n",
    "\n",
    "print(\"\\nA:\")\n",
    "print(A)\n",
    "print(\"\\nE:\")\n",
    "print(E)\n",
    "print(\"\\nAntidiagonal transpose E@A^T@E:\")\n",
    "print(E@A.T@E)\n",
    "\n"
   ]
  },
  {
   "cell_type": "markdown",
   "id": "290151b2-e255-493c-a9b8-f6c5edca1791",
   "metadata": {},
   "source": [
    "## Equivalent definition\n",
    "Matrix A can be transposed about anti-diagonal  using the operation $E A^T E$, where E is the exchange permutation matrix.\n",
    "\n",
    "Using this, we can derive an equivalent definition of a persymmetric matrix:\n",
    "\n",
    "$$\n",
    "A \\text{ is a persymmetric matrix} \\iff\n",
    "A = E A^T E \n",
    "$$\n",
    "\n",
    "- **Note**: this is an analogous to  the definition of a symmetric matrix $A = A^T$\n"
   ]
  },
  {
   "cell_type": "code",
   "execution_count": null,
   "id": "d9ef8d88-08a5-4cdb-a41d-2396a07fbabc",
   "metadata": {},
   "outputs": [],
   "source": []
  }
 ],
 "metadata": {
  "kernelspec": {
   "display_name": "Python 3 (Spyder)",
   "language": "python3",
   "name": "python3"
  },
  "language_info": {
   "codemirror_mode": {
    "name": "ipython",
    "version": 3
   },
   "file_extension": ".py",
   "mimetype": "text/x-python",
   "name": "python",
   "nbconvert_exporter": "python",
   "pygments_lexer": "ipython3",
   "version": "3.12.3"
  }
 },
 "nbformat": 4,
 "nbformat_minor": 5
}
