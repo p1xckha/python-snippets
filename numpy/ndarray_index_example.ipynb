{
 "cells": [
  {
   "cell_type": "code",
   "execution_count": 1,
   "id": "05e61cf4",
   "metadata": {},
   "outputs": [
    {
     "name": "stdout",
     "output_type": "stream",
     "text": [
      "quadrant 1: 1 points\n",
      "quadrant 2: 1 points\n",
      "quadrant 3: 2 points\n",
      "quadrant 4: 0 points\n",
      "counts:\n",
      " [[2 1]\n",
      " [0 1]]\n"
     ]
    },
    {
     "data": {
      "image/png": "[encoded data removed]",
      "text/plain": [
       "<Figure size 432x288 with 1 Axes>"
      ]
     },
     "metadata": {},
     "output_type": "display_data"
    }
   ],
   "source": [
    "###########################################################\n",
    "# count the number of points in each quadrant \n",
    "###########################################################\n",
    "\n",
    "import numpy as np\n",
    "import matplotlib.pyplot as plt\n",
    "\n",
    "counts = np.zeros((2, 2), dtype=int)\n",
    "data = np.array([(1, 2), (-2, 3), (-1, -2), (-2, -1)])\n",
    "int_2d_array = (data > 0).astype('int') \n",
    "\n",
    "# count the number of points in each quadrant \n",
    "for arr in int_2d_array:\n",
    "    index = tuple(arr)\n",
    "    counts[index] += 1 # index on numpy array is usually a tuple\n",
    "\n",
    "print(f\"quadrant 1:\", counts[1,1], \"points\")\n",
    "print(f\"quadrant 2:\", counts[0,1], \"points\")\n",
    "print(f\"quadrant 3:\", counts[0,0], \"points\")\n",
    "print(f\"quadrant 4:\", counts[1,0], \"points\")\n",
    "print(f\"counts:\\n {counts}\")\n",
    "\n",
    "# plot data\n",
    "x, y= data.T\n",
    "plt.scatter(x, y)\n",
    "\n",
    "# Draw x and y axis\n",
    "plt.axhline(y=0, color='gray')\n",
    "plt.axvline(x=0, color='gray')\n",
    "\n",
    "plt.show()"
   ]
  },
  {
   "cell_type": "code",
   "execution_count": 2,
   "id": "bef8d6a0",
   "metadata": {},
   "outputs": [
    {
     "data": {
      "text/plain": [
       "2"
      ]
     },
     "execution_count": 2,
     "metadata": {},
     "output_type": "execute_result"
    }
   ],
   "source": [
    "# index is a tuple\n",
    "index = (0, 0)\n",
    "counts[index]"
   ]
  },
  {
   "cell_type": "code",
   "execution_count": 3,
   "id": "3d31501c",
   "metadata": {},
   "outputs": [
    {
     "data": {
      "text/plain": [
       "array([[2, 1],\n",
       "       [2, 1]])"
      ]
     },
     "execution_count": 3,
     "metadata": {},
     "output_type": "execute_result"
    }
   ],
   "source": [
    "# index is a 1d array\n",
    "index = np.array([0,0]) # choose 0th row of counts twice\n",
    "counts[index]"
   ]
  },
  {
   "cell_type": "code",
   "execution_count": 4,
   "id": "926e7e42",
   "metadata": {},
   "outputs": [
    {
     "data": {
      "text/plain": [
       "array([[ True,  True],\n",
       "       [False,  True],\n",
       "       [False, False],\n",
       "       [False, False]])"
      ]
     },
     "execution_count": 4,
     "metadata": {},
     "output_type": "execute_result"
    }
   ],
   "source": [
    "# index is a 2d bool array\n",
    "index = data > 0\n",
    "index"
   ]
  },
  {
   "cell_type": "code",
   "execution_count": 5,
   "id": "915544e8",
   "metadata": {},
   "outputs": [
    {
     "data": {
      "text/plain": [
       "array([[ 1,  2],\n",
       "       [-2,  3],\n",
       "       [-1, -2],\n",
       "       [-2, -1]])"
      ]
     },
     "execution_count": 5,
     "metadata": {},
     "output_type": "execute_result"
    }
   ],
   "source": [
    "data"
   ]
  },
  {
   "cell_type": "code",
   "execution_count": 7,
   "id": "fbbabfc8",
   "metadata": {},
   "outputs": [
    {
     "data": {
      "text/plain": [
       "array([1, 2, 3])"
      ]
     },
     "execution_count": 7,
     "metadata": {},
     "output_type": "execute_result"
    }
   ],
   "source": [
    "# choose positive values with 2d bool array\n",
    "data[index] "
   ]
  },
  {
   "cell_type": "code",
   "execution_count": null,
   "id": "dae68fec",
   "metadata": {},
   "outputs": [],
   "source": []
  }
 ],
 "metadata": {
  "kernelspec": {
   "display_name": "Python 3 (Spyder)",
   "language": "python3",
   "name": "python3"
  },
  "language_info": {
   "codemirror_mode": {
    "name": "ipython",
    "version": 3
   },
   "file_extension": ".py",
   "mimetype": "text/x-python",
   "name": "python",
   "nbconvert_exporter": "python",
   "pygments_lexer": "ipython3",
   "version": "3.10.9"
  }
 },
 "nbformat": 4,
 "nbformat_minor": 5
}
