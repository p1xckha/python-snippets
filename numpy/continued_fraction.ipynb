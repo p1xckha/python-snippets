{
 "cells": [
  {
   "cell_type": "markdown",
   "id": "34a44b98",
   "metadata": {},
   "source": [
    "# continued fraction of the simple form\n",
    "\n",
    "$$\n",
    "r=a_0 + \\cfrac{1}{a_1 + \\cfrac{1}{a_2 + \\cfrac{1}{a_3 + {_\\ddots}}}}\n",
    "$$\n",
    "\n",
    "* https://en.wikipedia.org/wiki/Continued_fraction\n"
   ]
  },
  {
   "cell_type": "code",
   "execution_count": 1,
   "id": "52b43d28",
   "metadata": {},
   "outputs": [
    {
     "data": {
      "text/plain": [
       "1.5"
      ]
     },
     "execution_count": 1,
     "metadata": {},
     "output_type": "execute_result"
    }
   ],
   "source": [
    "import numpy as np\n",
    "\n",
    "def continued_fraction_simple(a: list):\n",
    "    denominator = a[-1]\n",
    "    for i in reversed(range(1,len(a)-1)):\n",
    "        denominator = a[i] + 1/denominator\n",
    "    result = a[0] + 1/denominator\n",
    "    return result\n",
    "\n",
    "continued_fraction_simple([1,2]) # 1+1/2"
   ]
  },
  {
   "cell_type": "code",
   "execution_count": 2,
   "id": "1c141a11",
   "metadata": {},
   "outputs": [
    {
     "data": {
      "text/plain": [
       "1.4285714285714286"
      ]
     },
     "execution_count": 2,
     "metadata": {},
     "output_type": "execute_result"
    }
   ],
   "source": [
    "continued_fraction_simple([1,2,3]) # 1+1/(2+1/3)"
   ]
  },
  {
   "cell_type": "code",
   "execution_count": 3,
   "id": "5f1bbc48",
   "metadata": {},
   "outputs": [
    {
     "data": {
      "text/plain": [
       "1.4285714285714286"
      ]
     },
     "execution_count": 3,
     "metadata": {},
     "output_type": "execute_result"
    }
   ],
   "source": [
    "1+1/(2+1/3)"
   ]
  },
  {
   "cell_type": "markdown",
   "id": "990a7fc1",
   "metadata": {},
   "source": [
    "# Compute interesting numbers using continued fraction\n",
    "\n",
    "## square root of 2\n",
    "$$\n",
    "\\sqrt{2} = 1 + 1/(2 + 1/(2 + 1/(2+...)))\n",
    "$$"
   ]
  },
  {
   "cell_type": "code",
   "execution_count": 4,
   "id": "1f4b120f",
   "metadata": {},
   "outputs": [
    {
     "data": {
      "text/plain": [
       "1.414213562373142"
      ]
     },
     "execution_count": 4,
     "metadata": {},
     "output_type": "execute_result"
    }
   ],
   "source": [
    "sqrt2 = continued_fraction_simple([1,2,2,2,2,2,2,2,2,2,2,2,2,2,2,2,2,2])\n",
    "sqrt2"
   ]
  },
  {
   "cell_type": "code",
   "execution_count": 5,
   "id": "da22dedc",
   "metadata": {},
   "outputs": [
    {
     "data": {
      "text/plain": [
       "1.4142135623730951"
      ]
     },
     "execution_count": 5,
     "metadata": {},
     "output_type": "execute_result"
    }
   ],
   "source": [
    "np.sqrt(2)"
   ]
  },
  {
   "cell_type": "markdown",
   "id": "f8f8cd97",
   "metadata": {},
   "source": [
    "## golden ratio\n",
    "\n",
    "The golden ratio is defined as \n",
    "$$ \\phi = \\frac{a}{b} = \\frac{a+b}{a}, a > b > 0$$\n",
    "\n",
    "\n",
    "This can be solved:\n",
    "$$\n",
    "\\begin{align*}\n",
    "& & 1 + \\frac{1}{\\phi} = \\phi\\\\\n",
    "& \\Leftrightarrow & \\phi^2 - \\phi - 1 = 0\\\\\n",
    "& \\Leftrightarrow & \\phi = \\frac{1 \\pm \\sqrt{5}}{2}\\\\\n",
    "\\end{align*}\n",
    "$$\n",
    "\n",
    "Since $\\phi > 0$,  $\\phi = (1 + \\sqrt{5})/2$\n",
    "\n",
    "\n",
    "The golden ratio is described as a continued fraction:\n",
    "$$\\phi = 1 + \\frac{1}{1 + \\frac{1}{1 + \\frac{1}{1 + \\frac{1}{1 + \\frac{1}{1 + \\frac{1}{1 + ...}}}}}}$$\n",
    "\n",
    "* https://en.wikipedia.org/wiki/Golden_ratio"
   ]
  },
  {
   "cell_type": "code",
   "execution_count": 6,
   "id": "a388b443",
   "metadata": {},
   "outputs": [
    {
     "data": {
      "text/plain": [
       "1.6180371352785146"
      ]
     },
     "execution_count": 6,
     "metadata": {},
     "output_type": "execute_result"
    }
   ],
   "source": [
    "golden_ratio = continued_fraction_simple([1,1,1,1,1,1,1,1,1,1,1,1,1,1])\n",
    "golden_ratio"
   ]
  },
  {
   "cell_type": "code",
   "execution_count": 7,
   "id": "223f3966",
   "metadata": {},
   "outputs": [
    {
     "data": {
      "text/plain": [
       "1.618033988749895"
      ]
     },
     "execution_count": 7,
     "metadata": {},
     "output_type": "execute_result"
    }
   ],
   "source": [
    "true_value = (1 + np.sqrt(5))/2\n",
    "true_value"
   ]
  },
  {
   "cell_type": "markdown",
   "id": "9871008a",
   "metadata": {},
   "source": [
    "# Euler's number e\n",
    "$$\n",
    "e = \\lim_{n\\to \\infty} \\left( 1 + \\frac{1}{n} \\right)^n\n",
    "$$\n",
    "\n",
    "e is described as a continued fraction:\n",
    "\n",
    "$$\n",
    "e = 1 + \\cfrac{2}{1 + \\cfrac{1}{6 + \\cfrac{1}{10 + \\cfrac{1}{14 + ... }}}}$$\n",
    "\n",
    "see also\n",
    "* https://en.wikipedia.org/wiki/Euler%27s_number#Representations\n",
    "* https://en.wikipedia.org/wiki/List_of_representations_of_e"
   ]
  },
  {
   "cell_type": "code",
   "execution_count": 8,
   "id": "fe679608",
   "metadata": {},
   "outputs": [
    {
     "data": {
      "text/plain": [
       "2.718281828459045"
      ]
     },
     "execution_count": 8,
     "metadata": {},
     "output_type": "execute_result"
    }
   ],
   "source": [
    "# true value \n",
    "np.exp(1) "
   ]
  },
  {
   "cell_type": "code",
   "execution_count": 9,
   "id": "7dd84a82",
   "metadata": {},
   "outputs": [
    {
     "data": {
      "text/plain": [
       "2.718281828459045"
      ]
     },
     "execution_count": 9,
     "metadata": {},
     "output_type": "execute_result"
    }
   ],
   "source": [
    "denominator = continued_fraction_simple(range(6, 35, 4))\n",
    "result = 1 + 2/(1+1/denominator)\n",
    "result # accurate"
   ]
  },
  {
   "cell_type": "code",
   "execution_count": null,
   "id": "29412109",
   "metadata": {},
   "outputs": [],
   "source": []
  },
  {
   "cell_type": "code",
   "execution_count": null,
   "id": "ddfff649",
   "metadata": {},
   "outputs": [],
   "source": []
  }
 ],
 "metadata": {
  "kernelspec": {
   "display_name": "Python 3 (Spyder)",
   "language": "python3",
   "name": "python3"
  },
  "language_info": {
   "codemirror_mode": {
    "name": "ipython",
    "version": 3
   },
   "file_extension": ".py",
   "mimetype": "text/x-python",
   "name": "python",
   "nbconvert_exporter": "python",
   "pygments_lexer": "ipython3",
   "version": "3.10.12"
  }
 },
 "nbformat": 4,
 "nbformat_minor": 5
}
