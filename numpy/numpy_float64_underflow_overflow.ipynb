{
 "cells": [
  {
   "cell_type": "code",
   "execution_count": 51,
   "id": "9d00e2c2",
   "metadata": {},
   "outputs": [],
   "source": [
    "import numpy as np"
   ]
  },
  {
   "cell_type": "code",
   "execution_count": 52,
   "id": "b3f99249",
   "metadata": {},
   "outputs": [
    {
     "data": {
      "text/plain": [
       "numpy.float64"
      ]
     },
     "execution_count": 52,
     "metadata": {},
     "output_type": "execute_result"
    }
   ],
   "source": [
    "type(np.exp(-100))"
   ]
  },
  {
   "cell_type": "code",
   "execution_count": 53,
   "id": "076a23ad",
   "metadata": {},
   "outputs": [
    {
     "data": {
      "text/plain": [
       "1e-323"
      ]
     },
     "execution_count": 53,
     "metadata": {},
     "output_type": "execute_result"
    }
   ],
   "source": [
    "np.exp(-744)"
   ]
  },
  {
   "cell_type": "code",
   "execution_count": 54,
   "id": "60753f6a",
   "metadata": {},
   "outputs": [
    {
     "data": {
      "text/plain": [
       "0.0"
      ]
     },
     "execution_count": 54,
     "metadata": {},
     "output_type": "execute_result"
    }
   ],
   "source": [
    "# underflow\n",
    "np.exp(-745)"
   ]
  },
  {
   "cell_type": "code",
   "execution_count": 55,
   "id": "1d6ab2d6",
   "metadata": {},
   "outputs": [
    {
     "data": {
      "text/plain": [
       "8.218407461554972e+307"
      ]
     },
     "execution_count": 55,
     "metadata": {},
     "output_type": "execute_result"
    }
   ],
   "source": [
    "np.exp(709)"
   ]
  },
  {
   "cell_type": "code",
   "execution_count": 56,
   "id": "719e9dd7",
   "metadata": {},
   "outputs": [
    {
     "name": "stderr",
     "output_type": "stream",
     "text": [
      "C:\\Users\\t0\\AppData\\Local\\Temp\\ipykernel_3372\\4181220516.py:2: RuntimeWarning: overflow encountered in exp\n",
      "  np.exp(710)\n"
     ]
    },
    {
     "data": {
      "text/plain": [
       "inf"
      ]
     },
     "execution_count": 56,
     "metadata": {},
     "output_type": "execute_result"
    }
   ],
   "source": [
    "# overflow\n",
    "np.exp(710)"
   ]
  },
  {
   "cell_type": "code",
   "execution_count": 57,
   "id": "2ab893d6",
   "metadata": {},
   "outputs": [
    {
     "name": "stderr",
     "output_type": "stream",
     "text": [
      "C:\\Users\\t0\\AppData\\Local\\Temp\\ipykernel_3372\\1840863963.py:3: RuntimeWarning: divide by zero encountered in double_scalars\n",
      "  1/a\n"
     ]
    },
    {
     "data": {
      "text/plain": [
       "inf"
      ]
     },
     "execution_count": 57,
     "metadata": {},
     "output_type": "execute_result"
    }
   ],
   "source": [
    "# zero division warning\n",
    "a = np.exp(-745)\n",
    "1/a"
   ]
  },
  {
   "cell_type": "code",
   "execution_count": null,
   "id": "227ba8a3",
   "metadata": {},
   "outputs": [],
   "source": []
  }
 ],
 "metadata": {
  "kernelspec": {
   "display_name": "Python 3 (Spyder)",
   "language": "python3",
   "name": "python3"
  },
  "language_info": {
   "codemirror_mode": {
    "name": "ipython",
    "version": 3
   },
   "file_extension": ".py",
   "mimetype": "text/x-python",
   "name": "python",
   "nbconvert_exporter": "python",
   "pygments_lexer": "ipython3",
   "version": "3.10.9"
  }
 },
 "nbformat": 4,
 "nbformat_minor": 5
}
