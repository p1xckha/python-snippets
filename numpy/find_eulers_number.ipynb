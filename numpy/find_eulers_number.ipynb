{
 "cells": [
  {
   "cell_type": "markdown",
   "id": "0128cd7a",
   "metadata": {},
   "source": [
    "# Find Euler's number \n",
    "$$a_n := (1+\\frac{1}{n})^n $$\n",
    "$$\\lim_{n\\rightarrow \\infty} a_n = e $$\n",
    "\n",
    "https://en.wikipedia.org/wiki/Euler%27s_number\n",
    "\n",
    "convergence of an is very slow"
   ]
  },
  {
   "cell_type": "code",
   "execution_count": 1,
   "id": "f37dd22c",
   "metadata": {},
   "outputs": [],
   "source": [
    "import numpy as np\n",
    "\n",
    "def euler_num_seq1(n):\n",
    "    return (1 + 1/n)**n"
   ]
  },
  {
   "cell_type": "code",
   "execution_count": 2,
   "id": "d834f47d",
   "metadata": {},
   "outputs": [
    {
     "data": {
      "text/plain": [
       "2.718281828459045"
      ]
     },
     "execution_count": 2,
     "metadata": {},
     "output_type": "execute_result"
    }
   ],
   "source": [
    "# true value e\n",
    "np.exp(1)"
   ]
  },
  {
   "cell_type": "code",
   "execution_count": 3,
   "id": "9e205a85",
   "metadata": {},
   "outputs": [
    {
     "data": {
      "text/plain": [
       "-0.01346799903751661"
      ]
     },
     "execution_count": 3,
     "metadata": {},
     "output_type": "execute_result"
    }
   ],
   "source": [
    "euler_num_seq1(100) - np.exp(1) # error"
   ]
  },
  {
   "cell_type": "code",
   "execution_count": 4,
   "id": "3b4ac752",
   "metadata": {},
   "outputs": [
    {
     "data": {
      "text/plain": [
       "-1.359363291708604e-06"
      ]
     },
     "execution_count": 4,
     "metadata": {},
     "output_type": "execute_result"
    }
   ],
   "source": [
    "euler_num_seq1(1000000) - np.exp(1) # error"
   ]
  },
  {
   "cell_type": "code",
   "execution_count": 5,
   "id": "e82c41ad",
   "metadata": {},
   "outputs": [
    {
     "data": {
      "text/plain": [
       "1.3592203265133662e-06"
      ]
     },
     "execution_count": 5,
     "metadata": {},
     "output_type": "execute_result"
    }
   ],
   "source": [
    "euler_num_seq1(-1000000) - np.exp(1) # error"
   ]
  },
  {
   "cell_type": "markdown",
   "id": "2775facc",
   "metadata": {},
   "source": [
    "# adding small noise \n",
    "$$a_n := (1+\\frac{1}{n} + \\frac{c}{n^2})^n $$\n",
    "or\n",
    "$$a_n := (1+\\frac{1}{n} + o(\\frac{1}{n}))^n  $$\n",
    "$$\\lim_{n\\rightarrow \\infty} a_n = e $$\n",
    "\n",
    "This limit is similar to the one often calculated at the end of the proof of the Central Limit Theorem.\n",
    "\n",
    "* https://en.wikipedia.org/wiki/Central_limit_theorem#Proof_of_classical_CLT"
   ]
  },
  {
   "cell_type": "code",
   "execution_count": 6,
   "id": "6ff867cb",
   "metadata": {},
   "outputs": [
    {
     "data": {
      "text/plain": [
       "2.7183089595741428"
      ]
     },
     "execution_count": 6,
     "metadata": {},
     "output_type": "execute_result"
    }
   ],
   "source": [
    "import numpy as np\n",
    "\n",
    "def eulers_num_seq_with_noise(n):\n",
    "    c = 1000\n",
    "    return (1+1/n+c/(n**2))**n\n",
    "\n",
    "result = eulers_num_seq_with_noise(100000000)\n",
    "result"
   ]
  },
  {
   "cell_type": "code",
   "execution_count": 7,
   "id": "7f85f178",
   "metadata": {},
   "outputs": [
    {
     "data": {
      "text/plain": [
       "2.7183089595741428"
      ]
     },
     "execution_count": 7,
     "metadata": {},
     "output_type": "execute_result"
    }
   ],
   "source": [
    "result"
   ]
  },
  {
   "cell_type": "code",
   "execution_count": 8,
   "id": "cb22ac64",
   "metadata": {},
   "outputs": [
    {
     "data": {
      "text/plain": [
       "2.713111509766719e-05"
      ]
     },
     "execution_count": 8,
     "metadata": {},
     "output_type": "execute_result"
    }
   ],
   "source": [
    "result - np.exp(1)"
   ]
  },
  {
   "cell_type": "markdown",
   "id": "9b0f7afa",
   "metadata": {},
   "source": [
    "# Find Euler's number using a continued fraction\n",
    "\n",
    "$$\n",
    "e = 1 + 2/(1+1/(6+1/(10+1/(14+1/(18+1/22+1/(26+...))))))\n",
    "$$\n",
    "\n",
    "* https://en.wikipedia.org/wiki/Euler%27s_number#Representations"
   ]
  },
  {
   "cell_type": "code",
   "execution_count": 9,
   "id": "9a1e0381",
   "metadata": {},
   "outputs": [
    {
     "data": {
      "text/plain": [
       "2.718281828459045"
      ]
     },
     "execution_count": 9,
     "metadata": {},
     "output_type": "execute_result"
    }
   ],
   "source": [
    "def continued_fraction_simple(a: list):\n",
    "    denominator = a[-1]\n",
    "    for i in reversed(range(1,len(a)-1)):\n",
    "        denominator = a[i] + 1/denominator\n",
    "    result = a[0] + 1/denominator\n",
    "    return result\n",
    "\n",
    "denominator = continued_fraction_simple(range(6, 35, 4))\n",
    "result = 1 + 2/(1+1/denominator)\n",
    "result # accurate"
   ]
  },
  {
   "cell_type": "code",
   "execution_count": 10,
   "id": "108c4646",
   "metadata": {},
   "outputs": [
    {
     "data": {
      "text/plain": [
       "0.0"
      ]
     },
     "execution_count": 10,
     "metadata": {},
     "output_type": "execute_result"
    }
   ],
   "source": [
    "result - np.exp(1) # convergence is much faster than the previous sequence "
   ]
  },
  {
   "cell_type": "code",
   "execution_count": null,
   "id": "7ef8e523",
   "metadata": {},
   "outputs": [],
   "source": []
  }
 ],
 "metadata": {
  "kernelspec": {
   "display_name": "Python 3 (Spyder)",
   "language": "python3",
   "name": "python3"
  },
  "language_info": {
   "codemirror_mode": {
    "name": "ipython",
    "version": 3
   },
   "file_extension": ".py",
   "mimetype": "text/x-python",
   "name": "python",
   "nbconvert_exporter": "python",
   "pygments_lexer": "ipython3",
   "version": "3.10.12"
  }
 },
 "nbformat": 4,
 "nbformat_minor": 5
}
