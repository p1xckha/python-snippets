{
 "cells": [
  {
   "cell_type": "code",
   "execution_count": null,
   "id": "f291b7c6-6c79-4dfd-b26e-eb6531a67514",
   "metadata": {},
   "outputs": [],
   "source": []
  },
  {
   "cell_type": "markdown",
   "id": "54523153-27e6-4d43-a72b-d8a0ef6c9ed3",
   "metadata": {},
   "source": [
    "## Matrix multiplication"
   ]
  },
  {
   "cell_type": "code",
   "execution_count": 1,
   "id": "0f6facbb-0822-4416-a659-8158deb69d29",
   "metadata": {},
   "outputs": [
    {
     "name": "stdout",
     "output_type": "stream",
     "text": [
      "\n",
      "A:\n",
      "[[5 2 9]\n",
      " [6 7 9]\n",
      " [3 4 9]]\n",
      "\n",
      "B:\n",
      "[[7 3 3]\n",
      " [2 5 5]\n",
      " [6 9 8]]\n",
      "\n",
      "AB:\n",
      "[[ 93 106  97]\n",
      " [110 134 125]\n",
      " [ 83 110 101]]\n"
     ]
    }
   ],
   "source": [
    "import numpy as np\n",
    "\n",
    "n = 3\n",
    "A = np.random.randint(1,10, size=(n, n)) # n by n matrix\n",
    "B = np.random.randint(1,10, size=(n, n)) # n by n matrix\n",
    "AB = A@B # matrix multiplication\n",
    "print(\"\\nA:\")\n",
    "print(A)\n",
    "print(\"\\nB:\")\n",
    "print(B)\n",
    "print(\"\\nAB:\")\n",
    "print(AB)"
   ]
  },
  {
   "cell_type": "markdown",
   "id": "7351b73f-5e57-4e80-851f-a2310f709b0f",
   "metadata": {},
   "source": [
    "## Lower triangular and Upper triangular matrices"
   ]
  },
  {
   "cell_type": "code",
   "execution_count": 2,
   "id": "4254e250-aac0-4b9c-b208-b3dc2c8ea304",
   "metadata": {},
   "outputs": [
    {
     "name": "stdout",
     "output_type": "stream",
     "text": [
      "\n",
      "L1:\n",
      "[[9 0 0]\n",
      " [3 3 0]\n",
      " [8 8 1]]\n",
      "\n",
      "L2:\n",
      "[[3 0 0]\n",
      " [3 4 0]\n",
      " [5 2 4]]\n",
      "\n",
      "L1@L2:\n",
      "[[27  0  0]\n",
      " [18 12  0]\n",
      " [53 34  4]]\n",
      "\n",
      "U1:\n",
      "[[1 1 2]\n",
      " [0 3 1]\n",
      " [0 0 8]]\n",
      "\n",
      "U2:\n",
      "[[3 4 5]\n",
      " [0 6 1]\n",
      " [0 0 7]]\n",
      "\n",
      "U1@U2:\n",
      "[[ 3 10 20]\n",
      " [ 0 18 10]\n",
      " [ 0  0 56]]\n"
     ]
    }
   ],
   "source": [
    "import numpy as np\n",
    "\n",
    "n = 3\n",
    "L1 = np.tril( np.random.randint(1,10,size=(n,n)))\n",
    "L2 = np.tril( np.random.randint(1,10,size=(n,n)))\n",
    "U1 = np.triu( np.random.randint(1,10,size=(n,n)))\n",
    "U2 = np.triu( np.random.randint(1,10,size=(n,n)))\n",
    "\n",
    "# Lower triangular matrix \n",
    "print(\"\\nL1:\")\n",
    "print(L1)\n",
    "print(\"\\nL2:\")\n",
    "print(L2)\n",
    "print(\"\\nL1@L2:\")\n",
    "print(L1@L2)\n",
    "\n",
    "# Upper triangular matrix\n",
    "print(\"\\nU1:\")\n",
    "print(U1)\n",
    "print(\"\\nU2:\")\n",
    "print(U2)\n",
    "print(\"\\nU1@U2:\")\n",
    "print(U1@U2)"
   ]
  },
  {
   "cell_type": "markdown",
   "id": "6261eb79-e38f-4f41-8c88-a0a073e14fe9",
   "metadata": {},
   "source": [
    "## Doubly stochastic Matrix"
   ]
  },
  {
   "cell_type": "code",
   "execution_count": 3,
   "id": "04a295dd-13f1-4824-9d77-71e37c0b141b",
   "metadata": {},
   "outputs": [
    {
     "name": "stdout",
     "output_type": "stream",
     "text": [
      "\n",
      "M^5:\n",
      "[[0.50205761 0.49794239]\n",
      " [0.49794239 0.50205761]]\n",
      "\n",
      "M^10:\n",
      "[[0.50000847 0.49999153]\n",
      " [0.49999153 0.50000847]]\n",
      "\n",
      "M^15:\n",
      "[[0.50000003 0.49999997]\n",
      " [0.49999997 0.50000003]]\n",
      "\n",
      "M^20:\n",
      "[[0.5 0.5]\n",
      " [0.5 0.5]]\n"
     ]
    }
   ],
   "source": [
    "import numpy as np\n",
    "\n",
    "M = np.array([[2/3, 1/3],\n",
    "              [1/3, 2/3]])\n",
    "\n",
    "Mn = np.copy(M)\n",
    "for i in range(20):\n",
    "    Mn @= M\n",
    "    if (i+2) % 5 == 0:\n",
    "        print(f\"\\nM^{i+2}:\")\n",
    "        print(Mn)"
   ]
  },
  {
   "cell_type": "markdown",
   "id": "0a92a6fa-1156-4f15-a161-0c92eb752892",
   "metadata": {},
   "source": [
    "## pascal matrix\n",
    "\n",
    "https://docs.scipy.org/doc/scipy/reference/generated/scipy.linalg.pascal.html"
   ]
  },
  {
   "cell_type": "code",
   "execution_count": 4,
   "id": "5deae94f-f95f-4b73-9ea0-d26854fbb852",
   "metadata": {},
   "outputs": [
    {
     "name": "stdout",
     "output_type": "stream",
     "text": [
      "\n",
      "L\n",
      "[[1 0 0 0]\n",
      " [1 1 0 0]\n",
      " [1 2 1 0]\n",
      " [1 3 3 1]]\n",
      "\n",
      "U\n",
      "[[1 1 1 1]\n",
      " [0 1 2 3]\n",
      " [0 0 1 3]\n",
      " [0 0 0 1]]\n",
      "\n",
      "S=LU\n",
      "[[ 1  1  1  1]\n",
      " [ 1  2  3  4]\n",
      " [ 1  3  6 10]\n",
      " [ 1  4 10 20]]\n"
     ]
    }
   ],
   "source": [
    "from scipy.linalg import pascal\n",
    "\n",
    "n = 4\n",
    "L = pascal(n, kind=\"lower\")\n",
    "U = pascal(n, kind=\"upper\")\n",
    "S = L @ U\n",
    "\n",
    "print(\"\\nL\")\n",
    "print(L)\n",
    "print(\"\\nU\")\n",
    "print(U)\n",
    "print(\"\\nS=LU\")\n",
    "print(S)"
   ]
  },
  {
   "cell_type": "markdown",
   "id": "cec46b4a-d0d8-4398-89b7-fdf6083fc77b",
   "metadata": {},
   "source": [
    "## Inner product"
   ]
  },
  {
   "cell_type": "code",
   "execution_count": 5,
   "id": "ca22467e-259e-4fd6-b771-e971a87a1e7d",
   "metadata": {},
   "outputs": [
    {
     "name": "stdout",
     "output_type": "stream",
     "text": [
      "\n",
      "column vector u:\n",
      "[[9]\n",
      " [9]\n",
      " [6]]\n",
      "\n",
      "column vector v:\n",
      "[[4]\n",
      " [4]\n",
      " [9]]\n",
      "\n",
      "u.T@v:\n",
      "[[126]]\n",
      "\n",
      "row vector x:\n",
      "[[4 3 5]]\n",
      "\n",
      "row vector y:\n",
      "[[8 9 5]]\n",
      "\n",
      "inner product (x,y):\n",
      "[[84]]\n",
      "\n",
      "inner product([0,1,2,3], [3,2,1,0]):\n",
      "4\n"
     ]
    }
   ],
   "source": [
    "\n",
    "\n",
    "import numpy as np\n",
    "\n",
    "n = 3\n",
    "u = np.random.randint(1,10, size=(n, 1)) # column vector\n",
    "v = np.random.randint(1,10, size=(n, 1)) # column vector\n",
    "x = np.random.randint(1,10, size=(1,n)) # row vector\n",
    "y = np.random.randint(1,10, size=(1,n)) # row vector\n",
    "\n",
    "print(\"\\ncolumn vector u:\")\n",
    "print(u)\n",
    "print(\"\\ncolumn vector v:\")\n",
    "print(v)\n",
    "print(\"\\nu.T@v:\")\n",
    "print(u.T@v)\n",
    "print(\"\\nrow vector x:\")\n",
    "print(x)\n",
    "print(\"\\nrow vector y:\")\n",
    "print(y)\n",
    "print(\"\\ninner product (x,y):\")\n",
    "print(np.inner(x,y))\n",
    "print(\"\\ninner product([0,1,2,3], [3,2,1,0]):\")\n",
    "print(np.inner([0,1,2,3], [3,2,1,0]))\n"
   ]
  },
  {
   "cell_type": "markdown",
   "id": "92ab88fa-f08d-4279-b5ce-9777238b3c75",
   "metadata": {},
   "source": [
    "## Outer product"
   ]
  },
  {
   "cell_type": "code",
   "execution_count": 6,
   "id": "c11c562d-4523-43a2-a297-69da35d324e6",
   "metadata": {},
   "outputs": [
    {
     "name": "stdout",
     "output_type": "stream",
     "text": [
      "\n",
      "u:\n",
      "[[1]\n",
      " [5]\n",
      " [1]]\n",
      "\n",
      "v:\n",
      "[[9]\n",
      " [8]\n",
      " [8]]\n",
      "\n",
      "outer product: u@v.T\n",
      "[[ 9  8  8]\n",
      " [45 40 40]\n",
      " [ 9  8  8]]\n"
     ]
    }
   ],
   "source": [
    "import numpy as np\n",
    "\n",
    "n = 3\n",
    "u = np.random.randint(1,10, size=(n, 1)) # column vector\n",
    "v = np.random.randint(1,10, size=(n, 1)) # column vector\n",
    "print(\"\\nu:\")\n",
    "print(u)\n",
    "print(\"\\nv:\")\n",
    "print(v)\n",
    "print(\"\\nouter product: u@v.T\")\n",
    "print(u@v.T)"
   ]
  },
  {
   "cell_type": "markdown",
   "id": "8a116b65-b44b-4f25-8323-a4f785cc8ef8",
   "metadata": {},
   "source": [
    "## Matrix Multiplication via Outer Products"
   ]
  },
  {
   "cell_type": "code",
   "execution_count": 7,
   "id": "00a1fe15-2353-4ecd-8da2-16bb4d9d057d",
   "metadata": {},
   "outputs": [
    {
     "name": "stdout",
     "output_type": "stream",
     "text": [
      "\n",
      "a1*b1^T + ... + an*bn^t:\n",
      "[[ 93. 106.  97.]\n",
      " [110. 134. 125.]\n",
      " [ 83. 110. 101.]]\n",
      "\n",
      "AB:\n",
      "[[ 93 106  97]\n",
      " [110 134 125]\n",
      " [ 83 110 101]]\n"
     ]
    }
   ],
   "source": [
    "import numpy as np\n",
    "\n",
    "# Compute AB using outer product ai@bi.T where \n",
    "sum_outer_products = np.zeros(shape=(n,n))\n",
    "for i in range(n):\n",
    "    ai = A[:, i].reshape(-1, 1)  # Column vector\n",
    "    bi = B[i].reshape(-1, 1)  # Column vector\n",
    "    sum_outer_products += ai @ bi.T # Outer product\n",
    "\n",
    "print(\"\\na1*b1^T + ... + an*bn^t:\")\n",
    "print(sum_outer_products)\n",
    "print(\"\\nAB:\")\n",
    "print(AB)"
   ]
  },
  {
   "cell_type": "markdown",
   "id": "e772d754-b18a-4d46-9905-ff06e79a5125",
   "metadata": {},
   "source": [
    "## shuffle columns in A and rows in B"
   ]
  },
  {
   "cell_type": "code",
   "execution_count": 8,
   "id": "8d65c478-5219-4cf5-b523-22bcc26d0ad3",
   "metadata": {},
   "outputs": [
    {
     "name": "stdout",
     "output_type": "stream",
     "text": [
      "\n",
      "A:\n",
      "[[6 1]\n",
      " [5 9]]\n",
      "\n",
      "B:\n",
      "[[5 4]\n",
      " [5 8]]\n",
      "\n",
      "AB:\n",
      "[[35 32]\n",
      " [70 92]]\n",
      "\n",
      "A2(column switching):\n",
      "[[1 6]\n",
      " [9 5]]\n",
      "\n",
      "B2(row switching):\n",
      "[[5 8]\n",
      " [5 4]]\n",
      "\n",
      "A2@B2:\n",
      "[[35 32]\n",
      " [70 92]]\n"
     ]
    }
   ],
   "source": [
    "import numpy as np\n",
    "\n",
    "n = 2\n",
    "A = np.random.randint(1,10, size=(n, n)) # n by n matrix\n",
    "B = np.random.randint(1,10, size=(n, n)) # n by n matrix\n",
    "\n",
    "A2 = np.copy(A)\n",
    "B2 = np.copy(B)\n",
    "A2[:,[1,0]]=A2[:,[0,1]] # shuffle columns\n",
    "B2[[1,0]] = B2[[0,1]] # shuffle rows \n",
    "\n",
    "print(\"\\nA:\")\n",
    "print(A)\n",
    "print(\"\\nB:\")\n",
    "print(B)\n",
    "print(\"\\nAB:\")\n",
    "print(A@B)\n",
    "\n",
    "print(\"\\nA2(column switching):\")\n",
    "print(A2)\n",
    "print(\"\\nB2(row switching):\")\n",
    "print(B2)\n",
    "print(\"\\nA2@B2:\")\n",
    "print(A2@B2) # = AB\n"
   ]
  },
  {
   "cell_type": "code",
   "execution_count": null,
   "id": "af707e7c-706a-47bb-ad29-2106e672ad88",
   "metadata": {},
   "outputs": [],
   "source": []
  },
  {
   "cell_type": "markdown",
   "id": "ce0f5004-b39b-4e89-849a-b567392ec16f",
   "metadata": {},
   "source": [
    "## Row switching\n"
   ]
  },
  {
   "cell_type": "code",
   "execution_count": 9,
   "id": "b331380a-a4a7-436c-8582-4dff7713ba4a",
   "metadata": {},
   "outputs": [
    {
     "name": "stdout",
     "output_type": "stream",
     "text": [
      "\n",
      "A:\n",
      "[[2. 3. 5. 4.]\n",
      " [7. 4. 1. 6.]\n",
      " [6. 9. 7. 5.]\n",
      " [5. 6. 3. 7.]]\n",
      "\n",
      "R:\n",
      "[[0. 0. 0. 1.]\n",
      " [0. 1. 0. 0.]\n",
      " [0. 0. 1. 0.]\n",
      " [1. 0. 0. 0.]]\n",
      "\n",
      "R@A\n",
      "[[5. 6. 3. 7.]\n",
      " [7. 4. 1. 6.]\n",
      " [6. 9. 7. 5.]\n",
      " [2. 3. 5. 4.]]\n"
     ]
    }
   ],
   "source": [
    "import numpy as np\n",
    "\n",
    "n = 4\n",
    "A = np.random.randint(1, 10, size=(n,n)).astype(float)\n",
    "R = np.eye(n)\n",
    "i, j = 0, n-1\n",
    "R[[i,j]] = R[[j,i]]\n",
    "\n",
    "print(\"\\nA:\")\n",
    "print(A)\n",
    "print(\"\\nR:\")\n",
    "print(R)\n",
    "print(\"\\nR@A\")\n",
    "print(R@A)"
   ]
  },
  {
   "cell_type": "markdown",
   "id": "0fd30d62-edfd-4060-a5e0-b33858607faa",
   "metadata": {},
   "source": [
    "## Column switching"
   ]
  },
  {
   "cell_type": "code",
   "execution_count": 11,
   "id": "28bd06da-aeab-47bf-88c5-6cdb80d89b7e",
   "metadata": {},
   "outputs": [
    {
     "name": "stdout",
     "output_type": "stream",
     "text": [
      "\n",
      "A:\n",
      "[[9. 8. 7. 3.]\n",
      " [1. 6. 2. 6.]\n",
      " [5. 9. 1. 9.]\n",
      " [2. 9. 5. 7.]]\n",
      "\n",
      "C:\n",
      "[[0. 0. 0. 1.]\n",
      " [0. 1. 0. 0.]\n",
      " [0. 0. 1. 0.]\n",
      " [1. 0. 0. 0.]]\n",
      "\n",
      "A@C\n",
      "[[3. 8. 7. 9.]\n",
      " [6. 6. 2. 1.]\n",
      " [9. 9. 1. 5.]\n",
      " [7. 9. 5. 2.]]\n"
     ]
    }
   ],
   "source": [
    "import numpy as np\n",
    "\n",
    "n = 4\n",
    "A = np.random.randint(1, 10, size=(n,n)).astype(float)\n",
    "C = np.eye(n)\n",
    "i, j = 0, n-1\n",
    "C[[i,j]] = C[[j,i]]\n",
    "\n",
    "print(\"\\nA:\")\n",
    "print(A)\n",
    "print(\"\\nC:\")\n",
    "print(C)\n",
    "print(\"\\nA@C\")\n",
    "print(A@C)"
   ]
  },
  {
   "cell_type": "markdown",
   "id": "b665de03-e2c8-40b3-9c71-dba52e1c0a58",
   "metadata": {},
   "source": [
    "# Row/column scaling\n"
   ]
  },
  {
   "cell_type": "code",
   "execution_count": 12,
   "id": "d3ee893f-c358-44a2-b800-3a7f053fc8b6",
   "metadata": {},
   "outputs": [
    {
     "name": "stdout",
     "output_type": "stream",
     "text": [
      "\n",
      "A:\n",
      "[[2 2 2]\n",
      " [4 4 4]\n",
      " [6 6 6]]\n",
      "\n",
      "B:\n",
      "[[1. 1. 1.]\n",
      " [1. 1. 1.]\n",
      " [1. 1. 1.]]\n",
      "\n",
      "D:\n",
      "[[-1  0  0]\n",
      " [ 0  1  0]\n",
      " [ 0  0 -1]]\n",
      "\n",
      "C=D@B@D:\n",
      "[[ 1. -1.  1.]\n",
      " [-1.  1. -1.]\n",
      " [ 1. -1.  1.]]\n",
      "\n",
      "S:\n",
      "[[0.5        0.         0.        ]\n",
      " [0.         0.25       0.        ]\n",
      " [0.         0.         0.16666667]]\n",
      "\n",
      "S@A:\n",
      "[[1. 1. 1.]\n",
      " [1. 1. 1.]\n",
      " [1. 1. 1.]]\n",
      "\n",
      "B@S:\n",
      "[[0.5        0.25       0.16666667]\n",
      " [0.5        0.25       0.16666667]\n",
      " [0.5        0.25       0.16666667]]\n"
     ]
    }
   ],
   "source": [
    "import numpy as np\n",
    "\n",
    "n = 3\n",
    "A = np.array([[2, 2, 2],\n",
    "              [4, 4, 4],\n",
    "              [6, 6, 6],])\n",
    "\n",
    "B = np.ones((n,n))\n",
    "D = np.diag([-1, 1, -1])\n",
    "C = D @ B @ D\n",
    "S = np.diag(1/A[:,0])\n",
    "\n",
    "print(\"\\nA:\")\n",
    "print(A)\n",
    "print(\"\\nB:\")\n",
    "print(B)\n",
    "print(\"\\nD:\")\n",
    "print(D)\n",
    "print(\"\\nC=D@B@D:\")\n",
    "print(C)\n",
    "print(\"\\nS:\")\n",
    "print(S)\n",
    "print(\"\\nS@A:\")\n",
    "print(S@A)\n",
    "print(\"\\nB@S:\")\n",
    "print(B@S)"
   ]
  },
  {
   "cell_type": "markdown",
   "id": "9ca9e003-916c-430b-9676-ba0ce6ccb949",
   "metadata": {},
   "source": [
    " ## Elimination matrix E"
   ]
  },
  {
   "cell_type": "code",
   "execution_count": 13,
   "id": "bb08a8f8-8047-4cae-9d22-bcd125311634",
   "metadata": {},
   "outputs": [
    {
     "name": "stdout",
     "output_type": "stream",
     "text": [
      "\n",
      "A:\n",
      "[[52 59 14 73]\n",
      " [95 93  4 55]\n",
      " [36 32 50 27]\n",
      " [51 13 20 50]]\n",
      "\n",
      "Eliminate matrix E:\n",
      "[[ 1.          0.          0.          0.        ]\n",
      " [-1.82692308  1.          0.          0.        ]\n",
      " [-0.69230769  0.          1.          0.        ]\n",
      " [-0.98076923  0.          0.          1.        ]]\n",
      "\n",
      "E@A:\n",
      "[[ 52.          59.          14.          73.        ]\n",
      " [  0.         -14.78846154 -21.57692308 -78.36538462]\n",
      " [  0.          -8.84615385  40.30769231 -23.53846154]\n",
      " [  0.         -44.86538462   6.26923077 -21.59615385]]\n"
     ]
    }
   ],
   "source": [
    "import numpy as np\n",
    "\n",
    "n = 4\n",
    "A = np.random.randint(1, 100, size=(n,n)) # maybe det(A) != 0\n",
    "E = np.eye(n)\n",
    "for i in range(1, n):\n",
    "    E[i, 0] = -A[i, 0]/A[0,0]\n",
    "\n",
    "print(\"\\nA:\")\n",
    "print(A)\n",
    "print(\"\\nEliminate matrix E:\")\n",
    "print(E)\n",
    "print(\"\\nE@A:\")\n",
    "print(E@A)"
   ]
  },
  {
   "cell_type": "code",
   "execution_count": null,
   "id": "b5c73329-fd51-4b41-ad41-a9b22dc02012",
   "metadata": {},
   "outputs": [],
   "source": []
  },
  {
   "cell_type": "markdown",
   "id": "f377b52a-25b9-4fbf-bdcc-869f22acdfb9",
   "metadata": {},
   "source": [
    "## Cyclic property of trace"
   ]
  },
  {
   "cell_type": "code",
   "execution_count": 14,
   "id": "ea74f4b7-9474-4c59-b4dd-72725105a203",
   "metadata": {},
   "outputs": [
    {
     "name": "stdout",
     "output_type": "stream",
     "text": [
      "\n",
      "A:\n",
      "[[6 4 7 7]\n",
      " [6 3 3 1]\n",
      " [9 3 6 1]\n",
      " [2 8 5 7]\n",
      " [4 5 3 3]]\n",
      "\n",
      "B:\n",
      "[[3 2 8]\n",
      " [9 9 8]\n",
      " [4 7 9]\n",
      " [8 7 8]]\n",
      "\n",
      "C:\n",
      "[[3 3 9 2 3]\n",
      " [6 3 3 5 4]\n",
      " [6 6 2 7 4]]\n",
      "\n",
      "ABC:\n",
      "[[2484 2046 2078 2399 1794]\n",
      " [1239 1038 1000 1214  891]\n",
      " [1770 1488 1372 1748 1266]\n",
      " [2508 2028 2228 2375 1826]\n",
      " [1587 1302 1368 1522 1151]]\n",
      "\n",
      "tr(ABC)=8420\n",
      "\n",
      "BCA:\n",
      "[[1573 1433 1473 1246]\n",
      " [3120 2621 2833 2247]\n",
      " [2361 2146 2225 1888]\n",
      " [2773 2338 2518 2001]]\n",
      "\n",
      "tr(BCA)=8420\n",
      "\n",
      "CAB:\n",
      "[[1970 2090 3071]\n",
      " [2423 2539 3386]\n",
      " [2840 2966 3911]]\n",
      "\n",
      "tr(CAB)=8420\n"
     ]
    }
   ],
   "source": [
    "import numpy as np\n",
    "\n",
    "m = 5\n",
    "n = 4\n",
    "l = 3\n",
    "\n",
    "A = np.random.randint(1,10, size=(m,n))\n",
    "B = np.random.randint(1,10, size=(n,l))\n",
    "C = np.random.randint(1,10, size=(l,m))\n",
    "ABC = A@B@C\n",
    "BCA = B@C@A\n",
    "CAB = C@A@B\n",
    "\n",
    "print(\"\\nA:\")\n",
    "print(A)\n",
    "print(\"\\nB:\")\n",
    "print(B)\n",
    "print(\"\\nC:\")\n",
    "print(C)\n",
    "\n",
    "print(\"\\nABC:\")\n",
    "print(ABC)\n",
    "print(\"\\ntr(ABC)=\", end=\"\")\n",
    "print(ABC.trace())\n",
    "print(\"\\nBCA:\")\n",
    "print(BCA)\n",
    "print(\"\\ntr(BCA)=\", end=\"\")\n",
    "print(BCA.trace())\n",
    "print(\"\\nCAB:\")\n",
    "print(CAB)\n",
    "print(\"\\ntr(CAB)=\", end=\"\")\n",
    "print(CAB.trace())\n",
    "\n"
   ]
  },
  {
   "cell_type": "code",
   "execution_count": null,
   "id": "01d1937c-2234-4632-867a-5eb6173bf6a5",
   "metadata": {},
   "outputs": [],
   "source": []
  }
 ],
 "metadata": {
  "kernelspec": {
   "display_name": "Python 3 (Spyder)",
   "language": "python3",
   "name": "python3"
  },
  "language_info": {
   "codemirror_mode": {
    "name": "ipython",
    "version": 3
   },
   "file_extension": ".py",
   "mimetype": "text/x-python",
   "name": "python",
   "nbconvert_exporter": "python",
   "pygments_lexer": "ipython3",
   "version": "3.12.3"
  }
 },
 "nbformat": 4,
 "nbformat_minor": 5
}
