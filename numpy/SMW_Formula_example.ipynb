{
 "cells": [
  {
   "cell_type": "markdown",
   "id": "2ab75c83-c551-4af3-97ab-accf01c1f5ba",
   "metadata": {},
   "source": [
    "## Sherman-Morrison-Woodbury formula\n",
    "\n",
    "The Sherman-Morrison-Woodbury (SMW) formula is given by:\n",
    "\n",
    "$$\n",
    "(A + UV^T)^{-1} = A^{-1} - A^{-1} U \\left( I + V^T A^{-1} U \\right)^{-1} V^T A^{-1}\n",
    "$$\n",
    "\n",
    "This formula can be derived from :\n",
    "$$\n",
    "B^{-1}  = A^{-1} - B^{-1} (B-A) A^{-1}\n",
    "$$\n",
    "\n",
    "\n",
    "- https://en.wikipedia.org/wiki/Sherman%E2%80%93Morrison_formula\n"
   ]
  },
  {
   "cell_type": "code",
   "execution_count": 1,
   "id": "410b26fe-594d-40ce-b375-c07117a52382",
   "metadata": {},
   "outputs": [],
   "source": [
    "import numpy as np\n",
    "\n",
    "# Function to compute (A + UV^T)^-1 \n",
    "def sherman_morrison_woodbury(A_inv, U, V):\n",
    "    k = min(V.shape)\n",
    "    term = np.eye(k) + V.T @ A_inv @ U\n",
    "    term_inv = np.linalg.inv(term)\n",
    "    \n",
    "    # Apply the Sherman-Morrison-Woodbury formula\n",
    "    B_inv = A_inv - A_inv @ U @ term_inv @ V.T @ A_inv\n",
    "    return B_inv\n"
   ]
  },
  {
   "cell_type": "markdown",
   "id": "1c33b48f-ba6a-4817-a722-2b3ed3b486f5",
   "metadata": {},
   "source": [
    "## Example (k=1)"
   ]
  },
  {
   "cell_type": "code",
   "execution_count": 2,
   "id": "07277662-2cb0-405d-8a43-69c3d0d4360e",
   "metadata": {},
   "outputs": [
    {
     "name": "stdout",
     "output_type": "stream",
     "text": [
      "\n",
      "A:\n",
      "[[4 1 2]\n",
      " [1 3 0]\n",
      " [2 0 5]]\n",
      "\n",
      "u:\n",
      "[[1]\n",
      " [0]\n",
      " [2]]\n",
      "\n",
      "v:\n",
      "[[2]\n",
      " [1]\n",
      " [1]]\n",
      "\n",
      "inv(A):\n",
      "[[ 0.34883721 -0.11627907 -0.13953488]\n",
      " [-0.11627907  0.37209302  0.04651163]\n",
      " [-0.13953488  0.04651163  0.25581395]]\n",
      "\n",
      "inv(A+u@v.T)\n",
      "[[ 0.328125 -0.125    -0.140625]\n",
      " [-0.109375  0.375     0.046875]\n",
      " [-0.25      0.        0.25    ]]\n"
     ]
    }
   ],
   "source": [
    "import numpy as np\n",
    "\n",
    "A = np.array([[4, 1, 2],\n",
    "              [1, 3, 0],\n",
    "              [2, 0, 5]])\n",
    "\n",
    "u = np.array([[1], [0], [2]])\n",
    "v = np.array([[2], [1], [1]])\n",
    "A_inv = np.linalg.inv(A)\n",
    "B_inv = sherman_morrison_woodbury(A_inv, u, v)\n",
    "\n",
    "print(\"\\nA:\")\n",
    "print(A)\n",
    "print(\"\\nu:\")\n",
    "print(u)\n",
    "print(\"\\nv:\")\n",
    "print(v)\n",
    "print(\"\\ninv(A):\")\n",
    "print(A_inv)\n",
    "print(\"\\ninv(A+u@v.T)\")\n",
    "print(B_inv)\n"
   ]
  },
  {
   "cell_type": "markdown",
   "id": "7b0593de-040f-4f30-a7ff-a4dc3f5cf4ef",
   "metadata": {},
   "source": [
    "## Example: k=2"
   ]
  },
  {
   "cell_type": "code",
   "execution_count": 3,
   "id": "8044f44b-ff03-4779-a7c5-9a32bdb1b2ef",
   "metadata": {},
   "outputs": [
    {
     "name": "stdout",
     "output_type": "stream",
     "text": [
      "Inverse of A (A_inv):\n",
      "[[-3.42925535 -0.32216644  2.09961154]\n",
      " [ 2.6764203   1.58239696 -1.71888934]\n",
      " [ 0.51388664 -1.3177128   0.89543044]]\n",
      "\n",
      "Inverse of (A + UV^T) (B_inv) using Sherman-Morrison-Woodbury formula:\n",
      "[[-3.88274093  0.25487055  1.82570536]\n",
      " [ 0.52944557  4.43895039 -3.79917769]\n",
      " [ 2.44970076 -3.87833091  2.67691264]]\n"
     ]
    }
   ],
   "source": [
    "\n",
    "# Example matrices\n",
    "n = 3  # Dimension of A\n",
    "k = 2 # rank of U and V\n",
    "\n",
    "# Random matrices for A, U, and V\n",
    "A = np.random.rand(n, n) \n",
    "U = np.random.rand(n, k) \n",
    "V = np.random.rand(n, k) \n",
    "\n",
    "# Compute the inverse of A\n",
    "A_inv = np.linalg.inv(A)\n",
    "\n",
    "# Compute the inverse of the perturbed matrix (A + UV^T) using the formula\n",
    "B_inv = sherman_morrison_woodbury(A_inv, U, V)\n",
    "\n",
    "# Output the results\n",
    "print(\"Inverse of A (A_inv):\")\n",
    "print(A_inv)\n",
    "print(\"\\nInverse of (A + UV^T) (B_inv) using Sherman-Morrison-Woodbury formula:\")\n",
    "print(B_inv)\n"
   ]
  },
  {
   "cell_type": "markdown",
   "id": "35c79967-2aee-4caa-af65-245b435b5d7c",
   "metadata": {},
   "source": [
    "## Example: incremental update\n",
    "\n",
    "$$\n",
    "(A+UV^T)^{-1} = (A + u_1 v_1^T + ... + u_n v_n^T)^{-1}\n",
    "$$\n",
    "\n"
   ]
  },
  {
   "cell_type": "code",
   "execution_count": 4,
   "id": "692326fd-1a0a-47ab-8be7-b090f6696259",
   "metadata": {},
   "outputs": [
    {
     "name": "stdout",
     "output_type": "stream",
     "text": [
      "\n",
      "i=0 update:\n",
      "[[-1.99950276 -0.18451536  3.83789451 -0.52283997]\n",
      " [ 2.01673129 -0.58185299 -1.76366677  0.37328924]\n",
      " [ 0.30421509  0.54414157 -2.5412146   1.61232731]\n",
      " [-0.45998748  1.37606254  0.18023458 -1.25792331]]\n",
      "\n",
      "i=1 update:\n",
      "[[-2.65176686 -2.11862921  7.34344203 -1.36838186]\n",
      " [ 2.29400535  0.24032871 -3.25385672  0.73272468]\n",
      " [ 0.53033566  1.21464133 -3.75648369  1.90545154]\n",
      " [-0.63891514  0.84550067  1.14186869 -1.48987051]]\n",
      "\n",
      "i=2 update:\n",
      "[[-0.87629399 -1.68126134  3.39383894 -0.3469809 ]\n",
      " [ 1.17013918 -0.03652314 -0.75377611  0.08618257]\n",
      " [-0.31279508  1.00694552 -1.88090914  1.420412  ]\n",
      " [ 0.20689699  1.05385702 -0.73967072 -1.00328841]]\n",
      "\n",
      "i=3 update:\n",
      "[[-0.64849436 -1.41836909  2.97498884 -0.30040868]\n",
      " [ 0.98991442 -0.24451159 -0.42240087  0.04933674]\n",
      " [-0.55275832  0.73001584 -1.43969407  1.37135301]\n",
      " [ 0.18080115  1.02374111 -0.6916889  -1.00862354]]\n",
      "\n",
      "true inv(A+U@V):\n",
      "[[-0.64849436 -1.41836909  2.97498884 -0.30040868]\n",
      " [ 0.98991442 -0.24451159 -0.42240087  0.04933674]\n",
      " [-0.55275832  0.73001584 -1.43969407  1.37135301]\n",
      " [ 0.18080115  1.02374111 -0.6916889  -1.00862354]]\n",
      "\n",
      "inv(A+U@V) == inv(A+u1@v1.T+...+un@vn.T)\n",
      "Incremental update of the inverse is correct\n"
     ]
    }
   ],
   "source": [
    "# Compute inv(A+UV)\n",
    "import numpy as np\n",
    "\n",
    "n = 4\n",
    "A = np.random.rand(n, n)\n",
    "U = np.random.rand(n, n)\n",
    "V = np.random.rand(n, n)\n",
    "C_inv = np.linalg.inv(A)\n",
    "true_inv = np.linalg.inv(A+U@V)\n",
    "\n",
    "# incremental update\n",
    "for i in range(n):\n",
    "    u = U[:, i].reshape(-1, 1) # column vector\n",
    "    v = V[i, :].reshape(-1, 1) # column vector\n",
    "    C_inv = sherman_morrison_woodbury(C_inv, u, v)\n",
    "    print(f\"\\ni={i} update:\")\n",
    "    print(C_inv)\n",
    "\n",
    "print(\"\\ntrue inv(A+U@V):\")\n",
    "print(true_inv)\n",
    "\n",
    "if np.allclose(true_inv, C_inv):\n",
    "    print(\"\\ninv(A+U@V) == inv(A+u1@v1.T+...+un@vn.T)\")\n",
    "    print(\"Incremental update of the inverse is correct\")\n"
   ]
  },
  {
   "cell_type": "code",
   "execution_count": null,
   "id": "6a9f9f97-25a6-4688-bced-dcaa9eb50c5a",
   "metadata": {},
   "outputs": [],
   "source": []
  },
  {
   "cell_type": "code",
   "execution_count": null,
   "id": "941693b6-96c9-4002-8c4d-5c6ee2a3d2a3",
   "metadata": {},
   "outputs": [],
   "source": []
  }
 ],
 "metadata": {
  "kernelspec": {
   "display_name": "Python 3 (Spyder)",
   "language": "python3",
   "name": "python3"
  },
  "language_info": {
   "codemirror_mode": {
    "name": "ipython",
    "version": 3
   },
   "file_extension": ".py",
   "mimetype": "text/x-python",
   "name": "python",
   "nbconvert_exporter": "python",
   "pygments_lexer": "ipython3",
   "version": "3.12.3"
  }
 },
 "nbformat": 4,
 "nbformat_minor": 5
}
