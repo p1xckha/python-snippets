{
 "cells": [
  {
   "cell_type": "code",
   "execution_count": 1,
   "id": "df518b52",
   "metadata": {},
   "outputs": [
    {
     "data": {
      "text/plain": [
       "(array([1.65956326, 2.44355117, 1.54515142, 1.17402254, 1.45958307,\n",
       "        2.10350389, 1.45102494, 1.12271767, 1.0263587 , 1.35094023,\n",
       "        1.05512147, 0.83507219, 0.82763464, 1.20324731, 0.68868152,\n",
       "        0.51216134]),\n",
       " array([1.65956326, 2.44355117, 1.54515142, 1.17402254, 1.45958307,\n",
       "        2.10350389, 1.45102494, 1.12271767, 1.0263587 , 1.35094023,\n",
       "        1.05512147, 0.83507219, 0.82763464, 1.20324731, 0.68868152,\n",
       "        0.51216134]),\n",
       " 2.834968878138011e-31,\n",
       " True)"
      ]
     },
     "execution_count": 1,
     "metadata": {},
     "output_type": "execute_result"
    }
   ],
   "source": [
    "################################################\n",
    "# I verified the correctness of my formula using a random method.\n",
    "#\n",
    "# Kronecker(A, B) vec(C) = vec(B C A.T) \n",
    "#===============================================\n",
    "\n",
    "import numpy as np\n",
    "\n",
    "A = np.random.random([4,4]).astype(np.float64)\n",
    "B = np.random.random([4,4]).astype(np.float64)\n",
    "C = np.random.random([4,4]).astype(np.float64)\n",
    "\n",
    "vec1 = np.kron(A, B) @ C.flatten('F')\n",
    "vec2 = (B @ C @ A.T).flatten('F')\n",
    "loss = ((vec1 - vec2)**2).sum()\n",
    "\n",
    "vec1, vec2, loss, np.allclose(vec1, vec2)"
   ]
  },
  {
   "cell_type": "code",
   "execution_count": 2,
   "id": "73966903",
   "metadata": {},
   "outputs": [
    {
     "name": "stdout",
     "output_type": "stream",
     "text": [
      "correct: loss = 5.17689969051289e-31\n",
      "correct: loss = 1.3805065841367707e-30\n",
      "correct: loss = 7.765349535769335e-31\n",
      "correct: loss = 4.067564042545842e-31\n",
      "correct: loss = 7.518830502887769e-31\n",
      "correct: loss = 5.669937756276022e-31\n",
      "correct: loss = 2.1816934410018608e-30\n",
      "correct: loss = 4.437342591868191e-31\n",
      "correct: loss = 8.38164711797325e-31\n",
      "correct: loss = 9.860761315262648e-32\n"
     ]
    }
   ],
   "source": [
    "# test\n",
    "def compute_loss(A, B, C):\n",
    "    vec1 = np.kron(A, B) @ C.flatten('F')\n",
    "    vec2 = (B @ C @ A.T).flatten('F')\n",
    "    loss = ((vec1 - vec2) ** 2).sum()\n",
    "    return loss\n",
    "\n",
    "epsilon = 1e-16\n",
    "for _ in range(10):\n",
    "    A = np.random.random([4,4]).astype(np.float64)\n",
    "    B = np.random.random([4,4]).astype(np.float64)\n",
    "    C = np.random.random([4,4]).astype(np.float64)\n",
    "    loss = compute_loss(A, B, C)\n",
    "    if loss < epsilon:\n",
    "        print(f\"correct: loss = {loss}\")\n",
    "    else:\n",
    "        print(f\"incorrect: loss = {loss}\")\n",
    "    "
   ]
  }
 ],
 "metadata": {
  "kernelspec": {
   "display_name": "Python 3 (Spyder)",
   "language": "python3",
   "name": "python3"
  },
  "language_info": {
   "codemirror_mode": {
    "name": "ipython",
    "version": 3
   },
   "file_extension": ".py",
   "mimetype": "text/x-python",
   "name": "python",
   "nbconvert_exporter": "python",
   "pygments_lexer": "ipython3",
   "version": "3.10.9"
  }
 },
 "nbformat": 4,
 "nbformat_minor": 5
}
