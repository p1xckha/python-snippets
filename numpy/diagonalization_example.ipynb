{
 "cells": [
  {
   "cell_type": "markdown",
   "id": "f7deb6b7-8b02-4f93-84c1-355e3fb00143",
   "metadata": {},
   "source": [
    "# diagonalization example\n",
    "\n",
    "$$A = \\begin{bmatrix}\n",
    "2 & 1 \\\\\n",
    "1 & 2 \\\\\n",
    "\\end{bmatrix}\n",
    "$$\n",
    "\n",
    "is diagonalized as:\n",
    "\n",
    "$$D = P^T A P = \\begin{bmatrix}\n",
    "3 & 0 \\\\\n",
    "0 & 1 \\\\\n",
    "\\end{bmatrix}$$\n",
    "\n",
    "* https://en.wikipedia.org/wiki/Diagonalizable_matrix"
   ]
  },
  {
   "cell_type": "code",
   "execution_count": 1,
   "id": "1d4be7b8-e513-4e1e-ae51-06f93f4f3737",
   "metadata": {},
   "outputs": [
    {
     "data": {
      "text/plain": [
       "(array([3., 1.]),\n",
       " array([[ 0.70710678, -0.70710678],\n",
       "        [ 0.70710678,  0.70710678]]))"
      ]
     },
     "execution_count": 1,
     "metadata": {},
     "output_type": "execute_result"
    }
   ],
   "source": [
    "import numpy as np\n",
    "import matplotlib.pyplot as plt\n",
    "\n",
    "A = np.array([[2, 1], \n",
    "              [1, 2]])\n",
    "\n",
    "eigenvalues, P = np.linalg.eig(A)\n",
    "eigenvalues, P "
   ]
  },
  {
   "cell_type": "code",
   "execution_count": 2,
   "id": "599a7154-a30e-4e0c-8ec3-f71ad1b33e72",
   "metadata": {},
   "outputs": [
    {
     "data": {
      "text/plain": [
       "array([[3., 0.],\n",
       "       [0., 1.]])"
      ]
     },
     "execution_count": 2,
     "metadata": {},
     "output_type": "execute_result"
    }
   ],
   "source": [
    "P.T @ A @ P"
   ]
  },
  {
   "cell_type": "markdown",
   "id": "7aeffbab-39b9-4477-8b92-2cc9337e5f93",
   "metadata": {},
   "source": [
    "A is diagonalizable, because P[:,0] and P[:, 1] are linearly independent."
   ]
  },
  {
   "cell_type": "markdown",
   "id": "da8e7428-2c77-4c08-b74c-c4dd21a9cf5d",
   "metadata": {},
   "source": [
    "# is_diagonalizable function\n",
    "\n",
    "A is diagonalizable $\\Leftrightarrow$ eigenvectors of $A$ are linearly independent\n"
   ]
  },
  {
   "cell_type": "code",
   "execution_count": 3,
   "id": "4cacde8f-3d61-4fed-863d-1331b953b6b3",
   "metadata": {},
   "outputs": [],
   "source": [
    "import numpy as np\n",
    "\n",
    "def is_diagonalizable(A):\n",
    "    # Compute the eigenvalues and eigenvectors\n",
    "    eigenvalues, eigenvectors = np.linalg.eig(A)\n",
    "\n",
    "    # Check if there are enough linearly independent eigenvectors\n",
    "    return np.all(np.linalg.matrix_rank(eigenvectors) == eigenvectors.shape[1])\n"
   ]
  },
  {
   "cell_type": "code",
   "execution_count": 4,
   "id": "52623906-abdd-4ae8-ac84-e2160ea00ef1",
   "metadata": {},
   "outputs": [
    {
     "data": {
      "text/plain": [
       "False"
      ]
     },
     "execution_count": 4,
     "metadata": {},
     "output_type": "execute_result"
    }
   ],
   "source": [
    "# Define your matrix A\n",
    "A = np.array([[1, 1],\n",
    "              [0, 1]])\n",
    "\n",
    "is_diagonalizable(A)"
   ]
  },
  {
   "cell_type": "code",
   "execution_count": 5,
   "id": "a6c69067-c387-4b8e-b7ee-d3766ed65076",
   "metadata": {},
   "outputs": [
    {
     "data": {
      "text/plain": [
       "(array([1., 1.]),\n",
       " array([[ 1., -1.],\n",
       "        [ 0.,  0.]]))"
      ]
     },
     "execution_count": 5,
     "metadata": {},
     "output_type": "execute_result"
    }
   ],
   "source": [
    "eigenvalues, eigenvectors = np.linalg.eig(A)\n",
    "np.round(eigenvalues, decimals=8), np.round(eigenvectors, decimals=8)"
   ]
  },
  {
   "cell_type": "code",
   "execution_count": null,
   "id": "03e3b335-f48f-4e19-8024-d171da75aba0",
   "metadata": {},
   "outputs": [],
   "source": []
  },
  {
   "cell_type": "markdown",
   "id": "d5c50eb7-13b0-4fd8-8969-08e24293ea3c",
   "metadata": {},
   "source": [
    "# A real-valued symmetric matrix is diagonalizable"
   ]
  },
  {
   "cell_type": "code",
   "execution_count": 6,
   "id": "8ca3d570-44d1-4dc1-b182-d219390fff66",
   "metadata": {},
   "outputs": [
    {
     "name": "stdout",
     "output_type": "stream",
     "text": [
      "[[2 7 2]\n",
      " [7 8 3]\n",
      " [2 3 2]]\n"
     ]
    },
    {
     "data": {
      "text/plain": [
       "(array([13.72453292, -2.61586123,  0.89132832]),\n",
       " array([[ 0.52644687,  0.83546142, -0.15766393],\n",
       "        [ 0.79778219, -0.54952779, -0.24811847],\n",
       "        [ 0.29393412, -0.00483972,  0.95581343]]))"
      ]
     },
     "execution_count": 6,
     "metadata": {},
     "output_type": "execute_result"
    }
   ],
   "source": [
    "def get_symmetric_array(dim=3):\n",
    "    A = np.random.choice(5, (3,3))\n",
    "    A = A + A.T\n",
    "    return A\n",
    "    \n",
    "A = get_symmetric_array()\n",
    "print(A)\n",
    "\n",
    "eigenvalues, P = np.linalg.eig(A)\n",
    "eigenvalues, P "
   ]
  },
  {
   "cell_type": "code",
   "execution_count": 7,
   "id": "d01076a1-2651-4375-8c40-0d875be0e120",
   "metadata": {},
   "outputs": [
    {
     "data": {
      "text/plain": [
       "array([[13.72453292, -0.        ,  0.        ],\n",
       "       [-0.        , -2.61586123,  0.        ],\n",
       "       [-0.        , -0.        ,  0.89132832]])"
      ]
     },
     "execution_count": 7,
     "metadata": {},
     "output_type": "execute_result"
    }
   ],
   "source": [
    "np.round(P.T @ A @ P, decimals=8) "
   ]
  },
  {
   "cell_type": "code",
   "execution_count": null,
   "id": "ff070eac-ad3f-4eb1-87ca-aa40cdb3735d",
   "metadata": {},
   "outputs": [],
   "source": []
  },
  {
   "cell_type": "markdown",
   "id": "62c436d8-6715-4e16-8548-51e373074735",
   "metadata": {},
   "source": [
    "# Handling Repeated Eigenvalues\n",
    "\n",
    "\n",
    "The matrix A:\n",
    "\n",
    "$$\n",
    "A = \\begin{bmatrix}\n",
    "0 & 1 & 1 \\\\\n",
    "1 & 0 & 1 \\\\\n",
    "1 & 1 & 0 \\\\\n",
    "\\end{bmatrix}\n",
    "$$\n",
    "\n",
    "Since A is a real-valued symmetric matrix, it can be diagonalized using an orthogonal matrix.\n",
    "\n",
    "\n",
    "However, it's important to note that `np.linalg.eig` does not always return an orthogonal matrix as eigenvectors when there are repeated eigenvalues. In such cases, you should use the inverse of P instead.\n",
    "\n",
    "The diagonalization equation is:\n",
    "\n",
    "$$\n",
    "P^{-1} A P = D\n",
    "$$\n",
    "\n",
    "Where:\n",
    "- A is the original matrix.\n",
    "- P is the matrix containing the eigenvectors as columns.\n",
    "- D is a diagonal matrix with the eigenvalues on the diagonal.\n"
   ]
  },
  {
   "cell_type": "code",
   "execution_count": 8,
   "id": "c8484e5e-5e1b-44aa-95f5-2e3a03ea1433",
   "metadata": {},
   "outputs": [
    {
     "data": {
      "text/plain": [
       "(array([-1.,  2., -1.]),\n",
       " array([[-0.81649658,  0.57735027, -0.09265789],\n",
       "        [ 0.40824829,  0.57735027, -0.65620994],\n",
       "        [ 0.40824829,  0.57735027,  0.74886783]]))"
      ]
     },
     "execution_count": 8,
     "metadata": {},
     "output_type": "execute_result"
    }
   ],
   "source": [
    "A = np.array([[0,1,1],\n",
    "              [1,0,1],\n",
    "              [1,1,0]])\n",
    "lams, P = np.linalg.eig(A)\n",
    "lams, P"
   ]
  },
  {
   "cell_type": "code",
   "execution_count": 9,
   "id": "fe653539-974a-40bf-8da7-366c50c06cf1",
   "metadata": {},
   "outputs": [
    {
     "data": {
      "text/plain": [
       "True"
      ]
     },
     "execution_count": 9,
     "metadata": {},
     "output_type": "execute_result"
    }
   ],
   "source": [
    "is_diagonalizable(A)"
   ]
  },
  {
   "cell_type": "code",
   "execution_count": 10,
   "id": "78795d83-3618-4ac9-86fc-cf80cb52bd82",
   "metadata": {},
   "outputs": [
    {
     "data": {
      "text/plain": [
       "array([[ 1.00000000e+00, -1.11022302e-16,  1.13482280e-01],\n",
       "       [-1.11022302e-16,  1.00000000e+00,  1.66533454e-16],\n",
       "       [ 1.13482280e-01,  1.66533454e-16,  1.00000000e+00]])"
      ]
     },
     "execution_count": 10,
     "metadata": {},
     "output_type": "execute_result"
    }
   ],
   "source": [
    "P.T @ P # P is not orthogonal"
   ]
  },
  {
   "cell_type": "code",
   "execution_count": 11,
   "id": "727ca8b3-2aab-42af-8191-09153d704d91",
   "metadata": {},
   "outputs": [
    {
     "data": {
      "text/plain": [
       "array([[-1.,  0.,  0.],\n",
       "       [ 0.,  2.,  0.],\n",
       "       [ 0., -0., -1.]])"
      ]
     },
     "execution_count": 11,
     "metadata": {},
     "output_type": "execute_result"
    }
   ],
   "source": [
    "P_inv = np.linalg.inv(P) # instead, use the inverse of P\n",
    "D = P_inv @ A@ P # diagonalizable\n",
    "np.round(D, decimals=8)"
   ]
  },
  {
   "cell_type": "code",
   "execution_count": null,
   "id": "520ee626-8fc8-4a6f-a497-28d1546c8177",
   "metadata": {},
   "outputs": [],
   "source": []
  },
  {
   "cell_type": "code",
   "execution_count": null,
   "id": "8c965cb1-806c-4122-a971-7eaa93a44e3c",
   "metadata": {},
   "outputs": [],
   "source": []
  },
  {
   "cell_type": "code",
   "execution_count": null,
   "id": "f55d5bac-0b92-45e3-9566-c7ae6221e184",
   "metadata": {},
   "outputs": [],
   "source": []
  },
  {
   "cell_type": "code",
   "execution_count": null,
   "id": "1fa3ce5a-184d-4e04-b641-d71e4b4c2803",
   "metadata": {},
   "outputs": [],
   "source": []
  }
 ],
 "metadata": {
  "kernelspec": {
   "display_name": "Python 3 (Spyder)",
   "language": "python3",
   "name": "python3"
  },
  "language_info": {
   "codemirror_mode": {
    "name": "ipython",
    "version": 3
   },
   "file_extension": ".py",
   "mimetype": "text/x-python",
   "name": "python",
   "nbconvert_exporter": "python",
   "pygments_lexer": "ipython3",
   "version": "3.11.3"
  }
 },
 "nbformat": 4,
 "nbformat_minor": 5
}
