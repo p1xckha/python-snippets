{
 "cells": [
  {
   "cell_type": "markdown",
   "id": "cce86d33",
   "metadata": {},
   "source": [
    "# doubly stochastic matrix P\n",
    "\n",
    "https://en.wikipedia.org/wiki/Doubly_stochastic_matrix\n",
    "\n",
    "$$\n",
    "P = \n",
    "\\begin{bmatrix}\n",
    "p_{11} & p_{12} & \\dots & p_{1N} \\\\\n",
    "p_{21} & p_{22} & \\dots & p_{2N} \\\\\n",
    "\\vdots & \\vdots & \\ddots & \\vdots \\\\\n",
    "p_{N1} & p_{N2} & \\dots & p_{NN} \\\\\n",
    "\\end{bmatrix}\n",
    "$$\n",
    "\n",
    "## P.sum(axis=0) == [1,1,...,1]\n",
    "$$ \\sum_{i=1}^N p_{ij} = 1 (j=1,2,...,N)$$\n",
    "\n",
    "## P.sum(axis=1) == [1,1,...,1]\n",
    "$$\\sum_{j=1}^N p_{ij} = 1 (i=1,2,...,N)$$\n",
    "\n"
   ]
  },
  {
   "cell_type": "markdown",
   "id": "63f8b678",
   "metadata": {},
   "source": [
    "# generate a doubly stochastic"
   ]
  },
  {
   "cell_type": "code",
   "execution_count": 1,
   "id": "58163924",
   "metadata": {},
   "outputs": [
    {
     "data": {
      "text/plain": [
       "array([[0.89773877, 0.82386191, 0.10930065, 0.92425775],\n",
       "       [0.33934369, 0.82292954, 0.36357303, 0.53842813],\n",
       "       [0.11972913, 0.9754663 , 0.68466937, 0.77751695],\n",
       "       [0.99444671, 0.71277582, 0.46979606, 0.07144255]])"
      ]
     },
     "execution_count": 1,
     "metadata": {},
     "output_type": "execute_result"
    }
   ],
   "source": [
    "import numpy as np\n",
    "\n",
    "N=4\n",
    "matrix = np.random.random([N, N])\n",
    "matrix"
   ]
  },
  {
   "cell_type": "code",
   "execution_count": 2,
   "id": "5c61c630",
   "metadata": {},
   "outputs": [
    {
     "data": {
      "text/plain": [
       "array([[0.34392222, 0.22319482, 0.06042434, 0.37245861],\n",
       "       [0.16863366, 0.28919221, 0.26072046, 0.28145366],\n",
       "       [0.04577817, 0.26374869, 0.37776216, 0.31271098],\n",
       "       [0.44166594, 0.22386427, 0.30109304, 0.03337675]])"
      ]
     },
     "execution_count": 2,
     "metadata": {},
     "output_type": "execute_result"
    }
   ],
   "source": [
    "MAX_ITER = 100\n",
    "epsilon = 1e-32\n",
    "\n",
    "for i in range(MAX_ITER):\n",
    "    matrix /= np.sum(matrix, axis=0)\n",
    "    matrix /= np.sum(matrix, axis=1)[:, np.newaxis]\n",
    "    \n",
    "    row_losses = (matrix.sum(axis=1) - 1)**2\n",
    "    col_losses = (matrix.sum(axis=0) - 1)**2\n",
    "    \n",
    "    total_loss = row_losses.sum() + col_losses.sum()\n",
    "    \n",
    "    if total_loss < epsilon:\n",
    "        break\n",
    "\n",
    "matrix  # Doubly stochastic matrix"
   ]
  },
  {
   "cell_type": "code",
   "execution_count": 3,
   "id": "a7b4fc85",
   "metadata": {},
   "outputs": [
    {
     "data": {
      "text/plain": [
       "array([1., 1., 1., 1.])"
      ]
     },
     "execution_count": 3,
     "metadata": {},
     "output_type": "execute_result"
    }
   ],
   "source": [
    "matrix.sum(axis=0)"
   ]
  },
  {
   "cell_type": "code",
   "execution_count": 4,
   "id": "dc8f1cc1",
   "metadata": {},
   "outputs": [
    {
     "data": {
      "text/plain": [
       "array([1., 1., 1., 1.])"
      ]
     },
     "execution_count": 4,
     "metadata": {},
     "output_type": "execute_result"
    }
   ],
   "source": [
    "matrix.sum(axis=1)"
   ]
  },
  {
   "cell_type": "code",
   "execution_count": 5,
   "id": "2770db03",
   "metadata": {},
   "outputs": [
    {
     "data": {
      "text/plain": [
       "array([1., 1., 1., 1.])"
      ]
     },
     "execution_count": 5,
     "metadata": {},
     "output_type": "execute_result"
    }
   ],
   "source": [
    "(matrix @ matrix).sum(axis=0)"
   ]
  },
  {
   "cell_type": "code",
   "execution_count": 6,
   "id": "e268a3a8",
   "metadata": {},
   "outputs": [
    {
     "data": {
      "text/plain": [
       "array([1., 1., 1., 1.])"
      ]
     },
     "execution_count": 6,
     "metadata": {},
     "output_type": "execute_result"
    }
   ],
   "source": [
    "(matrix @ matrix).sum(axis=1)"
   ]
  },
  {
   "cell_type": "markdown",
   "id": "29f09ce9",
   "metadata": {},
   "source": [
    "# lim P^n  \n",
    "Let P be an NxN doubly stochastic matrix, then\n",
    "\n",
    "$$ P^n \\rightarrow \n",
    "\\begin{bmatrix}\n",
    "\\frac{1}{N} & \\frac{1}{N} & \\dots & \\frac{1}{N} \\\\\n",
    "\\frac{1}{N} & \\frac{1}{N} & \\dots & \\frac{1}{N} \\\\\n",
    "\\vdots & \\vdots & \\ddots & \\vdots \\\\\n",
    "\\frac{1}{N} & \\frac{1}{N} & \\dots & \\frac{1}{N} \\\\\n",
    "\\end{bmatrix}  (n\\rightarrow +\\infty)\n",
    "$$"
   ]
  },
  {
   "cell_type": "code",
   "execution_count": 7,
   "id": "0492e0a6",
   "metadata": {},
   "outputs": [],
   "source": [
    "def generate_doubly_stochastic_matrix(N:int):\n",
    "    matrix = np.random.random([N, N])\n",
    "    MAX_ITER = 100\n",
    "    epsilon = 1e-16\n",
    "\n",
    "    for i in range(MAX_ITER):\n",
    "        matrix /= np.sum(matrix, axis=0)\n",
    "        matrix /= np.sum(matrix, axis=1)[:, np.newaxis]\n",
    "\n",
    "        row_losses = (matrix.sum(axis=1) - 1)**2\n",
    "        col_losses = (matrix.sum(axis=0) - 1)**2\n",
    "\n",
    "        total_loss = row_losses.sum() + col_losses.sum()\n",
    "\n",
    "        if total_loss < epsilon:\n",
    "            return matrix\n",
    "    return None\n",
    "\n",
    "\n",
    "def is_doubly_stochastic(matrix: np.ndarray):\n",
    "    # Check if the input is np.ndarray\n",
    "    if not isinstance(matrix, np.ndarray):\n",
    "        return False\n",
    "    \n",
    "    # Check if the matrix is square\n",
    "    n = matrix.shape[0]\n",
    "    if matrix.shape[0] != matrix.shape[1]:\n",
    "        return False\n",
    "\n",
    "    # Check if each row sums up to 1\n",
    "    row_sums = np.sum(matrix, axis=1)\n",
    "    if not np.allclose(row_sums, np.ones(n)):\n",
    "        return False\n",
    "\n",
    "    # Check if each column sums up to 1\n",
    "    column_sums = np.sum(matrix, axis=0)\n",
    "    if not np.allclose(column_sums, np.ones(n)):\n",
    "        return False\n",
    "\n",
    "    return True\n",
    "\n",
    "# Compute P^n\n",
    "def compute_power_doubly_stochastic_matrix(P: np.ndarray, n:int):\n",
    "    result = P\n",
    "    for _ in range(n):\n",
    "        result = result @ P\n",
    "    return result"
   ]
  },
  {
   "cell_type": "markdown",
   "id": "04196df2",
   "metadata": {},
   "source": [
    "# lim P^n (N=2)"
   ]
  },
  {
   "cell_type": "code",
   "execution_count": 8,
   "id": "8185a7ab",
   "metadata": {},
   "outputs": [
    {
     "data": {
      "text/plain": [
       "array([[0.26125484, 0.73874516],\n",
       "       [0.73874516, 0.26125484]])"
      ]
     },
     "execution_count": 8,
     "metadata": {},
     "output_type": "execute_result"
    }
   ],
   "source": [
    "N = 2\n",
    "P = generate_doubly_stochastic_matrix(N)\n",
    "P"
   ]
  },
  {
   "cell_type": "code",
   "execution_count": 9,
   "id": "862bd3bf",
   "metadata": {},
   "outputs": [
    {
     "data": {
      "text/plain": [
       "True"
      ]
     },
     "execution_count": 9,
     "metadata": {},
     "output_type": "execute_result"
    }
   ],
   "source": [
    "is_doubly_stochastic(P)"
   ]
  },
  {
   "cell_type": "code",
   "execution_count": 10,
   "id": "6ce5d6c2",
   "metadata": {},
   "outputs": [
    {
     "data": {
      "text/plain": [
       "array([[0.5, 0.5],\n",
       "       [0.5, 0.5]])"
      ]
     },
     "execution_count": 10,
     "metadata": {},
     "output_type": "execute_result"
    }
   ],
   "source": [
    "Q = compute_power_doubly_stochastic_matrix(P, 100)\n",
    "Q"
   ]
  },
  {
   "cell_type": "markdown",
   "id": "37799ce5",
   "metadata": {},
   "source": [
    "# lim P^n (N=4)"
   ]
  },
  {
   "cell_type": "code",
   "execution_count": 11,
   "id": "28b4625b",
   "metadata": {},
   "outputs": [
    {
     "data": {
      "text/plain": [
       "array([[0.12335103, 0.21860203, 0.26965177, 0.37770271, 0.01069247],\n",
       "       [0.00364336, 0.30933198, 0.0999315 , 0.13933952, 0.44775364],\n",
       "       [0.25222994, 0.09704091, 0.19365041, 0.22361849, 0.23346024],\n",
       "       [0.32263109, 0.06177966, 0.28560053, 0.07008472, 0.25990399],\n",
       "       [0.29814458, 0.31324542, 0.15116579, 0.18925456, 0.04818965]])"
      ]
     },
     "execution_count": 11,
     "metadata": {},
     "output_type": "execute_result"
    }
   ],
   "source": [
    "N = 5\n",
    "P = generate_doubly_stochastic_matrix(N)\n",
    "P"
   ]
  },
  {
   "cell_type": "code",
   "execution_count": 12,
   "id": "1e30ff8d",
   "metadata": {},
   "outputs": [
    {
     "data": {
      "text/plain": [
       "True"
      ]
     },
     "execution_count": 12,
     "metadata": {},
     "output_type": "execute_result"
    }
   ],
   "source": [
    "is_doubly_stochastic(P)"
   ]
  },
  {
   "cell_type": "code",
   "execution_count": 13,
   "id": "7f2cad92",
   "metadata": {},
   "outputs": [
    {
     "data": {
      "text/plain": [
       "array([[0.2, 0.2, 0.2, 0.2, 0.2],\n",
       "       [0.2, 0.2, 0.2, 0.2, 0.2],\n",
       "       [0.2, 0.2, 0.2, 0.2, 0.2],\n",
       "       [0.2, 0.2, 0.2, 0.2, 0.2],\n",
       "       [0.2, 0.2, 0.2, 0.2, 0.2]])"
      ]
     },
     "execution_count": 13,
     "metadata": {},
     "output_type": "execute_result"
    }
   ],
   "source": [
    "Q = compute_power_doubly_stochastic_matrix(P, 100)\n",
    "Q"
   ]
  },
  {
   "cell_type": "code",
   "execution_count": null,
   "id": "3851c847",
   "metadata": {},
   "outputs": [],
   "source": []
  }
 ],
 "metadata": {
  "kernelspec": {
   "display_name": "Python 3 (Spyder)",
   "language": "python3",
   "name": "python3"
  },
  "language_info": {
   "codemirror_mode": {
    "name": "ipython",
    "version": 3
   },
   "file_extension": ".py",
   "mimetype": "text/x-python",
   "name": "python",
   "nbconvert_exporter": "python",
   "pygments_lexer": "ipython3",
   "version": "3.10.9"
  }
 },
 "nbformat": 4,
 "nbformat_minor": 5
}
