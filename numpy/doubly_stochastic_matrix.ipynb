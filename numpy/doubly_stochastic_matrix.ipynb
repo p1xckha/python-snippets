{
 "cells": [
  {
   "cell_type": "markdown",
   "id": "85c4e3d5",
   "metadata": {},
   "source": [
    "# doubly stochastic matrix P\n",
    "\n",
    "https://en.wikipedia.org/wiki/Doubly_stochastic_matrix\n",
    "\n",
    "$$\n",
    "P = \n",
    "\\begin{bmatrix}\n",
    "p_{11} & p_{12} & \\dots & p_{1N} \\\\\n",
    "p_{21} & p_{22} & \\dots & p_{2N} \\\\\n",
    "\\vdots & \\vdots & \\ddots & \\vdots \\\\\n",
    "p_{N1} & p_{N2} & \\dots & p_{NN} \\\\\n",
    "\\end{bmatrix}\n",
    "$$\n",
    "\n",
    "## P.sum(axis=0) == [1,1,...,1]\n",
    "$$ \\sum_{i=1}^N p_{ij} = 1 (j=1,2,...,N)$$\n",
    "\n",
    "## P.sum(axis=1) == [1,1,...,1]\n",
    "$$\\sum_{j=1}^N p_{ij} = 1 (i=1,2,...,N)$$\n",
    "\n"
   ]
  },
  {
   "cell_type": "markdown",
   "id": "bbcfca2f",
   "metadata": {},
   "source": [
    "# generate a doubly stochastic"
   ]
  },
  {
   "cell_type": "code",
   "execution_count": 1,
   "id": "fef52792",
   "metadata": {},
   "outputs": [
    {
     "data": {
      "text/plain": [
       "array([[0.42335298, 0.11982681, 0.21468947, 0.47908566],\n",
       "       [0.00592135, 0.99989255, 0.17164664, 0.98658758],\n",
       "       [0.10503041, 0.55715725, 0.4591049 , 0.08286042],\n",
       "       [0.13891288, 0.40933452, 0.03840619, 0.45968149]])"
      ]
     },
     "execution_count": 1,
     "metadata": {},
     "output_type": "execute_result"
    }
   ],
   "source": [
    "import numpy as np\n",
    "\n",
    "N=4\n",
    "matrix = np.random.random([N, N])\n",
    "matrix"
   ]
  },
  {
   "cell_type": "code",
   "execution_count": 2,
   "id": "8554a96d",
   "metadata": {},
   "outputs": [
    {
     "data": {
      "text/plain": [
       "array([[0.53261734, 0.04818101, 0.2167083 , 0.20249336],\n",
       "       [0.00745144, 0.40214478, 0.17330349, 0.41710028],\n",
       "       [0.15461809, 0.26213933, 0.54226208, 0.0409805 ],\n",
       "       [0.30531313, 0.28753488, 0.06772613, 0.33942586]])"
      ]
     },
     "execution_count": 2,
     "metadata": {},
     "output_type": "execute_result"
    }
   ],
   "source": [
    "MAX_ITER = 100\n",
    "epsilon = 1e-32\n",
    "\n",
    "for i in range(MAX_ITER):\n",
    "    matrix /= np.sum(matrix, axis=0)\n",
    "    matrix /= np.sum(matrix, axis=1)[:, np.newaxis]\n",
    "    \n",
    "    row_losses = (matrix.sum(axis=1) - 1)**2\n",
    "    col_losses = (matrix.sum(axis=0) - 1)**2\n",
    "    \n",
    "    total_loss = row_losses.sum() + col_losses.sum()\n",
    "    \n",
    "    if total_loss < epsilon:\n",
    "        break\n",
    "\n",
    "matrix  # Doubly stochastic matrix"
   ]
  },
  {
   "cell_type": "code",
   "execution_count": 3,
   "id": "91b3264e",
   "metadata": {},
   "outputs": [
    {
     "data": {
      "text/plain": [
       "array([1., 1., 1., 1.])"
      ]
     },
     "execution_count": 3,
     "metadata": {},
     "output_type": "execute_result"
    }
   ],
   "source": [
    "matrix.sum(axis=0)"
   ]
  },
  {
   "cell_type": "code",
   "execution_count": 4,
   "id": "550d8a64",
   "metadata": {},
   "outputs": [
    {
     "data": {
      "text/plain": [
       "array([1., 1., 1., 1.])"
      ]
     },
     "execution_count": 4,
     "metadata": {},
     "output_type": "execute_result"
    }
   ],
   "source": [
    "matrix.sum(axis=1)"
   ]
  },
  {
   "cell_type": "code",
   "execution_count": 5,
   "id": "549794b4",
   "metadata": {},
   "outputs": [
    {
     "data": {
      "text/plain": [
       "array([1., 1., 1., 1.])"
      ]
     },
     "execution_count": 5,
     "metadata": {},
     "output_type": "execute_result"
    }
   ],
   "source": [
    "(matrix @ matrix).sum(axis=0)"
   ]
  },
  {
   "cell_type": "code",
   "execution_count": 6,
   "id": "a1be51c2",
   "metadata": {},
   "outputs": [
    {
     "data": {
      "text/plain": [
       "array([1., 1., 1., 1.])"
      ]
     },
     "execution_count": 6,
     "metadata": {},
     "output_type": "execute_result"
    }
   ],
   "source": [
    "(matrix @ matrix).sum(axis=1)"
   ]
  },
  {
   "cell_type": "markdown",
   "id": "cd1985e4",
   "metadata": {},
   "source": [
    "# lim P^n  \n",
    "Let P be an NxN doubly stochastic matrix, then\n",
    "\n",
    "$$ P^n \\rightarrow \n",
    "\\begin{bmatrix}\n",
    "\\frac{1}{N} & \\frac{1}{N} & \\dots & \\frac{1}{N} \\\\\n",
    "\\frac{1}{N} & \\frac{1}{N} & \\dots & \\frac{1}{N} \\\\\n",
    "\\vdots & \\vdots & \\ddots & \\vdots \\\\\n",
    "\\frac{1}{N} & \\frac{1}{N} & \\dots & \\frac{1}{N} \\\\\n",
    "\\end{bmatrix}  (n\\rightarrow +\\infty)\n",
    "$$"
   ]
  },
  {
   "cell_type": "code",
   "execution_count": 7,
   "id": "1bd0ffdf",
   "metadata": {},
   "outputs": [],
   "source": [
    "def generate_doubly_stochastic_matrix(N:int):\n",
    "    matrix = np.random.random([N, N])\n",
    "    MAX_ITER = 100\n",
    "    epsilon = 1e-16\n",
    "\n",
    "    for i in range(MAX_ITER):\n",
    "        matrix /= np.sum(matrix, axis=0)\n",
    "        matrix /= np.sum(matrix, axis=1)[:, np.newaxis]\n",
    "\n",
    "        row_losses = (matrix.sum(axis=1) - 1)**2\n",
    "        col_losses = (matrix.sum(axis=0) - 1)**2\n",
    "\n",
    "        total_loss = row_losses.sum() + col_losses.sum()\n",
    "\n",
    "        if total_loss < epsilon:\n",
    "            return matrix\n",
    "    return None\n",
    "\n",
    "\n",
    "def is_doubly_stochastic(matrix: np.ndarray):\n",
    "    # Check if the input is np.ndarray\n",
    "    if not isinstance(matrix, np.ndarray):\n",
    "        return False\n",
    "    \n",
    "    # Check if the matrix is square\n",
    "    n = matrix.shape[0]\n",
    "    if matrix.shape[0] != matrix.shape[1]:\n",
    "        return False\n",
    "\n",
    "    # Check if each row sums up to 1\n",
    "    row_sums = np.sum(matrix, axis=1)\n",
    "    if not np.allclose(row_sums, np.ones(n)):\n",
    "        return False\n",
    "\n",
    "    # Check if each column sums up to 1\n",
    "    column_sums = np.sum(matrix, axis=0)\n",
    "    if not np.allclose(column_sums, np.ones(n)):\n",
    "        return False\n",
    "\n",
    "    return True\n",
    "\n",
    "# Compute P^n\n",
    "def compute_power_doubly_stochastic_matrix(P: np.ndarray, n:int):\n",
    "    result = P\n",
    "    for _ in range(n):\n",
    "        result = result @ P\n",
    "    return result"
   ]
  },
  {
   "cell_type": "markdown",
   "id": "71ae1264",
   "metadata": {},
   "source": [
    "# lim P^n (N=2)"
   ]
  },
  {
   "cell_type": "code",
   "execution_count": 8,
   "id": "f0edefa5",
   "metadata": {},
   "outputs": [
    {
     "data": {
      "text/plain": [
       "array([[0.40985148, 0.59014852],\n",
       "       [0.59014852, 0.40985148]])"
      ]
     },
     "execution_count": 8,
     "metadata": {},
     "output_type": "execute_result"
    }
   ],
   "source": [
    "N = 2\n",
    "P = generate_doubly_stochastic_matrix(N)\n",
    "P"
   ]
  },
  {
   "cell_type": "code",
   "execution_count": 9,
   "id": "b8b05988",
   "metadata": {},
   "outputs": [
    {
     "data": {
      "text/plain": [
       "True"
      ]
     },
     "execution_count": 9,
     "metadata": {},
     "output_type": "execute_result"
    }
   ],
   "source": [
    "is_doubly_stochastic(P)"
   ]
  },
  {
   "cell_type": "code",
   "execution_count": 10,
   "id": "a0b39298",
   "metadata": {},
   "outputs": [
    {
     "data": {
      "text/plain": [
       "array([[0.5, 0.5],\n",
       "       [0.5, 0.5]])"
      ]
     },
     "execution_count": 10,
     "metadata": {},
     "output_type": "execute_result"
    }
   ],
   "source": [
    "Q = compute_power_doubly_stochastic_matrix(P, 100)\n",
    "Q"
   ]
  },
  {
   "cell_type": "markdown",
   "id": "1b41b37d",
   "metadata": {},
   "source": [
    "# lim P^n (N=4)"
   ]
  },
  {
   "cell_type": "code",
   "execution_count": 11,
   "id": "162998f9",
   "metadata": {},
   "outputs": [
    {
     "data": {
      "text/plain": [
       "array([[0.26824436, 0.07619656, 0.25063231, 0.40492677],\n",
       "       [0.00586189, 0.45682875, 0.47002726, 0.06728209],\n",
       "       [0.53553436, 0.11624239, 0.21939744, 0.12882582],\n",
       "       [0.19035938, 0.35073231, 0.05994299, 0.39896532]])"
      ]
     },
     "execution_count": 11,
     "metadata": {},
     "output_type": "execute_result"
    }
   ],
   "source": [
    "N = 4\n",
    "P = generate_doubly_stochastic_matrix(N)\n",
    "P"
   ]
  },
  {
   "cell_type": "code",
   "execution_count": 12,
   "id": "aecead29",
   "metadata": {},
   "outputs": [
    {
     "data": {
      "text/plain": [
       "True"
      ]
     },
     "execution_count": 12,
     "metadata": {},
     "output_type": "execute_result"
    }
   ],
   "source": [
    "is_doubly_stochastic(P)"
   ]
  },
  {
   "cell_type": "code",
   "execution_count": 13,
   "id": "9570181b",
   "metadata": {},
   "outputs": [
    {
     "data": {
      "text/plain": [
       "array([[0.25, 0.25, 0.25, 0.25],\n",
       "       [0.25, 0.25, 0.25, 0.25],\n",
       "       [0.25, 0.25, 0.25, 0.25],\n",
       "       [0.25, 0.25, 0.25, 0.25]])"
      ]
     },
     "execution_count": 13,
     "metadata": {},
     "output_type": "execute_result"
    }
   ],
   "source": [
    "Q = compute_power_doubly_stochastic_matrix(P, 100)\n",
    "Q"
   ]
  },
  {
   "cell_type": "code",
   "execution_count": null,
   "id": "ecc241ec",
   "metadata": {},
   "outputs": [],
   "source": []
  }
 ],
 "metadata": {
  "kernelspec": {
   "display_name": "Python 3 (Spyder)",
   "language": "python3",
   "name": "python3"
  },
  "language_info": {
   "codemirror_mode": {
    "name": "ipython",
    "version": 3
   },
   "file_extension": ".py",
   "mimetype": "text/x-python",
   "name": "python",
   "nbconvert_exporter": "python",
   "pygments_lexer": "ipython3",
   "version": "3.10.9"
  }
 },
 "nbformat": 4,
 "nbformat_minor": 5
}
