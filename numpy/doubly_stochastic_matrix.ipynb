{
 "cells": [
  {
   "cell_type": "markdown",
   "id": "56bf7bca",
   "metadata": {},
   "source": [
    "# doubly stochastic matrix P\n",
    "\n",
    "https://en.wikipedia.org/wiki/Doubly_stochastic_matrix\n",
    "\n",
    "$$\n",
    "P = \n",
    "\\begin{bmatrix}\n",
    "p_{11} & p_{12} & \\dots & p_{1N} \\\\\n",
    "p_{21} & p_{22} & \\dots & p_{2N} \\\\\n",
    "\\vdots & \\vdots & \\ddots & \\vdots \\\\\n",
    "p_{N1} & p_{N2} & \\dots & p_{NN} \\\\\n",
    "\\end{bmatrix}\n",
    "$$\n",
    "\n",
    "## P.sum(axis=0) == [1,1,...,1]\n",
    "$$ \\sum_{i=1}^N p_{ij} = 1 (j=1,2,...,N)$$\n",
    "\n",
    "## P.sum(axis=1) == [1,1,...,1]\n",
    "$$\\sum_{j=1}^N p_{ij} = 1 (i=1,2,...,N)$$\n",
    "\n"
   ]
  },
  {
   "cell_type": "markdown",
   "id": "392f7b7f",
   "metadata": {},
   "source": [
    "# generate a doubly stochastic matrix"
   ]
  },
  {
   "cell_type": "code",
   "execution_count": null,
   "id": "8424cf25",
   "metadata": {},
   "outputs": [],
   "source": [
    "import numpy as np\n",
    "\n",
    "N=4\n",
    "matrix = np.random.random([N, N])\n",
    "matrix"
   ]
  },
  {
   "cell_type": "code",
   "execution_count": 2,
   "id": "446bf0d2",
   "metadata": {},
   "outputs": [
    {
     "data": {
      "text/plain": [
       "array([[0.37568095, 0.08975479, 0.15709251, 0.37747175],\n",
       "       [0.32744026, 0.18492268, 0.27860026, 0.2090368 ],\n",
       "       [0.24018244, 0.38674731, 0.24475737, 0.12831287],\n",
       "       [0.05669634, 0.33857521, 0.31954986, 0.28517859]])"
      ]
     },
     "execution_count": 2,
     "metadata": {},
     "output_type": "execute_result"
    }
   ],
   "source": [
    "MAX_ITER = 100\n",
    "epsilon = 1e-32\n",
    "\n",
    "for i in range(MAX_ITER):\n",
    "    matrix /= np.sum(matrix, axis=0)\n",
    "    matrix /= np.sum(matrix, axis=1)[:, np.newaxis]\n",
    "    \n",
    "    row_losses = (matrix.sum(axis=1) - 1)**2\n",
    "    col_losses = (matrix.sum(axis=0) - 1)**2\n",
    "    \n",
    "    total_loss = row_losses.sum() + col_losses.sum()\n",
    "    \n",
    "    if total_loss < epsilon:\n",
    "        break\n",
    "\n",
    "matrix  # Doubly stochastic matrix"
   ]
  },
  {
   "cell_type": "code",
   "execution_count": 3,
   "id": "cc987ba6",
   "metadata": {},
   "outputs": [
    {
     "data": {
      "text/plain": [
       "array([1., 1., 1., 1.])"
      ]
     },
     "execution_count": 3,
     "metadata": {},
     "output_type": "execute_result"
    }
   ],
   "source": [
    "matrix.sum(axis=0)"
   ]
  },
  {
   "cell_type": "code",
   "execution_count": 4,
   "id": "2f20fd02",
   "metadata": {},
   "outputs": [
    {
     "data": {
      "text/plain": [
       "array([1., 1., 1., 1.])"
      ]
     },
     "execution_count": 4,
     "metadata": {},
     "output_type": "execute_result"
    }
   ],
   "source": [
    "matrix.sum(axis=1)"
   ]
  },
  {
   "cell_type": "code",
   "execution_count": 5,
   "id": "30d46a71",
   "metadata": {},
   "outputs": [
    {
     "data": {
      "text/plain": [
       "array([1., 1., 1., 1.])"
      ]
     },
     "execution_count": 5,
     "metadata": {},
     "output_type": "execute_result"
    }
   ],
   "source": [
    "(matrix @ matrix).sum(axis=0)"
   ]
  },
  {
   "cell_type": "code",
   "execution_count": 6,
   "id": "dd4a8bd8",
   "metadata": {},
   "outputs": [
    {
     "data": {
      "text/plain": [
       "array([1., 1., 1., 1.])"
      ]
     },
     "execution_count": 6,
     "metadata": {},
     "output_type": "execute_result"
    }
   ],
   "source": [
    "(matrix @ matrix).sum(axis=1)"
   ]
  },
  {
   "cell_type": "markdown",
   "id": "42af5c1a",
   "metadata": {},
   "source": [
    "# lim P^n  \n",
    "Let P be an NxN doubly stochastic matrix, then\n",
    "\n",
    "$$ P^n \\rightarrow \n",
    "\\begin{bmatrix}\n",
    "\\frac{1}{N} & \\frac{1}{N} & \\dots & \\frac{1}{N} \\\\\n",
    "\\frac{1}{N} & \\frac{1}{N} & \\dots & \\frac{1}{N} \\\\\n",
    "\\vdots & \\vdots & \\ddots & \\vdots \\\\\n",
    "\\frac{1}{N} & \\frac{1}{N} & \\dots & \\frac{1}{N} \\\\\n",
    "\\end{bmatrix}  (n\\rightarrow +\\infty)\n",
    "$$"
   ]
  },
  {
   "cell_type": "code",
   "execution_count": 7,
   "id": "e3e4ea5e",
   "metadata": {},
   "outputs": [],
   "source": [
    "def generate_doubly_stochastic_matrix(N:int):\n",
    "    matrix = np.random.random([N, N])\n",
    "    MAX_ITER = 100\n",
    "    epsilon = 1e-16\n",
    "\n",
    "    for i in range(MAX_ITER):\n",
    "        matrix /= np.sum(matrix, axis=0)\n",
    "        matrix /= np.sum(matrix, axis=1)[:, np.newaxis]\n",
    "\n",
    "        row_losses = (matrix.sum(axis=1) - 1)**2\n",
    "        col_losses = (matrix.sum(axis=0) - 1)**2\n",
    "\n",
    "        total_loss = row_losses.sum() + col_losses.sum()\n",
    "\n",
    "        if total_loss < epsilon:\n",
    "            return matrix\n",
    "    return matrix\n",
    "\n",
    "\n",
    "def is_doubly_stochastic(matrix: np.ndarray):\n",
    "    # Check if the input is np.ndarray\n",
    "    if not isinstance(matrix, np.ndarray):\n",
    "        return False\n",
    "    \n",
    "    # Check if the matrix is square\n",
    "    n = matrix.shape[0]\n",
    "    if matrix.shape[0] != matrix.shape[1]:\n",
    "        return False\n",
    "\n",
    "    # Check if each row sums up to 1\n",
    "    row_sums = np.sum(matrix, axis=1)\n",
    "    if not np.allclose(row_sums, np.ones(n)):\n",
    "        return False\n",
    "\n",
    "    # Check if each column sums up to 1\n",
    "    column_sums = np.sum(matrix, axis=0)\n",
    "    if not np.allclose(column_sums, np.ones(n)):\n",
    "        return False\n",
    "\n",
    "    return True\n",
    "\n",
    "# Compute P^n\n",
    "def compute_power_doubly_stochastic_matrix(P: np.ndarray, n:int):\n",
    "    result = P\n",
    "    for _ in range(n):\n",
    "        result = result @ P\n",
    "    return result"
   ]
  },
  {
   "cell_type": "markdown",
   "id": "2791f3c7",
   "metadata": {},
   "source": [
    "# lim P^n (N=2)"
   ]
  },
  {
   "cell_type": "code",
   "execution_count": 8,
   "id": "eb71a490",
   "metadata": {},
   "outputs": [
    {
     "data": {
      "text/plain": [
       "array([[0.17958258, 0.82041742],\n",
       "       [0.82041743, 0.17958257]])"
      ]
     },
     "execution_count": 8,
     "metadata": {},
     "output_type": "execute_result"
    }
   ],
   "source": [
    "N = 2\n",
    "P = generate_doubly_stochastic_matrix(N)\n",
    "P"
   ]
  },
  {
   "cell_type": "code",
   "execution_count": 9,
   "id": "4106e676",
   "metadata": {},
   "outputs": [
    {
     "data": {
      "text/plain": [
       "True"
      ]
     },
     "execution_count": 9,
     "metadata": {},
     "output_type": "execute_result"
    }
   ],
   "source": [
    "is_doubly_stochastic(P)"
   ]
  },
  {
   "cell_type": "code",
   "execution_count": 10,
   "id": "900978e6",
   "metadata": {},
   "outputs": [
    {
     "data": {
      "text/plain": [
       "array([[0.5, 0.5],\n",
       "       [0.5, 0.5]])"
      ]
     },
     "execution_count": 10,
     "metadata": {},
     "output_type": "execute_result"
    }
   ],
   "source": [
    "Q = compute_power_doubly_stochastic_matrix(P, 100)\n",
    "Q"
   ]
  },
  {
   "cell_type": "markdown",
   "id": "bda4a604",
   "metadata": {},
   "source": [
    "# lim P^n (N=4)"
   ]
  },
  {
   "cell_type": "code",
   "execution_count": 11,
   "id": "665ec879",
   "metadata": {},
   "outputs": [
    {
     "data": {
      "text/plain": [
       "array([[0.27262112, 0.30928914, 0.00377336, 0.41431638],\n",
       "       [0.31328513, 0.32616897, 0.33513873, 0.02540717],\n",
       "       [0.24492803, 0.09885136, 0.28754007, 0.36868054],\n",
       "       [0.16916572, 0.26569053, 0.37354784, 0.19159592]])"
      ]
     },
     "execution_count": 11,
     "metadata": {},
     "output_type": "execute_result"
    }
   ],
   "source": [
    "N = 4\n",
    "P = generate_doubly_stochastic_matrix(N)\n",
    "P"
   ]
  },
  {
   "cell_type": "code",
   "execution_count": 12,
   "id": "c8fdf676",
   "metadata": {},
   "outputs": [
    {
     "data": {
      "text/plain": [
       "True"
      ]
     },
     "execution_count": 12,
     "metadata": {},
     "output_type": "execute_result"
    }
   ],
   "source": [
    "is_doubly_stochastic(P)"
   ]
  },
  {
   "cell_type": "code",
   "execution_count": 13,
   "id": "469ca71d",
   "metadata": {},
   "outputs": [
    {
     "data": {
      "text/plain": [
       "array([[0.25, 0.25, 0.25, 0.25],\n",
       "       [0.25, 0.25, 0.25, 0.25],\n",
       "       [0.25, 0.25, 0.25, 0.25],\n",
       "       [0.25, 0.25, 0.25, 0.25]])"
      ]
     },
     "execution_count": 13,
     "metadata": {},
     "output_type": "execute_result"
    }
   ],
   "source": [
    "Q = compute_power_doubly_stochastic_matrix(P, 100)\n",
    "Q"
   ]
  },
  {
   "cell_type": "code",
   "execution_count": null,
   "id": "7843b6a7",
   "metadata": {},
   "outputs": [],
   "source": []
  }
 ],
 "metadata": {
  "kernelspec": {
   "display_name": "Python 3 (Spyder)",
   "language": "python3",
   "name": "python3"
  },
  "language_info": {
   "codemirror_mode": {
    "name": "ipython",
    "version": 3
   },
   "file_extension": ".py",
   "mimetype": "text/x-python",
   "name": "python",
   "nbconvert_exporter": "python",
   "pygments_lexer": "ipython3",
   "version": "3.10.9"
  }
 },
 "nbformat": 4,
 "nbformat_minor": 5
}
