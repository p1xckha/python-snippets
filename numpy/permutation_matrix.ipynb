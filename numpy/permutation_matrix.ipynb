{
 "cells": [
  {
   "cell_type": "markdown",
   "id": "8976a04e-aa3a-43cb-8601-ffe887a55deb",
   "metadata": {},
   "source": [
    "# Permutation Matrix\n",
    "\n",
    "## Row Based Permutation matrix\n",
    "\n",
    "For example, for the permutation $\\sigma = (2, 3, 4, 1)$, the corresponding row-based permutation matrix is:\n",
    "\n",
    "$$\n",
    "R_\\sigma = \n",
    "\\begin{pmatrix}\n",
    "0 & 1 & 0 & 0 \\\\\n",
    "0 & 0 & 1 & 0 \\\\\n",
    "0 & 0 & 0 & 1 \\\\\n",
    "1 & 0 & 0 & 0\n",
    "\\end{pmatrix}\n",
    "$$\n",
    "\n",
    "## Product of two permutation matrices\n",
    "\n",
    "$$\n",
    "R_\\sigma R_\\tau = R_{\\tau \\circ \\sigma}\n",
    "$$"
   ]
  },
  {
   "cell_type": "code",
   "execution_count": 1,
   "id": "87805b3e-f0ba-428e-9755-6e5c281b8e7d",
   "metadata": {},
   "outputs": [
    {
     "name": "stdout",
     "output_type": "stream",
     "text": [
      "Permutation Matrix P1(row-based) from sigma=[1, 2, 3, 0]:\n",
      "[[0 1 0 0]\n",
      " [0 0 1 0]\n",
      " [0 0 0 1]\n",
      " [1 0 0 0]]\n",
      "\n",
      "Permutation Matrix P2(row-based) from tau=[1, 0, 3, 2]:\n",
      "[[0 1 0 0]\n",
      " [1 0 0 0]\n",
      " [0 0 0 1]\n",
      " [0 0 1 0]]\n",
      "\n",
      "P1 P2:\n",
      "[[1 0 0 0]\n",
      " [0 0 0 1]\n",
      " [0 0 1 0]\n",
      " [0 1 0 0]]\n",
      "\n",
      "Permutation Matrix P3 from composite permutation tau sigma:\n",
      "[[1 0 0 0]\n",
      " [0 0 0 1]\n",
      " [0 0 1 0]\n",
      " [0 1 0 0]]\n"
     ]
    }
   ],
   "source": [
    "import numpy as np\n",
    "\n",
    "# Row based Permutation matrix\n",
    "def permutation_matrix(perm):\n",
    "    n = len(perm)\n",
    "    mat = np.zeros((n, n), dtype=int)\n",
    "    for i, p in enumerate(perm):\n",
    "        mat[i, p] = 1\n",
    "    return mat\n",
    "\n",
    "# Composite of two permutations\n",
    "def composite_permutation(perm1, perm2):\n",
    "    \"\"\"\n",
    "    Compute the composite of two permutations `perm1` and `perm2`.\n",
    "    `perm1` is applied after `perm2`.\n",
    "    \"\"\"\n",
    "    n = len(perm1)\n",
    "    composite = [perm1[perm2[i]] for i in range(n)]\n",
    "    return composite\n",
    "\n",
    "# Generate Permutation matrices\n",
    "sigma = [1, 2, 3, 0]\n",
    "tau = [1, 0, 3, 2]\n",
    "P1 = permutation_matrix(sigma)\n",
    "P2 = permutation_matrix(tau)\n",
    "\n",
    "# Generate a composite matrix\n",
    "composite = composite_permutation(tau, sigma)\n",
    "P3 = permutation_matrix(composite)\n",
    "\n",
    "# product\n",
    "product12 = np.dot(P1, P2)\n",
    "\n",
    "# Display the results\n",
    "print(f\"Permutation Matrix P1(row-based) from sigma={sigma}:\")\n",
    "print(P1)\n",
    "print(f\"\\nPermutation Matrix P2(row-based) from tau={tau}:\")\n",
    "print(P2)\n",
    "print(\"\\nP1 P2:\")\n",
    "print(product12)\n",
    "print(\"\\nPermutation Matrix P3 from composite permutation tau sigma:\")\n",
    "print(P3)"
   ]
  },
  {
   "cell_type": "markdown",
   "id": "76cf944c-b4f6-4110-a85f-6e201f207513",
   "metadata": {},
   "source": [
    "## Inverse of permutation matrices\n",
    "\n",
    "$$\n",
    "P^{-1} = P^T\n",
    "$$"
   ]
  },
  {
   "cell_type": "code",
   "execution_count": 2,
   "id": "42007308-3aa2-40d3-909a-1a49e720cfa0",
   "metadata": {},
   "outputs": [
    {
     "name": "stdout",
     "output_type": "stream",
     "text": [
      "P1:\n",
      "[[0 1 0 0]\n",
      " [0 0 1 0]\n",
      " [0 0 0 1]\n",
      " [1 0 0 0]]\n",
      "\n",
      "Transpose(P1):\n",
      "[[0 0 0 1]\n",
      " [1 0 0 0]\n",
      " [0 1 0 0]\n",
      " [0 0 1 0]]\n",
      "\n",
      "Inverse(P1) : \n",
      "[[0. 0. 0. 1.]\n",
      " [1. 0. 0. 0.]\n",
      " [0. 1. 0. 0.]\n",
      " [0. 0. 1. 0.]]\n"
     ]
    }
   ],
   "source": [
    "import numpy as np\n",
    "\n",
    "invP1 = np.linalg.inv(P1)\n",
    "print(\"P1:\")\n",
    "print(P1)\n",
    "print(\"\\nTranspose(P1):\")\n",
    "print(P1.T)\n",
    "print(\"\\nInverse(P1) : \")\n",
    "print(invP1)\n"
   ]
  },
  {
   "cell_type": "markdown",
   "id": "852237f6-31a7-4c16-aba0-5b6deef3a2af",
   "metadata": {},
   "source": [
    "## Determinant\n",
    "\n",
    "$$\n",
    "\\text{det}(P) = \\pm 1\n",
    "$$"
   ]
  },
  {
   "cell_type": "code",
   "execution_count": 3,
   "id": "10004be4-9e2b-44a0-a552-7ae096e45bb0",
   "metadata": {},
   "outputs": [
    {
     "name": "stdout",
     "output_type": "stream",
     "text": [
      "Dewterminant(P1):\n",
      "-1.0\n",
      "Dewterminant(P2):\n",
      "1.0\n"
     ]
    }
   ],
   "source": [
    "detP1 = np.linalg.det(P1)\n",
    "detP2 = np.linalg.det(P2)\n",
    "print(\"Dewterminant(P1):\")\n",
    "print(detP1)\n",
    "print(\"Dewterminant(P2):\")\n",
    "print(detP2)"
   ]
  },
  {
   "cell_type": "code",
   "execution_count": null,
   "id": "1f925fe0-3b31-40ff-9ac6-16253b697a15",
   "metadata": {},
   "outputs": [],
   "source": []
  },
  {
   "cell_type": "markdown",
   "id": "15d1e5e6-7270-4676-a04d-14e643eb281a",
   "metadata": {},
   "source": [
    "## The order of a permutation matrix\n",
    "\n",
    "$$\n",
    "P^k = I, \\quad k \\leq n\n",
    "$$"
   ]
  },
  {
   "cell_type": "code",
   "execution_count": 12,
   "id": "d318d2bf-0f61-472a-a117-edfb212688d6",
   "metadata": {},
   "outputs": [
    {
     "name": "stdout",
     "output_type": "stream",
     "text": [
      "\n",
      "P:\n",
      "[[1 0 0 0]\n",
      " [0 0 0 1]\n",
      " [0 0 1 0]\n",
      " [0 1 0 0]]\n",
      "\n",
      "Order is 2\n",
      "\n",
      "P:\n",
      "[[0 0 0 1]\n",
      " [1 0 0 0]\n",
      " [0 1 0 0]\n",
      " [0 0 1 0]]\n",
      "\n",
      "Order is 4\n",
      "\n",
      "P:\n",
      "[[0 1 0 0]\n",
      " [0 0 0 1]\n",
      " [1 0 0 0]\n",
      " [0 0 1 0]]\n",
      "\n",
      "Order is 4\n"
     ]
    }
   ],
   "source": [
    "n = 4\n",
    "num_examples = 3\n",
    "for j in range(num_examples):\n",
    "    random_perm = np.random.permutation(n)\n",
    "    P = permutation_matrix(random_perm) \n",
    "    matrix_product = P\n",
    "    \n",
    "    # Find the orders of permutation matrices\n",
    "    for i in range(n):\n",
    "        matrix_product = np.dot(P, matrix_product)\n",
    "        if (matrix_product == np.eye(n)).all():\n",
    "            print(\"\\nP:\")\n",
    "            print(P)\n",
    "            print(f\"\\nOrder is {i+2}\")\n",
    "            break\n",
    "\n",
    "    if not (matrix_product == np.eye(n)).all():\n",
    "        print(\"Something strange\")\n",
    "        print(\"\\nP:\")\n",
    "        print(P)\n",
    "        print(f\"P^{n}:\")\n",
    "        print(matrix_product)"
   ]
  },
  {
   "cell_type": "markdown",
   "id": "75219b8b-78c6-482a-b585-98a212e5f686",
   "metadata": {},
   "source": [
    "## Permutating rows/columns of a matrix\n",
    "\n",
    "$$\n",
    "\\begin{aligned}\n",
    "R_\\sigma A & = R_\\sigma \\begin{bmatrix} \n",
    "a_1^T \\\\\n",
    "a_2^T \\\\\n",
    "\\vdots \\\\\n",
    "a_n^T\n",
    "\\end{bmatrix} \\\\\n",
    "& = \\begin{bmatrix} \n",
    "a_{\\sigma(1)}^T \\\\\n",
    "a_{\\sigma(2)}^T \\\\\n",
    "\\vdots \\\\\n",
    "a_{\\sigma(n)}^T\n",
    "\\end{bmatrix} \\\\\n",
    "B C_\\sigma & = \\begin{bmatrix} b_1 & b_2 & \\dots & b_n \\end{bmatrix} C_\\sigma  \\\\\n",
    "& = \\begin{bmatrix} b_{\\sigma(1)} & b_{\\sigma(2)} & \\dots & b_{\\sigma(n)} \\end{bmatrix}\n",
    "\\end{aligned}\n",
    "$$\n"
   ]
  },
  {
   "cell_type": "code",
   "execution_count": 5,
   "id": "f0606e93-d61c-4abc-a9f9-89d30fc057f9",
   "metadata": {},
   "outputs": [
    {
     "name": "stdout",
     "output_type": "stream",
     "text": [
      "\n",
      "P:\n",
      "[[0 1 0]\n",
      " [1 0 0]\n",
      " [0 0 1]]\n",
      "\n",
      "Matrix A:\n",
      "[[0 1 2]\n",
      " [3 4 5]\n",
      " [6 7 8]]\n",
      "\n",
      "P A:\n",
      "[[3 4 5]\n",
      " [0 1 2]\n",
      " [6 7 8]]\n",
      "\n",
      "A P:\n",
      "[[1 0 2]\n",
      " [4 3 5]\n",
      " [7 6 8]]\n"
     ]
    }
   ],
   "source": [
    "A = np.array([[0,1,2],\n",
    "             [3,4,5],\n",
    "             [6,7,8]])\n",
    "P = permutation_matrix([1,0,2])\n",
    "row_exchanged_A = np.dot(P,A)\n",
    "column_exchanged_A = np.dot(A,P)\n",
    "print(\"\\nP:\")\n",
    "print(P)\n",
    "print(\"\\nMatrix A:\")\n",
    "print(A)\n",
    "print(\"\\nP A:\")\n",
    "print(row_exchanged_A)\n",
    "print(\"\\nA P:\")\n",
    "print(column_exchanged_A)"
   ]
  },
  {
   "cell_type": "markdown",
   "id": "132412c0-0fe3-451c-9f58-a66a2a52696e",
   "metadata": {},
   "source": [
    "## Preserves inner Products\n",
    "$$\n",
    "(Px, Py) = (x,y)\n",
    "$$"
   ]
  },
  {
   "cell_type": "code",
   "execution_count": 6,
   "id": "e11f067e-bfe9-4f32-a4e1-bd8d2710fbf1",
   "metadata": {},
   "outputs": [
    {
     "name": "stdout",
     "output_type": "stream",
     "text": [
      "(P1 x, P1 y) = 30\n",
      "\n",
      "(x,y) = 30\n"
     ]
    }
   ],
   "source": [
    "n = len(P1)\n",
    "x = np.arange(1, n+1)\n",
    "y = np.arange(n+1, 1, -1)\n",
    "print(\"(P1 x, P1 y) = \", end=\"\")\n",
    "print(np.inner(P1@x, P1@y))\n",
    "print(\"\\n(x,y) = \", end=\"\")\n",
    "print(np.inner(x,y))"
   ]
  },
  {
   "cell_type": "code",
   "execution_count": null,
   "id": "7a34b70f-1e15-4fe0-b6e1-bd6a3b3234b2",
   "metadata": {},
   "outputs": [],
   "source": []
  },
  {
   "cell_type": "code",
   "execution_count": null,
   "id": "02c7b2e3-32ac-4746-88ed-f30f1f254c46",
   "metadata": {},
   "outputs": [],
   "source": []
  }
 ],
 "metadata": {
  "kernelspec": {
   "display_name": "Python 3 (Spyder)",
   "language": "python3",
   "name": "python3"
  },
  "language_info": {
   "codemirror_mode": {
    "name": "ipython",
    "version": 3
   },
   "file_extension": ".py",
   "mimetype": "text/x-python",
   "name": "python",
   "nbconvert_exporter": "python",
   "pygments_lexer": "ipython3",
   "version": "3.12.3"
  }
 },
 "nbformat": 4,
 "nbformat_minor": 5
}
