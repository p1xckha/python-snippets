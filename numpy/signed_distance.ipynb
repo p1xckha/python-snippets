{
 "cells": [
  {
   "cell_type": "markdown",
   "id": "0f7e0c50-4bcc-4543-9753-c5b30bb194d5",
   "metadata": {},
   "source": [
    "# Hyper plane P\n",
    "Let's consider n-dimensional space $\\mathbf{R^n}$\n",
    "$$\n",
    "\\begin{eqnarray*}\n",
    "\\theta_0 + \\theta_1 x_1 + \\cdots + \\theta_n x_n = 0\n",
    "\\end{eqnarray*}\n",
    "$$\n",
    "\n",
    "for example,P is a line when n=2.\n",
    "\n",
    "# Signed distance\n",
    "\n",
    "Signed distance $d$ from point $\\mathbf{y}=(y_1, \\cdots , y_n)$ to hyperplane $P$ is defined as:\n",
    "$$\n",
    "d = (\\theta_0 + \\theta_1 y_1 + \\cdots + \\theta_n y_n) /  \\| \\theta \\|\n",
    "$$\n",
    "\n",
    "where $\\mathbf{\\theta} = (\\theta_1, \\cdots , \\theta_n)$.\n",
    "\n",
    "## when n=2\n",
    "$$\n",
    "d = (a x + b y + c)/\\sqrt{a^2 +b^2}\n",
    "$$\n",
    "\n",
    "## if $\\theta$ is a unit vector and $\\theta_0 = 0$\n",
    "\n",
    "when $\\theta $ is a unit vector $u$ and bias $\\theta_0 = 0$  , $d$ is simplified as:\n",
    "$$\n",
    "d = \\theta_0 + \\theta_1 y_1 + \\cdots + \\theta_n y_n \\\\\n",
    "= \\theta_0 + \\langle u, y \\rangle\n",
    "= \\langle u, y \\rangle\n",
    "$$\n",
    "\n",
    "\n",
    "* https://en.wikipedia.org/wiki/Distance_from_a_point_to_a_line"
   ]
  },
  {
   "cell_type": "markdown",
   "id": "9669dd8e-382a-48b2-bec2-ad7e9b73c612",
   "metadata": {},
   "source": [
    "# signed distance from point x to a line"
   ]
  },
  {
   "cell_type": "code",
   "execution_count": 1,
   "id": "822b7616-e3e1-49a3-942e-84c7fe0d8877",
   "metadata": {},
   "outputs": [
    {
     "data": {
      "image/png": "[encoded data removed]",
      "text/plain": [
       "<Figure size 720x432 with 1 Axes>"
      ]
     },
     "metadata": {},
     "output_type": "display_data"
    }
   ],
   "source": [
    "import numpy as np\n",
    "import matplotlib.pyplot as plt\n",
    "import matplotlib.patches as patches\n",
    "\n",
    "def unit_vector(vector):\n",
    "    return vector / np.linalg.norm(vector)\n",
    "\n",
    "X = np.array([[1, 4], [-2, -1], [1, 2]])\n",
    "v1 = np.array([1, 1])\n",
    "v2 = np.array([-1, 1])\n",
    "u1 = unit_vector(v1)\n",
    "u2 = unit_vector(v2)\n",
    "\n",
    "# Compute projections of each X[i] onto u1\n",
    "projections = u1.T @ X.T\n",
    "projections = np.dot(u1[:,np.newaxis] , (u1.T @ X.T)[np.newaxis,:])\n",
    "\n",
    "fig, ax = plt.subplots(figsize=(10, 6))\n",
    "\n",
    "# Draw lines perpendicular to u1\n",
    "for i, (p, x) in enumerate(zip(projections.T, X)):\n",
    "    ax.plot([x[0], p[0]], [x[1], p[1]], linewidth=0.5, color='k')\n",
    "\n",
    "# Draw long lines along u1 and u2\n",
    "c1 = 5\n",
    "c2 = 5\n",
    "ax.plot([-u1[0] * c1, u1[0] * c1], [-u1[1] * c1, u1[1] * c1], linewidth=0.5, color='k')\n",
    "ax.plot([-c2*u2[0], u2[0] * c2], [c2*u2[0], u2[1] * c2], linewidth=0.5, color='r', label='line L')\n",
    "ax.quiver(0, 0, u1[0], u1[1], label='unit vector u1', color='b', alpha=0.5)\n",
    "\n",
    "# Plot data points\n",
    "ax.scatter(X.T[0], X.T[1], label='data point $x^{(i)}$')\n",
    "\n",
    "# annotation\n",
    "ax.text(3, 3.25, '+', fontsize=30, color='red', verticalalignment='center', horizontalalignment='center')\n",
    "ax.text(-0.25, 0, 'O', fontsize=20, color='k', verticalalignment='center', horizontalalignment='center')\n",
    "ax.text(-3.5, -3, '-', fontsize=40, color='b', verticalalignment='center', horizontalalignment='center')\n",
    "\n",
    "ax.axis('equal')\n",
    "ax.legend(prop={'size': 15})\n",
    "ax.set_title('Signed distance from x to line L', size=15)\n",
    "ax.grid()\n",
    "plt.show()\n"
   ]
  },
  {
   "cell_type": "code",
   "execution_count": null,
   "id": "19ace301-33f3-4c00-a22b-50d5a3d3d44c",
   "metadata": {},
   "outputs": [],
   "source": []
  },
  {
   "cell_type": "code",
   "execution_count": null,
   "id": "2ba55761-a66c-4541-9541-678e373fc493",
   "metadata": {},
   "outputs": [],
   "source": []
  },
  {
   "cell_type": "code",
   "execution_count": null,
   "id": "51e99050-87f5-4ab0-8c3d-a9d2fdcdb376",
   "metadata": {},
   "outputs": [],
   "source": []
  }
 ],
 "metadata": {
  "kernelspec": {
   "display_name": "Python 3 (Spyder)",
   "language": "python3",
   "name": "python3"
  },
  "language_info": {
   "codemirror_mode": {
    "name": "ipython",
    "version": 3
   },
   "file_extension": ".py",
   "mimetype": "text/x-python",
   "name": "python",
   "nbconvert_exporter": "python",
   "pygments_lexer": "ipython3",
   "version": "3.11.3"
  }
 },
 "nbformat": 4,
 "nbformat_minor": 5
}
