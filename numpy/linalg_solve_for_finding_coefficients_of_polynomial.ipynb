{
 "cells": [
  {
   "cell_type": "markdown",
   "id": "d4223ad9",
   "metadata": {},
   "source": [
    "# solve a simultaneous linear equation using linalg.solve()\n",
    "\n",
    "## linear equation\n",
    "$$ \\Large\n",
    "\\begin{eqnarray*}\n",
    "\\left\\{\n",
    "\\begin{aligned}\n",
    "y_1 & = c + bx_1 + ax_1^2\\\\\n",
    "y_2 & = c + bx_2 + ax_2^2\\\\\n",
    "y_3 & = c + bx_3 +ax_3^2\n",
    "\\end{aligned}\n",
    "\\right. \n",
    "\\end{eqnarray*}\n",
    "$$\n",
    "\n",
    "* $(x_1, y_1), (x_2, y_2), (x_3, y_3)$: known points\n",
    "* $c, b, a$: unknown coefficients\n",
    "\n",
    "This equations are equivalent to the following:\n",
    "\n",
    "## linear equation in matrix form\n",
    "$$ \\Large\n",
    "A u = y, \n",
    "$$\n",
    "\n",
    "where \n",
    "$$\\Large\n",
    "\\mathbf{A} = \\begin{bmatrix}\n",
    "1 & x_1 & x_1^2 \\\\\n",
    "1 & x_2 & x_2^2 \\\\\n",
    "1 & x_3 & x_3^2\n",
    "\\end{bmatrix}, \\quad\n",
    "\\mathbf{u} = \\begin{bmatrix}\n",
    "c \\\\\n",
    "b \\\\\n",
    "a\n",
    "\\end{bmatrix}, \\quad\n",
    "\\mathbf{y} = \\begin{bmatrix}\n",
    "y_1 \\\\\n",
    "y_2 \\\\\n",
    "y_3\n",
    "\\end{bmatrix}\n",
    "$$\n",
    "\n",
    "\n",
    "if $x_1, x_2, x_3$ are distinct, then $det(A) \\neq 0$ and it is guaranteed that this equation has the unique solution(c b a).\n",
    "\n",
    "\n",
    "det(A) is known as Vandermonde determinant.\n",
    "\n",
    "##  Vandermonde determinant\n",
    "$$\\large\n",
    "\\text{det}(A) = \\prod_{1 \\leq i < j \\leq n} (x_j - x_i)\n",
    "$$\n",
    "\n",
    "https://en.wikipedia.org/wiki/Vandermonde_matrix"
   ]
  },
  {
   "cell_type": "code",
   "execution_count": 1,
   "id": "16cb1cf2",
   "metadata": {},
   "outputs": [
    {
     "name": "stdout",
     "output_type": "stream",
     "text": [
      "Coefficients:\n",
      "a = 1.000\n",
      "b = -1.000\n",
      "c = -12.000\n"
     ]
    },
    {
     "data": {
      "image/png": "[encoded data removed]",
      "text/plain": [
       "<Figure size 576x432 with 1 Axes>"
      ]
     },
     "metadata": {},
     "output_type": "display_data"
    }
   ],
   "source": [
    "import numpy as np\n",
    "import matplotlib.pyplot as plt\n",
    "\n",
    "def func(x, a=1, b=-1, c=-12):\n",
    "    return a*x**2 + b*x + c\n",
    "\n",
    "# Define the values of x1, x2, x3 and their corresponding function values\n",
    "x1, x2, x3 = -5, -3, 4  # You can choose any distinct real numbers\n",
    "y1, y2, y3 = func(x1), func(x2), func(x3)  \n",
    "\n",
    "# Define the coefficient matrix A\n",
    "A = np.array([\n",
    "    [1, x1, x1**2],\n",
    "    [1, x2, x2**2],\n",
    "    [1, x3, x3**2]\n",
    "])\n",
    "\n",
    "# Define the right-hand side vector y\n",
    "y = np.array([y1, y2, y3])\n",
    "\n",
    "# Solve the linear equation A*x = y to find the coefficients c, b, a\n",
    "c, b, a  = np.linalg.solve(A, y)\n",
    "\n",
    "print(\"Coefficients:\")\n",
    "print(f\"a = {a:.3f}\")\n",
    "print(f\"b = {b:.3f}\")\n",
    "print(f\"c = {c:.3f}\")\n",
    "\n",
    "# Generate x values for the plot\n",
    "x = np.linspace(-10, 10, 400)  \n",
    "\n",
    "# Calculate corresponding y values using the quadratic polynomial\n",
    "y = a * x**2 + b * x + c\n",
    "\n",
    "# Define the x values for the scatter plot\n",
    "x_scatter = [x1, x2, x3] \n",
    "y_scatter = [y1, y2, y3]\n",
    "\n",
    "# Create the plot using fig and ax\n",
    "fig, ax = plt.subplots(figsize=(8, 6))\n",
    "\n",
    "# Plot the quadratic polynomial curve\n",
    "ax.plot(x, y, label=f'f(x) = {a:.3f}x^2 + {b:.3f}x + {c:.3f}', color='blue')\n",
    "\n",
    "# Scatter plot for data points\n",
    "ax.scatter(x_scatter, y_scatter, color='red', label='Known Data Points', marker='o')\n",
    "\n",
    "# Set plot titles and labels\n",
    "ax.set_title('Quadratic Polynomial Plot with Scatter Points')\n",
    "ax.set_xlabel('x')\n",
    "ax.set_ylabel('f(x)')\n",
    "\n",
    "# Show grid and legend\n",
    "ax.grid(True)\n",
    "ax.legend()\n",
    "\n",
    "# Show the plot\n",
    "plt.show()\n"
   ]
  },
  {
   "cell_type": "code",
   "execution_count": 2,
   "id": "2cd9fae8",
   "metadata": {},
   "outputs": [
    {
     "data": {
      "text/plain": [
       "126.0"
      ]
     },
     "execution_count": 2,
     "metadata": {},
     "output_type": "execute_result"
    }
   ],
   "source": [
    "determinant_A = np.linalg.det(A)\n",
    "determinant_A # not zero"
   ]
  },
  {
   "cell_type": "code",
   "execution_count": null,
   "id": "d1c55a00",
   "metadata": {},
   "outputs": [],
   "source": []
  }
 ],
 "metadata": {
  "kernelspec": {
   "display_name": "Python 3 (Spyder)",
   "language": "python3",
   "name": "python3"
  },
  "language_info": {
   "codemirror_mode": {
    "name": "ipython",
    "version": 3
   },
   "file_extension": ".py",
   "mimetype": "text/x-python",
   "name": "python",
   "nbconvert_exporter": "python",
   "pygments_lexer": "ipython3",
   "version": "3.10.12"
  }
 },
 "nbformat": 4,
 "nbformat_minor": 5
}
