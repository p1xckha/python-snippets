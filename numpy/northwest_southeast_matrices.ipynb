{
 "cells": [
  {
   "cell_type": "markdown",
   "id": "8c86a581-d8f8-4b1e-9944-881fb5fcef34",
   "metadata": {},
   "source": [
    "# Northwest and Southeast matrices\n",
    "\n",
    "\n",
    "## Definition\n",
    "* B: n by n Northwest matrix\n",
    "* C: n by n Southeast matrix\n",
    "\n",
    "$$\n",
    "B \\in \\mathbf{R^{n\\times n}} \\text{ is northwest} \\iff\n",
    "b_{ij} = 0 \\quad \\text{for all} \\quad i + j > n+1.\n",
    "$$\n",
    "\n",
    "\n",
    "\n",
    "$$\n",
    "C \\in \\mathbf{R^{n\\times n}} \\text{ is southeast}  \\iff\n",
    "c_{ij} = 0 \\quad \\text{for all} \\quad i + j < n+1.\n",
    "$$\n",
    "\n",
    "If i,j=0,1,...,n-1, use $i+j > n-1$ and $i+j < n-1$, instead of $i+j > n+1$ and $i+j < n+1$.\n",
    "\n",
    "## Example\n",
    "$\n",
    "B = \\begin{bmatrix}\n",
    "1 & 1 & 1 \\\\\n",
    "1 & 0 & 0 \\\\\n",
    "1 & 0 & 0 \\\\\n",
    "\\end{bmatrix}\n",
    "$\n",
    "\n",
    "$\n",
    "C = \\begin{bmatrix}\n",
    "0 & 0 & 1 \\\\\n",
    "0 & 1 & 1 \\\\\n",
    "1 & 1 & 1 \\\\\n",
    "\\end{bmatrix}\n",
    "$\n",
    "\n"
   ]
  },
  {
   "cell_type": "markdown",
   "id": "9ebc70ca-406e-4acf-8313-4ffd3dd4787d",
   "metadata": {},
   "source": [
    "## Inverse of Northweast and Southeast matrices\n",
    "\n",
    "$$\n",
    "\\begin{aligned}\n",
    "\\text{northwest matrix } B & = (b_{ij}) \\\\\n",
    "& = \\begin{bmatrix}\n",
    "b_{11} & b_{12} & b_{13} & \\cdots & b_{1,n-1}  & b_{1,n} \\\\\n",
    "b_{21} & b_{22} & b_{23} & \\cdots & b_{2,n-1} & 0 \\\\\n",
    "b_{31} & b_{32} & b_{33} & \\cdots & 0 & 0 \\\\\n",
    "\\vdots & \\vdots & \\vdots & \\ddots & \\vdots & \\vdots \\\\\n",
    "b_{n1} & 0 & 0 & \\cdots & 0 & 0\n",
    "\\end{bmatrix}\n",
    "\\end{aligned}\n",
    "$$\n",
    "\n",
    "then \n",
    "$$\n",
    "B^{-1} = \\begin{bmatrix}\n",
    "0 & 0 & 0 & \\cdots & 0 & b_{n,1}^{-1} \\\\\n",
    "0 & 0 & 0 & \\cdots & b_{n-1,2}^{-1} & * \\\\\n",
    "0 & 0 & 0 & \\cdots & * & * \\\\\n",
    "\\vdots & \\vdots & \\vdots & \\ddots & \\vdots & *\\\\\n",
    "b_{1,n}^{-1} & * & * & \\cdots & * & *\n",
    "\\end{bmatrix}\n",
    "$$\n"
   ]
  },
  {
   "cell_type": "code",
   "execution_count": 1,
   "id": "eee171c2-d736-44f7-ae00-9329396903a3",
   "metadata": {},
   "outputs": [
    {
     "name": "stdout",
     "output_type": "stream",
     "text": [
      "Northwest Matrix B:\n",
      "[[5 7 6 4 5]\n",
      " [2 2 5 3 0]\n",
      " [3 1 1 0 0]\n",
      " [2 1 0 0 0]\n",
      " [9 0 0 0 0]]\n",
      "\n",
      "Inv(B):\n",
      "[[ 0.      0.      0.      0.      0.1111]\n",
      " [-0.     -0.      0.      1.     -0.2222]\n",
      " [-0.      0.      1.     -1.     -0.1111]\n",
      " [ 0.      0.3333 -1.6667  1.      0.2593]\n",
      " [ 0.2    -0.2667  0.1333 -1.      0.1259]]\n",
      "\n",
      "Southeast Matrix C:\n",
      "[[0 0 0 0 2]\n",
      " [0 0 0 6 6]\n",
      " [0 0 6 6 5]\n",
      " [0 5 1 7 6]\n",
      " [5 4 5 8 8]]\n",
      "\n",
      "Inv(C):\n",
      "[[-0.15    0.06   -0.14   -0.16    0.2   ]\n",
      " [ 0.0833 -0.2    -0.0333  0.2     0.    ]\n",
      " [ 0.0833 -0.1667  0.1667  0.      0.    ]\n",
      " [-0.5     0.1667 -0.     -0.     -0.    ]\n",
      " [ 0.5     0.      0.      0.      0.    ]]\n"
     ]
    }
   ],
   "source": [
    "import numpy as np\n",
    "from scipy.linalg import pascal\n",
    "\n",
    "\n",
    "n = 5\n",
    "\n",
    "# Create a northwest matrix B\n",
    "B = (np.random.randint(1,10, size=(n,n)))\n",
    "for i in range(n):\n",
    "    for j in range(n):\n",
    "        if i+j > n-1:\n",
    "            B[i,j]=0\n",
    "\n",
    "# Create a southeast matrix\n",
    "C = (np.random.randint(1,10, size=(n,n)))\n",
    "for i in range(n):\n",
    "    for j in range(n):\n",
    "        if i+j < n-1:\n",
    "            C[i,j]=0\n",
    "\n",
    "Binv = np.linalg.inv(B)\n",
    "Cinv = np.linalg.inv(C)\n",
    "\n",
    "print(\"Northwest Matrix B:\")\n",
    "print(B)\n",
    "print(\"\\nInv(B):\")\n",
    "print(np.round(Binv, decimals=4))\n",
    "print(\"\\nSoutheast Matrix C:\")\n",
    "print(C)\n",
    "print(\"\\nInv(C):\")\n",
    "print(np.round(Cinv, decimals=4))"
   ]
  },
  {
   "cell_type": "markdown",
   "id": "01daa1d6-51f8-457a-9a95-740242bf7f0e",
   "metadata": {},
   "source": [
    "## Product of B and C\n",
    "\n",
    "$$\n",
    "\\begin{aligned}\n",
    "B C & = \\begin{bmatrix}\n",
    "b_{11} & b_{12} & b_{13} & \\cdots & b_{1,n-1}  & b_{1,n} \\\\\n",
    "b_{21} & b_{22} & b_{23} & \\cdots & b_{2,n-1} & 0 \\\\\n",
    "b_{31} & b_{32} & b_{33} & \\cdots & 0 & 0 \\\\\n",
    "\\vdots & \\cdot^{\\cdot^{\\cdot}} & \\vdots & \\vdots & \\vdots & \\vdots \\\\\n",
    "b_{n1} & 0 & 0 & \\cdots & 0 & 0\n",
    "\\end{bmatrix}\n",
    "\\begin{bmatrix}\n",
    "0 & 0& 0 & \\cdots & 0  & c_{1,n} \\\\\n",
    "0 & 0 & 0 & \\cdots & c_{2,n-1} & c_{2,n} \\\\\n",
    "0 & 0 & 0 & \\cdot^{\\cdot^{\\cdot}} & c_{3,n-1} & c_{3,n} \\\\\n",
    "\\vdots & \\vdots & \\vdots & \\vdots & \\vdots & \\vdots \\\\\n",
    "c_{n1} & c_{n2} & c_{n3} & \\cdots & c_{n,n-1} & c_{n,n}\n",
    "\\end{bmatrix} \\\\\n",
    "& = \\begin{bmatrix}\n",
    "b_{1,n} c_{n,1} & * & * & \\cdots & * \\\\\n",
    "0 & b_{2,n-1} c_{n-1,2} & * & \\cdots & * \\\\\n",
    "0 & 0 & b_{3,n-2} c_{n-2,3} & \\cdots & * \\\\\n",
    "\\vdots & \\vdots & \\vdots & \\ddots & \\vdots \\\\\n",
    "0 & 0 & 0 & \\cdots & b_{n,1} c_{1,n}\n",
    "\\end{bmatrix}\n",
    "\\end{aligned}\n",
    "$$\n",
    "\n"
   ]
  },
  {
   "cell_type": "code",
   "execution_count": 2,
   "id": "63304c61-d687-4099-8a69-557ba1d2ebdf",
   "metadata": {},
   "outputs": [
    {
     "name": "stdout",
     "output_type": "stream",
     "text": [
      "B:\n",
      "[[5 7 6 4 5]\n",
      " [2 2 5 3 0]\n",
      " [3 1 1 0 0]\n",
      " [2 1 0 0 0]\n",
      " [9 0 0 0 0]]\n",
      "\n",
      "C:\n",
      "[[0 0 0 0 2]\n",
      " [0 0 0 6 6]\n",
      " [0 0 6 6 5]\n",
      " [0 5 1 7 6]\n",
      " [5 4 5 8 8]]\n",
      "\n",
      "BC:\n",
      "[[ 25  40  65 146 146]\n",
      " [  0  15  33  63  59]\n",
      " [  0   0   6  12  17]\n",
      " [  0   0   0   6  10]\n",
      " [  0   0   0   0  18]]\n",
      "\n",
      "CB:\n",
      "[[ 18   0   0   0   0]\n",
      " [ 66   6   0   0   0]\n",
      " [ 75  12   6   0   0]\n",
      " [ 81  18  26  15   0]\n",
      " [136  56  55  32  25]]\n"
     ]
    }
   ],
   "source": [
    "print(\"B:\")\n",
    "print(B)\n",
    "print(\"\\nC:\")\n",
    "print(C)\n",
    "print(\"\\nBC:\")\n",
    "print(np.dot(B,C))\n",
    "print(\"\\nCB:\")\n",
    "print(np.dot(C,B))"
   ]
  },
  {
   "cell_type": "markdown",
   "id": "49ad11c7-8b58-4da5-b6c0-667818badf92",
   "metadata": {},
   "source": [
    "## transpose(B)\n",
    "\n",
    "If $B$ is northwest then $B^T$ is also northwest."
   ]
  },
  {
   "cell_type": "code",
   "execution_count": 3,
   "id": "bff02088-921d-4627-9911-5aac0a3d24b5",
   "metadata": {},
   "outputs": [
    {
     "name": "stdout",
     "output_type": "stream",
     "text": [
      "B:\n",
      "[[5 7 6 4 5]\n",
      " [2 2 5 3 0]\n",
      " [3 1 1 0 0]\n",
      " [2 1 0 0 0]\n",
      " [9 0 0 0 0]]\n",
      "\n",
      "transpose(B)\n",
      "[[5 2 3 2 9]\n",
      " [7 2 1 1 0]\n",
      " [6 5 1 0 0]\n",
      " [4 3 0 0 0]\n",
      " [5 0 0 0 0]]\n"
     ]
    }
   ],
   "source": [
    "print(\"B:\")\n",
    "print(B)\n",
    "print(\"\\ntranspose(B)\")\n",
    "print(B.T)"
   ]
  },
  {
   "cell_type": "code",
   "execution_count": null,
   "id": "a9961869-22c2-47f4-b704-fc33b881af5b",
   "metadata": {},
   "outputs": [],
   "source": []
  },
  {
   "cell_type": "markdown",
   "id": "67c36416-67e5-45bc-8a7a-0d1b2303b2e0",
   "metadata": {},
   "source": [
    "## Reference \n",
    "* Introduction to Linear algebra 5th edition (Prob36 in chapter 2.7)\n",
    "* https://en.wikipedia.org/wiki/Persymmetric_matrix"
   ]
  },
  {
   "cell_type": "code",
   "execution_count": null,
   "id": "45039c4b-3772-4be5-8f53-a11ca30e1d1a",
   "metadata": {},
   "outputs": [],
   "source": []
  }
 ],
 "metadata": {
  "kernelspec": {
   "display_name": "Python 3 (Spyder)",
   "language": "python3",
   "name": "python3"
  },
  "language_info": {
   "codemirror_mode": {
    "name": "ipython",
    "version": 3
   },
   "file_extension": ".py",
   "mimetype": "text/x-python",
   "name": "python",
   "nbconvert_exporter": "python",
   "pygments_lexer": "ipython3",
   "version": "3.12.3"
  }
 },
 "nbformat": 4,
 "nbformat_minor": 5
}
