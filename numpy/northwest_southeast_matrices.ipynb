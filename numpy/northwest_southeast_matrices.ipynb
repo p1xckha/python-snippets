{
 "cells": [
  {
   "cell_type": "markdown",
   "id": "8c86a581-d8f8-4b1e-9944-881fb5fcef34",
   "metadata": {},
   "source": [
    "# Northwest and Southeast matrices\n",
    "\n",
    "\n",
    "## Definition\n",
    "* B: n by n Northwest matrix\n",
    "* C: n by n Southeast matrix\n",
    "\n",
    "$$\n",
    "B \\in \\mathbf{R^{n\\times n}} \\text{ is northwest} \\iff\n",
    "b_{ij} = 0 \\quad \\text{for all} \\quad i + j > n+1.\n",
    "$$\n",
    "\n",
    "\n",
    "\n",
    "$$\n",
    "C \\in \\mathbf{R^{n\\times n}} \\text{ is southeast}  \\iff\n",
    "c_{ij} = 0 \\quad \\text{for all} \\quad i + j < n+1.\n",
    "$$\n",
    "\n",
    "If i,j=0,1,...,n-1, use $i+j > n-1$ and $i+j < n-1$, instead of $i+j > n+1$ and $i+j < n+1$.\n",
    "\n",
    "## Example\n",
    "$\n",
    "B = \\begin{bmatrix}\n",
    "1 & 1 & 1 \\\\\n",
    "1 & 1 & 0 \\\\\n",
    "1 & 0 & 0 \\\\\n",
    "\\end{bmatrix}\n",
    "$\n",
    "\n",
    "$\n",
    "C = \\begin{bmatrix}\n",
    "0 & 0 & 1 \\\\\n",
    "0 & 1 & 1 \\\\\n",
    "1 & 1 & 1 \\\\\n",
    "\\end{bmatrix}\n",
    "$\n",
    "\n"
   ]
  },
  {
   "cell_type": "markdown",
   "id": "9ebc70ca-406e-4acf-8313-4ffd3dd4787d",
   "metadata": {},
   "source": [
    "## Inverse of Northweast and Southeast matrices\n",
    "\n",
    "$$\n",
    "\\begin{aligned}\n",
    "\\text{northwest matrix } B & = (b_{ij}) \\\\\n",
    "& = \\begin{bmatrix}\n",
    "b_{11} & b_{12} & b_{13} & \\cdots & b_{1,n-1}  & b_{1,n} \\\\\n",
    "b_{21} & b_{22} & b_{23} & \\cdots & b_{2,n-1} & 0 \\\\\n",
    "b_{31} & b_{32} & b_{33} & \\cdots & 0 & 0 \\\\\n",
    "\\vdots & \\vdots & \\vdots & \\ddots & \\vdots & \\vdots \\\\\n",
    "b_{n1} & 0 & 0 & \\cdots & 0 & 0\n",
    "\\end{bmatrix}\n",
    "\\end{aligned}\n",
    "$$\n",
    "\n",
    "then \n",
    "$$\n",
    "B^{-1} = \\begin{bmatrix}\n",
    "0 & 0 & 0 & \\cdots & 0 & b_{n,1}^{-1} \\\\\n",
    "0 & 0 & 0 & \\cdots & b_{n-1,2}^{-1} & * \\\\\n",
    "0 & 0 & 0 & \\cdots & * & * \\\\\n",
    "\\vdots & \\vdots & \\vdots & \\ddots & \\vdots & *\\\\\n",
    "b_{1,n}^{-1} & * & * & \\cdots & * & *\n",
    "\\end{bmatrix}\n",
    "$$\n"
   ]
  },
  {
   "cell_type": "code",
   "execution_count": 1,
   "id": "eee171c2-d736-44f7-ae00-9329396903a3",
   "metadata": {},
   "outputs": [
    {
     "name": "stdout",
     "output_type": "stream",
     "text": [
      "Northwest Matrix B:\n",
      "[[5 5 1 4 5]\n",
      " [6 2 2 4 0]\n",
      " [4 6 9 0 0]\n",
      " [7 2 0 0 0]\n",
      " [9 0 0 0 0]]\n",
      "\n",
      "Inv(B):\n",
      "[[ 0.      0.      0.      0.      0.1111]\n",
      " [-0.      0.      0.      0.5    -0.3889]\n",
      " [ 0.     -0.      0.1111 -0.3333  0.2099]\n",
      " [ 0.      0.25   -0.0556 -0.0833 -0.0772]\n",
      " [ 0.2    -0.2     0.0222 -0.3667  0.2975]]\n",
      "\n",
      "Southeast Matrix C:\n",
      "[[0 0 0 0 9]\n",
      " [0 0 0 4 9]\n",
      " [0 0 5 1 3]\n",
      " [0 9 2 8 1]\n",
      " [4 5 1 9 5]]\n",
      "\n",
      "Inv(C):\n",
      "[[ 0.1608 -0.2861  0.0056 -0.1389  0.25  ]\n",
      " [ 0.2136 -0.2111 -0.0444  0.1111  0.    ]\n",
      " [-0.0167 -0.05    0.2     0.      0.    ]\n",
      " [-0.25    0.25   -0.     -0.     -0.    ]\n",
      " [ 0.1111  0.      0.      0.      0.    ]]\n"
     ]
    }
   ],
   "source": [
    "import numpy as np\n",
    "from scipy.linalg import pascal\n",
    "\n",
    "\n",
    "n = 5\n",
    "\n",
    "# Create a northwest matrix B\n",
    "B = (np.random.randint(1,10, size=(n,n)))\n",
    "for i in range(n):\n",
    "    for j in range(n):\n",
    "        if i+j > n-1:\n",
    "            B[i,j]=0\n",
    "\n",
    "# Create a southeast matrix\n",
    "C = (np.random.randint(1,10, size=(n,n)))\n",
    "for i in range(n):\n",
    "    for j in range(n):\n",
    "        if i+j < n-1:\n",
    "            C[i,j]=0\n",
    "\n",
    "Binv = np.linalg.inv(B)\n",
    "Cinv = np.linalg.inv(C)\n",
    "\n",
    "print(\"Northwest Matrix B:\")\n",
    "print(B)\n",
    "print(\"\\nInv(B):\")\n",
    "print(np.round(Binv, decimals=4))\n",
    "print(\"\\nSoutheast Matrix C:\")\n",
    "print(C)\n",
    "print(\"\\nInv(C):\")\n",
    "print(np.round(Cinv, decimals=4))"
   ]
  },
  {
   "cell_type": "markdown",
   "id": "01daa1d6-51f8-457a-9a95-740242bf7f0e",
   "metadata": {},
   "source": [
    "## Product of B and C\n",
    "\n",
    "$$\n",
    "\\begin{aligned}\n",
    "B C & = \\begin{bmatrix}\n",
    "b_{11} & b_{12} & b_{13} & \\cdots & b_{1,n-1}  & b_{1,n} \\\\\n",
    "b_{21} & b_{22} & b_{23} & \\cdots & b_{2,n-1} & 0 \\\\\n",
    "b_{31} & b_{32} & b_{33} & \\cdots & 0 & 0 \\\\\n",
    "\\vdots & \\cdot^{\\cdot^{\\cdot}} & \\vdots & \\vdots & \\vdots & \\vdots \\\\\n",
    "b_{n1} & 0 & 0 & \\cdots & 0 & 0\n",
    "\\end{bmatrix}\n",
    "\\begin{bmatrix}\n",
    "0 & 0& 0 & \\cdots & 0  & c_{1,n} \\\\\n",
    "0 & 0 & 0 & \\cdots & c_{2,n-1} & c_{2,n} \\\\\n",
    "0 & 0 & 0 & \\cdot^{\\cdot^{\\cdot}} & c_{3,n-1} & c_{3,n} \\\\\n",
    "\\vdots & \\vdots & \\vdots & \\vdots & \\vdots & \\vdots \\\\\n",
    "c_{n1} & c_{n2} & c_{n3} & \\cdots & c_{n,n-1} & c_{n,n}\n",
    "\\end{bmatrix} \\\\\n",
    "& = \\begin{bmatrix}\n",
    "b_{1,n} c_{n,1} & * & * & \\cdots & * \\\\\n",
    "0 & b_{2,n-1} c_{n-1,2} & * & \\cdots & * \\\\\n",
    "0 & 0 & b_{3,n-2} c_{n-2,3} & \\cdots & * \\\\\n",
    "\\vdots & \\vdots & \\vdots & \\ddots & \\vdots \\\\\n",
    "0 & 0 & 0 & \\cdots & b_{n,1} c_{1,n}\n",
    "\\end{bmatrix}\n",
    "\\end{aligned}\n",
    "$$\n"
   ]
  },
  {
   "cell_type": "code",
   "execution_count": 2,
   "id": "63304c61-d687-4099-8a69-557ba1d2ebdf",
   "metadata": {},
   "outputs": [
    {
     "name": "stdout",
     "output_type": "stream",
     "text": [
      "B:\n",
      "[[5 5 1 4 5]\n",
      " [6 2 2 4 0]\n",
      " [4 6 9 0 0]\n",
      " [7 2 0 0 0]\n",
      " [9 0 0 0 0]]\n",
      "\n",
      "C:\n",
      "[[0 0 0 0 9]\n",
      " [0 0 0 4 9]\n",
      " [0 0 5 1 3]\n",
      " [0 9 2 8 1]\n",
      " [4 5 1 9 5]]\n",
      "\n",
      "BC:\n",
      "[[ 20  61  18  98 122]\n",
      " [  0  36  18  42  82]\n",
      " [  0   0  45  33 117]\n",
      " [  0   0   0   8  81]\n",
      " [  0   0   0   0  81]]\n",
      "\n",
      "CB:\n",
      "[[ 81   0   0   0   0]\n",
      " [109   8   0   0   0]\n",
      " [ 54  32  45   0   0]\n",
      " [127  46  36  36   0]\n",
      " [162  54  23  36  20]]\n"
     ]
    }
   ],
   "source": [
    "print(\"B:\")\n",
    "print(B)\n",
    "print(\"\\nC:\")\n",
    "print(C)\n",
    "print(\"\\nBC:\")\n",
    "print(np.dot(B,C))\n",
    "print(\"\\nCB:\")\n",
    "print(np.dot(C,B))"
   ]
  },
  {
   "cell_type": "markdown",
   "id": "ce8fce59-b5e1-4614-a519-cc96d87f426b",
   "metadata": {},
   "source": [
    "## why is BC upper triangular ?\n",
    "\n",
    "$$\n",
    "(BC)_{ij} = \\sum_{k=1}^n b_{ik} c_{kj} \n",
    "$$\n",
    "\n",
    "$$\n",
    "\\begin{aligned}\n",
    "i+k > n+1 \\Rightarrow b_{ik} = 0 \\\\\n",
    "k+j < n+1 \\Rightarrow c_{kj} = 0 \\\\\n",
    "\\end{aligned}\n",
    "$$\n",
    "\n",
    "$$\n",
    " k > n+1-i \\text{ and } k < n+1-j  \\Rightarrow b_{ik} c_{kj} = 0 \n",
    "$$\n",
    "\n",
    "When the two regions $k>n+1-i$ and $k<n+1-j$  overlaped, $b_{ik} c_{kj} = 0 \\quad \\forall k$\n",
    "\n",
    "$$\n",
    "k>n+1-i \\text{ and } k<n+1-j \\quad \\forall k \\quad \\Rightarrow (BC)_{ij} = 0\n",
    "$$\n",
    "See the following interactive plot."
   ]
  },
  {
   "cell_type": "code",
   "execution_count": 11,
   "id": "2cfb3535-75f6-4286-b012-90f9e193f008",
   "metadata": {},
   "outputs": [
    {
     "data": {
      "application/vnd.jupyter.widget-view+json": {
       "model_id": "d4315331dc3c466da7b6db19633de3af",
       "version_major": 2,
       "version_minor": 0
      },
      "text/plain": [
       "interactive(children=(IntSlider(value=3, description='i:', max=5, min=1), IntSlider(value=3, description='j:',…"
      ]
     },
     "execution_count": 11,
     "metadata": {},
     "output_type": "execute_result"
    }
   ],
   "source": [
    "import numpy as np\n",
    "import matplotlib.pyplot as plt\n",
    "from ipywidgets import interactive, IntSlider\n",
    "\n",
    "\n",
    "def plot_regions(i, j):\n",
    "    # Compute BCij\n",
    "    bcij = 0\n",
    "    n = len(B)\n",
    "    for k in range(n):\n",
    "        bcij += B[i-1][k]*C[k][j-1]\n",
    "    print(f\"(BC){i},{j} = \", end=\"\")\n",
    "    print(bcij)\n",
    "    print(\"\\nBC:\")\n",
    "    print(np.dot(B,C))\n",
    "\n",
    "    \n",
    "    k_values = np.linspace(0, n+1, 500)\n",
    "    fig, ax = plt.subplots(figsize=(8, 2))\n",
    "\n",
    "    # Plot the region where k < n+1-i\n",
    "    ax.fill_between(k_values, 0, 1, where=(k_values > n+1-i), color='blue', alpha=0.3, label='$k < n+1-i$')\n",
    "    ax.axvline(x=n+1-i, color='black', linestyle='--', label='$k=n+1-i$')\n",
    "\n",
    "    # Plot the region where k > n+1-j\n",
    "    ax.fill_between(k_values, 0, 1, where=(k_values < n+1-j), color='red', alpha=0.3, label='$k > n+1-j$')\n",
    "    ax.axvline(x=n+1-j, color='black', linestyle='--', label='$k=n+1-j$')\n",
    "\n",
    "    # Set the labels and title\n",
    "    ax.set_title('Regions for $k < n+1-i$ and $k > n+1-j$', fontsize=14)\n",
    "    ax.set_xlabel('$k$', fontsize=12)\n",
    "    ax.set_yticks([])  # Remove y-axis labels\n",
    "    ax.legend(loc='upper left')\n",
    "\n",
    "    # Show grid and plot\n",
    "    ax.grid(True)\n",
    "    ax.set_xlim([0, n+1])\n",
    "    plt.show()\n",
    "\n",
    "# Create sliders for i and j\n",
    "slider_i = IntSlider(value=3, min=1, max=5, step=1, description='i:')\n",
    "slider_j = IntSlider(value=3, min=1, max=5, step=1, description='j:')\n",
    "\n",
    "# Create the interactive plot\n",
    "interactive_plot = interactive(plot_regions, i=slider_i, j=slider_j)\n",
    "interactive_plot"
   ]
  },
  {
   "cell_type": "code",
   "execution_count": null,
   "id": "97191ca5-1006-4bc2-8fb2-75f8f8144745",
   "metadata": {},
   "outputs": [],
   "source": []
  },
  {
   "cell_type": "markdown",
   "id": "49ad11c7-8b58-4da5-b6c0-667818badf92",
   "metadata": {},
   "source": [
    "## transpose(B)\n",
    "\n",
    "If $B$ is northwest then $B^T$ is also northwest."
   ]
  },
  {
   "cell_type": "code",
   "execution_count": 4,
   "id": "bff02088-921d-4627-9911-5aac0a3d24b5",
   "metadata": {},
   "outputs": [
    {
     "name": "stdout",
     "output_type": "stream",
     "text": [
      "B:\n",
      "[[5 5 1 4 5]\n",
      " [6 2 2 4 0]\n",
      " [4 6 9 0 0]\n",
      " [7 2 0 0 0]\n",
      " [9 0 0 0 0]]\n",
      "\n",
      "transpose(B)\n",
      "[[5 6 4 7 9]\n",
      " [5 2 6 2 0]\n",
      " [1 2 9 0 0]\n",
      " [4 4 0 0 0]\n",
      " [5 0 0 0 0]]\n"
     ]
    }
   ],
   "source": [
    "print(\"B:\")\n",
    "print(B)\n",
    "print(\"\\ntranspose(B)\")\n",
    "print(B.T)"
   ]
  },
  {
   "cell_type": "code",
   "execution_count": null,
   "id": "a9961869-22c2-47f4-b704-fc33b881af5b",
   "metadata": {},
   "outputs": [],
   "source": []
  },
  {
   "cell_type": "markdown",
   "id": "67c36416-67e5-45bc-8a7a-0d1b2303b2e0",
   "metadata": {},
   "source": [
    "## Reference \n",
    "* Introduction to Linear algebra 5th edition (Prob36 in chapter 2.7)\n"
   ]
  },
  {
   "cell_type": "code",
   "execution_count": null,
   "id": "45039c4b-3772-4be5-8f53-a11ca30e1d1a",
   "metadata": {},
   "outputs": [],
   "source": []
  },
  {
   "cell_type": "code",
   "execution_count": null,
   "id": "9e52213f-f5ff-41a5-8798-12ea3d0d9b9f",
   "metadata": {},
   "outputs": [],
   "source": []
  },
  {
   "cell_type": "code",
   "execution_count": null,
   "id": "263d291e-9c13-4d8d-a9ba-e9499a6e1bb0",
   "metadata": {},
   "outputs": [],
   "source": []
  },
  {
   "cell_type": "code",
   "execution_count": null,
   "id": "97162615-3394-4f8c-a096-69279c12ed23",
   "metadata": {},
   "outputs": [],
   "source": []
  }
 ],
 "metadata": {
  "kernelspec": {
   "display_name": "Python 3 (Spyder)",
   "language": "python3",
   "name": "python3"
  },
  "language_info": {
   "codemirror_mode": {
    "name": "ipython",
    "version": 3
   },
   "file_extension": ".py",
   "mimetype": "text/x-python",
   "name": "python",
   "nbconvert_exporter": "python",
   "pygments_lexer": "ipython3",
   "version": "3.12.3"
  }
 },
 "nbformat": 4,
 "nbformat_minor": 5
}
