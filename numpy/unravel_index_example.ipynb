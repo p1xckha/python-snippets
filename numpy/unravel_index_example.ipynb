{
 "cells": [
  {
   "cell_type": "code",
   "execution_count": 90,
   "id": "1adeb8ef",
   "metadata": {},
   "outputs": [],
   "source": [
    "import numpy as np"
   ]
  },
  {
   "cell_type": "code",
   "execution_count": 101,
   "id": "9a5db24c",
   "metadata": {},
   "outputs": [
    {
     "data": {
      "text/plain": [
       "(1, 1)"
      ]
     },
     "execution_count": 101,
     "metadata": {},
     "output_type": "execute_result"
    }
   ],
   "source": [
    "# flattened index(int) -> 2d array index(int, int)\n",
    "np.unravel_index(3, (2,2)) # index=3 < 2*2=4"
   ]
  },
  {
   "cell_type": "code",
   "execution_count": 115,
   "id": "2def2966",
   "metadata": {},
   "outputs": [
    {
     "data": {
      "text/plain": [
       "(1, 2)"
      ]
     },
     "execution_count": 115,
     "metadata": {},
     "output_type": "execute_result"
    }
   ],
   "source": [
    "# flattened index(int) -> 2d array index(int, int)\n",
    "np.unravel_index(5, (3,3)) # index=5 < 3*3=9"
   ]
  },
  {
   "cell_type": "code",
   "execution_count": 102,
   "id": "76582c44",
   "metadata": {},
   "outputs": [
    {
     "data": {
      "text/plain": [
       "(array([0, 0, 0, 0, 1, 1, 1, 1], dtype=int64),\n",
       " array([0, 0, 1, 1, 0, 0, 1, 1], dtype=int64),\n",
       " array([0, 1, 0, 1, 0, 1, 0, 1], dtype=int64))"
      ]
     },
     "execution_count": 102,
     "metadata": {},
     "output_type": "execute_result"
    }
   ],
   "source": [
    "# flattened indices(=0,1,2,...,7) -> 3d array index([0th indices], [1st indices], [2nd indices] )\n",
    "np.unravel_index([0,1,2,3,4,5,6,7], (2,2,2)) # each index < 2*2*2=8"
   ]
  },
  {
   "cell_type": "code",
   "execution_count": 127,
   "id": "7d1423fd",
   "metadata": {},
   "outputs": [
    {
     "data": {
      "text/plain": [
       "array([[ 0.,  0.],\n",
       "       [ 0., 10.]])"
      ]
     },
     "execution_count": 127,
     "metadata": {},
     "output_type": "execute_result"
    }
   ],
   "source": [
    "# get the argmax(x[1,:,:]) in the 3d array shape\n",
    "x = np.zeros((2,2,2))\n",
    "x[1][1][1] = 10\n",
    "x[0][1][0] = 10000000\n",
    "x[1,:,:]"
   ]
  },
  {
   "cell_type": "code",
   "execution_count": 128,
   "id": "16ce7677",
   "metadata": {},
   "outputs": [
    {
     "data": {
      "text/plain": [
       "3"
      ]
     },
     "execution_count": 128,
     "metadata": {},
     "output_type": "execute_result"
    }
   ],
   "source": [
    "np.argmax(x[1,:,:]) "
   ]
  },
  {
   "cell_type": "code",
   "execution_count": 129,
   "id": "1cdd8664",
   "metadata": {},
   "outputs": [
    {
     "data": {
      "text/plain": [
       "(1, 1, 1)"
      ]
     },
     "execution_count": 129,
     "metadata": {},
     "output_type": "execute_result"
    }
   ],
   "source": [
    "_, index1, index2 = np.unravel_index(np.argmax(x[1, ]), x.shape)\n",
    "1, index1, index2"
   ]
  },
  {
   "cell_type": "code",
   "execution_count": null,
   "id": "5937a36d",
   "metadata": {},
   "outputs": [],
   "source": []
  }
 ],
 "metadata": {
  "kernelspec": {
   "display_name": "Python 3 (Spyder)",
   "language": "python3",
   "name": "python3"
  },
  "language_info": {
   "codemirror_mode": {
    "name": "ipython",
    "version": 3
   },
   "file_extension": ".py",
   "mimetype": "text/x-python",
   "name": "python",
   "nbconvert_exporter": "python",
   "pygments_lexer": "ipython3",
   "version": "3.10.9"
  }
 },
 "nbformat": 4,
 "nbformat_minor": 5
}
