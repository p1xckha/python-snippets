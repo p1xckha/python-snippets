{
 "cells": [
  {
   "cell_type": "code",
   "execution_count": 1,
   "id": "2ed5dff9",
   "metadata": {},
   "outputs": [],
   "source": [
    "import numpy as np"
   ]
  },
  {
   "cell_type": "code",
   "execution_count": 2,
   "id": "059853ca",
   "metadata": {},
   "outputs": [],
   "source": [
    "##########################################################################\n",
    "# choose values from a list of strings by specifying its indices\n",
    "#========================================================================="
   ]
  },
  {
   "cell_type": "code",
   "execution_count": 3,
   "id": "a03d1d51",
   "metadata": {},
   "outputs": [
    {
     "data": {
      "text/plain": [
       "array(['win', 'win', 'win', 'draw', 'lose', 'win', 'win'], dtype='<U4')"
      ]
     },
     "execution_count": 3,
     "metadata": {},
     "output_type": "execute_result"
    }
   ],
   "source": [
    "# choices is a list of strings\n",
    "index_array = [0,0,0,1,2,0,0] # array indices(=first axis) I'm going to choose\n",
    "choices = [\"win\", \"draw\", \"lose\"]\n",
    "np.choose(index_array,choices)"
   ]
  },
  {
   "cell_type": "code",
   "execution_count": 4,
   "id": "2240ed20",
   "metadata": {},
   "outputs": [],
   "source": [
    "##########################################################################\n",
    "# choose values from a 2D array of integers \n",
    "#========================================================================="
   ]
  },
  {
   "cell_type": "code",
   "execution_count": 5,
   "id": "aa67aabe",
   "metadata": {},
   "outputs": [
    {
     "data": {
      "text/plain": [
       "[[0, 1, 2],\n",
       " [10, 11, 12],\n",
       " [20, 21, 22],\n",
       " [30, 31, 32],\n",
       " [40, 41, 42],\n",
       " [50, 51, 52],\n",
       " [60, 61, 62]]"
      ]
     },
     "execution_count": 5,
     "metadata": {},
     "output_type": "execute_result"
    }
   ],
   "source": [
    "# choices is a 2D array of integers\n",
    "array2d = lambda m, n: [[i*10+j for j in range(n)] for i in range(m)]\n",
    "choices = array2d(7, 3)\n",
    "choices"
   ]
  },
  {
   "cell_type": "code",
   "execution_count": 6,
   "id": "c997c884",
   "metadata": {},
   "outputs": [
    {
     "data": {
      "text/plain": [
       "array([30, 31, 32])"
      ]
     },
     "execution_count": 6,
     "metadata": {},
     "output_type": "execute_result"
    }
   ],
   "source": [
    "# choose row by specifying its index\n",
    "np.choose(3, choices) "
   ]
  },
  {
   "cell_type": "code",
   "execution_count": 7,
   "id": "c7144343",
   "metadata": {},
   "outputs": [
    {
     "data": {
      "text/plain": [
       "array([ 0,  1, 52])"
      ]
     },
     "execution_count": 7,
     "metadata": {},
     "output_type": "execute_result"
    }
   ],
   "source": [
    "# choose choices[i0][0], ..., choices[i2][2] where i_n are in index_array\n",
    "index_array = [0, 0, 5] \n",
    "np.choose(index_array, choices) # 1d array whose length is 3"
   ]
  },
  {
   "cell_type": "code",
   "execution_count": 8,
   "id": "31901764",
   "metadata": {},
   "outputs": [
    {
     "data": {
      "text/plain": [
       "array([ 0, 21, 42])"
      ]
     },
     "execution_count": 8,
     "metadata": {},
     "output_type": "execute_result"
    }
   ],
   "source": [
    "# choose choices[i0][0], ..., choices[i2][2] where i_n are in index_array\n",
    "index_array = [0, 2, 4] \n",
    "np.choose(index_array, choices) # 1d array whose length is 3"
   ]
  },
  {
   "cell_type": "code",
   "execution_count": 9,
   "id": "d4b1d3ff",
   "metadata": {},
   "outputs": [],
   "source": [
    "##########################################################################\n",
    "# choose values from a 3D array of integers \n",
    "#========================================================================="
   ]
  },
  {
   "cell_type": "code",
   "execution_count": 10,
   "id": "c701da2a",
   "metadata": {},
   "outputs": [
    {
     "data": {
      "text/plain": [
       "array([[[  0,   1,   2,   3],\n",
       "        [ 10,  11,  12,  13],\n",
       "        [ 20,  21,  22,  23]],\n",
       "\n",
       "       [[100, 101, 102, 103],\n",
       "        [110, 111, 112, 113],\n",
       "        [120, 121, 122, 123]],\n",
       "\n",
       "       [[200, 201, 202, 203],\n",
       "        [210, 211, 212, 213],\n",
       "        [220, 221, 222, 223]],\n",
       "\n",
       "       [[300, 301, 302, 303],\n",
       "        [310, 311, 312, 313],\n",
       "        [320, 321, 322, 323]],\n",
       "\n",
       "       [[400, 401, 402, 403],\n",
       "        [410, 411, 412, 413],\n",
       "        [420, 421, 422, 423]]])"
      ]
     },
     "execution_count": 10,
     "metadata": {},
     "output_type": "execute_result"
    }
   ],
   "source": [
    "array3d = lambda m, n, l: [[[100*i+10*j+k for k in range(l)] for j in range(n)] for i in range(m)]\n",
    "choices = np.array(array3d(5, 3, 4))\n",
    "choices"
   ]
  },
  {
   "cell_type": "code",
   "execution_count": 11,
   "id": "f8381803",
   "metadata": {},
   "outputs": [
    {
     "data": {
      "text/plain": [
       "array([[ 0,  1,  2,  3],\n",
       "       [10, 11, 12, 13],\n",
       "       [20, 21, 22, 23]])"
      ]
     },
     "execution_count": 11,
     "metadata": {},
     "output_type": "execute_result"
    }
   ],
   "source": [
    "# choose choices[0]\n",
    "np.choose(0, choices)"
   ]
  },
  {
   "cell_type": "code",
   "execution_count": 12,
   "id": "8588401c",
   "metadata": {},
   "outputs": [
    {
     "data": {
      "text/plain": [
       "array([[  0,   1, 102, 203],\n",
       "       [ 10,  11, 112, 213],\n",
       "       [ 20,  21, 122, 223]])"
      ]
     },
     "execution_count": 12,
     "metadata": {},
     "output_type": "execute_result"
    }
   ],
   "source": [
    "# choose choices[i0][0],..., choices[i3][3], where i_n are in index_array \n",
    "index_array = np.array([0, 0, 1, 2]) # this shape is choices.shape[2:]\n",
    "np.choose(index_array, choices) "
   ]
  },
  {
   "cell_type": "code",
   "execution_count": 13,
   "id": "24e89ce1",
   "metadata": {},
   "outputs": [
    {
     "data": {
      "text/plain": [
       "array([[  0,   1, 102, 203],\n",
       "       [210, 211, 112, 113],\n",
       "       [120, 221,  22,  23]])"
      ]
     },
     "execution_count": 13,
     "metadata": {},
     "output_type": "execute_result"
    }
   ],
   "source": [
    "# choose choices[i0][0,0],choices[i1][0,1],..., choices[i11][2,3], where i_n are in index_array \n",
    "index_array = np.array([\n",
    "    [0, 0, 1, 2], \n",
    "    [2, 2, 1, 1], \n",
    "    [1, 2, 0, 0]]) # this shape is choices.shape[1:]\n",
    "np.choose(index_array, choices) "
   ]
  }
 ],
 "metadata": {
  "kernelspec": {
   "display_name": "Python 3 (Spyder)",
   "language": "python3",
   "name": "python3"
  },
  "language_info": {
   "codemirror_mode": {
    "name": "ipython",
    "version": 3
   },
   "file_extension": ".py",
   "mimetype": "text/x-python",
   "name": "python",
   "nbconvert_exporter": "python",
   "pygments_lexer": "ipython3",
   "version": "3.10.9"
  }
 },
 "nbformat": 4,
 "nbformat_minor": 5
}
