{
 "cells": [
  {
   "cell_type": "code",
   "execution_count": 52,
   "id": "fa96782a",
   "metadata": {},
   "outputs": [],
   "source": [
    "import numpy as np\n",
    "from scipy.special import logsumexp"
   ]
  },
  {
   "cell_type": "code",
   "execution_count": 53,
   "id": "06e70523",
   "metadata": {},
   "outputs": [],
   "source": [
    "x = np.array([-1000, -2000, -3000])"
   ]
  },
  {
   "cell_type": "code",
   "execution_count": 54,
   "id": "5bc86d96",
   "metadata": {},
   "outputs": [
    {
     "data": {
      "text/plain": [
       "-1000.0"
      ]
     },
     "execution_count": 54,
     "metadata": {},
     "output_type": "execute_result"
    }
   ],
   "source": [
    "logsumexp(x) # logsumexp prevents underflow"
   ]
  },
  {
   "cell_type": "code",
   "execution_count": 55,
   "id": "a295a981",
   "metadata": {},
   "outputs": [
    {
     "data": {
      "text/plain": [
       "0.0"
      ]
     },
     "execution_count": 55,
     "metadata": {},
     "output_type": "execute_result"
    }
   ],
   "source": [
    "expsum = np.exp(x).sum() # underflow\n",
    "expsum"
   ]
  },
  {
   "cell_type": "code",
   "execution_count": 56,
   "id": "9ebb716b",
   "metadata": {},
   "outputs": [
    {
     "name": "stderr",
     "output_type": "stream",
     "text": [
      "C:\\Users\\t0\\AppData\\Local\\Temp\\ipykernel_13804\\3385164519.py:1: RuntimeWarning: divide by zero encountered in log\n",
      "  y = np.log(expsum) # zero division warning\n"
     ]
    }
   ],
   "source": [
    "y = np.log(expsum) # zero division warning"
   ]
  },
  {
   "cell_type": "code",
   "execution_count": 57,
   "id": "9c60c490",
   "metadata": {},
   "outputs": [
    {
     "data": {
      "text/plain": [
       "array([    0, -1000, -2000])"
      ]
     },
     "execution_count": 57,
     "metadata": {},
     "output_type": "execute_result"
    }
   ],
   "source": [
    "# instead, calculate y = xmax + log(sum(exp(new_x)))\n",
    "xmax=x.max() # -1000\n",
    "new_x = x - xmax\n",
    "new_x"
   ]
  },
  {
   "cell_type": "code",
   "execution_count": 58,
   "id": "0360a53f",
   "metadata": {},
   "outputs": [
    {
     "data": {
      "text/plain": [
       "-1000.0"
      ]
     },
     "execution_count": 58,
     "metadata": {},
     "output_type": "execute_result"
    }
   ],
   "source": [
    "expsum = np.exp(newx).sum() \n",
    "y = xmax + np.log(expsum) \n",
    "y"
   ]
  },
  {
   "cell_type": "code",
   "execution_count": null,
   "id": "f1af413f",
   "metadata": {},
   "outputs": [],
   "source": []
  }
 ],
 "metadata": {
  "kernelspec": {
   "display_name": "Python 3 (Spyder)",
   "language": "python3",
   "name": "python3"
  },
  "language_info": {
   "codemirror_mode": {
    "name": "ipython",
    "version": 3
   },
   "file_extension": ".py",
   "mimetype": "text/x-python",
   "name": "python",
   "nbconvert_exporter": "python",
   "pygments_lexer": "ipython3",
   "version": "3.10.9"
  }
 },
 "nbformat": 4,
 "nbformat_minor": 5
}
