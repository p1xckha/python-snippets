{
 "cells": [
  {
   "cell_type": "markdown",
   "id": "d2b3bce6-7aa1-4d69-842d-bf17f77fd502",
   "metadata": {},
   "source": [
    "## How matrix A streches vector v \n",
    "\n",
    "https://en.wikipedia.org/wiki/Definite_matrix"
   ]
  },
  {
   "cell_type": "code",
   "execution_count": null,
   "id": "6c0866ef-bd73-4341-8a0c-e519bef0bfaf",
   "metadata": {},
   "outputs": [],
   "source": []
  },
  {
   "cell_type": "code",
   "execution_count": 1,
   "id": "053ee9a8-a4a5-4ea3-8f69-a3d56a4240b0",
   "metadata": {},
   "outputs": [
    {
     "data": {
      "application/vnd.jupyter.widget-view+json": {
       "model_id": "1d945b4b9ccb416589a311615193b945",
       "version_major": 2,
       "version_minor": 0
      },
      "text/plain": [
       "interactive(children=(FloatSlider(value=1.0, description='a', max=2.0, min=-2.0), FloatSlider(value=1.0, descr…"
      ]
     },
     "metadata": {},
     "output_type": "display_data"
    },
    {
     "data": {
      "application/vnd.jupyter.widget-view+json": {
       "model_id": "4fedd90d7c354dee8174b7051bdce2be",
       "version_major": 2,
       "version_minor": 0
      },
      "text/plain": [
       "VBox(children=(HBox(children=(FloatSlider(value=1.0, description='a', max=2.0, min=-2.0), FloatSlider(value=1.…"
      ]
     },
     "metadata": {},
     "output_type": "display_data"
    }
   ],
   "source": [
    "from ipywidgets import FloatSlider, Button, VBox, HBox, interact\n",
    "import matplotlib.pyplot as plt\n",
    "import numpy as np\n",
    "\n",
    "# Function to check if the matrix is positive semidefinite\n",
    "def is_positive_semidefinite(a, b, c, d):\n",
    "    return a >= 0 and a * d - b * c >= 0\n",
    "\n",
    "def is_negative_semidefinite(a, b, c, d):\n",
    "    return a <= 0 and a * d - b * c >= 0\n",
    "\n",
    "# Function to update the plot\n",
    "def update_plot(a, b, d, v1, v2):\n",
    "    # Make the matrix symmetric\n",
    "    c = b  # Since A is symmetric, set c = b\n",
    "    \n",
    "    # Create the matrix\n",
    "    A = np.array([[a, b], [b, d]])\n",
    "    v = np.array([v1, v2])\n",
    "    \n",
    "    # Compute eigenvalues and eigenvectors\n",
    "    eigenvalues, eigenvectors = np.linalg.eig(A)\n",
    "    Av = A @ v\n",
    "\n",
    "    k1, k2 = np.linalg.solve(eigenvectors, v)\n",
    "    l1, l2 = np.linalg.solve(eigenvectors, Av)\n",
    "\n",
    "    # Vectors for plotting\n",
    "    all_vectors = np.array([Av, v, k1 * eigenvectors[:, 0], k2 * eigenvectors[:, 1], l1 * eigenvectors[:, 0], l2 * eigenvectors[:, 1]])\n",
    "    xmin = np.min(np.concatenate([all_vectors[:, 0], [-2]]))\n",
    "    xmax = np.max(np.concatenate([all_vectors[:, 0], [2]]))\n",
    "    ymin = np.min(np.concatenate([all_vectors[:, 1], [-2]]))\n",
    "    ymax = np.max(np.concatenate([all_vectors[:, 1], [2]]))\n",
    "\n",
    "    # Plot settings\n",
    "    fig, ax = plt.subplots(figsize=(8, 6))\n",
    "    ax.axhline(0, color='black', linewidth=0.5)\n",
    "    ax.axvline(0, color='black', linewidth=0.5)\n",
    "    ax.set_xlim(xmin - 1, xmax + 1)\n",
    "    ax.set_ylim(ymin - 1, ymax + 1)\n",
    "    \n",
    "    # Plot eigenvectors\n",
    "    for i in range(2):\n",
    "        eig_vec = eigenvectors[:, i]\n",
    "        eig_val = eigenvalues[i]\n",
    "        ax.quiver(0, 0, eig_vec[0], eig_vec[1], angles='xy', scale_units='xy', scale=1,\n",
    "                  color='r' if eig_val > 0 else 'b', label=f\"u{i+1} for λ{i+1} = {eig_val:.2f}\")\n",
    "    \n",
    "    # Plot vector v and Av\n",
    "    ax.quiver(0, 0, v[0], v[1], angles='xy', scale_units='xy', scale=1, color='g', label=f\"v = [{v[0]:.2f}, {v[1]:.2f}]\", alpha=1)\n",
    "    ax.quiver(0, 0, Av[0], Av[1], angles='xy', scale_units='xy', scale=1, color='purple', label=f\"Av = [{Av[0]:.2f}, {Av[1]:.2f}]\", alpha=1)\n",
    "\n",
    "    # Plot scaled eigenvectors\n",
    "    ax.quiver(0, 0, k1 * eigenvectors[0, 0], k1 * eigenvectors[1, 0], angles='xy', scale_units='xy', scale=1, color='g', label=r\"$k_1 u_1$\", alpha=0.4)\n",
    "    ax.quiver(0, 0, k2 * eigenvectors[0, 1], k2 * eigenvectors[1, 1], angles='xy', scale_units='xy', scale=1, color='g', label=r\"$k_2 u_2$\", alpha=0.4)\n",
    "    ax.quiver(0, 0, l1 * eigenvectors[0, 0], l1 * eigenvectors[1, 0], angles='xy', scale_units='xy', scale=1, color='purple', label=r\"$l_1 u_1$\", alpha=0.4)\n",
    "    ax.quiver(0, 0, l2 * eigenvectors[0, 1], l2 * eigenvectors[1, 1], angles='xy', scale_units='xy', scale=1, color='purple', label=r\"$l_2 u_2$\", alpha=0.4)\n",
    "    \n",
    "    # Display positive semidefinite status\n",
    "    psd_status = is_positive_semidefinite(a, b, c, d)\n",
    "    nsd_status = is_negative_semidefinite(a, b, c, d)\n",
    "    if psd_status:\n",
    "        title = r\"Matrix $A\\succeq 0$ streches or shrinks vector $v$ but does not flip or reverse\"\n",
    "    elif nsd_status:\n",
    "        title = r\"Matrix $A\\preceq 0$ flips or reverses vector $v$\"\n",
    "    else:\n",
    "        title = r\"Matrix $A$ streches, shrinks, flips, or reverses vector $v$\"\n",
    "    ax.set_title(title)\n",
    "    ax.legend()\n",
    "    plt.grid()\n",
    "    plt.show()\n",
    "\n",
    "\n",
    "# Define sliders for matrix A and vector v\n",
    "a_slider = FloatSlider(value=1.0, min=-2, max=2, step=0.1, description='a')\n",
    "b_slider = FloatSlider(value=1.0, min=-2, max=2, step=0.1, description='b')\n",
    "d_slider = FloatSlider(value=2.0, min=-2, max=2, step=0.1, description='d')\n",
    "v1_slider = FloatSlider(value=-1.0, min=-2, max=2, step=0.1, description='v1')\n",
    "v2_slider = FloatSlider(value=1.0, min=-2, max=2, step=0.1, description='v2')\n",
    "\n",
    "# Reset button functionality\n",
    "def reset_sliders(_):\n",
    "    a_slider.value = 1.0\n",
    "    b_slider.value = 1.0\n",
    "    d_slider.value = 2.0\n",
    "    v1_slider.value = -1.0\n",
    "    v2_slider.value = 1.0\n",
    "\n",
    "# Create a reset button\n",
    "reset_button = Button(description=\"Reset\", button_style='success')\n",
    "reset_button.on_click(reset_sliders)\n",
    "\n",
    "# Create layout for sliders and reset button\n",
    "ui = VBox([\n",
    "    HBox([a_slider, b_slider]),\n",
    "    HBox([b_slider, d_slider]),\n",
    "    HBox([v1_slider, v2_slider, reset_button])\n",
    "])\n",
    "interact(update_plot, a=a_slider, b=b_slider, d=d_slider, v1=v1_slider, v2=v2_slider)\n",
    "display(ui)\n"
   ]
  },
  {
   "cell_type": "code",
   "execution_count": null,
   "id": "3ad7cc1d-f527-4cf1-a507-b9ff73f172d2",
   "metadata": {},
   "outputs": [],
   "source": []
  },
  {
   "cell_type": "code",
   "execution_count": null,
   "id": "e48e0bf0-67fc-4470-9489-bdda1215a917",
   "metadata": {},
   "outputs": [],
   "source": []
  },
  {
   "cell_type": "code",
   "execution_count": null,
   "id": "00119135-f065-40ac-ba23-94fb2960fb4a",
   "metadata": {},
   "outputs": [],
   "source": []
  },
  {
   "cell_type": "code",
   "execution_count": null,
   "id": "0b543d9f-b6b6-427b-a3a0-0c09e98803c8",
   "metadata": {},
   "outputs": [],
   "source": []
  },
  {
   "cell_type": "code",
   "execution_count": null,
   "id": "40997fd4-cb2c-4aac-8ac7-42f2795dd179",
   "metadata": {},
   "outputs": [],
   "source": []
  },
  {
   "cell_type": "code",
   "execution_count": null,
   "id": "42defa03-b8a8-499f-af21-12d938d36a7d",
   "metadata": {},
   "outputs": [],
   "source": []
  }
 ],
 "metadata": {
  "kernelspec": {
   "display_name": "Python 3 (Spyder)",
   "language": "python3",
   "name": "python3"
  },
  "language_info": {
   "codemirror_mode": {
    "name": "ipython",
    "version": 3
   },
   "file_extension": ".py",
   "mimetype": "text/x-python",
   "name": "python",
   "nbconvert_exporter": "python",
   "pygments_lexer": "ipython3",
   "version": "3.12.3"
  }
 },
 "nbformat": 4,
 "nbformat_minor": 5
}
