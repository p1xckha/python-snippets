{
 "cells": [
  {
   "cell_type": "markdown",
   "id": "1d11c2b4-bfbb-4a76-8cd9-c2ac58081f40",
   "metadata": {},
   "source": [
    "## Orthogonal Complement Projection \n",
    "\n",
    "- $P$ : projection matrix\n",
    "- $P^{\\perp}$: Orthogonal Complement Projection matrix\n",
    "\n",
    "$$\n",
    "P^{\\perp} = I - P\n",
    "$$\n",
    "\n",
    "\n",
    "- $P P^{\\perp} = P(I - P) = P - P^2 = O$"
   ]
  },
  {
   "cell_type": "code",
   "execution_count": null,
   "id": "8dcbd48b-24cf-4c1b-a238-145452896e73",
   "metadata": {},
   "outputs": [],
   "source": []
  },
  {
   "cell_type": "markdown",
   "id": "50b27fa5-21d2-4212-8cf7-486c4108feb5",
   "metadata": {},
   "source": [
    "## n=2 dimension"
   ]
  },
  {
   "cell_type": "code",
   "execution_count": 1,
   "id": "fe791673-dfd3-468d-93e7-06ebed8dd413",
   "metadata": {},
   "outputs": [
    {
     "data": {
      "application/vnd.jupyter.widget-view+json": {
       "model_id": "d4119a72eb3442aa9beee5b123551e30",
       "version_major": 2,
       "version_minor": 0
      },
      "text/plain": [
       "interactive(children=(FloatSlider(value=1.0, description='c', max=10.0, min=0.001), FloatSlider(value=1.0, des…"
      ]
     },
     "metadata": {},
     "output_type": "display_data"
    },
    {
     "data": {
      "text/plain": [
       "<function __main__.update_plot(c, v1, v2)>"
      ]
     },
     "execution_count": 1,
     "metadata": {},
     "output_type": "execute_result"
    }
   ],
   "source": [
    "\n",
    "import numpy as np\n",
    "import matplotlib.pyplot as plt\n",
    "from ipywidgets import interact, FloatSlider\n",
    "\n",
    "# Function to compute projection matrix P and its orthogonal complement P_perp\n",
    "def compute_2d_matrices(c):\n",
    "    P = np.array([[1, c], [c, c**2]]) / (c**2 + 1)  # Projection matrix P for line y = cx\n",
    "    P_perp = np.array([[1, -1/c], [-1/c, (-1/c)**2]]) / ((-1/c)**2 + 1)  # Orthogonal complement P_perp for line y = -1/c x\n",
    "    return P, P_perp\n",
    "\n",
    "# Interactive plot function\n",
    "def update_plot(c, v1, v2):\n",
    "    P, P_perp = compute_2d_matrices(c)\n",
    "    x = np.linspace(-2, 2, 1000)\n",
    "    y1 = c * x  # Line y = cx\n",
    "    y2 = -1/c * x  # Line y = -1/c x\n",
    "    \n",
    "    v = np.array([v1, v2])  # Input vector\n",
    "    Pv = P @ v  # Projection of v onto y = cx\n",
    "    Perpv = P_perp @ v  # Projection of v onto y = -1/c x\n",
    "\n",
    "    # Plot projection directions and vectors\n",
    "    plt.figure(figsize=(8, 8))\n",
    "    plt.axhline(0, color='black', linewidth=0.5, linestyle='--')\n",
    "    plt.axvline(0, color='black', linewidth=0.5, linestyle='--')\n",
    "    plt.plot(x, y1, label=r\"$S: y = cx$\", color='blue', linestyle='-')\n",
    "    plt.plot(x, y2, label=r\"$S^\\perp: y = -\\frac{1}{c}x$\", color='red', linestyle='-')\n",
    "    \n",
    "    # Plot vector v\n",
    "    plt.scatter(*v, color='purple', label=r\"Vector $\\vec{v}$\")\n",
    "    plt.quiver(0, 0, v[0], v[1], angles='xy', scale_units='xy', scale=1, color='purple')\n",
    "\n",
    "    # Plot vector Pv (projection onto y = cx)\n",
    "    plt.quiver(0, 0, Pv[0], Pv[1], angles='xy', scale_units='xy', scale=1, color='blue', label=r\"$P \\vec{v}$\")\n",
    "    \n",
    "    # Plot vector Perpv (projection onto y = -1/c x)\n",
    "    plt.quiver(0, 0, Perpv[0], Perpv[1], angles='xy', scale_units='xy', scale=1, color='red', label=r\"$P^\\perp \\vec{v}$\")\n",
    "\n",
    "    # Customize plot\n",
    "    plt.xlim(-2, 2)\n",
    "    plt.ylim(-2, 2)\n",
    "    plt.title(f\"Orthogonal Projection matrix $P$ onto y=cx and its complement $P^\\\\perp$\")\n",
    "    plt.xlabel(\"x-axis\")\n",
    "    plt.ylabel(\"y-axis\")\n",
    "    plt.grid(True, linestyle='--', alpha=0.7)\n",
    "    plt.legend()\n",
    "    plt.show()\n",
    "\n",
    "# Interactive slider for c and vector components\n",
    "interact(\n",
    "    update_plot, \n",
    "    c=FloatSlider(value=1, min=0.001, max=10, step=0.1, description='c'),\n",
    "    v1=FloatSlider(value=1, min=-2, max=2, step=0.1, description='v1'),\n",
    "    v2=FloatSlider(value=0, min=-2, max=2, step=0.1, description='v2')\n",
    ")"
   ]
  },
  {
   "cell_type": "code",
   "execution_count": null,
   "id": "e4681b50-f6f3-4628-980d-3c93723542e5",
   "metadata": {},
   "outputs": [],
   "source": []
  },
  {
   "cell_type": "code",
   "execution_count": null,
   "id": "03640975-550f-4863-ac50-f7d81e865ed5",
   "metadata": {},
   "outputs": [],
   "source": []
  },
  {
   "cell_type": "code",
   "execution_count": null,
   "id": "9d1fa621-9baf-4ce3-9a9b-5390aad66e2c",
   "metadata": {},
   "outputs": [],
   "source": []
  },
  {
   "cell_type": "markdown",
   "id": "0c464a9d-84e0-490b-ab75-e60c70ab7a05",
   "metadata": {},
   "source": [
    "## n=3 dimension\n",
    "\n",
    "- $P$: projection matrix for projection onto a plane\n",
    "- $P^\\perp$: orthogonal complement matrix for projection onto a line\n",
    "  "
   ]
  },
  {
   "cell_type": "code",
   "execution_count": 2,
   "id": "5481e83b-fe52-40a8-85bf-b8e526ba522a",
   "metadata": {},
   "outputs": [
    {
     "data": {
      "application/vnd.jupyter.widget-view+json": {
       "model_id": "5ea50e6be7de4033bbec83b01ece15ce",
       "version_major": 2,
       "version_minor": 0
      },
      "text/plain": [
       "VBox(children=(Output(), HBox(children=(FloatSlider(value=-1.0, description='n1', max=1.0, min=-1.0), FloatSli…"
      ]
     },
     "metadata": {},
     "output_type": "display_data"
    }
   ],
   "source": [
    "import numpy as np\n",
    "import matplotlib.pyplot as plt\n",
    "from ipywidgets import interactive, FloatSlider, IntSlider, Button, VBox, HBox\n",
    "from IPython.display import display\n",
    "\n",
    "# Function to compute projection matrices\n",
    "def compute_matrices(n):\n",
    "    n = n / np.linalg.norm(n)  # Normalize n\n",
    "    P_perp = np.outer(n, n)   # P_perp = nn^T (1D projection onto n)\n",
    "    P = np.eye(3) - P_perp    # P = I - nn^T (2D projection onto plane orthogonal to n)\n",
    "    return P, P_perp\n",
    "\n",
    "\n",
    "# Interactive plot function\n",
    "def update(n1, n2, n3, v1, v2, v3, elev, azim):\n",
    "    n = np.array([n1, n2, n3])  # Unit vector n\n",
    "    v = np.array([v1, v2, v3])  # Input vector v\n",
    "    P, P_perp = compute_matrices(n)  # Compute matrices\n",
    "\n",
    "    # Compute projections\n",
    "    Pv = P @ v\n",
    "    Perpv = P_perp @ v\n",
    "\n",
    "    # Plotting 3D vectors\n",
    "    fig = plt.figure(figsize=(8, 8))\n",
    "    ax = fig.add_subplot(111, projection='3d')\n",
    "\n",
    "    # Original vector\n",
    "    ax.quiver(0, 0, 0, v[0], v[1], v[2], color='purple', label=r\"$\\vec{v}$\")\n",
    "    ax.scatter(*v, color='purple')\n",
    "\n",
    "    # Projection onto the plane (2D)\n",
    "    ax.quiver(0, 0, 0, Pv[0], Pv[1], Pv[2], color='blue', label=r\"$P \\vec{v} \\in S$\")\n",
    "    ax.scatter(*Pv, color='blue')\n",
    "\n",
    "    # Projection onto the line (1D)\n",
    "    ax.quiver(0, 0, 0, Perpv[0], Perpv[1], Perpv[2], color='red', label=r\"$P^\\perp \\vec{v} \\in S^\\perp$\")\n",
    "    ax.scatter(*Perpv, color='red')\n",
    "\n",
    "    # Plot the plane using two orthogonal vectors\n",
    "    xx, yy = np.meshgrid(np.linspace(-2, 2, 10), np.linspace(-2, 2, 10))\n",
    "    if n[2] != 0:\n",
    "        zz = (-n[0] * xx - n[1] * yy) / n[2]  # Plane equation: z = (-n[0]*x - n[1]*y) / n[2]\n",
    "    else:\n",
    "        zz = np.zeros_like(xx)\n",
    "    \n",
    "    # Display the plane\n",
    "    ax.plot_surface(xx, yy, zz, color='lightgray', alpha=0.5, label=\"subspace S\")\n",
    "\n",
    "    # Compute the range of x, y, z\n",
    "    all_vectors = np.array([v, Pv, Perpv, n, [-2,-2,-2], [2,2,2]])\n",
    "    xmin = all_vectors[:,0].min()\n",
    "    xmax = all_vectors[:,0].max()\n",
    "    ymin = all_vectors[:,1].min()\n",
    "    ymax = all_vectors[:,1].max()\n",
    "    zmin = all_vectors[:,2].min()\n",
    "    zmax = all_vectors[:,2].max()\n",
    "    \n",
    "    # Draw the line\n",
    "    tmin, tmax = 0, 0\n",
    "    for i in range(len(n)):\n",
    "        if n[i] != 0:\n",
    "            if tmin > -2/n[i]:\n",
    "                tmin =  -2/n[i]\n",
    "            if tmax < 2/n[i]:\n",
    "                tmax = 2/n[i]\n",
    "                  \n",
    "    t = np.linspace(tmin-0.1, tmax+0.1, 1000)\n",
    "    line_x = t * n[0]\n",
    "    line_y = t * n[1]\n",
    "    line_z = t * n[2]\n",
    "    ax.plot(line_x, line_y, line_z, label=\"Subspace $S^\\\\perp$\")\n",
    "\n",
    "    # Set plot limits and labels\n",
    "    ax.set_xlim([xmin, xmax])\n",
    "    ax.set_ylim([ymin, ymax])\n",
    "    ax.set_zlim([zmin, zmax])\n",
    "    ax.set_xlabel('X')\n",
    "    ax.set_ylabel('Y')\n",
    "    ax.set_zlabel('Z')\n",
    "    ax.set_title(\"3D Projections onto Plane and Line\")\n",
    "    ax.legend()\n",
    "    ax.view_init(elev=elev, azim=azim)\n",
    "    \n",
    "    plt.show()\n",
    "\n",
    "# Interactive sliders\n",
    "slider_n1 = FloatSlider(value=-1, min=-1, max=1, step=0.1, description='n1')\n",
    "slider_n2 = FloatSlider(value=1, min=-1, max=1, step=0.1, description='n2')\n",
    "slider_n3 = FloatSlider(value=-1, min=-1, max=1, step=0.1, description='n3')\n",
    "slider_v1 = FloatSlider(value=2, min=-2, max=2, step=0.1, description='v1')\n",
    "slider_v2 = FloatSlider(value=-2, min=-2, max=2, step=0.1, description='v2')\n",
    "slider_v3 = FloatSlider(value=1, min=-2, max=2, step=0.1, description='v3')\n",
    "slider_azim = IntSlider(value=45, min=0, max=360, step=1, description=\"azimuth\")\n",
    "slider_elev = IntSlider(value=30, min=0, max=90, step=1, description=\"elevation\")\n",
    "\n",
    "# Reset button function\n",
    "def reset_sliders(_):\n",
    "    slider_n1.value = -1\n",
    "    slider_n2.value = 1\n",
    "    slider_n3.value = -1\n",
    "    slider_v1.value = 2\n",
    "    slider_v2.value = -2\n",
    "    slider_v3.value = 1\n",
    "    slider_azim.value = 45\n",
    "    slider_elev.value = 30\n",
    "\n",
    "# Reset button\n",
    "reset_button = Button(description=\"Reset\", button_style='success')\n",
    "reset_button.on_click(reset_sliders)\n",
    "\n",
    "\n",
    "# Display the interactive plot\n",
    "interactive_plot = interactive(update, \n",
    "                               n1=slider_n1, \n",
    "                               n2=slider_n2, \n",
    "                               n3=slider_n3, \n",
    "                               v1=slider_v1, \n",
    "                               v2=slider_v2, \n",
    "                               v3=slider_v3,\n",
    "                              elev=slider_elev,\n",
    "                              azim=slider_azim)\n",
    "\n",
    "# Layout and display\n",
    "ui = VBox([\n",
    "    interactive_plot.children[-1],\n",
    "    HBox([slider_n1, slider_n2, slider_n3]),\n",
    "    HBox([slider_v1, slider_v2, slider_v3]),\n",
    "    HBox([slider_elev, slider_azim]),\n",
    "    reset_button\n",
    "])\n",
    "\n",
    "display(ui)"
   ]
  },
  {
   "cell_type": "code",
   "execution_count": null,
   "id": "548ee436-c5a5-4e43-bd94-7e74b15807c6",
   "metadata": {},
   "outputs": [],
   "source": []
  },
  {
   "cell_type": "code",
   "execution_count": null,
   "id": "9d4be91a-aa97-4307-92ce-19b4357e6413",
   "metadata": {},
   "outputs": [],
   "source": []
  },
  {
   "cell_type": "code",
   "execution_count": null,
   "id": "35b06b1e-d920-4a3a-872e-fbe329395b77",
   "metadata": {},
   "outputs": [],
   "source": []
  },
  {
   "cell_type": "code",
   "execution_count": null,
   "id": "5387da07-9fbd-4656-ba52-ee1ca968a0b7",
   "metadata": {},
   "outputs": [],
   "source": []
  },
  {
   "cell_type": "code",
   "execution_count": null,
   "id": "c3fc9e33-dd05-42ab-8935-d50216819984",
   "metadata": {},
   "outputs": [],
   "source": []
  },
  {
   "cell_type": "code",
   "execution_count": null,
   "id": "cec008df-23e5-416d-87c5-f9d30b9d1a7d",
   "metadata": {},
   "outputs": [],
   "source": []
  },
  {
   "cell_type": "code",
   "execution_count": null,
   "id": "e071f4ed-f3c7-4061-96a3-97f97abf8b29",
   "metadata": {},
   "outputs": [],
   "source": []
  },
  {
   "cell_type": "code",
   "execution_count": null,
   "id": "bd1646fc-8e2c-4d92-bd11-390957145f23",
   "metadata": {},
   "outputs": [],
   "source": []
  },
  {
   "cell_type": "code",
   "execution_count": null,
   "id": "9f5aaba0-b22b-41cc-bc75-d7188ef8a20f",
   "metadata": {},
   "outputs": [],
   "source": []
  }
 ],
 "metadata": {
  "kernelspec": {
   "display_name": "Python 3 (Spyder)",
   "language": "python3",
   "name": "python3"
  },
  "language_info": {
   "codemirror_mode": {
    "name": "ipython",
    "version": 3
   },
   "file_extension": ".py",
   "mimetype": "text/x-python",
   "name": "python",
   "nbconvert_exporter": "python",
   "pygments_lexer": "ipython3",
   "version": "3.12.3"
  }
 },
 "nbformat": 4,
 "nbformat_minor": 5
}
