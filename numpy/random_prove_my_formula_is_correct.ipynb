{
 "cells": [
  {
   "cell_type": "code",
   "execution_count": 10,
   "id": "0594d33e",
   "metadata": {},
   "outputs": [
    {
     "data": {
      "text/plain": [
       "(array([2.10549519, 1.75127765, 1.76553151, 1.95647716, 2.85083581,\n",
       "        2.36661735, 2.38118366, 2.55890137, 2.02905594, 1.71537225,\n",
       "        1.61428708, 1.82557431, 1.65125172, 1.37638545, 1.34575414,\n",
       "        1.39997489]),\n",
       " array([2.10549519, 1.75127765, 1.76553151, 1.95647716, 2.85083581,\n",
       "        2.36661735, 2.38118366, 2.55890137, 2.02905594, 1.71537225,\n",
       "        1.61428708, 1.82557431, 1.65125172, 1.37638545, 1.34575414,\n",
       "        1.39997489]),\n",
       " 1.035379938102578e-30,\n",
       " True)"
      ]
     },
     "execution_count": 10,
     "metadata": {},
     "output_type": "execute_result"
    }
   ],
   "source": [
    "################################################\n",
    "# find out my formula is correct with random method\n",
    "#\n",
    "# Kronecker(A, B) vec(C) = vec(B C A.T) \n",
    "#===============================================\n",
    "\n",
    "import numpy as np\n",
    "\n",
    "A = np.random.random([4,4]).astype(np.float64)\n",
    "B = np.random.random([4,4]).astype(np.float64)\n",
    "C = np.random.random([4,4]).astype(np.float64)\n",
    "\n",
    "vec1 = np.kron(A, B) @ C.flatten('F')\n",
    "vec2 = (B @ C @ A.T).flatten('F')\n",
    "loss = ((vec1 - vec2)**2).sum()\n",
    "\n",
    "vec1, vec2, loss, np.allclose(vec1, vec2)"
   ]
  },
  {
   "cell_type": "code",
   "execution_count": 12,
   "id": "bafe2f07",
   "metadata": {},
   "outputs": [
    {
     "name": "stdout",
     "output_type": "stream",
     "text": [
      "correct: loss = 3.697785493223493e-31\n",
      "correct: loss = 1.509929076399593e-31\n",
      "correct: loss = 5.9164567891575885e-31\n",
      "correct: loss = 2.588449845256445e-31\n",
      "correct: loss = 1.1093356479670479e-31\n",
      "correct: loss = 9.490982765940298e-31\n",
      "correct: loss = 1.9721522630525295e-30\n",
      "correct: loss = 3.944304526105059e-31\n",
      "correct: loss = 2.711709361697228e-31\n",
      "correct: loss = 6.409494854920721e-31\n"
     ]
    }
   ],
   "source": [
    "# test\n",
    "def compute_loss(A, B, C):\n",
    "    vec1 = np.kron(A, B) @ C.flatten('F')\n",
    "    vec2 = (B @ C @ A.T).flatten('F')\n",
    "    loss = ((vec1 - vec2) ** 2).sum()\n",
    "    return loss\n",
    "\n",
    "epsilon = 1e-16\n",
    "for _ in range(10):\n",
    "    A = np.random.random([4,4]).astype(np.float64)\n",
    "    B = np.random.random([4,4]).astype(np.float64)\n",
    "    C = np.random.random([4,4]).astype(np.float64)\n",
    "    loss = compute_loss(A, B, C)\n",
    "    if loss < epsilon:\n",
    "        print(f\"correct: loss = {loss}\")\n",
    "    else:\n",
    "        print(f\"incorrect: loss = {loss}\")\n",
    "    "
   ]
  },
  {
   "cell_type": "code",
   "execution_count": null,
   "id": "f0d93855",
   "metadata": {},
   "outputs": [],
   "source": []
  },
  {
   "cell_type": "code",
   "execution_count": null,
   "id": "03136f46",
   "metadata": {},
   "outputs": [],
   "source": []
  }
 ],
 "metadata": {
  "kernelspec": {
   "display_name": "Python 3 (Spyder)",
   "language": "python3",
   "name": "python3"
  },
  "language_info": {
   "codemirror_mode": {
    "name": "ipython",
    "version": 3
   },
   "file_extension": ".py",
   "mimetype": "text/x-python",
   "name": "python",
   "nbconvert_exporter": "python",
   "pygments_lexer": "ipython3",
   "version": "3.10.9"
  }
 },
 "nbformat": 4,
 "nbformat_minor": 5
}
