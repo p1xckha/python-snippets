{
 "cells": [
  {
   "cell_type": "code",
   "execution_count": 1,
   "id": "92e3560e",
   "metadata": {},
   "outputs": [
    {
     "name": "stdout",
     "output_type": "stream",
     "text": [
      "Time taken by extending a list: 0.3614673615 seconds\n"
     ]
    }
   ],
   "source": [
    "#########################################################\n",
    "# measure the time taken by extending a list\n",
    "########################################################\n",
    "import time\n",
    "\n",
    "n = 10**8\n",
    "lst = list(range(1, n))\n",
    "new_numbers = range(n, n+4)\n",
    "\n",
    "# measure the time\n",
    "start_time = time.time()\n",
    "lst.extend(new_numbers)\n",
    "end_time = time.time()\n",
    "print(f\"Time taken by extending a list: {end_time - start_time:.10f} seconds\")"
   ]
  },
  {
   "cell_type": "code",
   "execution_count": 2,
   "id": "335d59c8",
   "metadata": {},
   "outputs": [
    {
     "name": "stdout",
     "output_type": "stream",
     "text": [
      "Time taken by creating a new list: 1.6151676178 seconds\n"
     ]
    }
   ],
   "source": [
    "#########################################################\n",
    "# measure the time taken by creating a new list\n",
    "########################################################\n",
    "\n",
    "import time\n",
    "\n",
    "n = 10**8\n",
    "lst = list(range(1, n))\n",
    "new_numbers = list(range(n, n+4))\n",
    "\n",
    "# measure the time\n",
    "start_time = time.time()\n",
    "lst + new_numbers\n",
    "end_time = time.time()\n",
    "print(f\"Time taken by creating a new list: {end_time - start_time:.10f} seconds\")"
   ]
  },
  {
   "cell_type": "code",
   "execution_count": null,
   "id": "bf78280d",
   "metadata": {},
   "outputs": [],
   "source": []
  }
 ],
 "metadata": {
  "kernelspec": {
   "display_name": "Python 3 (Spyder)",
   "language": "python3",
   "name": "python3"
  },
  "language_info": {
   "codemirror_mode": {
    "name": "ipython",
    "version": 3
   },
   "file_extension": ".py",
   "mimetype": "text/x-python",
   "name": "python",
   "nbconvert_exporter": "python",
   "pygments_lexer": "ipython3",
   "version": "3.10.9"
  }
 },
 "nbformat": 4,
 "nbformat_minor": 5
}
