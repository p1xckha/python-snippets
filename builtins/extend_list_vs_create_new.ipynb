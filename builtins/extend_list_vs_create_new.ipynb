{
 "cells": [
  {
   "cell_type": "code",
   "execution_count": 1,
   "id": "c9d2b8f1",
   "metadata": {},
   "outputs": [
    {
     "name": "stdout",
     "output_type": "stream",
     "text": [
      "Time taken by example1: 0.3491916656 seconds\n"
     ]
    }
   ],
   "source": [
    "#########################################################\n",
    "# measure the time taken by extending a list\n",
    "########################################################\n",
    "import time\n",
    "\n",
    "n = 10**8\n",
    "lst = list(range(1, n))\n",
    "new_numbers = range(n, n+4)\n",
    "\n",
    "# measure the time\n",
    "start_time = time.time()\n",
    "lst.extend(new_numbers)\n",
    "end_time = time.time()\n",
    "print(f\"Time taken by example1: {end_time - start_time:.10f} seconds\")"
   ]
  },
  {
   "cell_type": "code",
   "execution_count": 2,
   "id": "808a55ab",
   "metadata": {},
   "outputs": [
    {
     "name": "stdout",
     "output_type": "stream",
     "text": [
      "Time taken by example1: 1.6513490677 seconds\n"
     ]
    }
   ],
   "source": [
    "#########################################################\n",
    "# measure the time taken by creating a new list\n",
    "########################################################\n",
    "\n",
    "import time\n",
    "\n",
    "n = 10**8\n",
    "lst = list(range(1, n))\n",
    "new_numbers = list(range(n, n+4))\n",
    "\n",
    "# measure the time\n",
    "start_time = time.time()\n",
    "lst + new_numbers\n",
    "end_time = time.time()\n",
    "print(f\"Time taken by example1: {end_time - start_time:.10f} seconds\")"
   ]
  },
  {
   "cell_type": "code",
   "execution_count": null,
   "id": "b5a9aa75",
   "metadata": {},
   "outputs": [],
   "source": []
  }
 ],
 "metadata": {
  "kernelspec": {
   "display_name": "Python 3 (Spyder)",
   "language": "python3",
   "name": "python3"
  },
  "language_info": {
   "codemirror_mode": {
    "name": "ipython",
    "version": 3
   },
   "file_extension": ".py",
   "mimetype": "text/x-python",
   "name": "python",
   "nbconvert_exporter": "python",
   "pygments_lexer": "ipython3",
   "version": "3.10.9"
  }
 },
 "nbformat": 4,
 "nbformat_minor": 5
}
