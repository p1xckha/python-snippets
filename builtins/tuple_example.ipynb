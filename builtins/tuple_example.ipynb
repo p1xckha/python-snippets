{
 "cells": [
  {
   "cell_type": "code",
   "execution_count": 1,
   "id": "19e75f53",
   "metadata": {},
   "outputs": [],
   "source": [
    "############################################\n",
    "# tuple example\n",
    "#==========================================="
   ]
  },
  {
   "cell_type": "code",
   "execution_count": 2,
   "id": "f3b94f40",
   "metadata": {},
   "outputs": [
    {
     "data": {
      "text/plain": [
       "(2, 3)"
      ]
     },
     "execution_count": 2,
     "metadata": {},
     "output_type": "execute_result"
    }
   ],
   "source": [
    "tpl = 2, 3 # tuple\n",
    "tpl"
   ]
  },
  {
   "cell_type": "code",
   "execution_count": 3,
   "id": "4b9a09fb",
   "metadata": {},
   "outputs": [
    {
     "data": {
      "text/plain": [
       "(2, 3)"
      ]
     },
     "execution_count": 3,
     "metadata": {},
     "output_type": "execute_result"
    }
   ],
   "source": [
    "tpl[0], tpl[1]"
   ]
  },
  {
   "cell_type": "code",
   "execution_count": 4,
   "id": "585fa8e7",
   "metadata": {},
   "outputs": [
    {
     "name": "stdout",
     "output_type": "stream",
     "text": [
      "tuple can not be edited. You need to create a new one\n"
     ]
    },
    {
     "data": {
      "text/plain": [
       "(4, 3)"
      ]
     },
     "execution_count": 4,
     "metadata": {},
     "output_type": "execute_result"
    }
   ],
   "source": [
    "############################################\n",
    "# tuple is immutable\n",
    "#============================================\n",
    "\n",
    "try:\n",
    "    tpl[0]=4\n",
    "except:\n",
    "    print('tuple can not be edited. You need to create a new one')\n",
    "\n",
    "new_tpl = 4, tpl[1]\n",
    "new_tpl"
   ]
  },
  {
   "cell_type": "code",
   "execution_count": 5,
   "id": "d0377fff",
   "metadata": {},
   "outputs": [
    {
     "data": {
      "text/plain": [
       "(4, 3)"
      ]
     },
     "execution_count": 5,
     "metadata": {},
     "output_type": "execute_result"
    }
   ],
   "source": [
    "new_tpl = 4, *tpl[1:] # unpacking tpl[1:]\n",
    "new_tpl"
   ]
  },
  {
   "cell_type": "code",
   "execution_count": 6,
   "id": "d0cd1565",
   "metadata": {},
   "outputs": [
    {
     "data": {
      "text/plain": [
       "(1, 2)"
      ]
     },
     "execution_count": 6,
     "metadata": {},
     "output_type": "execute_result"
    }
   ],
   "source": [
    "####################################\n",
    "# Parentheses '()' omitted\n",
    "#==================================\n",
    "\n",
    "(a, b) = 3, 4 # (a,b) is a tuple\n",
    "\n",
    "a, b = 1, 2 # Parentheses '()' omitted\n",
    "a, b"
   ]
  },
  {
   "cell_type": "code",
   "execution_count": 7,
   "id": "e231fff2",
   "metadata": {},
   "outputs": [],
   "source": [
    "###########################################################\n",
    "# when parentheses are needed\n",
    "###########################################################"
   ]
  },
  {
   "cell_type": "code",
   "execution_count": 8,
   "id": "80dba15a",
   "metadata": {},
   "outputs": [
    {
     "name": "stdout",
     "output_type": "stream",
     "text": [
      "1\n",
      "(1,)\n"
     ]
    }
   ],
   "source": [
    "# When a tuple has only one value\n",
    "i = (1) # integer\n",
    "tpl = (1, ) # tuple\n",
    "print(i)\n",
    "print(tpl)"
   ]
  },
  {
   "cell_type": "code",
   "execution_count": 9,
   "id": "bbf6e983",
   "metadata": {},
   "outputs": [
    {
     "data": {
      "text/plain": [
       "(1, 2, 3)"
      ]
     },
     "execution_count": 9,
     "metadata": {},
     "output_type": "execute_result"
    }
   ],
   "source": [
    "# when a function takes a tuple as an argument\n",
    "def echo_my_tuple(my_tuple: tuple):\n",
    "    return my_tuple\n",
    "\n",
    "my_tuple = (1, 2, 3)\n",
    "echo_my_tuple(my_tuple)"
   ]
  },
  {
   "cell_type": "code",
   "execution_count": 10,
   "id": "8061620f",
   "metadata": {},
   "outputs": [
    {
     "data": {
      "text/plain": [
       "(5, 9)"
      ]
     },
     "execution_count": 10,
     "metadata": {},
     "output_type": "execute_result"
    }
   ],
   "source": [
    "# when ternary operator is used in substitution\n",
    "is_done = False\n",
    "index0 = 0\n",
    "value0 = 0\n",
    "lst = [3, 1, 4, 1, 5, 9, 2, 6, 5, 3]\n",
    "idex1, value1 = (index0, value0) if is_done else max(enumerate(lst), key=lambda x: x[1])\n",
    "idex1, value1"
   ]
  },
  {
   "cell_type": "code",
   "execution_count": null,
   "id": "6866809d",
   "metadata": {},
   "outputs": [],
   "source": []
  }
 ],
 "metadata": {
  "kernelspec": {
   "display_name": "Python 3 (Spyder)",
   "language": "python3",
   "name": "python3"
  },
  "language_info": {
   "codemirror_mode": {
    "name": "ipython",
    "version": 3
   },
   "file_extension": ".py",
   "mimetype": "text/x-python",
   "name": "python",
   "nbconvert_exporter": "python",
   "pygments_lexer": "ipython3",
   "version": "3.10.9"
  }
 },
 "nbformat": 4,
 "nbformat_minor": 5
}
