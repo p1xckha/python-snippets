{
 "cells": [
  {
   "cell_type": "code",
   "execution_count": 1,
   "id": "65489de3",
   "metadata": {},
   "outputs": [],
   "source": [
    "############################################\n",
    "# tuple example\n",
    "#==========================================="
   ]
  },
  {
   "cell_type": "code",
   "execution_count": 2,
   "id": "6153f60c",
   "metadata": {},
   "outputs": [
    {
     "data": {
      "text/plain": [
       "(2, 3)"
      ]
     },
     "execution_count": 2,
     "metadata": {},
     "output_type": "execute_result"
    }
   ],
   "source": [
    "tpl = 2, 3 # tuple\n",
    "tpl"
   ]
  },
  {
   "cell_type": "code",
   "execution_count": 3,
   "id": "c5705547",
   "metadata": {},
   "outputs": [
    {
     "data": {
      "text/plain": [
       "(2, 3)"
      ]
     },
     "execution_count": 3,
     "metadata": {},
     "output_type": "execute_result"
    }
   ],
   "source": [
    "tpl[0], tpl[1]"
   ]
  },
  {
   "cell_type": "code",
   "execution_count": 4,
   "id": "0dc80ae0",
   "metadata": {},
   "outputs": [
    {
     "name": "stdout",
     "output_type": "stream",
     "text": [
      "tuple can not be edited. You need to create a new one\n"
     ]
    },
    {
     "data": {
      "text/plain": [
       "(4, 3)"
      ]
     },
     "execution_count": 4,
     "metadata": {},
     "output_type": "execute_result"
    }
   ],
   "source": [
    "############################################\n",
    "# tuple is immutable\n",
    "#============================================\n",
    "\n",
    "try:\n",
    "    tpl[0]=4\n",
    "except:\n",
    "    print('tuple can not be edited. You need to create a new one')\n",
    "\n",
    "new_tpl = 4, tpl[1]\n",
    "new_tpl"
   ]
  },
  {
   "cell_type": "code",
   "execution_count": 5,
   "id": "675d281d",
   "metadata": {},
   "outputs": [
    {
     "data": {
      "text/plain": [
       "(4, 3)"
      ]
     },
     "execution_count": 5,
     "metadata": {},
     "output_type": "execute_result"
    }
   ],
   "source": [
    "new_tpl = 4, *tpl[1:] # unpacking tpl[1:]\n",
    "new_tpl"
   ]
  },
  {
   "cell_type": "code",
   "execution_count": 6,
   "id": "43bc8a8b",
   "metadata": {},
   "outputs": [
    {
     "data": {
      "text/plain": [
       "(1, 2)"
      ]
     },
     "execution_count": 6,
     "metadata": {},
     "output_type": "execute_result"
    }
   ],
   "source": [
    "####################################\n",
    "# Parentheses '()' omitted\n",
    "#==================================\n",
    "\n",
    "(a, b) = 3, 4 # (a,b) is a tuple\n",
    "\n",
    "a, b = 1, 2 # Parentheses '()' omitted\n",
    "a, b"
   ]
  },
  {
   "cell_type": "code",
   "execution_count": 7,
   "id": "5ce4d191",
   "metadata": {},
   "outputs": [],
   "source": [
    "###########################################################\n",
    "# when parentheses are needed\n",
    "###########################################################"
   ]
  },
  {
   "cell_type": "code",
   "execution_count": 8,
   "id": "3244376a",
   "metadata": {},
   "outputs": [
    {
     "data": {
      "text/plain": [
       "1"
      ]
     },
     "execution_count": 8,
     "metadata": {},
     "output_type": "execute_result"
    }
   ],
   "source": [
    "# When a tuple has only one value\n",
    "i = (1) # integer\n",
    "i"
   ]
  },
  {
   "cell_type": "code",
   "execution_count": 9,
   "id": "a1215d50",
   "metadata": {},
   "outputs": [
    {
     "data": {
      "text/plain": [
       "(1,)"
      ]
     },
     "execution_count": 9,
     "metadata": {},
     "output_type": "execute_result"
    }
   ],
   "source": [
    "tpl = (1, ) # tuple\n",
    "tpl"
   ]
  },
  {
   "cell_type": "code",
   "execution_count": 10,
   "id": "61156753",
   "metadata": {},
   "outputs": [
    {
     "data": {
      "text/plain": [
       "(1, 2, 3)"
      ]
     },
     "execution_count": 10,
     "metadata": {},
     "output_type": "execute_result"
    }
   ],
   "source": [
    "# when a function takes a tuple as an argument\n",
    "def echo_my_tuple(my_tuple: tuple):\n",
    "    return my_tuple\n",
    "\n",
    "my_tuple = (1, 2, 3)\n",
    "echo_my_tuple(my_tuple)"
   ]
  },
  {
   "cell_type": "code",
   "execution_count": 11,
   "id": "3d671ec1",
   "metadata": {},
   "outputs": [
    {
     "data": {
      "text/plain": [
       "(5, 9)"
      ]
     },
     "execution_count": 11,
     "metadata": {},
     "output_type": "execute_result"
    }
   ],
   "source": [
    "# when ternary operator is used in substitution\n",
    "is_done = False\n",
    "index0 = 0\n",
    "value0 = 0\n",
    "lst = [3, 1, 4, 1, 5, 9, 2, 6, 5, 3]\n",
    "idex1, value1 = (index0, value0) if is_done else max(enumerate(lst), key=lambda x: x[1])\n",
    "idex1, value1"
   ]
  },
  {
   "cell_type": "code",
   "execution_count": 12,
   "id": "0b0a0eb5",
   "metadata": {},
   "outputs": [],
   "source": [
    "#####################################################\n",
    "# Value error resulting from unpacking a tuple\n",
    "#####################################################\n",
    "\n",
    "def get_my_values():\n",
    "    return (1,2,3)"
   ]
  },
  {
   "cell_type": "code",
   "execution_count": 13,
   "id": "61170eab",
   "metadata": {},
   "outputs": [
    {
     "data": {
      "text/plain": [
       "(1, 2, 3)"
      ]
     },
     "execution_count": 13,
     "metadata": {},
     "output_type": "execute_result"
    }
   ],
   "source": [
    "# Correct unpacking\n",
    "a, b, c = get_my_values()\n",
    "a, b, c"
   ]
  },
  {
   "cell_type": "code",
   "execution_count": 14,
   "id": "77bb11ed",
   "metadata": {},
   "outputs": [
    {
     "name": "stdout",
     "output_type": "stream",
     "text": [
      "too many values to unpack (expected 2)\n"
     ]
    }
   ],
   "source": [
    "# too many values to unpack (expected 2)\n",
    "try:\n",
    "    a, b = get_my_values()\n",
    "except Exception as e:\n",
    "    print(e)"
   ]
  },
  {
   "cell_type": "code",
   "execution_count": 15,
   "id": "3e050cb9",
   "metadata": {},
   "outputs": [
    {
     "name": "stdout",
     "output_type": "stream",
     "text": [
      "not enough values to unpack (expected 4, got 3)\n"
     ]
    }
   ],
   "source": [
    "# not enough values to unpack (expected 4, got 3)\n",
    "try:\n",
    "    a, b, c, d = get_my_values()\n",
    "except Exception as e:\n",
    "    print(e)"
   ]
  },
  {
   "cell_type": "code",
   "execution_count": null,
   "id": "16ec4908",
   "metadata": {},
   "outputs": [],
   "source": []
  }
 ],
 "metadata": {
  "kernelspec": {
   "display_name": "Python 3 (Spyder)",
   "language": "python3",
   "name": "python3"
  },
  "language_info": {
   "codemirror_mode": {
    "name": "ipython",
    "version": 3
   },
   "file_extension": ".py",
   "mimetype": "text/x-python",
   "name": "python",
   "nbconvert_exporter": "python",
   "pygments_lexer": "ipython3",
   "version": "3.10.9"
  }
 },
 "nbformat": 4,
 "nbformat_minor": 5
}
