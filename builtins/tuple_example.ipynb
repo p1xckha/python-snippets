{
 "cells": [
  {
   "cell_type": "code",
   "execution_count": 1,
   "id": "88fdece2",
   "metadata": {},
   "outputs": [],
   "source": [
    "############################################\n",
    "# tuple example\n",
    "#==========================================="
   ]
  },
  {
   "cell_type": "code",
   "execution_count": 2,
   "id": "eca097f3",
   "metadata": {},
   "outputs": [
    {
     "data": {
      "text/plain": [
       "(2, 3)"
      ]
     },
     "execution_count": 2,
     "metadata": {},
     "output_type": "execute_result"
    }
   ],
   "source": [
    "tpl = 2, 3 # tuple\n",
    "tpl"
   ]
  },
  {
   "cell_type": "code",
   "execution_count": 3,
   "id": "03792ad1",
   "metadata": {},
   "outputs": [
    {
     "data": {
      "text/plain": [
       "(2, 3)"
      ]
     },
     "execution_count": 3,
     "metadata": {},
     "output_type": "execute_result"
    }
   ],
   "source": [
    "tpl[0], tpl[1]"
   ]
  },
  {
   "cell_type": "code",
   "execution_count": 4,
   "id": "807ebb16",
   "metadata": {},
   "outputs": [
    {
     "name": "stdout",
     "output_type": "stream",
     "text": [
      "tuple can not be edited. You need to create a new one\n"
     ]
    },
    {
     "data": {
      "text/plain": [
       "(4, 3)"
      ]
     },
     "execution_count": 4,
     "metadata": {},
     "output_type": "execute_result"
    }
   ],
   "source": [
    "############################################\n",
    "# tuple is immutable\n",
    "#============================================\n",
    "\n",
    "try:\n",
    "    tpl[0]=4\n",
    "except:\n",
    "    print('tuple can not be edited. You need to create a new one')\n",
    "\n",
    "new_tpl = 4, tpl[1]\n",
    "new_tpl"
   ]
  },
  {
   "cell_type": "code",
   "execution_count": 5,
   "id": "b62fcd5f",
   "metadata": {},
   "outputs": [
    {
     "data": {
      "text/plain": [
       "(4, 3)"
      ]
     },
     "execution_count": 5,
     "metadata": {},
     "output_type": "execute_result"
    }
   ],
   "source": [
    "new_tpl = 4, *tpl[1:] # unpacking tpl[1:]\n",
    "new_tpl"
   ]
  },
  {
   "cell_type": "code",
   "execution_count": 6,
   "id": "859e0644",
   "metadata": {},
   "outputs": [
    {
     "data": {
      "text/plain": [
       "(1, 2)"
      ]
     },
     "execution_count": 6,
     "metadata": {},
     "output_type": "execute_result"
    }
   ],
   "source": [
    "####################################\n",
    "# Parentheses '()' omitted\n",
    "#==================================\n",
    "\n",
    "(a, b) = 3, 4 # (a,b) is a tuple\n",
    "\n",
    "a, b = 1, 2 # Parentheses '()' omitted\n",
    "a, b"
   ]
  },
  {
   "cell_type": "code",
   "execution_count": 7,
   "id": "b7daa80a",
   "metadata": {},
   "outputs": [],
   "source": [
    "###########################################################\n",
    "# when parentheses are needed\n",
    "###########################################################"
   ]
  },
  {
   "cell_type": "code",
   "execution_count": 8,
   "id": "65eb3241",
   "metadata": {},
   "outputs": [
    {
     "name": "stdout",
     "output_type": "stream",
     "text": [
      "1\n",
      "(1,)\n"
     ]
    }
   ],
   "source": [
    "# When a tuple has only one value\n",
    "i = (1) # integer\n",
    "tpl = (1, ) # tuple\n",
    "print(i)\n",
    "print(tpl)"
   ]
  },
  {
   "cell_type": "code",
   "execution_count": 9,
   "id": "33dbf364",
   "metadata": {},
   "outputs": [
    {
     "data": {
      "text/plain": [
       "(1, 2, 3)"
      ]
     },
     "execution_count": 9,
     "metadata": {},
     "output_type": "execute_result"
    }
   ],
   "source": [
    "# when a function takes a tuple as an argument\n",
    "def echo_my_tuple(my_tuple: tuple):\n",
    "    return my_tuple\n",
    "\n",
    "my_tuple = (1, 2, 3)\n",
    "echo_my_tuple(my_tuple)"
   ]
  },
  {
   "cell_type": "code",
   "execution_count": 10,
   "id": "e4f92296",
   "metadata": {},
   "outputs": [
    {
     "data": {
      "text/plain": [
       "(5, 9)"
      ]
     },
     "execution_count": 10,
     "metadata": {},
     "output_type": "execute_result"
    }
   ],
   "source": [
    "# when ternary operator is used in substitution\n",
    "is_done = False\n",
    "index0 = 0\n",
    "value0 = 0\n",
    "lst = [3, 1, 4, 1, 5, 9, 2, 6, 5, 3]\n",
    "idex1, value1 = (index0, value0) if is_done else max(enumerate(lst), key=lambda x: x[1])\n",
    "idex1, value1"
   ]
  },
  {
   "cell_type": "code",
   "execution_count": 13,
   "id": "cb264381",
   "metadata": {},
   "outputs": [
    {
     "name": "stdout",
     "output_type": "stream",
     "text": [
      "too many values to unpack (expected 2)\n",
      "not enough values to unpack (expected 4, got 3)\n"
     ]
    },
    {
     "data": {
      "text/plain": [
       "(1, 2, 3)"
      ]
     },
     "execution_count": 13,
     "metadata": {},
     "output_type": "execute_result"
    }
   ],
   "source": [
    "#####################################################\n",
    "# Value error resulting from unpacking a tuple\n",
    "#####################################################\n",
    "\n",
    "def get_my_values():\n",
    "    return (1,2,3)\n",
    "\n",
    "# too many values to unpack (expected 2)\n",
    "try:\n",
    "    a, b = get_my_values()\n",
    "except Exception as e:\n",
    "    print(e)\n",
    "\n",
    "# not enough values to unpack (expected 4, got 3)\n",
    "try:\n",
    "    a, b, c, d = get_my_values()\n",
    "except Exception as e:\n",
    "    print(e)\n",
    "    \n",
    "# Correct unpacking\n",
    "a, b, c = get_my_values()\n",
    "a, b, c"
   ]
  },
  {
   "cell_type": "code",
   "execution_count": null,
   "id": "f07909c8",
   "metadata": {},
   "outputs": [],
   "source": []
  }
 ],
 "metadata": {
  "kernelspec": {
   "display_name": "Python 3 (Spyder)",
   "language": "python3",
   "name": "python3"
  },
  "language_info": {
   "codemirror_mode": {
    "name": "ipython",
    "version": 3
   },
   "file_extension": ".py",
   "mimetype": "text/x-python",
   "name": "python",
   "nbconvert_exporter": "python",
   "pygments_lexer": "ipython3",
   "version": "3.10.9"
  }
 },
 "nbformat": 4,
 "nbformat_minor": 5
}
