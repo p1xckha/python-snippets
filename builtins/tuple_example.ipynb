{
 "cells": [
  {
   "cell_type": "code",
   "execution_count": null,
   "id": "06867fcd",
   "metadata": {},
   "outputs": [],
   "source": [
    "############################################\n",
    "# tuple example\n",
    "#==========================================="
   ]
  },
  {
   "cell_type": "code",
   "execution_count": 2,
   "id": "0b875987",
   "metadata": {},
   "outputs": [
    {
     "data": {
      "text/plain": [
       "(2, 3)"
      ]
     },
     "execution_count": 2,
     "metadata": {},
     "output_type": "execute_result"
    }
   ],
   "source": [
    "tpl = 2, 3 # tuple\n",
    "tpl"
   ]
  },
  {
   "cell_type": "code",
   "execution_count": 3,
   "id": "a086c91f",
   "metadata": {},
   "outputs": [
    {
     "data": {
      "text/plain": [
       "(2, 3)"
      ]
     },
     "execution_count": 3,
     "metadata": {},
     "output_type": "execute_result"
    }
   ],
   "source": [
    "tpl[0], tpl[1]"
   ]
  },
  {
   "cell_type": "code",
   "execution_count": 4,
   "id": "535db0c9",
   "metadata": {},
   "outputs": [
    {
     "name": "stdout",
     "output_type": "stream",
     "text": [
      "tuple can not be edited. You need to create a new one\n"
     ]
    }
   ],
   "source": [
    "############################################\n",
    "# tuple is immutable\n",
    "#============================================\n",
    "\n",
    "try:\n",
    "    tpl[0]=4\n",
    "except:\n",
    "    print('tuple can not be edited. You need to create a new one')"
   ]
  },
  {
   "cell_type": "code",
   "execution_count": 5,
   "id": "e5f9b2f4",
   "metadata": {},
   "outputs": [
    {
     "data": {
      "text/plain": [
       "(4, 3)"
      ]
     },
     "execution_count": 5,
     "metadata": {},
     "output_type": "execute_result"
    }
   ],
   "source": [
    "new_tpl = 4, tpl[1]\n",
    "new_tpl"
   ]
  },
  {
   "cell_type": "code",
   "execution_count": 6,
   "id": "1eb0de1a",
   "metadata": {},
   "outputs": [
    {
     "data": {
      "text/plain": [
       "(4, 3)"
      ]
     },
     "execution_count": 6,
     "metadata": {},
     "output_type": "execute_result"
    }
   ],
   "source": [
    "new_tpl = 4, *tpl[1:] # unpacking tpl[1:]\n",
    "new_tpl"
   ]
  },
  {
   "cell_type": "code",
   "execution_count": 7,
   "id": "9f388ad6",
   "metadata": {},
   "outputs": [
    {
     "data": {
      "text/plain": [
       "(1, 2)"
      ]
     },
     "execution_count": 7,
     "metadata": {},
     "output_type": "execute_result"
    }
   ],
   "source": [
    "####################################\n",
    "# Parentheses '()' omitted\n",
    "#==================================\n",
    "\n",
    "(a, b) = 3, 4 # (a,b) is a tuple\n",
    "\n",
    "a, b = 1, 2 # Parentheses '()' omitted\n",
    "a, b"
   ]
  },
  {
   "cell_type": "code",
   "execution_count": 8,
   "id": "74d2dd0c",
   "metadata": {},
   "outputs": [],
   "source": [
    "###########################################################\n",
    "# when comma is needed\n",
    "###########################################################"
   ]
  },
  {
   "cell_type": "code",
   "execution_count": 9,
   "id": "f2e7ab6a",
   "metadata": {},
   "outputs": [
    {
     "data": {
      "text/plain": [
       "1"
      ]
     },
     "execution_count": 9,
     "metadata": {},
     "output_type": "execute_result"
    }
   ],
   "source": [
    "# When a tuple has only one value\n",
    "i = (1) # integer\n",
    "i"
   ]
  },
  {
   "cell_type": "code",
   "execution_count": 10,
   "id": "0d8852ce",
   "metadata": {},
   "outputs": [
    {
     "data": {
      "text/plain": [
       "(1,)"
      ]
     },
     "execution_count": 10,
     "metadata": {},
     "output_type": "execute_result"
    }
   ],
   "source": [
    "tpl = (1, ) # tuple\n",
    "tpl"
   ]
  },
  {
   "cell_type": "code",
   "execution_count": null,
   "id": "f2124365",
   "metadata": {},
   "outputs": [],
   "source": [
    "###########################################################\n",
    "# when parentheses are needed\n",
    "###########################################################"
   ]
  },
  {
   "cell_type": "code",
   "execution_count": 11,
   "id": "d99aaf00",
   "metadata": {},
   "outputs": [
    {
     "data": {
      "text/plain": [
       "(1, 2, 3)"
      ]
     },
     "execution_count": 11,
     "metadata": {},
     "output_type": "execute_result"
    }
   ],
   "source": [
    "# when a function takes a tuple as an argument\n",
    "def echo_my_tuple(my_tuple: tuple):\n",
    "    return my_tuple\n",
    "\n",
    "my_tuple = (1, 2, 3)\n",
    "echo_my_tuple(my_tuple)"
   ]
  },
  {
   "cell_type": "code",
   "execution_count": 12,
   "id": "c775adc4",
   "metadata": {},
   "outputs": [
    {
     "data": {
      "text/plain": [
       "(5, 9)"
      ]
     },
     "execution_count": 12,
     "metadata": {},
     "output_type": "execute_result"
    }
   ],
   "source": [
    "# when ternary operator is used in substitution\n",
    "is_done = False\n",
    "index0 = 0\n",
    "value0 = 0\n",
    "lst = [3, 1, 4, 1, 5, 9, 2, 6, 5, 3]\n",
    "idex1, value1 = (index0, value0) if is_done else max(enumerate(lst), key=lambda x: x[1])\n",
    "idex1, value1"
   ]
  },
  {
   "cell_type": "code",
   "execution_count": 27,
   "id": "8fc52bd8",
   "metadata": {},
   "outputs": [],
   "source": [
    "#####################################################\n",
    "# unpacking a tuple\n",
    "#####################################################"
   ]
  },
  {
   "cell_type": "code",
   "execution_count": 29,
   "id": "7a791986",
   "metadata": {},
   "outputs": [
    {
     "data": {
      "text/plain": [
       "(1, 2, 3)"
      ]
     },
     "execution_count": 29,
     "metadata": {},
     "output_type": "execute_result"
    }
   ],
   "source": [
    "tpl = (1, 2, 3)\n",
    "a, b, c = tpl\n",
    "a, b, c"
   ]
  },
  {
   "cell_type": "code",
   "execution_count": 34,
   "id": "3cd8a6f0",
   "metadata": {},
   "outputs": [
    {
     "data": {
      "text/plain": [
       "(1, 2, 3, 4)"
      ]
     },
     "execution_count": 34,
     "metadata": {},
     "output_type": "execute_result"
    }
   ],
   "source": [
    "a, b, c, d = *tpl, 4\n",
    "a, b, c, d"
   ]
  },
  {
   "cell_type": "code",
   "execution_count": 35,
   "id": "e29b6135",
   "metadata": {},
   "outputs": [
    {
     "data": {
      "text/plain": [
       "6"
      ]
     },
     "execution_count": 35,
     "metadata": {},
     "output_type": "execute_result"
    }
   ],
   "source": [
    "def add_my_values(a, b, c):\n",
    "    return a + b + c\n",
    "\n",
    "add_my_values(*tpl)"
   ]
  },
  {
   "cell_type": "code",
   "execution_count": 13,
   "id": "f1ec4c46",
   "metadata": {},
   "outputs": [],
   "source": [
    "#####################################################\n",
    "# Value error resulting from unpacking a tuple\n",
    "#####################################################\n",
    "\n",
    "def get_my_values():\n",
    "    return (1,2,3)"
   ]
  },
  {
   "cell_type": "code",
   "execution_count": 14,
   "id": "fc26daa0",
   "metadata": {},
   "outputs": [
    {
     "data": {
      "text/plain": [
       "(1, 2, 3)"
      ]
     },
     "execution_count": 14,
     "metadata": {},
     "output_type": "execute_result"
    }
   ],
   "source": [
    "# Correct unpacking\n",
    "a, b, c = get_my_values()\n",
    "a, b, c"
   ]
  },
  {
   "cell_type": "code",
   "execution_count": 15,
   "id": "515458ae",
   "metadata": {},
   "outputs": [
    {
     "name": "stdout",
     "output_type": "stream",
     "text": [
      "too many values to unpack (expected 2)\n"
     ]
    }
   ],
   "source": [
    "# too many values to unpack (expected 2)\n",
    "try:\n",
    "    a, b = get_my_values()\n",
    "except Exception as e:\n",
    "    print(e)"
   ]
  },
  {
   "cell_type": "code",
   "execution_count": 16,
   "id": "025a9a61",
   "metadata": {},
   "outputs": [
    {
     "name": "stdout",
     "output_type": "stream",
     "text": [
      "not enough values to unpack (expected 4, got 3)\n"
     ]
    }
   ],
   "source": [
    "# not enough values to unpack (expected 4, got 3)\n",
    "try:\n",
    "    a, b, c, d = get_my_values()\n",
    "except Exception as e:\n",
    "    print(e)"
   ]
  },
  {
   "cell_type": "code",
   "execution_count": null,
   "id": "134db42f",
   "metadata": {},
   "outputs": [],
   "source": []
  }
 ],
 "metadata": {
  "kernelspec": {
   "display_name": "Python 3 (Spyder)",
   "language": "python3",
   "name": "python3"
  },
  "language_info": {
   "codemirror_mode": {
    "name": "ipython",
    "version": 3
   },
   "file_extension": ".py",
   "mimetype": "text/x-python",
   "name": "python",
   "nbconvert_exporter": "python",
   "pygments_lexer": "ipython3",
   "version": "3.10.9"
  }
 },
 "nbformat": 4,
 "nbformat_minor": 5
}
