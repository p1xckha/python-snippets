{
 "cells": [
  {
   "cell_type": "code",
   "execution_count": 1,
   "id": "fafc0e6f",
   "metadata": {},
   "outputs": [],
   "source": [
    "##################################################################\n",
    "# color escape codes example\n",
    "####################################################################\n",
    "\n",
    "# ANSI escape code\n",
    "# https://en.wikipedia.org/wiki/ANSI_escape_code\n"
   ]
  },
  {
   "cell_type": "code",
   "execution_count": 2,
   "id": "98436916",
   "metadata": {},
   "outputs": [
    {
     "name": "stdout",
     "output_type": "stream",
     "text": [
      "\u001b[1;31mHello Color Escape Codes\u001b[m\n",
      "\u001b[1;32mHello Color Escape Codes\u001b[m\n",
      "\u001b[1;33mHello Color Escape Codes\u001b[m\n",
      "\u001b[1;34mHello Color Escape Codes\u001b[m\n",
      "\u001b[1;35mHello Color Escape Codes\u001b[m\n",
      "\u001b[1;36mHello Color Escape Codes\u001b[m\n",
      "\u001b[1;37mHello Color Escape Codes\u001b[m\n"
     ]
    }
   ],
   "source": [
    "# modify text color\n",
    "def red(s):\n",
    "    return '\\033[1;31m%s\\033[m' % s\n",
    "\n",
    "def green(s):\n",
    "    return '\\033[1;32m%s\\033[m' % s \n",
    "\n",
    "def yellow(s):\n",
    "    return '\\033[1;33m%s\\033[m' % s \n",
    "    \n",
    "def blue(s):\n",
    "    return '\\033[1;34m%s\\033[m' % s\n",
    "\n",
    "def magenta(s):\n",
    "    return '\\033[1;35m%s\\033[m' % s \n",
    "\n",
    "def cyan(s):\n",
    "    return '\\033[1;36m%s\\033[m' % s \n",
    "\n",
    "def white(s):\n",
    "    return '\\033[1;37m%s\\033[m' % s \n",
    "\n",
    "def rgb_text(s, rgb=(0,255,0)):\n",
    "    color_rgb = ';'.join(str(c) for c in rgb)\n",
    "    text = '\\033[38;2;%sm%s\\033[m' % (color_rgb, s)\n",
    "    return text\n",
    "\n",
    "# modify background color\n",
    "def white_bg(s): # looks like light gray\n",
    "    return '\\033[47m%s\\033[m' % s \n",
    "\n",
    "def rgb_bg(s, rgb=(0,255,0)):\n",
    "    color_rgb = ';'.join(str(c) for c in rgb)\n",
    "    text = '\\033[48;2;%sm%s\\033[m' % (color_rgb, s)\n",
    "    return text\n",
    "\n",
    "# example\n",
    "text = \"Hello Color Escape Codes\"\n",
    "color_functions = [red, green,yellow,blue,magenta,cyan,white]\n",
    "for color_function in color_functions:\n",
    "    print(color_function(text)) "
   ]
  },
  {
   "cell_type": "code",
   "execution_count": 3,
   "id": "10ec1db6",
   "metadata": {},
   "outputs": [
    {
     "name": "stdout",
     "output_type": "stream",
     "text": [
      "\u001b[38;2;0;255;0mgreen text\u001b[m\n"
     ]
    }
   ],
   "source": [
    "print(rgb_text(\"green text\")) # print is needed in order to display text in color in Jupyter notebook"
   ]
  },
  {
   "cell_type": "code",
   "execution_count": 4,
   "id": "309c52a2",
   "metadata": {},
   "outputs": [
    {
     "name": "stdout",
     "output_type": "stream",
     "text": [
      "\u001b[47mwhite background\u001b[m\n"
     ]
    }
   ],
   "source": [
    "print(white_bg(\"white background\"))"
   ]
  },
  {
   "cell_type": "code",
   "execution_count": 5,
   "id": "d14a9870",
   "metadata": {},
   "outputs": [
    {
     "name": "stdout",
     "output_type": "stream",
     "text": [
      "\u001b[48;2;0;255;0mgreen background\u001b[m\n"
     ]
    }
   ],
   "source": [
    "print(rgb_bg(\"green background\"))"
   ]
  },
  {
   "cell_type": "code",
   "execution_count": null,
   "id": "c4d2669f",
   "metadata": {},
   "outputs": [],
   "source": []
  }
 ],
 "metadata": {
  "kernelspec": {
   "display_name": "Python 3 (Spyder)",
   "language": "python3",
   "name": "python3"
  },
  "language_info": {
   "codemirror_mode": {
    "name": "ipython",
    "version": 3
   },
   "file_extension": ".py",
   "mimetype": "text/x-python",
   "name": "python",
   "nbconvert_exporter": "python",
   "pygments_lexer": "ipython3",
   "version": "3.10.9"
  }
 },
 "nbformat": 4,
 "nbformat_minor": 5
}
